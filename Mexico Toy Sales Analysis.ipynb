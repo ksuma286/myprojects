{
 "cells": [
  {
   "cell_type": "markdown",
   "id": "12d9dac1",
   "metadata": {},
   "source": [
    "Mexico Toy Sales\n",
    "Sales & inventory data for a fictitious chain of toy stores in Mexico called Maven Toys, including information about products, stores, daily sales transactions, and current inventory levels at each location.\n",
    "\n",
    "\n",
    "Source:Maven Analytics\n",
    "License:Public domain\n",
    "    \n",
    "Recommended Analysis\n",
    "\n",
    "Which product categories drive the biggest profits? Is this the same across store locations?\n",
    "\n",
    "Can you find any seasonal trends or patterns in the sales data?\n",
    "\n",
    "Are sales being lost with out-of-stock products at certain locations?\n",
    "\n",
    "How much money is tied up in inventory at the toy stores? How long will it last?"
   ]
  },
  {
   "cell_type": "code",
   "execution_count": 138,
   "id": "033829ae",
   "metadata": {},
   "outputs": [],
   "source": [
    "import pandas as pd"
   ]
  },
  {
   "cell_type": "markdown",
   "id": "c9088e6f",
   "metadata": {},
   "source": [
    "#Exploring Inventory Table"
   ]
  },
  {
   "cell_type": "code",
   "execution_count": 139,
   "id": "8f5d040b",
   "metadata": {},
   "outputs": [],
   "source": [
    "i=pd.read_csv('inventory.csv')"
   ]
  },
  {
   "cell_type": "code",
   "execution_count": 140,
   "id": "84cda3ad",
   "metadata": {},
   "outputs": [
    {
     "name": "stdout",
     "output_type": "stream",
     "text": [
      "<class 'pandas.core.frame.DataFrame'>\n",
      "RangeIndex: 1593 entries, 0 to 1592\n",
      "Data columns (total 3 columns):\n",
      " #   Column         Non-Null Count  Dtype\n",
      "---  ------         --------------  -----\n",
      " 0   Store_ID       1593 non-null   int64\n",
      " 1   Product_ID     1593 non-null   int64\n",
      " 2   Stock_On_Hand  1593 non-null   int64\n",
      "dtypes: int64(3)\n",
      "memory usage: 37.5 KB\n"
     ]
    }
   ],
   "source": [
    "i.info()"
   ]
  },
  {
   "cell_type": "code",
   "execution_count": 141,
   "id": "dddb61d4",
   "metadata": {},
   "outputs": [
    {
     "data": {
      "text/html": [
       "<div>\n",
       "<style scoped>\n",
       "    .dataframe tbody tr th:only-of-type {\n",
       "        vertical-align: middle;\n",
       "    }\n",
       "\n",
       "    .dataframe tbody tr th {\n",
       "        vertical-align: top;\n",
       "    }\n",
       "\n",
       "    .dataframe thead th {\n",
       "        text-align: right;\n",
       "    }\n",
       "</style>\n",
       "<table border=\"1\" class=\"dataframe\">\n",
       "  <thead>\n",
       "    <tr style=\"text-align: right;\">\n",
       "      <th></th>\n",
       "      <th>Store_ID</th>\n",
       "      <th>Product_ID</th>\n",
       "      <th>Stock_On_Hand</th>\n",
       "    </tr>\n",
       "  </thead>\n",
       "  <tbody>\n",
       "    <tr>\n",
       "      <th>0</th>\n",
       "      <td>1</td>\n",
       "      <td>1</td>\n",
       "      <td>27</td>\n",
       "    </tr>\n",
       "    <tr>\n",
       "      <th>1</th>\n",
       "      <td>1</td>\n",
       "      <td>2</td>\n",
       "      <td>0</td>\n",
       "    </tr>\n",
       "    <tr>\n",
       "      <th>2</th>\n",
       "      <td>1</td>\n",
       "      <td>3</td>\n",
       "      <td>32</td>\n",
       "    </tr>\n",
       "    <tr>\n",
       "      <th>3</th>\n",
       "      <td>1</td>\n",
       "      <td>4</td>\n",
       "      <td>6</td>\n",
       "    </tr>\n",
       "    <tr>\n",
       "      <th>4</th>\n",
       "      <td>1</td>\n",
       "      <td>5</td>\n",
       "      <td>0</td>\n",
       "    </tr>\n",
       "  </tbody>\n",
       "</table>\n",
       "</div>"
      ],
      "text/plain": [
       "   Store_ID  Product_ID  Stock_On_Hand\n",
       "0         1           1             27\n",
       "1         1           2              0\n",
       "2         1           3             32\n",
       "3         1           4              6\n",
       "4         1           5              0"
      ]
     },
     "execution_count": 141,
     "metadata": {},
     "output_type": "execute_result"
    }
   ],
   "source": [
    "i.head()"
   ]
  },
  {
   "cell_type": "code",
   "execution_count": 142,
   "id": "d9d36673",
   "metadata": {},
   "outputs": [
    {
     "data": {
      "text/plain": [
       "0"
      ]
     },
     "execution_count": 142,
     "metadata": {},
     "output_type": "execute_result"
    }
   ],
   "source": [
    "i.duplicated().sum()"
   ]
  },
  {
   "cell_type": "code",
   "execution_count": 143,
   "id": "69a27649",
   "metadata": {},
   "outputs": [
    {
     "data": {
      "text/plain": [
       "Store_ID         0\n",
       "Product_ID       0\n",
       "Stock_On_Hand    0\n",
       "dtype: int64"
      ]
     },
     "execution_count": 143,
     "metadata": {},
     "output_type": "execute_result"
    }
   ],
   "source": [
    "i.isnull().sum()"
   ]
  },
  {
   "cell_type": "markdown",
   "id": "2de40687",
   "metadata": {},
   "source": [
    "#changed datatype where needed"
   ]
  },
  {
   "cell_type": "code",
   "execution_count": 144,
   "id": "00823e64",
   "metadata": {},
   "outputs": [],
   "source": [
    "i['Store_ID']=i['Store_ID'].astype('object')\n",
    "i['Product_ID']=i['Product_ID'].astype('object')"
   ]
  },
  {
   "cell_type": "code",
   "execution_count": 145,
   "id": "cfc09636",
   "metadata": {},
   "outputs": [
    {
     "data": {
      "text/plain": [
       "Store_ID         object\n",
       "Product_ID       object\n",
       "Stock_On_Hand     int64\n",
       "dtype: object"
      ]
     },
     "execution_count": 145,
     "metadata": {},
     "output_type": "execute_result"
    }
   ],
   "source": [
    "i.dtypes"
   ]
  },
  {
   "cell_type": "markdown",
   "id": "58a6bcc6",
   "metadata": {},
   "source": [
    "#Exploring Products table"
   ]
  },
  {
   "cell_type": "code",
   "execution_count": 146,
   "id": "ec2ce1fb",
   "metadata": {},
   "outputs": [],
   "source": [
    "p=pd.read_csv('products.csv')"
   ]
  },
  {
   "cell_type": "code",
   "execution_count": 147,
   "id": "f9c4b8c2",
   "metadata": {},
   "outputs": [
    {
     "data": {
      "text/html": [
       "<div>\n",
       "<style scoped>\n",
       "    .dataframe tbody tr th:only-of-type {\n",
       "        vertical-align: middle;\n",
       "    }\n",
       "\n",
       "    .dataframe tbody tr th {\n",
       "        vertical-align: top;\n",
       "    }\n",
       "\n",
       "    .dataframe thead th {\n",
       "        text-align: right;\n",
       "    }\n",
       "</style>\n",
       "<table border=\"1\" class=\"dataframe\">\n",
       "  <thead>\n",
       "    <tr style=\"text-align: right;\">\n",
       "      <th></th>\n",
       "      <th>Product_ID</th>\n",
       "      <th>Product_Name</th>\n",
       "      <th>Product_Category</th>\n",
       "      <th>Product_Cost</th>\n",
       "      <th>Product_Price</th>\n",
       "    </tr>\n",
       "  </thead>\n",
       "  <tbody>\n",
       "    <tr>\n",
       "      <th>0</th>\n",
       "      <td>1</td>\n",
       "      <td>Action Figure</td>\n",
       "      <td>Toys</td>\n",
       "      <td>$9.99</td>\n",
       "      <td>$15.99</td>\n",
       "    </tr>\n",
       "    <tr>\n",
       "      <th>1</th>\n",
       "      <td>2</td>\n",
       "      <td>Animal Figures</td>\n",
       "      <td>Toys</td>\n",
       "      <td>$9.99</td>\n",
       "      <td>$12.99</td>\n",
       "    </tr>\n",
       "    <tr>\n",
       "      <th>2</th>\n",
       "      <td>3</td>\n",
       "      <td>Barrel O' Slime</td>\n",
       "      <td>Art &amp; Crafts</td>\n",
       "      <td>$1.99</td>\n",
       "      <td>$3.99</td>\n",
       "    </tr>\n",
       "    <tr>\n",
       "      <th>3</th>\n",
       "      <td>4</td>\n",
       "      <td>Chutes &amp; Ladders</td>\n",
       "      <td>Games</td>\n",
       "      <td>$9.99</td>\n",
       "      <td>$12.99</td>\n",
       "    </tr>\n",
       "    <tr>\n",
       "      <th>4</th>\n",
       "      <td>5</td>\n",
       "      <td>Classic Dominoes</td>\n",
       "      <td>Games</td>\n",
       "      <td>$7.99</td>\n",
       "      <td>$9.99</td>\n",
       "    </tr>\n",
       "  </tbody>\n",
       "</table>\n",
       "</div>"
      ],
      "text/plain": [
       "   Product_ID      Product_Name Product_Category Product_Cost Product_Price\n",
       "0           1     Action Figure             Toys       $9.99        $15.99 \n",
       "1           2    Animal Figures             Toys       $9.99        $12.99 \n",
       "2           3   Barrel O' Slime     Art & Crafts       $1.99         $3.99 \n",
       "3           4  Chutes & Ladders            Games       $9.99        $12.99 \n",
       "4           5  Classic Dominoes            Games       $7.99         $9.99 "
      ]
     },
     "execution_count": 147,
     "metadata": {},
     "output_type": "execute_result"
    }
   ],
   "source": [
    "p.head()"
   ]
  },
  {
   "cell_type": "code",
   "execution_count": 148,
   "id": "32c0379a",
   "metadata": {},
   "outputs": [
    {
     "name": "stdout",
     "output_type": "stream",
     "text": [
      "<class 'pandas.core.frame.DataFrame'>\n",
      "RangeIndex: 35 entries, 0 to 34\n",
      "Data columns (total 5 columns):\n",
      " #   Column            Non-Null Count  Dtype \n",
      "---  ------            --------------  ----- \n",
      " 0   Product_ID        35 non-null     int64 \n",
      " 1   Product_Name      35 non-null     object\n",
      " 2   Product_Category  35 non-null     object\n",
      " 3   Product_Cost      35 non-null     object\n",
      " 4   Product_Price     35 non-null     object\n",
      "dtypes: int64(1), object(4)\n",
      "memory usage: 1.5+ KB\n"
     ]
    }
   ],
   "source": [
    "p.info()"
   ]
  },
  {
   "cell_type": "code",
   "execution_count": 149,
   "id": "7ffa4109",
   "metadata": {},
   "outputs": [
    {
     "data": {
      "text/plain": [
       "0"
      ]
     },
     "execution_count": 149,
     "metadata": {},
     "output_type": "execute_result"
    }
   ],
   "source": [
    "p.duplicated().sum()"
   ]
  },
  {
   "cell_type": "markdown",
   "id": "20e27e9b",
   "metadata": {},
   "source": [
    "#removing $ from price and cost"
   ]
  },
  {
   "cell_type": "code",
   "execution_count": 150,
   "id": "cad68438",
   "metadata": {},
   "outputs": [],
   "source": [
    "\n",
    "p['Product_Cost']=p['Product_Cost'].apply(lambda x:x.strip('$'))"
   ]
  },
  {
   "cell_type": "code",
   "execution_count": 151,
   "id": "1984285e",
   "metadata": {},
   "outputs": [],
   "source": [
    "p['Product_Price']=p['Product_Price'].apply(lambda x:x.strip('$'))"
   ]
  },
  {
   "cell_type": "code",
   "execution_count": 152,
   "id": "25a69030",
   "metadata": {},
   "outputs": [
    {
     "data": {
      "text/html": [
       "<div>\n",
       "<style scoped>\n",
       "    .dataframe tbody tr th:only-of-type {\n",
       "        vertical-align: middle;\n",
       "    }\n",
       "\n",
       "    .dataframe tbody tr th {\n",
       "        vertical-align: top;\n",
       "    }\n",
       "\n",
       "    .dataframe thead th {\n",
       "        text-align: right;\n",
       "    }\n",
       "</style>\n",
       "<table border=\"1\" class=\"dataframe\">\n",
       "  <thead>\n",
       "    <tr style=\"text-align: right;\">\n",
       "      <th></th>\n",
       "      <th>Product_Cost</th>\n",
       "      <th>Product_Price</th>\n",
       "    </tr>\n",
       "  </thead>\n",
       "  <tbody>\n",
       "    <tr>\n",
       "      <th>0</th>\n",
       "      <td>9.99</td>\n",
       "      <td>15.99</td>\n",
       "    </tr>\n",
       "    <tr>\n",
       "      <th>1</th>\n",
       "      <td>9.99</td>\n",
       "      <td>12.99</td>\n",
       "    </tr>\n",
       "  </tbody>\n",
       "</table>\n",
       "</div>"
      ],
      "text/plain": [
       "  Product_Cost Product_Price\n",
       "0        9.99         15.99 \n",
       "1        9.99         12.99 "
      ]
     },
     "execution_count": 152,
     "metadata": {},
     "output_type": "execute_result"
    }
   ],
   "source": [
    "p[['Product_Cost','Product_Price']].head(2)"
   ]
  },
  {
   "cell_type": "markdown",
   "id": "9f2dce6f",
   "metadata": {},
   "source": [
    "#changing datatype when needed"
   ]
  },
  {
   "cell_type": "code",
   "execution_count": 153,
   "id": "fb2292f5",
   "metadata": {},
   "outputs": [],
   "source": [
    "p['Product_ID']=p['Product_ID'].astype('object')\n"
   ]
  },
  {
   "cell_type": "code",
   "execution_count": 154,
   "id": "20739ca4",
   "metadata": {},
   "outputs": [],
   "source": [
    "p['Product_Cost']=p['Product_Cost'].astype('float')\n",
    "p['Product_Price']=p['Product_Price'].astype('float')\n"
   ]
  },
  {
   "cell_type": "code",
   "execution_count": 155,
   "id": "97a727bd",
   "metadata": {},
   "outputs": [
    {
     "data": {
      "text/plain": [
       "Product_ID           object\n",
       "Product_Name         object\n",
       "Product_Category     object\n",
       "Product_Cost        float64\n",
       "Product_Price       float64\n",
       "dtype: object"
      ]
     },
     "execution_count": 155,
     "metadata": {},
     "output_type": "execute_result"
    }
   ],
   "source": [
    "p.dtypes"
   ]
  },
  {
   "cell_type": "markdown",
   "id": "918282c3",
   "metadata": {},
   "source": [
    "#changing some column names"
   ]
  },
  {
   "cell_type": "code",
   "execution_count": 156,
   "id": "1de748c1",
   "metadata": {},
   "outputs": [],
   "source": [
    "p.rename(columns={'Product_Cost':'Product_Cost_Dollars','Product_Price':'Product_Price_Dollars'},inplace=True)"
   ]
  },
  {
   "cell_type": "code",
   "execution_count": 157,
   "id": "bac96be2",
   "metadata": {},
   "outputs": [
    {
     "data": {
      "text/plain": [
       "Index(['Product_ID', 'Product_Name', 'Product_Category',\n",
       "       'Product_Cost_Dollars', 'Product_Price_Dollars'],\n",
       "      dtype='object')"
      ]
     },
     "execution_count": 157,
     "metadata": {},
     "output_type": "execute_result"
    }
   ],
   "source": [
    "p.columns"
   ]
  },
  {
   "cell_type": "markdown",
   "id": "6f9b40fb",
   "metadata": {},
   "source": [
    "#exploring stores table"
   ]
  },
  {
   "cell_type": "code",
   "execution_count": 158,
   "id": "5d4da33b",
   "metadata": {},
   "outputs": [],
   "source": [
    "s=pd.read_csv('stores.csv')"
   ]
  },
  {
   "cell_type": "code",
   "execution_count": 159,
   "id": "db05facc",
   "metadata": {},
   "outputs": [
    {
     "data": {
      "text/html": [
       "<div>\n",
       "<style scoped>\n",
       "    .dataframe tbody tr th:only-of-type {\n",
       "        vertical-align: middle;\n",
       "    }\n",
       "\n",
       "    .dataframe tbody tr th {\n",
       "        vertical-align: top;\n",
       "    }\n",
       "\n",
       "    .dataframe thead th {\n",
       "        text-align: right;\n",
       "    }\n",
       "</style>\n",
       "<table border=\"1\" class=\"dataframe\">\n",
       "  <thead>\n",
       "    <tr style=\"text-align: right;\">\n",
       "      <th></th>\n",
       "      <th>Store_ID</th>\n",
       "      <th>Store_Name</th>\n",
       "      <th>Store_City</th>\n",
       "      <th>Store_Location</th>\n",
       "      <th>Store_Open_Date</th>\n",
       "    </tr>\n",
       "  </thead>\n",
       "  <tbody>\n",
       "    <tr>\n",
       "      <th>0</th>\n",
       "      <td>1</td>\n",
       "      <td>Maven Toys Guadalajara 1</td>\n",
       "      <td>Guadalajara</td>\n",
       "      <td>Residential</td>\n",
       "      <td>1992-09-18</td>\n",
       "    </tr>\n",
       "    <tr>\n",
       "      <th>1</th>\n",
       "      <td>2</td>\n",
       "      <td>Maven Toys Monterrey 1</td>\n",
       "      <td>Monterrey</td>\n",
       "      <td>Residential</td>\n",
       "      <td>1995-04-27</td>\n",
       "    </tr>\n",
       "    <tr>\n",
       "      <th>2</th>\n",
       "      <td>3</td>\n",
       "      <td>Maven Toys Guadalajara 2</td>\n",
       "      <td>Guadalajara</td>\n",
       "      <td>Commercial</td>\n",
       "      <td>1999-12-27</td>\n",
       "    </tr>\n",
       "    <tr>\n",
       "      <th>3</th>\n",
       "      <td>4</td>\n",
       "      <td>Maven Toys Saltillo 1</td>\n",
       "      <td>Saltillo</td>\n",
       "      <td>Downtown</td>\n",
       "      <td>2000-01-01</td>\n",
       "    </tr>\n",
       "    <tr>\n",
       "      <th>4</th>\n",
       "      <td>5</td>\n",
       "      <td>Maven Toys La Paz 1</td>\n",
       "      <td>La Paz</td>\n",
       "      <td>Downtown</td>\n",
       "      <td>2001-05-31</td>\n",
       "    </tr>\n",
       "  </tbody>\n",
       "</table>\n",
       "</div>"
      ],
      "text/plain": [
       "   Store_ID                Store_Name   Store_City Store_Location  \\\n",
       "0         1  Maven Toys Guadalajara 1  Guadalajara    Residential   \n",
       "1         2    Maven Toys Monterrey 1    Monterrey    Residential   \n",
       "2         3  Maven Toys Guadalajara 2  Guadalajara     Commercial   \n",
       "3         4     Maven Toys Saltillo 1     Saltillo       Downtown   \n",
       "4         5       Maven Toys La Paz 1       La Paz       Downtown   \n",
       "\n",
       "  Store_Open_Date  \n",
       "0      1992-09-18  \n",
       "1      1995-04-27  \n",
       "2      1999-12-27  \n",
       "3      2000-01-01  \n",
       "4      2001-05-31  "
      ]
     },
     "execution_count": 159,
     "metadata": {},
     "output_type": "execute_result"
    }
   ],
   "source": [
    "s.head()"
   ]
  },
  {
   "cell_type": "code",
   "execution_count": 160,
   "id": "8b7ede20",
   "metadata": {},
   "outputs": [
    {
     "name": "stdout",
     "output_type": "stream",
     "text": [
      "<class 'pandas.core.frame.DataFrame'>\n",
      "RangeIndex: 50 entries, 0 to 49\n",
      "Data columns (total 5 columns):\n",
      " #   Column           Non-Null Count  Dtype \n",
      "---  ------           --------------  ----- \n",
      " 0   Store_ID         50 non-null     int64 \n",
      " 1   Store_Name       50 non-null     object\n",
      " 2   Store_City       50 non-null     object\n",
      " 3   Store_Location   50 non-null     object\n",
      " 4   Store_Open_Date  50 non-null     object\n",
      "dtypes: int64(1), object(4)\n",
      "memory usage: 2.1+ KB\n"
     ]
    }
   ],
   "source": [
    "s.info()"
   ]
  },
  {
   "cell_type": "code",
   "execution_count": 161,
   "id": "28fd82cb",
   "metadata": {},
   "outputs": [
    {
     "data": {
      "text/plain": [
       "0"
      ]
     },
     "execution_count": 161,
     "metadata": {},
     "output_type": "execute_result"
    }
   ],
   "source": [
    "s.duplicated().sum()"
   ]
  },
  {
   "cell_type": "code",
   "execution_count": 162,
   "id": "1e62e1f1",
   "metadata": {},
   "outputs": [],
   "source": [
    "#changing few datatypes"
   ]
  },
  {
   "cell_type": "code",
   "execution_count": 163,
   "id": "378dbf2e",
   "metadata": {},
   "outputs": [],
   "source": [
    "s['Store_Open_Date']=pd.to_datetime(s['Store_Open_Date'])"
   ]
  },
  {
   "cell_type": "code",
   "execution_count": 164,
   "id": "86c2a196",
   "metadata": {},
   "outputs": [],
   "source": [
    "s['Store_ID']=s['Store_ID'].astype('object')"
   ]
  },
  {
   "cell_type": "code",
   "execution_count": 165,
   "id": "39b2b534",
   "metadata": {},
   "outputs": [
    {
     "data": {
      "text/plain": [
       "Store_ID                   object\n",
       "Store_Name                 object\n",
       "Store_City                 object\n",
       "Store_Location             object\n",
       "Store_Open_Date    datetime64[ns]\n",
       "dtype: object"
      ]
     },
     "execution_count": 165,
     "metadata": {},
     "output_type": "execute_result"
    }
   ],
   "source": [
    "s.dtypes"
   ]
  },
  {
   "cell_type": "markdown",
   "id": "c24a66eb",
   "metadata": {},
   "source": [
    "#exploring sales data"
   ]
  },
  {
   "cell_type": "code",
   "execution_count": 166,
   "id": "269f285d",
   "metadata": {},
   "outputs": [],
   "source": [
    "sales=pd.read_csv('Sales.csv')"
   ]
  },
  {
   "cell_type": "code",
   "execution_count": 167,
   "id": "d930c8ca",
   "metadata": {},
   "outputs": [
    {
     "data": {
      "text/html": [
       "<div>\n",
       "<style scoped>\n",
       "    .dataframe tbody tr th:only-of-type {\n",
       "        vertical-align: middle;\n",
       "    }\n",
       "\n",
       "    .dataframe tbody tr th {\n",
       "        vertical-align: top;\n",
       "    }\n",
       "\n",
       "    .dataframe thead th {\n",
       "        text-align: right;\n",
       "    }\n",
       "</style>\n",
       "<table border=\"1\" class=\"dataframe\">\n",
       "  <thead>\n",
       "    <tr style=\"text-align: right;\">\n",
       "      <th></th>\n",
       "      <th>Sale_ID</th>\n",
       "      <th>Date</th>\n",
       "      <th>Store_ID</th>\n",
       "      <th>Product_ID</th>\n",
       "      <th>Units</th>\n",
       "    </tr>\n",
       "  </thead>\n",
       "  <tbody>\n",
       "    <tr>\n",
       "      <th>0</th>\n",
       "      <td>1</td>\n",
       "      <td>2017-01-01</td>\n",
       "      <td>24</td>\n",
       "      <td>4</td>\n",
       "      <td>1</td>\n",
       "    </tr>\n",
       "    <tr>\n",
       "      <th>1</th>\n",
       "      <td>2</td>\n",
       "      <td>2017-01-01</td>\n",
       "      <td>28</td>\n",
       "      <td>1</td>\n",
       "      <td>1</td>\n",
       "    </tr>\n",
       "    <tr>\n",
       "      <th>2</th>\n",
       "      <td>3</td>\n",
       "      <td>2017-01-01</td>\n",
       "      <td>6</td>\n",
       "      <td>8</td>\n",
       "      <td>1</td>\n",
       "    </tr>\n",
       "    <tr>\n",
       "      <th>3</th>\n",
       "      <td>4</td>\n",
       "      <td>2017-01-01</td>\n",
       "      <td>48</td>\n",
       "      <td>7</td>\n",
       "      <td>1</td>\n",
       "    </tr>\n",
       "    <tr>\n",
       "      <th>4</th>\n",
       "      <td>5</td>\n",
       "      <td>2017-01-01</td>\n",
       "      <td>44</td>\n",
       "      <td>18</td>\n",
       "      <td>1</td>\n",
       "    </tr>\n",
       "  </tbody>\n",
       "</table>\n",
       "</div>"
      ],
      "text/plain": [
       "   Sale_ID        Date  Store_ID  Product_ID  Units\n",
       "0        1  2017-01-01        24           4      1\n",
       "1        2  2017-01-01        28           1      1\n",
       "2        3  2017-01-01         6           8      1\n",
       "3        4  2017-01-01        48           7      1\n",
       "4        5  2017-01-01        44          18      1"
      ]
     },
     "execution_count": 167,
     "metadata": {},
     "output_type": "execute_result"
    }
   ],
   "source": [
    "sales.head()"
   ]
  },
  {
   "cell_type": "code",
   "execution_count": 168,
   "id": "4d01b904",
   "metadata": {},
   "outputs": [
    {
     "name": "stdout",
     "output_type": "stream",
     "text": [
      "<class 'pandas.core.frame.DataFrame'>\n",
      "RangeIndex: 829262 entries, 0 to 829261\n",
      "Data columns (total 5 columns):\n",
      " #   Column      Non-Null Count   Dtype \n",
      "---  ------      --------------   ----- \n",
      " 0   Sale_ID     829262 non-null  int64 \n",
      " 1   Date        829262 non-null  object\n",
      " 2   Store_ID    829262 non-null  int64 \n",
      " 3   Product_ID  829262 non-null  int64 \n",
      " 4   Units       829262 non-null  int64 \n",
      "dtypes: int64(4), object(1)\n",
      "memory usage: 31.6+ MB\n"
     ]
    }
   ],
   "source": [
    "sales.info()"
   ]
  },
  {
   "cell_type": "code",
   "execution_count": 169,
   "id": "1f954aaa",
   "metadata": {},
   "outputs": [
    {
     "data": {
      "text/plain": [
       "0"
      ]
     },
     "execution_count": 169,
     "metadata": {},
     "output_type": "execute_result"
    }
   ],
   "source": [
    "s.duplicated().sum()"
   ]
  },
  {
   "cell_type": "markdown",
   "id": "155a811d",
   "metadata": {},
   "source": [
    "#changing a few data types"
   ]
  },
  {
   "cell_type": "code",
   "execution_count": 170,
   "id": "39784b57",
   "metadata": {},
   "outputs": [],
   "source": [
    "sales['Sale_ID']=sales['Sale_ID'].astype('object')\n",
    "sales['Store_ID']=sales['Store_ID'].astype('object')\n",
    "sales['Product_ID']=sales['Product_ID'].astype('object')\n",
    "sales['Date']=pd.to_datetime(sales['Date'])\n"
   ]
  },
  {
   "cell_type": "code",
   "execution_count": 171,
   "id": "b0804d62",
   "metadata": {},
   "outputs": [
    {
     "data": {
      "text/plain": [
       "Sale_ID               object\n",
       "Date          datetime64[ns]\n",
       "Store_ID              object\n",
       "Product_ID            object\n",
       "Units                  int64\n",
       "dtype: object"
      ]
     },
     "execution_count": 171,
     "metadata": {},
     "output_type": "execute_result"
    }
   ],
   "source": [
    "sales.dtypes"
   ]
  },
  {
   "cell_type": "markdown",
   "id": "bbbfffb7",
   "metadata": {},
   "source": [
    "Which product categories drive the biggest profits? Is this the same across store locations?\n"
   ]
  },
  {
   "cell_type": "code",
   "execution_count": 172,
   "id": "2164e33d",
   "metadata": {},
   "outputs": [],
   "source": [
    "dummy1=p[['Product_ID','Product_Category']]"
   ]
  },
  {
   "cell_type": "code",
   "execution_count": 173,
   "id": "bbf6083d",
   "metadata": {},
   "outputs": [],
   "source": [
    "sales=pd.merge(sales,dummy1,on='Product_ID',how='left')"
   ]
  },
  {
   "cell_type": "code",
   "execution_count": 174,
   "id": "9ca3c9df",
   "metadata": {},
   "outputs": [
    {
     "data": {
      "text/plain": [
       "(829262, 6)"
      ]
     },
     "execution_count": 174,
     "metadata": {},
     "output_type": "execute_result"
    }
   ],
   "source": [
    "sales.shape"
   ]
  },
  {
   "cell_type": "code",
   "execution_count": 175,
   "id": "f4fe181f",
   "metadata": {},
   "outputs": [
    {
     "data": {
      "text/html": [
       "<div>\n",
       "<style scoped>\n",
       "    .dataframe tbody tr th:only-of-type {\n",
       "        vertical-align: middle;\n",
       "    }\n",
       "\n",
       "    .dataframe tbody tr th {\n",
       "        vertical-align: top;\n",
       "    }\n",
       "\n",
       "    .dataframe thead th {\n",
       "        text-align: right;\n",
       "    }\n",
       "</style>\n",
       "<table border=\"1\" class=\"dataframe\">\n",
       "  <thead>\n",
       "    <tr style=\"text-align: right;\">\n",
       "      <th></th>\n",
       "      <th>Sale_ID</th>\n",
       "      <th>Date</th>\n",
       "      <th>Store_ID</th>\n",
       "      <th>Product_ID</th>\n",
       "      <th>Units</th>\n",
       "      <th>Product_Category</th>\n",
       "    </tr>\n",
       "  </thead>\n",
       "  <tbody>\n",
       "    <tr>\n",
       "      <th>0</th>\n",
       "      <td>1</td>\n",
       "      <td>2017-01-01</td>\n",
       "      <td>24</td>\n",
       "      <td>4</td>\n",
       "      <td>1</td>\n",
       "      <td>Games</td>\n",
       "    </tr>\n",
       "    <tr>\n",
       "      <th>1</th>\n",
       "      <td>2</td>\n",
       "      <td>2017-01-01</td>\n",
       "      <td>28</td>\n",
       "      <td>1</td>\n",
       "      <td>1</td>\n",
       "      <td>Toys</td>\n",
       "    </tr>\n",
       "    <tr>\n",
       "      <th>2</th>\n",
       "      <td>3</td>\n",
       "      <td>2017-01-01</td>\n",
       "      <td>6</td>\n",
       "      <td>8</td>\n",
       "      <td>1</td>\n",
       "      <td>Games</td>\n",
       "    </tr>\n",
       "    <tr>\n",
       "      <th>3</th>\n",
       "      <td>4</td>\n",
       "      <td>2017-01-01</td>\n",
       "      <td>48</td>\n",
       "      <td>7</td>\n",
       "      <td>1</td>\n",
       "      <td>Sports &amp; Outdoors</td>\n",
       "    </tr>\n",
       "    <tr>\n",
       "      <th>4</th>\n",
       "      <td>5</td>\n",
       "      <td>2017-01-01</td>\n",
       "      <td>44</td>\n",
       "      <td>18</td>\n",
       "      <td>1</td>\n",
       "      <td>Toys</td>\n",
       "    </tr>\n",
       "  </tbody>\n",
       "</table>\n",
       "</div>"
      ],
      "text/plain": [
       "  Sale_ID       Date Store_ID Product_ID  Units   Product_Category\n",
       "0       1 2017-01-01       24          4      1              Games\n",
       "1       2 2017-01-01       28          1      1               Toys\n",
       "2       3 2017-01-01        6          8      1              Games\n",
       "3       4 2017-01-01       48          7      1  Sports & Outdoors\n",
       "4       5 2017-01-01       44         18      1               Toys"
      ]
     },
     "execution_count": 175,
     "metadata": {},
     "output_type": "execute_result"
    }
   ],
   "source": [
    "sales.head()"
   ]
  },
  {
   "cell_type": "code",
   "execution_count": 176,
   "id": "5d4070f9",
   "metadata": {},
   "outputs": [],
   "source": [
    "dummy2=p[['Product_ID','Product_Name','Product_Price_Dollars','Product_Cost_Dollars']]"
   ]
  },
  {
   "cell_type": "code",
   "execution_count": 177,
   "id": "676ed978",
   "metadata": {},
   "outputs": [],
   "source": [
    "sales=pd.merge(sales,dummy2,on='Product_ID',how='left')"
   ]
  },
  {
   "cell_type": "code",
   "execution_count": 178,
   "id": "9a104bc4",
   "metadata": {},
   "outputs": [
    {
     "data": {
      "text/plain": [
       "(829262, 9)"
      ]
     },
     "execution_count": 178,
     "metadata": {},
     "output_type": "execute_result"
    }
   ],
   "source": [
    "sales.shape"
   ]
  },
  {
   "cell_type": "code",
   "execution_count": 179,
   "id": "3e77b58b",
   "metadata": {},
   "outputs": [
    {
     "data": {
      "text/html": [
       "<div>\n",
       "<style scoped>\n",
       "    .dataframe tbody tr th:only-of-type {\n",
       "        vertical-align: middle;\n",
       "    }\n",
       "\n",
       "    .dataframe tbody tr th {\n",
       "        vertical-align: top;\n",
       "    }\n",
       "\n",
       "    .dataframe thead th {\n",
       "        text-align: right;\n",
       "    }\n",
       "</style>\n",
       "<table border=\"1\" class=\"dataframe\">\n",
       "  <thead>\n",
       "    <tr style=\"text-align: right;\">\n",
       "      <th></th>\n",
       "      <th>Sale_ID</th>\n",
       "      <th>Date</th>\n",
       "      <th>Store_ID</th>\n",
       "      <th>Product_ID</th>\n",
       "      <th>Units</th>\n",
       "      <th>Product_Category</th>\n",
       "      <th>Product_Name</th>\n",
       "      <th>Product_Price_Dollars</th>\n",
       "      <th>Product_Cost_Dollars</th>\n",
       "    </tr>\n",
       "  </thead>\n",
       "  <tbody>\n",
       "    <tr>\n",
       "      <th>0</th>\n",
       "      <td>1</td>\n",
       "      <td>2017-01-01</td>\n",
       "      <td>24</td>\n",
       "      <td>4</td>\n",
       "      <td>1</td>\n",
       "      <td>Games</td>\n",
       "      <td>Chutes &amp; Ladders</td>\n",
       "      <td>12.99</td>\n",
       "      <td>9.99</td>\n",
       "    </tr>\n",
       "    <tr>\n",
       "      <th>1</th>\n",
       "      <td>2</td>\n",
       "      <td>2017-01-01</td>\n",
       "      <td>28</td>\n",
       "      <td>1</td>\n",
       "      <td>1</td>\n",
       "      <td>Toys</td>\n",
       "      <td>Action Figure</td>\n",
       "      <td>15.99</td>\n",
       "      <td>9.99</td>\n",
       "    </tr>\n",
       "    <tr>\n",
       "      <th>2</th>\n",
       "      <td>3</td>\n",
       "      <td>2017-01-01</td>\n",
       "      <td>6</td>\n",
       "      <td>8</td>\n",
       "      <td>1</td>\n",
       "      <td>Games</td>\n",
       "      <td>Deck Of Cards</td>\n",
       "      <td>6.99</td>\n",
       "      <td>3.99</td>\n",
       "    </tr>\n",
       "    <tr>\n",
       "      <th>3</th>\n",
       "      <td>4</td>\n",
       "      <td>2017-01-01</td>\n",
       "      <td>48</td>\n",
       "      <td>7</td>\n",
       "      <td>1</td>\n",
       "      <td>Sports &amp; Outdoors</td>\n",
       "      <td>Dart Gun</td>\n",
       "      <td>15.99</td>\n",
       "      <td>11.99</td>\n",
       "    </tr>\n",
       "    <tr>\n",
       "      <th>4</th>\n",
       "      <td>5</td>\n",
       "      <td>2017-01-01</td>\n",
       "      <td>44</td>\n",
       "      <td>18</td>\n",
       "      <td>1</td>\n",
       "      <td>Toys</td>\n",
       "      <td>Lego Bricks</td>\n",
       "      <td>39.99</td>\n",
       "      <td>34.99</td>\n",
       "    </tr>\n",
       "  </tbody>\n",
       "</table>\n",
       "</div>"
      ],
      "text/plain": [
       "  Sale_ID       Date Store_ID Product_ID  Units   Product_Category  \\\n",
       "0       1 2017-01-01       24          4      1              Games   \n",
       "1       2 2017-01-01       28          1      1               Toys   \n",
       "2       3 2017-01-01        6          8      1              Games   \n",
       "3       4 2017-01-01       48          7      1  Sports & Outdoors   \n",
       "4       5 2017-01-01       44         18      1               Toys   \n",
       "\n",
       "       Product_Name  Product_Price_Dollars  Product_Cost_Dollars  \n",
       "0  Chutes & Ladders                  12.99                  9.99  \n",
       "1     Action Figure                  15.99                  9.99  \n",
       "2     Deck Of Cards                   6.99                  3.99  \n",
       "3          Dart Gun                  15.99                 11.99  \n",
       "4       Lego Bricks                  39.99                 34.99  "
      ]
     },
     "execution_count": 179,
     "metadata": {},
     "output_type": "execute_result"
    }
   ],
   "source": [
    "sales.head()"
   ]
  },
  {
   "cell_type": "code",
   "execution_count": 180,
   "id": "22b6d11e",
   "metadata": {},
   "outputs": [],
   "source": [
    "sales['Profit']=(sales['Product_Price_Dollars']-sales['Product_Cost_Dollars'])*sales['Units']"
   ]
  },
  {
   "cell_type": "code",
   "execution_count": 181,
   "id": "1b7e9134",
   "metadata": {},
   "outputs": [],
   "source": [
    "import matplotlib.pyplot as plt"
   ]
  },
  {
   "cell_type": "code",
   "execution_count": 182,
   "id": "2ec5bdea",
   "metadata": {},
   "outputs": [
    {
     "data": {
      "text/plain": [
       "Text(0.5, 1.0, 'Profit by category')"
      ]
     },
     "execution_count": 182,
     "metadata": {},
     "output_type": "execute_result"
    },
    {
     "data": {
      "image/png": "[encoded data removed]",
      "text/plain": [
       "<Figure size 432x288 with 1 Axes>"
      ]
     },
     "metadata": {
      "needs_background": "light"
     },
     "output_type": "display_data"
    }
   ],
   "source": [
    "sales.groupby('Product_Category')['Profit'].sum().sort_values().plot(kind='barh')\n",
    "plt.xlabel('Profit')\n",
    "plt.title('Profit by category')"
   ]
  },
  {
   "cell_type": "markdown",
   "id": "84c16f41",
   "metadata": {},
   "source": [
    "Toys and Electronics are the major drivers of Profit in the Product Catergories"
   ]
  },
  {
   "cell_type": "code",
   "execution_count": 183,
   "id": "b4977e4d",
   "metadata": {},
   "outputs": [],
   "source": [
    "dummy3=s[['Store_ID','Store_City']]"
   ]
  },
  {
   "cell_type": "code",
   "execution_count": 184,
   "id": "0043b0c3",
   "metadata": {},
   "outputs": [],
   "source": [
    "sales=pd.merge(sales,dummy3,on='Store_ID',how='left')"
   ]
  },
  {
   "cell_type": "code",
   "execution_count": 185,
   "id": "35abec17",
   "metadata": {},
   "outputs": [
    {
     "data": {
      "text/plain": [
       "(829262, 11)"
      ]
     },
     "execution_count": 185,
     "metadata": {},
     "output_type": "execute_result"
    }
   ],
   "source": [
    "sales.shape"
   ]
  },
  {
   "cell_type": "code",
   "execution_count": 186,
   "id": "2c1cbf8c",
   "metadata": {},
   "outputs": [
    {
     "data": {
      "text/plain": [
       "<AxesSubplot:ylabel='Store_City,Product_Category'>"
      ]
     },
     "execution_count": 186,
     "metadata": {},
     "output_type": "execute_result"
    },
    {
     "data": {
      "image/png": "[encoded data removed]",
      "text/plain": [
       "<Figure size 720x720 with 1 Axes>"
      ]
     },
     "metadata": {
      "needs_background": "light"
     },
     "output_type": "display_data"
    }
   ],
   "source": [
    "plt.figure(figsize=(10,10))\n",
    "sales[sales['Product_Category'].isin(['Toys','Electronics'])].groupby(['Store_City','Product_Category'])['Profit'].sum().sort_values().plot(kind='barh')"
   ]
  },
  {
   "cell_type": "markdown",
   "id": "276241ff",
   "metadata": {},
   "source": [
    "Across Store Locations we see that Toys and Electronics do not have the same profit drive."
   ]
  },
  {
   "cell_type": "markdown",
   "id": "8ab226c6",
   "metadata": {},
   "source": [
    "Can you find any seasonal trends or patterns in the sales data?\n"
   ]
  },
  {
   "cell_type": "code",
   "execution_count": 187,
   "id": "681caafe",
   "metadata": {},
   "outputs": [],
   "source": [
    "sales['year']=sales['Date'].dt.year\n",
    "sales['month']=sales['Date'].dt.month"
   ]
  },
  {
   "cell_type": "code",
   "execution_count": 188,
   "id": "bd7d9014",
   "metadata": {},
   "outputs": [],
   "source": [
    "import seaborn as sns"
   ]
  },
  {
   "cell_type": "code",
   "execution_count": 189,
   "id": "3073f151",
   "metadata": {},
   "outputs": [],
   "source": [
    "dummy4=sales.groupby(['year','month','Product_Category'])['Profit'].sum().reset_index()"
   ]
  },
  {
   "cell_type": "code",
   "execution_count": 190,
   "id": "0bc0ccb7",
   "metadata": {},
   "outputs": [
    {
     "data": {
      "text/plain": [
       "<AxesSubplot:xlabel='month', ylabel='Profit'>"
      ]
     },
     "execution_count": 190,
     "metadata": {},
     "output_type": "execute_result"
    },
    {
     "data": {
      "image/png": "[encoded data removed]",
      "text/plain": [
       "<Figure size 432x288 with 1 Axes>"
      ]
     },
     "metadata": {
      "needs_background": "light"
     },
     "output_type": "display_data"
    }
   ],
   "source": [
    "sns.lineplot(x='month',y='Profit',hue='year',data=dummy4)"
   ]
  },
  {
   "cell_type": "markdown",
   "id": "45580e78",
   "metadata": {},
   "source": [
    "#The year end Profits are high during holiday season in december in the year 2017\n",
    "#There is dip in profits in Feb and August across the two years"
   ]
  },
  {
   "cell_type": "code",
   "execution_count": 191,
   "id": "08a26062",
   "metadata": {},
   "outputs": [
    {
     "data": {
      "text/plain": [
       "Text(0.5, 1.0, 'Profit over months in 2018')"
      ]
     },
     "execution_count": 191,
     "metadata": {},
     "output_type": "execute_result"
    },
    {
     "data": {
      "image/png": "[encoded data removed]",
      "text/plain": [
       "<Figure size 432x288 with 1 Axes>"
      ]
     },
     "metadata": {
      "needs_background": "light"
     },
     "output_type": "display_data"
    }
   ],
   "source": [
    "sns.lineplot(x='month',y='Profit',hue='Product_Category',data=dummy4[dummy4['year']==2018])\n",
    "plt.title('Profit over months in 2018')"
   ]
  },
  {
   "cell_type": "code",
   "execution_count": 192,
   "id": "3fb9747e",
   "metadata": {},
   "outputs": [
    {
     "data": {
      "text/plain": [
       "Text(0.5, 1.0, 'Profit over months in 2017')"
      ]
     },
     "execution_count": 192,
     "metadata": {},
     "output_type": "execute_result"
    },
    {
     "data": {
      "image/png": "[encoded data removed]",
      "text/plain": [
       "<Figure size 432x288 with 1 Axes>"
      ]
     },
     "metadata": {
      "needs_background": "light"
     },
     "output_type": "display_data"
    }
   ],
   "source": [
    "sns.lineplot(x='month',y='Profit',hue='Product_Category',data=dummy4[dummy4['year']==2017])\n",
    "plt.title('Profit over months in 2017')"
   ]
  },
  {
   "cell_type": "markdown",
   "id": "597b10f7",
   "metadata": {},
   "source": [
    "#The demad for Arst and Crafts product is incresing around august"
   ]
  },
  {
   "cell_type": "markdown",
   "id": "dee3c845",
   "metadata": {},
   "source": [
    "Are sales being lost with out-of-stock products at certain locations?"
   ]
  },
  {
   "cell_type": "code",
   "execution_count": 193,
   "id": "e854892a",
   "metadata": {},
   "outputs": [
    {
     "data": {
      "text/html": [
       "<div>\n",
       "<style scoped>\n",
       "    .dataframe tbody tr th:only-of-type {\n",
       "        vertical-align: middle;\n",
       "    }\n",
       "\n",
       "    .dataframe tbody tr th {\n",
       "        vertical-align: top;\n",
       "    }\n",
       "\n",
       "    .dataframe thead th {\n",
       "        text-align: right;\n",
       "    }\n",
       "</style>\n",
       "<table border=\"1\" class=\"dataframe\">\n",
       "  <thead>\n",
       "    <tr style=\"text-align: right;\">\n",
       "      <th></th>\n",
       "      <th>Sale_ID</th>\n",
       "      <th>Date</th>\n",
       "      <th>Store_ID</th>\n",
       "      <th>Product_ID</th>\n",
       "      <th>Units</th>\n",
       "      <th>Product_Category</th>\n",
       "      <th>Product_Name</th>\n",
       "      <th>Product_Price_Dollars</th>\n",
       "      <th>Product_Cost_Dollars</th>\n",
       "      <th>Profit</th>\n",
       "      <th>Store_City</th>\n",
       "      <th>year</th>\n",
       "      <th>month</th>\n",
       "    </tr>\n",
       "  </thead>\n",
       "  <tbody>\n",
       "    <tr>\n",
       "      <th>0</th>\n",
       "      <td>1</td>\n",
       "      <td>2017-01-01</td>\n",
       "      <td>24</td>\n",
       "      <td>4</td>\n",
       "      <td>1</td>\n",
       "      <td>Games</td>\n",
       "      <td>Chutes &amp; Ladders</td>\n",
       "      <td>12.99</td>\n",
       "      <td>9.99</td>\n",
       "      <td>3.0</td>\n",
       "      <td>Aguascalientes</td>\n",
       "      <td>2017</td>\n",
       "      <td>1</td>\n",
       "    </tr>\n",
       "    <tr>\n",
       "      <th>1</th>\n",
       "      <td>2</td>\n",
       "      <td>2017-01-01</td>\n",
       "      <td>28</td>\n",
       "      <td>1</td>\n",
       "      <td>1</td>\n",
       "      <td>Toys</td>\n",
       "      <td>Action Figure</td>\n",
       "      <td>15.99</td>\n",
       "      <td>9.99</td>\n",
       "      <td>6.0</td>\n",
       "      <td>Puebla</td>\n",
       "      <td>2017</td>\n",
       "      <td>1</td>\n",
       "    </tr>\n",
       "    <tr>\n",
       "      <th>2</th>\n",
       "      <td>3</td>\n",
       "      <td>2017-01-01</td>\n",
       "      <td>6</td>\n",
       "      <td>8</td>\n",
       "      <td>1</td>\n",
       "      <td>Games</td>\n",
       "      <td>Deck Of Cards</td>\n",
       "      <td>6.99</td>\n",
       "      <td>3.99</td>\n",
       "      <td>3.0</td>\n",
       "      <td>Mexicali</td>\n",
       "      <td>2017</td>\n",
       "      <td>1</td>\n",
       "    </tr>\n",
       "    <tr>\n",
       "      <th>3</th>\n",
       "      <td>4</td>\n",
       "      <td>2017-01-01</td>\n",
       "      <td>48</td>\n",
       "      <td>7</td>\n",
       "      <td>1</td>\n",
       "      <td>Sports &amp; Outdoors</td>\n",
       "      <td>Dart Gun</td>\n",
       "      <td>15.99</td>\n",
       "      <td>11.99</td>\n",
       "      <td>4.0</td>\n",
       "      <td>Saltillo</td>\n",
       "      <td>2017</td>\n",
       "      <td>1</td>\n",
       "    </tr>\n",
       "    <tr>\n",
       "      <th>4</th>\n",
       "      <td>5</td>\n",
       "      <td>2017-01-01</td>\n",
       "      <td>44</td>\n",
       "      <td>18</td>\n",
       "      <td>1</td>\n",
       "      <td>Toys</td>\n",
       "      <td>Lego Bricks</td>\n",
       "      <td>39.99</td>\n",
       "      <td>34.99</td>\n",
       "      <td>5.0</td>\n",
       "      <td>Puebla</td>\n",
       "      <td>2017</td>\n",
       "      <td>1</td>\n",
       "    </tr>\n",
       "  </tbody>\n",
       "</table>\n",
       "</div>"
      ],
      "text/plain": [
       "  Sale_ID       Date Store_ID Product_ID  Units   Product_Category  \\\n",
       "0       1 2017-01-01       24          4      1              Games   \n",
       "1       2 2017-01-01       28          1      1               Toys   \n",
       "2       3 2017-01-01        6          8      1              Games   \n",
       "3       4 2017-01-01       48          7      1  Sports & Outdoors   \n",
       "4       5 2017-01-01       44         18      1               Toys   \n",
       "\n",
       "       Product_Name  Product_Price_Dollars  Product_Cost_Dollars  Profit  \\\n",
       "0  Chutes & Ladders                  12.99                  9.99     3.0   \n",
       "1     Action Figure                  15.99                  9.99     6.0   \n",
       "2     Deck Of Cards                   6.99                  3.99     3.0   \n",
       "3          Dart Gun                  15.99                 11.99     4.0   \n",
       "4       Lego Bricks                  39.99                 34.99     5.0   \n",
       "\n",
       "       Store_City  year  month  \n",
       "0  Aguascalientes  2017      1  \n",
       "1          Puebla  2017      1  \n",
       "2        Mexicali  2017      1  \n",
       "3        Saltillo  2017      1  \n",
       "4          Puebla  2017      1  "
      ]
     },
     "execution_count": 193,
     "metadata": {},
     "output_type": "execute_result"
    }
   ],
   "source": [
    "sales.head()"
   ]
  },
  {
   "cell_type": "code",
   "execution_count": 194,
   "id": "bcbbc2f7",
   "metadata": {},
   "outputs": [],
   "source": [
    "dummy5=sales.groupby(['Store_ID','Product_ID','Units'])['Profit'].sum().reset_index()"
   ]
  },
  {
   "cell_type": "code",
   "execution_count": 195,
   "id": "a4e0bb6b",
   "metadata": {},
   "outputs": [
    {
     "data": {
      "text/html": [
       "<div>\n",
       "<style scoped>\n",
       "    .dataframe tbody tr th:only-of-type {\n",
       "        vertical-align: middle;\n",
       "    }\n",
       "\n",
       "    .dataframe tbody tr th {\n",
       "        vertical-align: top;\n",
       "    }\n",
       "\n",
       "    .dataframe thead th {\n",
       "        text-align: right;\n",
       "    }\n",
       "</style>\n",
       "<table border=\"1\" class=\"dataframe\">\n",
       "  <thead>\n",
       "    <tr style=\"text-align: right;\">\n",
       "      <th></th>\n",
       "      <th>Store_ID</th>\n",
       "      <th>Product_ID</th>\n",
       "      <th>Units</th>\n",
       "      <th>Profit</th>\n",
       "    </tr>\n",
       "  </thead>\n",
       "  <tbody>\n",
       "    <tr>\n",
       "      <th>0</th>\n",
       "      <td>1</td>\n",
       "      <td>1</td>\n",
       "      <td>1</td>\n",
       "      <td>5364.0</td>\n",
       "    </tr>\n",
       "    <tr>\n",
       "      <th>1</th>\n",
       "      <td>1</td>\n",
       "      <td>1</td>\n",
       "      <td>2</td>\n",
       "      <td>768.0</td>\n",
       "    </tr>\n",
       "    <tr>\n",
       "      <th>2</th>\n",
       "      <td>1</td>\n",
       "      <td>1</td>\n",
       "      <td>3</td>\n",
       "      <td>1368.0</td>\n",
       "    </tr>\n",
       "    <tr>\n",
       "      <th>3</th>\n",
       "      <td>1</td>\n",
       "      <td>1</td>\n",
       "      <td>4</td>\n",
       "      <td>72.0</td>\n",
       "    </tr>\n",
       "    <tr>\n",
       "      <th>4</th>\n",
       "      <td>1</td>\n",
       "      <td>2</td>\n",
       "      <td>1</td>\n",
       "      <td>1461.0</td>\n",
       "    </tr>\n",
       "  </tbody>\n",
       "</table>\n",
       "</div>"
      ],
      "text/plain": [
       "   Store_ID  Product_ID  Units  Profit\n",
       "0         1           1      1  5364.0\n",
       "1         1           1      2   768.0\n",
       "2         1           1      3  1368.0\n",
       "3         1           1      4    72.0\n",
       "4         1           2      1  1461.0"
      ]
     },
     "execution_count": 195,
     "metadata": {},
     "output_type": "execute_result"
    }
   ],
   "source": [
    "dummy5.head()"
   ]
  },
  {
   "cell_type": "code",
   "execution_count": 196,
   "id": "a6a63a97",
   "metadata": {},
   "outputs": [],
   "source": [
    "i=pd.merge(i,p,on='Product_ID',how='left')"
   ]
  },
  {
   "cell_type": "code",
   "execution_count": 197,
   "id": "86ce908f",
   "metadata": {},
   "outputs": [
    {
     "data": {
      "text/html": [
       "<div>\n",
       "<style scoped>\n",
       "    .dataframe tbody tr th:only-of-type {\n",
       "        vertical-align: middle;\n",
       "    }\n",
       "\n",
       "    .dataframe tbody tr th {\n",
       "        vertical-align: top;\n",
       "    }\n",
       "\n",
       "    .dataframe thead th {\n",
       "        text-align: right;\n",
       "    }\n",
       "</style>\n",
       "<table border=\"1\" class=\"dataframe\">\n",
       "  <thead>\n",
       "    <tr style=\"text-align: right;\">\n",
       "      <th></th>\n",
       "      <th>Store_ID</th>\n",
       "      <th>Product_ID</th>\n",
       "      <th>Stock_On_Hand</th>\n",
       "      <th>Product_Name</th>\n",
       "      <th>Product_Category</th>\n",
       "      <th>Product_Cost_Dollars</th>\n",
       "      <th>Product_Price_Dollars</th>\n",
       "    </tr>\n",
       "  </thead>\n",
       "  <tbody>\n",
       "    <tr>\n",
       "      <th>0</th>\n",
       "      <td>1</td>\n",
       "      <td>1</td>\n",
       "      <td>27</td>\n",
       "      <td>Action Figure</td>\n",
       "      <td>Toys</td>\n",
       "      <td>9.99</td>\n",
       "      <td>15.99</td>\n",
       "    </tr>\n",
       "    <tr>\n",
       "      <th>1</th>\n",
       "      <td>1</td>\n",
       "      <td>2</td>\n",
       "      <td>0</td>\n",
       "      <td>Animal Figures</td>\n",
       "      <td>Toys</td>\n",
       "      <td>9.99</td>\n",
       "      <td>12.99</td>\n",
       "    </tr>\n",
       "    <tr>\n",
       "      <th>2</th>\n",
       "      <td>1</td>\n",
       "      <td>3</td>\n",
       "      <td>32</td>\n",
       "      <td>Barrel O' Slime</td>\n",
       "      <td>Art &amp; Crafts</td>\n",
       "      <td>1.99</td>\n",
       "      <td>3.99</td>\n",
       "    </tr>\n",
       "    <tr>\n",
       "      <th>3</th>\n",
       "      <td>1</td>\n",
       "      <td>4</td>\n",
       "      <td>6</td>\n",
       "      <td>Chutes &amp; Ladders</td>\n",
       "      <td>Games</td>\n",
       "      <td>9.99</td>\n",
       "      <td>12.99</td>\n",
       "    </tr>\n",
       "    <tr>\n",
       "      <th>4</th>\n",
       "      <td>1</td>\n",
       "      <td>5</td>\n",
       "      <td>0</td>\n",
       "      <td>Classic Dominoes</td>\n",
       "      <td>Games</td>\n",
       "      <td>7.99</td>\n",
       "      <td>9.99</td>\n",
       "    </tr>\n",
       "  </tbody>\n",
       "</table>\n",
       "</div>"
      ],
      "text/plain": [
       "  Store_ID Product_ID  Stock_On_Hand      Product_Name Product_Category  \\\n",
       "0        1          1             27     Action Figure             Toys   \n",
       "1        1          2              0    Animal Figures             Toys   \n",
       "2        1          3             32   Barrel O' Slime     Art & Crafts   \n",
       "3        1          4              6  Chutes & Ladders            Games   \n",
       "4        1          5              0  Classic Dominoes            Games   \n",
       "\n",
       "   Product_Cost_Dollars  Product_Price_Dollars  \n",
       "0                  9.99                  15.99  \n",
       "1                  9.99                  12.99  \n",
       "2                  1.99                   3.99  \n",
       "3                  9.99                  12.99  \n",
       "4                  7.99                   9.99  "
      ]
     },
     "execution_count": 197,
     "metadata": {},
     "output_type": "execute_result"
    }
   ],
   "source": [
    "i.head()"
   ]
  },
  {
   "cell_type": "code",
   "execution_count": 198,
   "id": "ea6f7ea9",
   "metadata": {},
   "outputs": [],
   "source": [
    "i['Total_Particular_Product_Cost']=i['Product_Cost_Dollars']*i['Stock_On_Hand']"
   ]
  },
  {
   "cell_type": "code",
   "execution_count": 199,
   "id": "d2afb8cb",
   "metadata": {},
   "outputs": [],
   "source": [
    "i['Total_Particular_Product_Price']=i['Product_Price_Dollars']*i['Stock_On_Hand']"
   ]
  },
  {
   "cell_type": "code",
   "execution_count": 200,
   "id": "11a5c3e3",
   "metadata": {},
   "outputs": [],
   "source": [
    "dummy6=i[i['Stock_On_Hand']==0]#table for products quantitye zero in store"
   ]
  },
  {
   "cell_type": "code",
   "execution_count": 201,
   "id": "3d0da60d",
   "metadata": {},
   "outputs": [],
   "source": [
    "dummy7=sales[sales.Product_ID.isin(dummy6.Product_ID)].groupby(['Product_ID','Product_Name'])['Profit','Units'].mean().reset_index()"
   ]
  },
  {
   "cell_type": "code",
   "execution_count": 202,
   "id": "71f6db33",
   "metadata": {},
   "outputs": [
    {
     "data": {
      "text/html": [
       "<div>\n",
       "<style scoped>\n",
       "    .dataframe tbody tr th:only-of-type {\n",
       "        vertical-align: middle;\n",
       "    }\n",
       "\n",
       "    .dataframe tbody tr th {\n",
       "        vertical-align: top;\n",
       "    }\n",
       "\n",
       "    .dataframe thead th {\n",
       "        text-align: right;\n",
       "    }\n",
       "</style>\n",
       "<table border=\"1\" class=\"dataframe\">\n",
       "  <thead>\n",
       "    <tr style=\"text-align: right;\">\n",
       "      <th></th>\n",
       "      <th>Product_ID</th>\n",
       "      <th>Product_Name</th>\n",
       "      <th>Profit</th>\n",
       "      <th>Units</th>\n",
       "    </tr>\n",
       "  </thead>\n",
       "  <tbody>\n",
       "    <tr>\n",
       "      <th>0</th>\n",
       "      <td>1</td>\n",
       "      <td>Action Figure</td>\n",
       "      <td>7.170505</td>\n",
       "      <td>1.195084</td>\n",
       "    </tr>\n",
       "    <tr>\n",
       "      <th>1</th>\n",
       "      <td>2</td>\n",
       "      <td>Animal Figures</td>\n",
       "      <td>3.636186</td>\n",
       "      <td>1.212062</td>\n",
       "    </tr>\n",
       "    <tr>\n",
       "      <th>2</th>\n",
       "      <td>3</td>\n",
       "      <td>Barrel O' Slime</td>\n",
       "      <td>3.390029</td>\n",
       "      <td>1.695015</td>\n",
       "    </tr>\n",
       "    <tr>\n",
       "      <th>3</th>\n",
       "      <td>4</td>\n",
       "      <td>Chutes &amp; Ladders</td>\n",
       "      <td>3.104595</td>\n",
       "      <td>1.034865</td>\n",
       "    </tr>\n",
       "    <tr>\n",
       "      <th>4</th>\n",
       "      <td>5</td>\n",
       "      <td>Classic Dominoes</td>\n",
       "      <td>2.094636</td>\n",
       "      <td>1.047318</td>\n",
       "    </tr>\n",
       "    <tr>\n",
       "      <th>5</th>\n",
       "      <td>9</td>\n",
       "      <td>Dino Egg</td>\n",
       "      <td>1.356801</td>\n",
       "      <td>1.356801</td>\n",
       "    </tr>\n",
       "    <tr>\n",
       "      <th>6</th>\n",
       "      <td>11</td>\n",
       "      <td>Etch A Sketch</td>\n",
       "      <td>10.859438</td>\n",
       "      <td>1.085944</td>\n",
       "    </tr>\n",
       "    <tr>\n",
       "      <th>7</th>\n",
       "      <td>12</td>\n",
       "      <td>Foam Disk Launcher</td>\n",
       "      <td>3.355843</td>\n",
       "      <td>1.118614</td>\n",
       "    </tr>\n",
       "    <tr>\n",
       "      <th>8</th>\n",
       "      <td>13</td>\n",
       "      <td>Gamer Headphones</td>\n",
       "      <td>6.932252</td>\n",
       "      <td>1.155375</td>\n",
       "    </tr>\n",
       "    <tr>\n",
       "      <th>9</th>\n",
       "      <td>14</td>\n",
       "      <td>Glass Marbles</td>\n",
       "      <td>7.654548</td>\n",
       "      <td>1.530910</td>\n",
       "    </tr>\n",
       "    <tr>\n",
       "      <th>10</th>\n",
       "      <td>15</td>\n",
       "      <td>Hot Wheels 5-Pack</td>\n",
       "      <td>2.181267</td>\n",
       "      <td>1.090633</td>\n",
       "    </tr>\n",
       "    <tr>\n",
       "      <th>11</th>\n",
       "      <td>16</td>\n",
       "      <td>Jenga</td>\n",
       "      <td>7.525159</td>\n",
       "      <td>1.075023</td>\n",
       "    </tr>\n",
       "    <tr>\n",
       "      <th>12</th>\n",
       "      <td>21</td>\n",
       "      <td>Mini Ping Pong Set</td>\n",
       "      <td>4.135368</td>\n",
       "      <td>1.378456</td>\n",
       "    </tr>\n",
       "    <tr>\n",
       "      <th>13</th>\n",
       "      <td>23</td>\n",
       "      <td>Mr. Potatohead</td>\n",
       "      <td>5.501918</td>\n",
       "      <td>1.100384</td>\n",
       "    </tr>\n",
       "    <tr>\n",
       "      <th>14</th>\n",
       "      <td>28</td>\n",
       "      <td>Playfoam</td>\n",
       "      <td>10.350640</td>\n",
       "      <td>1.478663</td>\n",
       "    </tr>\n",
       "    <tr>\n",
       "      <th>15</th>\n",
       "      <td>29</td>\n",
       "      <td>Plush Pony</td>\n",
       "      <td>11.330330</td>\n",
       "      <td>1.030030</td>\n",
       "    </tr>\n",
       "    <tr>\n",
       "      <th>16</th>\n",
       "      <td>31</td>\n",
       "      <td>Splash Balls</td>\n",
       "      <td>1.449698</td>\n",
       "      <td>1.449698</td>\n",
       "    </tr>\n",
       "    <tr>\n",
       "      <th>17</th>\n",
       "      <td>32</td>\n",
       "      <td>Supersoaker Water Gun</td>\n",
       "      <td>3.347405</td>\n",
       "      <td>1.115802</td>\n",
       "    </tr>\n",
       "    <tr>\n",
       "      <th>18</th>\n",
       "      <td>33</td>\n",
       "      <td>Teddy Bear</td>\n",
       "      <td>2.126616</td>\n",
       "      <td>1.063308</td>\n",
       "    </tr>\n",
       "    <tr>\n",
       "      <th>19</th>\n",
       "      <td>34</td>\n",
       "      <td>Toy Robot</td>\n",
       "      <td>5.597961</td>\n",
       "      <td>1.119592</td>\n",
       "    </tr>\n",
       "  </tbody>\n",
       "</table>\n",
       "</div>"
      ],
      "text/plain": [
       "    Product_ID           Product_Name     Profit     Units\n",
       "0            1          Action Figure   7.170505  1.195084\n",
       "1            2         Animal Figures   3.636186  1.212062\n",
       "2            3        Barrel O' Slime   3.390029  1.695015\n",
       "3            4       Chutes & Ladders   3.104595  1.034865\n",
       "4            5       Classic Dominoes   2.094636  1.047318\n",
       "5            9               Dino Egg   1.356801  1.356801\n",
       "6           11          Etch A Sketch  10.859438  1.085944\n",
       "7           12     Foam Disk Launcher   3.355843  1.118614\n",
       "8           13       Gamer Headphones   6.932252  1.155375\n",
       "9           14          Glass Marbles   7.654548  1.530910\n",
       "10          15      Hot Wheels 5-Pack   2.181267  1.090633\n",
       "11          16                  Jenga   7.525159  1.075023\n",
       "12          21     Mini Ping Pong Set   4.135368  1.378456\n",
       "13          23         Mr. Potatohead   5.501918  1.100384\n",
       "14          28               Playfoam  10.350640  1.478663\n",
       "15          29             Plush Pony  11.330330  1.030030\n",
       "16          31           Splash Balls   1.449698  1.449698\n",
       "17          32  Supersoaker Water Gun   3.347405  1.115802\n",
       "18          33             Teddy Bear   2.126616  1.063308\n",
       "19          34              Toy Robot   5.597961  1.119592"
      ]
     },
     "execution_count": 202,
     "metadata": {},
     "output_type": "execute_result"
    }
   ],
   "source": [
    "dummy7"
   ]
  },
  {
   "cell_type": "markdown",
   "id": "90998ac8",
   "metadata": {},
   "source": [
    "#The products which are out of stock in some stores and their average profit and average units sold from stores where they are available"
   ]
  },
  {
   "cell_type": "markdown",
   "id": "91048790",
   "metadata": {},
   "source": [
    "How much money is tied up in inventory at the toy stores? How long will it last?"
   ]
  },
  {
   "cell_type": "code",
   "execution_count": 203,
   "id": "da45d034",
   "metadata": {},
   "outputs": [
    {
     "data": {
      "text/plain": [
       "Total_Particular_Product_Cost     300209.58\n",
       "Total_Particular_Product_Price    410240.58\n",
       "dtype: float64"
      ]
     },
     "execution_count": 203,
     "metadata": {},
     "output_type": "execute_result"
    }
   ],
   "source": [
    "i[['Total_Particular_Product_Cost','Total_Particular_Product_Price']].sum()"
   ]
  },
  {
   "cell_type": "code",
   "execution_count": 204,
   "id": "68a5a73e",
   "metadata": {},
   "outputs": [],
   "source": [
    "#Total money tied up in inventory at toy stores"
   ]
  },
  {
   "cell_type": "code",
   "execution_count": 205,
   "id": "21048a88",
   "metadata": {},
   "outputs": [],
   "source": [
    "sales['Total_Cost']=sales['Product_Cost_Dollars']*sales['Units']\n",
    "sales['Total_Price']=sales['Product_Price_Dollars']*sales['Units']"
   ]
  },
  {
   "cell_type": "code",
   "execution_count": 206,
   "id": "4b1287d1",
   "metadata": {},
   "outputs": [
    {
     "data": {
      "text/html": [
       "<div>\n",
       "<style scoped>\n",
       "    .dataframe tbody tr th:only-of-type {\n",
       "        vertical-align: middle;\n",
       "    }\n",
       "\n",
       "    .dataframe tbody tr th {\n",
       "        vertical-align: top;\n",
       "    }\n",
       "\n",
       "    .dataframe thead th {\n",
       "        text-align: right;\n",
       "    }\n",
       "</style>\n",
       "<table border=\"1\" class=\"dataframe\">\n",
       "  <thead>\n",
       "    <tr style=\"text-align: right;\">\n",
       "      <th></th>\n",
       "      <th></th>\n",
       "      <th>Total_Cost</th>\n",
       "      <th>Total_Price</th>\n",
       "    </tr>\n",
       "    <tr>\n",
       "      <th>year</th>\n",
       "      <th>month</th>\n",
       "      <th></th>\n",
       "      <th></th>\n",
       "    </tr>\n",
       "  </thead>\n",
       "  <tbody>\n",
       "    <tr>\n",
       "      <th rowspan=\"12\" valign=\"top\">2017</th>\n",
       "      <th>1</th>\n",
       "      <td>375428.91</td>\n",
       "      <td>542554.91</td>\n",
       "    </tr>\n",
       "    <tr>\n",
       "      <th>2</th>\n",
       "      <td>379490.65</td>\n",
       "      <td>541351.65</td>\n",
       "    </tr>\n",
       "    <tr>\n",
       "      <th>3</th>\n",
       "      <td>415493.19</td>\n",
       "      <td>589485.19</td>\n",
       "    </tr>\n",
       "    <tr>\n",
       "      <th>4</th>\n",
       "      <td>490973.98</td>\n",
       "      <td>681072.98</td>\n",
       "    </tr>\n",
       "    <tr>\n",
       "      <th>5</th>\n",
       "      <td>485475.90</td>\n",
       "      <td>672369.90</td>\n",
       "    </tr>\n",
       "    <tr>\n",
       "      <th>6</th>\n",
       "      <td>472165.22</td>\n",
       "      <td>661980.22</td>\n",
       "    </tr>\n",
       "    <tr>\n",
       "      <th>7</th>\n",
       "      <td>379112.23</td>\n",
       "      <td>556034.23</td>\n",
       "    </tr>\n",
       "    <tr>\n",
       "      <th>8</th>\n",
       "      <td>330491.73</td>\n",
       "      <td>489422.73</td>\n",
       "    </tr>\n",
       "    <tr>\n",
       "      <th>9</th>\n",
       "      <td>419447.04</td>\n",
       "      <td>585844.04</td>\n",
       "    </tr>\n",
       "    <tr>\n",
       "      <th>10</th>\n",
       "      <td>445075.39</td>\n",
       "      <td>623874.39</td>\n",
       "    </tr>\n",
       "    <tr>\n",
       "      <th>11</th>\n",
       "      <td>468431.15</td>\n",
       "      <td>661304.15</td>\n",
       "    </tr>\n",
       "    <tr>\n",
       "      <th>12</th>\n",
       "      <td>631125.69</td>\n",
       "      <td>877203.69</td>\n",
       "    </tr>\n",
       "    <tr>\n",
       "      <th rowspan=\"9\" valign=\"top\">2018</th>\n",
       "      <th>1</th>\n",
       "      <td>542122.22</td>\n",
       "      <td>747196.22</td>\n",
       "    </tr>\n",
       "    <tr>\n",
       "      <th>2</th>\n",
       "      <td>533318.19</td>\n",
       "      <td>722632.19</td>\n",
       "    </tr>\n",
       "    <tr>\n",
       "      <th>3</th>\n",
       "      <td>651606.64</td>\n",
       "      <td>883515.64</td>\n",
       "    </tr>\n",
       "    <tr>\n",
       "      <th>4</th>\n",
       "      <td>612595.07</td>\n",
       "      <td>827691.07</td>\n",
       "    </tr>\n",
       "    <tr>\n",
       "      <th>5</th>\n",
       "      <td>614972.49</td>\n",
       "      <td>825319.49</td>\n",
       "    </tr>\n",
       "    <tr>\n",
       "      <th>6</th>\n",
       "      <td>601087.25</td>\n",
       "      <td>808299.25</td>\n",
       "    </tr>\n",
       "    <tr>\n",
       "      <th>7</th>\n",
       "      <td>618541.86</td>\n",
       "      <td>828348.86</td>\n",
       "    </tr>\n",
       "    <tr>\n",
       "      <th>8</th>\n",
       "      <td>485839.07</td>\n",
       "      <td>660877.07</td>\n",
       "    </tr>\n",
       "    <tr>\n",
       "      <th>9</th>\n",
       "      <td>477749.48</td>\n",
       "      <td>658194.48</td>\n",
       "    </tr>\n",
       "  </tbody>\n",
       "</table>\n",
       "</div>"
      ],
      "text/plain": [
       "            Total_Cost  Total_Price\n",
       "year month                         \n",
       "2017 1       375428.91    542554.91\n",
       "     2       379490.65    541351.65\n",
       "     3       415493.19    589485.19\n",
       "     4       490973.98    681072.98\n",
       "     5       485475.90    672369.90\n",
       "     6       472165.22    661980.22\n",
       "     7       379112.23    556034.23\n",
       "     8       330491.73    489422.73\n",
       "     9       419447.04    585844.04\n",
       "     10      445075.39    623874.39\n",
       "     11      468431.15    661304.15\n",
       "     12      631125.69    877203.69\n",
       "2018 1       542122.22    747196.22\n",
       "     2       533318.19    722632.19\n",
       "     3       651606.64    883515.64\n",
       "     4       612595.07    827691.07\n",
       "     5       614972.49    825319.49\n",
       "     6       601087.25    808299.25\n",
       "     7       618541.86    828348.86\n",
       "     8       485839.07    660877.07\n",
       "     9       477749.48    658194.48"
      ]
     },
     "execution_count": 206,
     "metadata": {},
     "output_type": "execute_result"
    }
   ],
   "source": [
    "sales.groupby(['year','month'])['Total_Cost','Total_Price'].sum()"
   ]
  },
  {
   "cell_type": "markdown",
   "id": "e4192d4b",
   "metadata": {},
   "source": [
    "#Total sales over the past years based on total units sold"
   ]
  },
  {
   "cell_type": "markdown",
   "id": "91d47e18",
   "metadata": {},
   "source": [
    "The inventory will last less than a month"
   ]
  },
  {
   "cell_type": "code",
   "execution_count": null,
   "id": "b3290ac0",
   "metadata": {},
   "outputs": [],
   "source": []
  }
 ],
 "metadata": {
  "kernelspec": {
   "display_name": "Python 3 (ipykernel)",
   "language": "python",
   "name": "python3"
  },
  "language_info": {
   "codemirror_mode": {
    "name": "ipython",
    "version": 3
   },
   "file_extension": ".py",
   "mimetype": "text/x-python",
   "name": "python",
   "nbconvert_exporter": "python",
   "pygments_lexer": "ipython3",
   "version": "3.9.7"
  }
 },
 "nbformat": 4,
 "nbformat_minor": 5
}
