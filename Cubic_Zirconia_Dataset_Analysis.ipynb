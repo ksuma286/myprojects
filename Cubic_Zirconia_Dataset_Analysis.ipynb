{
  "cells": [
    {
      "cell_type": "markdown",
      "metadata": {
        "id": "view-in-github",
        "colab_type": "text"
      },
      "source": [
        "<a href=\"https://colab.research.google.com/github/ksuma286/myprojects/blob/main/Cubic_Zirconia_Dataset_Analysis.ipynb\" target=\"_parent\"><img src=\"https://colab.research.google.com/assets/colab-badge.svg\" alt=\"Open In Colab\"/></a>"
      ]
    },
    {
      "cell_type": "code",
      "execution_count": null,
      "id": "ec2dffc4",
      "metadata": {
        "id": "ec2dffc4"
      },
      "outputs": [],
      "source": [
        "import pandas as pd"
      ]
    },
    {
      "cell_type": "code",
      "execution_count": null,
      "id": "f181fe62",
      "metadata": {
        "id": "f181fe62"
      },
      "outputs": [],
      "source": [
        "df=pd.read_csv('cubic_zirconia.csv')"
      ]
    },
    {
      "cell_type": "code",
      "execution_count": null,
      "id": "2066b9ad",
      "metadata": {
        "id": "2066b9ad",
        "outputId": "a9542d9f-11cd-413c-97a4-22f3959728b9"
      },
      "outputs": [
        {
          "data": {
            "text/html": [
              "<div>\n",
              "<style scoped>\n",
              "    .dataframe tbody tr th:only-of-type {\n",
              "        vertical-align: middle;\n",
              "    }\n",
              "\n",
              "    .dataframe tbody tr th {\n",
              "        vertical-align: top;\n",
              "    }\n",
              "\n",
              "    .dataframe thead th {\n",
              "        text-align: right;\n",
              "    }\n",
              "</style>\n",
              "<table border=\"1\" class=\"dataframe\">\n",
              "  <thead>\n",
              "    <tr style=\"text-align: right;\">\n",
              "      <th></th>\n",
              "      <th>Unnamed: 0</th>\n",
              "      <th>carat</th>\n",
              "      <th>cut</th>\n",
              "      <th>color</th>\n",
              "      <th>clarity</th>\n",
              "      <th>depth</th>\n",
              "      <th>table</th>\n",
              "      <th>x</th>\n",
              "      <th>y</th>\n",
              "      <th>z</th>\n",
              "      <th>price</th>\n",
              "    </tr>\n",
              "  </thead>\n",
              "  <tbody>\n",
              "    <tr>\n",
              "      <th>0</th>\n",
              "      <td>1</td>\n",
              "      <td>0.30</td>\n",
              "      <td>Ideal</td>\n",
              "      <td>E</td>\n",
              "      <td>SI1</td>\n",
              "      <td>62.1</td>\n",
              "      <td>58.0</td>\n",
              "      <td>4.27</td>\n",
              "      <td>4.29</td>\n",
              "      <td>2.66</td>\n",
              "      <td>499</td>\n",
              "    </tr>\n",
              "    <tr>\n",
              "      <th>1</th>\n",
              "      <td>2</td>\n",
              "      <td>0.33</td>\n",
              "      <td>Premium</td>\n",
              "      <td>G</td>\n",
              "      <td>IF</td>\n",
              "      <td>60.8</td>\n",
              "      <td>58.0</td>\n",
              "      <td>4.42</td>\n",
              "      <td>4.46</td>\n",
              "      <td>2.70</td>\n",
              "      <td>984</td>\n",
              "    </tr>\n",
              "    <tr>\n",
              "      <th>2</th>\n",
              "      <td>3</td>\n",
              "      <td>0.90</td>\n",
              "      <td>Very Good</td>\n",
              "      <td>E</td>\n",
              "      <td>VVS2</td>\n",
              "      <td>62.2</td>\n",
              "      <td>60.0</td>\n",
              "      <td>6.04</td>\n",
              "      <td>6.12</td>\n",
              "      <td>3.78</td>\n",
              "      <td>6289</td>\n",
              "    </tr>\n",
              "    <tr>\n",
              "      <th>3</th>\n",
              "      <td>4</td>\n",
              "      <td>0.42</td>\n",
              "      <td>Ideal</td>\n",
              "      <td>F</td>\n",
              "      <td>VS1</td>\n",
              "      <td>61.6</td>\n",
              "      <td>56.0</td>\n",
              "      <td>4.82</td>\n",
              "      <td>4.80</td>\n",
              "      <td>2.96</td>\n",
              "      <td>1082</td>\n",
              "    </tr>\n",
              "    <tr>\n",
              "      <th>4</th>\n",
              "      <td>5</td>\n",
              "      <td>0.31</td>\n",
              "      <td>Ideal</td>\n",
              "      <td>F</td>\n",
              "      <td>VVS1</td>\n",
              "      <td>60.4</td>\n",
              "      <td>59.0</td>\n",
              "      <td>4.35</td>\n",
              "      <td>4.43</td>\n",
              "      <td>2.65</td>\n",
              "      <td>779</td>\n",
              "    </tr>\n",
              "  </tbody>\n",
              "</table>\n",
              "</div>"
            ],
            "text/plain": [
              "   Unnamed: 0  carat        cut color clarity  depth  table     x     y     z  \\\n",
              "0           1   0.30      Ideal     E     SI1   62.1   58.0  4.27  4.29  2.66   \n",
              "1           2   0.33    Premium     G      IF   60.8   58.0  4.42  4.46  2.70   \n",
              "2           3   0.90  Very Good     E    VVS2   62.2   60.0  6.04  6.12  3.78   \n",
              "3           4   0.42      Ideal     F     VS1   61.6   56.0  4.82  4.80  2.96   \n",
              "4           5   0.31      Ideal     F    VVS1   60.4   59.0  4.35  4.43  2.65   \n",
              "\n",
              "   price  \n",
              "0    499  \n",
              "1    984  \n",
              "2   6289  \n",
              "3   1082  \n",
              "4    779  "
            ]
          },
          "execution_count": 5,
          "metadata": {},
          "output_type": "execute_result"
        }
      ],
      "source": [
        "df.head()"
      ]
    },
    {
      "cell_type": "code",
      "execution_count": null,
      "id": "c64818db",
      "metadata": {
        "id": "c64818db"
      },
      "outputs": [],
      "source": [
        "d=pd.read_excel('Data Dictionary.xlsx')"
      ]
    },
    {
      "cell_type": "markdown",
      "id": "138fdb9d",
      "metadata": {
        "id": "138fdb9d"
      },
      "source": [
        "#attribute description"
      ]
    },
    {
      "cell_type": "code",
      "execution_count": null,
      "id": "2d630f3c",
      "metadata": {
        "id": "2d630f3c",
        "outputId": "5150d684-4747-41d6-e3d7-8b708fb07223"
      },
      "outputs": [
        {
          "data": {
            "text/html": [
              "<div>\n",
              "<style scoped>\n",
              "    .dataframe tbody tr th:only-of-type {\n",
              "        vertical-align: middle;\n",
              "    }\n",
              "\n",
              "    .dataframe tbody tr th {\n",
              "        vertical-align: top;\n",
              "    }\n",
              "\n",
              "    .dataframe thead th {\n",
              "        text-align: right;\n",
              "    }\n",
              "</style>\n",
              "<table border=\"1\" class=\"dataframe\">\n",
              "  <thead>\n",
              "    <tr style=\"text-align: right;\">\n",
              "      <th></th>\n",
              "      <th>Variable Name</th>\n",
              "      <th>Description</th>\n",
              "    </tr>\n",
              "  </thead>\n",
              "  <tbody>\n",
              "    <tr>\n",
              "      <th>0</th>\n",
              "      <td>Carat</td>\n",
              "      <td>Carat weight of the cubic zirconia.</td>\n",
              "    </tr>\n",
              "    <tr>\n",
              "      <th>1</th>\n",
              "      <td>Cut</td>\n",
              "      <td>Describe the cut quality of the cubic zirconi...</td>\n",
              "    </tr>\n",
              "    <tr>\n",
              "      <th>2</th>\n",
              "      <td>Color</td>\n",
              "      <td>Colour of the cubic zirconia.With D being the...</td>\n",
              "    </tr>\n",
              "    <tr>\n",
              "      <th>3</th>\n",
              "      <td>Clarity</td>\n",
              "      <td>cubic zirconia Clarity refers to the absence ...</td>\n",
              "    </tr>\n",
              "    <tr>\n",
              "      <th>4</th>\n",
              "      <td>Depth</td>\n",
              "      <td>The Height of a cubic zirconia, measured from...</td>\n",
              "    </tr>\n",
              "    <tr>\n",
              "      <th>5</th>\n",
              "      <td>Table</td>\n",
              "      <td>The Width of the cubic zirconia's Table expre...</td>\n",
              "    </tr>\n",
              "    <tr>\n",
              "      <th>6</th>\n",
              "      <td>Price</td>\n",
              "      <td>the Price of the cubic zirconia.</td>\n",
              "    </tr>\n",
              "    <tr>\n",
              "      <th>7</th>\n",
              "      <td>X</td>\n",
              "      <td>Length of the cubic zirconia in mm.</td>\n",
              "    </tr>\n",
              "    <tr>\n",
              "      <th>8</th>\n",
              "      <td>Y</td>\n",
              "      <td>Width of the cubic zirconia in mm.</td>\n",
              "    </tr>\n",
              "    <tr>\n",
              "      <th>9</th>\n",
              "      <td>Z</td>\n",
              "      <td>Height of the cubic zirconia in mm.</td>\n",
              "    </tr>\n",
              "  </tbody>\n",
              "</table>\n",
              "</div>"
            ],
            "text/plain": [
              "  Variable Name                                        Description\n",
              "0         Carat                Carat weight of the cubic zirconia.\n",
              "1           Cut   Describe the cut quality of the cubic zirconi...\n",
              "2        Color    Colour of the cubic zirconia.With D being the...\n",
              "3       Clarity   cubic zirconia Clarity refers to the absence ...\n",
              "4         Depth   The Height of a cubic zirconia, measured from...\n",
              "5         Table   The Width of the cubic zirconia's Table expre...\n",
              "6         Price                   the Price of the cubic zirconia.\n",
              "7             X                Length of the cubic zirconia in mm.\n",
              "8             Y                 Width of the cubic zirconia in mm.\n",
              "9             Z                Height of the cubic zirconia in mm."
            ]
          },
          "execution_count": 8,
          "metadata": {},
          "output_type": "execute_result"
        }
      ],
      "source": [
        "d.head(12)"
      ]
    },
    {
      "cell_type": "code",
      "execution_count": null,
      "id": "ccff3a7f",
      "metadata": {
        "id": "ccff3a7f",
        "outputId": "143ac5fc-fac9-438c-f105-dc6265492557"
      },
      "outputs": [
        {
          "name": "stdout",
          "output_type": "stream",
          "text": [
            "<class 'pandas.core.frame.DataFrame'>\n",
            "Int64Index: 26965 entries, 2 to 26966\n",
            "Data columns (total 10 columns):\n",
            " #   Column   Non-Null Count  Dtype  \n",
            "---  ------   --------------  -----  \n",
            " 0   carat    26965 non-null  float64\n",
            " 1   cut      26965 non-null  object \n",
            " 2   color    26965 non-null  object \n",
            " 3   clarity  26965 non-null  object \n",
            " 4   depth    26268 non-null  float64\n",
            " 5   table    26965 non-null  float64\n",
            " 6   x        26965 non-null  float64\n",
            " 7   y        26965 non-null  float64\n",
            " 8   z        26965 non-null  float64\n",
            " 9   price    26965 non-null  int64  \n",
            "dtypes: float64(6), int64(1), object(3)\n",
            "memory usage: 3.3+ MB\n"
          ]
        }
      ],
      "source": [
        "df.info()"
      ]
    },
    {
      "cell_type": "code",
      "execution_count": null,
      "id": "72369635",
      "metadata": {
        "id": "72369635"
      },
      "outputs": [],
      "source": [
        "df1=df.iloc[:,1:]"
      ]
    },
    {
      "cell_type": "code",
      "execution_count": null,
      "id": "6b8ad54a",
      "metadata": {
        "id": "6b8ad54a",
        "outputId": "4ca2fe3f-b0b0-4bb2-f199-a5c2c0d9bc37"
      },
      "outputs": [
        {
          "data": {
            "text/html": [
              "<div>\n",
              "<style scoped>\n",
              "    .dataframe tbody tr th:only-of-type {\n",
              "        vertical-align: middle;\n",
              "    }\n",
              "\n",
              "    .dataframe tbody tr th {\n",
              "        vertical-align: top;\n",
              "    }\n",
              "\n",
              "    .dataframe thead th {\n",
              "        text-align: right;\n",
              "    }\n",
              "</style>\n",
              "<table border=\"1\" class=\"dataframe\">\n",
              "  <thead>\n",
              "    <tr style=\"text-align: right;\">\n",
              "      <th></th>\n",
              "      <th>Unnamed: 0</th>\n",
              "      <th>carat</th>\n",
              "      <th>cut</th>\n",
              "      <th>color</th>\n",
              "      <th>clarity</th>\n",
              "      <th>depth</th>\n",
              "      <th>table</th>\n",
              "      <th>x</th>\n",
              "      <th>y</th>\n",
              "      <th>z</th>\n",
              "      <th>price</th>\n",
              "    </tr>\n",
              "  </thead>\n",
              "  <tbody>\n",
              "    <tr>\n",
              "      <th>2</th>\n",
              "      <td>3</td>\n",
              "      <td>0.90</td>\n",
              "      <td>Very Good</td>\n",
              "      <td>E</td>\n",
              "      <td>VVS2</td>\n",
              "      <td>62.2</td>\n",
              "      <td>60.0</td>\n",
              "      <td>6.04</td>\n",
              "      <td>6.12</td>\n",
              "      <td>3.78</td>\n",
              "      <td>6289</td>\n",
              "    </tr>\n",
              "    <tr>\n",
              "      <th>3</th>\n",
              "      <td>4</td>\n",
              "      <td>0.42</td>\n",
              "      <td>Ideal</td>\n",
              "      <td>F</td>\n",
              "      <td>VS1</td>\n",
              "      <td>61.6</td>\n",
              "      <td>56.0</td>\n",
              "      <td>4.82</td>\n",
              "      <td>4.80</td>\n",
              "      <td>2.96</td>\n",
              "      <td>1082</td>\n",
              "    </tr>\n",
              "    <tr>\n",
              "      <th>4</th>\n",
              "      <td>5</td>\n",
              "      <td>0.31</td>\n",
              "      <td>Ideal</td>\n",
              "      <td>F</td>\n",
              "      <td>VVS1</td>\n",
              "      <td>60.4</td>\n",
              "      <td>59.0</td>\n",
              "      <td>4.35</td>\n",
              "      <td>4.43</td>\n",
              "      <td>2.65</td>\n",
              "      <td>779</td>\n",
              "    </tr>\n",
              "    <tr>\n",
              "      <th>5</th>\n",
              "      <td>6</td>\n",
              "      <td>1.02</td>\n",
              "      <td>Ideal</td>\n",
              "      <td>D</td>\n",
              "      <td>VS2</td>\n",
              "      <td>61.5</td>\n",
              "      <td>56.0</td>\n",
              "      <td>6.46</td>\n",
              "      <td>6.49</td>\n",
              "      <td>3.99</td>\n",
              "      <td>9502</td>\n",
              "    </tr>\n",
              "    <tr>\n",
              "      <th>6</th>\n",
              "      <td>7</td>\n",
              "      <td>1.01</td>\n",
              "      <td>Good</td>\n",
              "      <td>H</td>\n",
              "      <td>SI1</td>\n",
              "      <td>63.7</td>\n",
              "      <td>60.0</td>\n",
              "      <td>6.35</td>\n",
              "      <td>6.30</td>\n",
              "      <td>4.03</td>\n",
              "      <td>4836</td>\n",
              "    </tr>\n",
              "  </tbody>\n",
              "</table>\n",
              "</div>"
            ],
            "text/plain": [
              "   Unnamed: 0  carat        cut color clarity  depth  table     x     y     z  \\\n",
              "2           3   0.90  Very Good     E    VVS2   62.2   60.0  6.04  6.12  3.78   \n",
              "3           4   0.42      Ideal     F     VS1   61.6   56.0  4.82  4.80  2.96   \n",
              "4           5   0.31      Ideal     F    VVS1   60.4   59.0  4.35  4.43  2.65   \n",
              "5           6   1.02      Ideal     D     VS2   61.5   56.0  6.46  6.49  3.99   \n",
              "6           7   1.01       Good     H     SI1   63.7   60.0  6.35  6.30  4.03   \n",
              "\n",
              "   price  \n",
              "2   6289  \n",
              "3   1082  \n",
              "4    779  \n",
              "5   9502  \n",
              "6   4836  "
            ]
          },
          "execution_count": 12,
          "metadata": {},
          "output_type": "execute_result"
        }
      ],
      "source": [
        "df.head()"
      ]
    },
    {
      "cell_type": "code",
      "execution_count": null,
      "id": "06e65d7e",
      "metadata": {
        "id": "06e65d7e",
        "outputId": "d8c3440f-e904-471e-ec84-d85bed21c697"
      },
      "outputs": [
        {
          "data": {
            "text/plain": [
              "(26965, 11)"
            ]
          },
          "execution_count": 19,
          "metadata": {},
          "output_type": "execute_result"
        }
      ],
      "source": [
        "df.shape"
      ]
    },
    {
      "cell_type": "code",
      "execution_count": null,
      "id": "ab87092d",
      "metadata": {
        "id": "ab87092d",
        "outputId": "9422c91f-5262-4ea2-fba0-dd8b38a7bc38"
      },
      "outputs": [
        {
          "data": {
            "text/html": [
              "<div>\n",
              "<style scoped>\n",
              "    .dataframe tbody tr th:only-of-type {\n",
              "        vertical-align: middle;\n",
              "    }\n",
              "\n",
              "    .dataframe tbody tr th {\n",
              "        vertical-align: top;\n",
              "    }\n",
              "\n",
              "    .dataframe thead th {\n",
              "        text-align: right;\n",
              "    }\n",
              "</style>\n",
              "<table border=\"1\" class=\"dataframe\">\n",
              "  <thead>\n",
              "    <tr style=\"text-align: right;\">\n",
              "      <th></th>\n",
              "      <th>carat</th>\n",
              "      <th>cut</th>\n",
              "      <th>color</th>\n",
              "      <th>clarity</th>\n",
              "      <th>depth</th>\n",
              "      <th>table</th>\n",
              "      <th>x</th>\n",
              "      <th>y</th>\n",
              "      <th>z</th>\n",
              "      <th>price</th>\n",
              "    </tr>\n",
              "  </thead>\n",
              "  <tbody>\n",
              "    <tr>\n",
              "      <th>2</th>\n",
              "      <td>0.90</td>\n",
              "      <td>Very Good</td>\n",
              "      <td>E</td>\n",
              "      <td>VVS2</td>\n",
              "      <td>62.2</td>\n",
              "      <td>60.0</td>\n",
              "      <td>6.04</td>\n",
              "      <td>6.12</td>\n",
              "      <td>3.78</td>\n",
              "      <td>6289</td>\n",
              "    </tr>\n",
              "    <tr>\n",
              "      <th>3</th>\n",
              "      <td>0.42</td>\n",
              "      <td>Ideal</td>\n",
              "      <td>F</td>\n",
              "      <td>VS1</td>\n",
              "      <td>61.6</td>\n",
              "      <td>56.0</td>\n",
              "      <td>4.82</td>\n",
              "      <td>4.80</td>\n",
              "      <td>2.96</td>\n",
              "      <td>1082</td>\n",
              "    </tr>\n",
              "    <tr>\n",
              "      <th>4</th>\n",
              "      <td>0.31</td>\n",
              "      <td>Ideal</td>\n",
              "      <td>F</td>\n",
              "      <td>VVS1</td>\n",
              "      <td>60.4</td>\n",
              "      <td>59.0</td>\n",
              "      <td>4.35</td>\n",
              "      <td>4.43</td>\n",
              "      <td>2.65</td>\n",
              "      <td>779</td>\n",
              "    </tr>\n",
              "    <tr>\n",
              "      <th>5</th>\n",
              "      <td>1.02</td>\n",
              "      <td>Ideal</td>\n",
              "      <td>D</td>\n",
              "      <td>VS2</td>\n",
              "      <td>61.5</td>\n",
              "      <td>56.0</td>\n",
              "      <td>6.46</td>\n",
              "      <td>6.49</td>\n",
              "      <td>3.99</td>\n",
              "      <td>9502</td>\n",
              "    </tr>\n",
              "    <tr>\n",
              "      <th>6</th>\n",
              "      <td>1.01</td>\n",
              "      <td>Good</td>\n",
              "      <td>H</td>\n",
              "      <td>SI1</td>\n",
              "      <td>63.7</td>\n",
              "      <td>60.0</td>\n",
              "      <td>6.35</td>\n",
              "      <td>6.30</td>\n",
              "      <td>4.03</td>\n",
              "      <td>4836</td>\n",
              "    </tr>\n",
              "  </tbody>\n",
              "</table>\n",
              "</div>"
            ],
            "text/plain": [
              "   carat        cut color clarity  depth  table     x     y     z  price\n",
              "2   0.90  Very Good     E    VVS2   62.2   60.0  6.04  6.12  3.78   6289\n",
              "3   0.42      Ideal     F     VS1   61.6   56.0  4.82  4.80  2.96   1082\n",
              "4   0.31      Ideal     F    VVS1   60.4   59.0  4.35  4.43  2.65    779\n",
              "5   1.02      Ideal     D     VS2   61.5   56.0  6.46  6.49  3.99   9502\n",
              "6   1.01       Good     H     SI1   63.7   60.0  6.35  6.30  4.03   4836"
            ]
          },
          "execution_count": 18,
          "metadata": {},
          "output_type": "execute_result"
        }
      ],
      "source": [
        "df1.head()"
      ]
    },
    {
      "cell_type": "code",
      "execution_count": null,
      "id": "8f0dd1e8",
      "metadata": {
        "id": "8f0dd1e8",
        "outputId": "8f6285d4-6ddb-434e-9c66-fcbdcbb3e257"
      },
      "outputs": [
        {
          "data": {
            "text/plain": [
              "(26965, 10)"
            ]
          },
          "execution_count": 20,
          "metadata": {},
          "output_type": "execute_result"
        }
      ],
      "source": [
        "df1.shape"
      ]
    },
    {
      "cell_type": "code",
      "execution_count": null,
      "id": "cb20c907",
      "metadata": {
        "id": "cb20c907"
      },
      "outputs": [],
      "source": [
        "df=df1"
      ]
    },
    {
      "cell_type": "code",
      "execution_count": null,
      "id": "6ab08ddf",
      "metadata": {
        "id": "6ab08ddf",
        "outputId": "cdc039cb-77ff-4b92-9fcf-359dc29627fd"
      },
      "outputs": [
        {
          "data": {
            "text/html": [
              "<div>\n",
              "<style scoped>\n",
              "    .dataframe tbody tr th:only-of-type {\n",
              "        vertical-align: middle;\n",
              "    }\n",
              "\n",
              "    .dataframe tbody tr th {\n",
              "        vertical-align: top;\n",
              "    }\n",
              "\n",
              "    .dataframe thead th {\n",
              "        text-align: right;\n",
              "    }\n",
              "</style>\n",
              "<table border=\"1\" class=\"dataframe\">\n",
              "  <thead>\n",
              "    <tr style=\"text-align: right;\">\n",
              "      <th></th>\n",
              "      <th>carat</th>\n",
              "      <th>cut</th>\n",
              "      <th>color</th>\n",
              "      <th>clarity</th>\n",
              "      <th>depth</th>\n",
              "      <th>table</th>\n",
              "      <th>x</th>\n",
              "      <th>y</th>\n",
              "      <th>z</th>\n",
              "      <th>price</th>\n",
              "    </tr>\n",
              "  </thead>\n",
              "  <tbody>\n",
              "    <tr>\n",
              "      <th>2</th>\n",
              "      <td>0.90</td>\n",
              "      <td>Very Good</td>\n",
              "      <td>E</td>\n",
              "      <td>VVS2</td>\n",
              "      <td>62.2</td>\n",
              "      <td>60.0</td>\n",
              "      <td>6.04</td>\n",
              "      <td>6.12</td>\n",
              "      <td>3.78</td>\n",
              "      <td>6289</td>\n",
              "    </tr>\n",
              "    <tr>\n",
              "      <th>3</th>\n",
              "      <td>0.42</td>\n",
              "      <td>Ideal</td>\n",
              "      <td>F</td>\n",
              "      <td>VS1</td>\n",
              "      <td>61.6</td>\n",
              "      <td>56.0</td>\n",
              "      <td>4.82</td>\n",
              "      <td>4.80</td>\n",
              "      <td>2.96</td>\n",
              "      <td>1082</td>\n",
              "    </tr>\n",
              "    <tr>\n",
              "      <th>4</th>\n",
              "      <td>0.31</td>\n",
              "      <td>Ideal</td>\n",
              "      <td>F</td>\n",
              "      <td>VVS1</td>\n",
              "      <td>60.4</td>\n",
              "      <td>59.0</td>\n",
              "      <td>4.35</td>\n",
              "      <td>4.43</td>\n",
              "      <td>2.65</td>\n",
              "      <td>779</td>\n",
              "    </tr>\n",
              "    <tr>\n",
              "      <th>5</th>\n",
              "      <td>1.02</td>\n",
              "      <td>Ideal</td>\n",
              "      <td>D</td>\n",
              "      <td>VS2</td>\n",
              "      <td>61.5</td>\n",
              "      <td>56.0</td>\n",
              "      <td>6.46</td>\n",
              "      <td>6.49</td>\n",
              "      <td>3.99</td>\n",
              "      <td>9502</td>\n",
              "    </tr>\n",
              "    <tr>\n",
              "      <th>6</th>\n",
              "      <td>1.01</td>\n",
              "      <td>Good</td>\n",
              "      <td>H</td>\n",
              "      <td>SI1</td>\n",
              "      <td>63.7</td>\n",
              "      <td>60.0</td>\n",
              "      <td>6.35</td>\n",
              "      <td>6.30</td>\n",
              "      <td>4.03</td>\n",
              "      <td>4836</td>\n",
              "    </tr>\n",
              "  </tbody>\n",
              "</table>\n",
              "</div>"
            ],
            "text/plain": [
              "   carat        cut color clarity  depth  table     x     y     z  price\n",
              "2   0.90  Very Good     E    VVS2   62.2   60.0  6.04  6.12  3.78   6289\n",
              "3   0.42      Ideal     F     VS1   61.6   56.0  4.82  4.80  2.96   1082\n",
              "4   0.31      Ideal     F    VVS1   60.4   59.0  4.35  4.43  2.65    779\n",
              "5   1.02      Ideal     D     VS2   61.5   56.0  6.46  6.49  3.99   9502\n",
              "6   1.01       Good     H     SI1   63.7   60.0  6.35  6.30  4.03   4836"
            ]
          },
          "execution_count": 22,
          "metadata": {},
          "output_type": "execute_result"
        }
      ],
      "source": [
        "df.head()"
      ]
    },
    {
      "cell_type": "markdown",
      "id": "121552f9",
      "metadata": {
        "id": "121552f9"
      },
      "source": [
        "#removed Unamed 0 column"
      ]
    },
    {
      "cell_type": "markdown",
      "id": "cb74df36",
      "metadata": {
        "id": "cb74df36"
      },
      "source": [
        "#Basic statistics"
      ]
    },
    {
      "cell_type": "code",
      "execution_count": null,
      "id": "ac93ef9e",
      "metadata": {
        "id": "ac93ef9e",
        "outputId": "689f2efe-d9b5-49bf-92ec-d4e9ce911f0c"
      },
      "outputs": [
        {
          "data": {
            "text/html": [
              "<div>\n",
              "<style scoped>\n",
              "    .dataframe tbody tr th:only-of-type {\n",
              "        vertical-align: middle;\n",
              "    }\n",
              "\n",
              "    .dataframe tbody tr th {\n",
              "        vertical-align: top;\n",
              "    }\n",
              "\n",
              "    .dataframe thead th {\n",
              "        text-align: right;\n",
              "    }\n",
              "</style>\n",
              "<table border=\"1\" class=\"dataframe\">\n",
              "  <thead>\n",
              "    <tr style=\"text-align: right;\">\n",
              "      <th></th>\n",
              "      <th>carat</th>\n",
              "      <th>depth</th>\n",
              "      <th>table</th>\n",
              "      <th>x</th>\n",
              "      <th>y</th>\n",
              "      <th>z</th>\n",
              "      <th>price</th>\n",
              "    </tr>\n",
              "  </thead>\n",
              "  <tbody>\n",
              "    <tr>\n",
              "      <th>count</th>\n",
              "      <td>26965.000000</td>\n",
              "      <td>26268.000000</td>\n",
              "      <td>26965.000000</td>\n",
              "      <td>26965.000000</td>\n",
              "      <td>26965.000000</td>\n",
              "      <td>26965.000000</td>\n",
              "      <td>26965.000000</td>\n",
              "    </tr>\n",
              "    <tr>\n",
              "      <th>mean</th>\n",
              "      <td>0.798411</td>\n",
              "      <td>61.745169</td>\n",
              "      <td>57.456039</td>\n",
              "      <td>5.729956</td>\n",
              "      <td>5.733670</td>\n",
              "      <td>3.538121</td>\n",
              "      <td>3939.755312</td>\n",
              "    </tr>\n",
              "    <tr>\n",
              "      <th>std</th>\n",
              "      <td>0.477745</td>\n",
              "      <td>1.412900</td>\n",
              "      <td>2.232146</td>\n",
              "      <td>1.128495</td>\n",
              "      <td>1.166042</td>\n",
              "      <td>0.720612</td>\n",
              "      <td>4024.919146</td>\n",
              "    </tr>\n",
              "    <tr>\n",
              "      <th>min</th>\n",
              "      <td>0.200000</td>\n",
              "      <td>50.800000</td>\n",
              "      <td>49.000000</td>\n",
              "      <td>0.000000</td>\n",
              "      <td>0.000000</td>\n",
              "      <td>0.000000</td>\n",
              "      <td>326.000000</td>\n",
              "    </tr>\n",
              "    <tr>\n",
              "      <th>25%</th>\n",
              "      <td>0.400000</td>\n",
              "      <td>61.000000</td>\n",
              "      <td>56.000000</td>\n",
              "      <td>4.710000</td>\n",
              "      <td>4.720000</td>\n",
              "      <td>2.900000</td>\n",
              "      <td>945.000000</td>\n",
              "    </tr>\n",
              "    <tr>\n",
              "      <th>50%</th>\n",
              "      <td>0.700000</td>\n",
              "      <td>61.800000</td>\n",
              "      <td>57.000000</td>\n",
              "      <td>5.690000</td>\n",
              "      <td>5.710000</td>\n",
              "      <td>3.520000</td>\n",
              "      <td>2375.000000</td>\n",
              "    </tr>\n",
              "    <tr>\n",
              "      <th>75%</th>\n",
              "      <td>1.050000</td>\n",
              "      <td>62.500000</td>\n",
              "      <td>59.000000</td>\n",
              "      <td>6.550000</td>\n",
              "      <td>6.540000</td>\n",
              "      <td>4.040000</td>\n",
              "      <td>5361.000000</td>\n",
              "    </tr>\n",
              "    <tr>\n",
              "      <th>max</th>\n",
              "      <td>4.500000</td>\n",
              "      <td>73.600000</td>\n",
              "      <td>79.000000</td>\n",
              "      <td>10.230000</td>\n",
              "      <td>58.900000</td>\n",
              "      <td>31.800000</td>\n",
              "      <td>18818.000000</td>\n",
              "    </tr>\n",
              "  </tbody>\n",
              "</table>\n",
              "</div>"
            ],
            "text/plain": [
              "              carat         depth         table             x             y  \\\n",
              "count  26965.000000  26268.000000  26965.000000  26965.000000  26965.000000   \n",
              "mean       0.798411     61.745169     57.456039      5.729956      5.733670   \n",
              "std        0.477745      1.412900      2.232146      1.128495      1.166042   \n",
              "min        0.200000     50.800000     49.000000      0.000000      0.000000   \n",
              "25%        0.400000     61.000000     56.000000      4.710000      4.720000   \n",
              "50%        0.700000     61.800000     57.000000      5.690000      5.710000   \n",
              "75%        1.050000     62.500000     59.000000      6.550000      6.540000   \n",
              "max        4.500000     73.600000     79.000000     10.230000     58.900000   \n",
              "\n",
              "                  z         price  \n",
              "count  26965.000000  26965.000000  \n",
              "mean       3.538121   3939.755312  \n",
              "std        0.720612   4024.919146  \n",
              "min        0.000000    326.000000  \n",
              "25%        2.900000    945.000000  \n",
              "50%        3.520000   2375.000000  \n",
              "75%        4.040000   5361.000000  \n",
              "max       31.800000  18818.000000  "
            ]
          },
          "execution_count": 32,
          "metadata": {},
          "output_type": "execute_result"
        }
      ],
      "source": [
        "df.describe()"
      ]
    },
    {
      "cell_type": "code",
      "execution_count": null,
      "id": "37a13ade",
      "metadata": {
        "id": "37a13ade",
        "outputId": "46b0ea50-08c8-4d97-f53c-26ebf3c7057d"
      },
      "outputs": [
        {
          "data": {
            "text/plain": [
              "carat        0\n",
              "cut          0\n",
              "color        0\n",
              "clarity      0\n",
              "depth      697\n",
              "table        0\n",
              "x            0\n",
              "y            0\n",
              "z            0\n",
              "price        0\n",
              "dtype: int64"
            ]
          },
          "execution_count": 30,
          "metadata": {},
          "output_type": "execute_result"
        }
      ],
      "source": [
        "df.isnull().sum()"
      ]
    },
    {
      "cell_type": "code",
      "execution_count": null,
      "id": "8b5120fd",
      "metadata": {
        "id": "8b5120fd"
      },
      "outputs": [],
      "source": [
        "df['depth'].fillna(df['depth'].mean(),inplace=True)"
      ]
    },
    {
      "cell_type": "code",
      "execution_count": null,
      "id": "41ea16f6",
      "metadata": {
        "id": "41ea16f6",
        "outputId": "47c4393c-6a88-4bb5-d2f1-93e3ab6ed9f7"
      },
      "outputs": [
        {
          "data": {
            "text/plain": [
              "carat      0\n",
              "cut        0\n",
              "color      0\n",
              "clarity    0\n",
              "depth      0\n",
              "table      0\n",
              "x          0\n",
              "y          0\n",
              "z          0\n",
              "price      0\n",
              "dtype: int64"
            ]
          },
          "execution_count": 36,
          "metadata": {},
          "output_type": "execute_result"
        }
      ],
      "source": [
        "df.isnull().sum()"
      ]
    },
    {
      "cell_type": "markdown",
      "id": "5943e864",
      "metadata": {
        "id": "5943e864"
      },
      "source": [
        "#imputed depth null values with depth mean value,there are no null values in data set"
      ]
    },
    {
      "cell_type": "code",
      "execution_count": null,
      "id": "52c5b880",
      "metadata": {
        "id": "52c5b880"
      },
      "outputs": [],
      "source": [
        "corr=df.corr()"
      ]
    },
    {
      "cell_type": "code",
      "execution_count": null,
      "id": "0a5dde35",
      "metadata": {
        "id": "0a5dde35"
      },
      "outputs": [],
      "source": [
        "import seaborn as sns\n",
        "import matplotlib.pyplot as plt"
      ]
    },
    {
      "cell_type": "code",
      "execution_count": null,
      "id": "a23c3809",
      "metadata": {
        "id": "a23c3809",
        "outputId": "bf51d42c-d2e3-4816-e2c8-f1b18c3320ec"
      },
      "outputs": [
        {
          "data": {
            "text/plain": [
              "Text(0.5, 1.0, 'Heatmap')"
            ]
          },
          "execution_count": 47,
          "metadata": {},
          "output_type": "execute_result"
        },
        {
          "data": {
            "image/png": "[encoded data removed]",
            "text/plain": [
              "<Figure size 432x288 with 2 Axes>"
            ]
          },
          "metadata": {
            "needs_background": "light"
          },
          "output_type": "display_data"
        }
      ],
      "source": [
        "sns.heatmap(corr,cmap='plasma')\n",
        "plt.title('Heatmap')"
      ]
    },
    {
      "cell_type": "markdown",
      "id": "55692779",
      "metadata": {
        "id": "55692779"
      },
      "source": [
        "#Numeric attributes carat,x,y,z attribues have a corelation with price\n"
      ]
    },
    {
      "cell_type": "code",
      "execution_count": null,
      "id": "947ed2f8",
      "metadata": {
        "id": "947ed2f8",
        "outputId": "07910704-d4c2-4e74-8737-f22e54633258"
      },
      "outputs": [
        {
          "data": {
            "text/html": [
              "<div>\n",
              "<style scoped>\n",
              "    .dataframe tbody tr th:only-of-type {\n",
              "        vertical-align: middle;\n",
              "    }\n",
              "\n",
              "    .dataframe tbody tr th {\n",
              "        vertical-align: top;\n",
              "    }\n",
              "\n",
              "    .dataframe thead th {\n",
              "        text-align: right;\n",
              "    }\n",
              "</style>\n",
              "<table border=\"1\" class=\"dataframe\">\n",
              "  <thead>\n",
              "    <tr style=\"text-align: right;\">\n",
              "      <th></th>\n",
              "      <th>price</th>\n",
              "      <th>depth</th>\n",
              "      <th>table</th>\n",
              "    </tr>\n",
              "  </thead>\n",
              "  <tbody>\n",
              "    <tr>\n",
              "      <th>price</th>\n",
              "      <td>1.000000</td>\n",
              "      <td>-0.002544</td>\n",
              "      <td>0.126960</td>\n",
              "    </tr>\n",
              "    <tr>\n",
              "      <th>depth</th>\n",
              "      <td>-0.002544</td>\n",
              "      <td>1.000000</td>\n",
              "      <td>-0.293964</td>\n",
              "    </tr>\n",
              "    <tr>\n",
              "      <th>table</th>\n",
              "      <td>0.126960</td>\n",
              "      <td>-0.293964</td>\n",
              "      <td>1.000000</td>\n",
              "    </tr>\n",
              "  </tbody>\n",
              "</table>\n",
              "</div>"
            ],
            "text/plain": [
              "          price     depth     table\n",
              "price  1.000000 -0.002544  0.126960\n",
              "depth -0.002544  1.000000 -0.293964\n",
              "table  0.126960 -0.293964  1.000000"
            ]
          },
          "execution_count": 89,
          "metadata": {},
          "output_type": "execute_result"
        }
      ],
      "source": [
        "df[['price','depth','table']].corr()"
      ]
    },
    {
      "cell_type": "markdown",
      "id": "0af9e1aa",
      "metadata": {
        "id": "0af9e1aa"
      },
      "source": [
        "#table and depth have very weak corelation with price and they cannot be determining features for price"
      ]
    },
    {
      "cell_type": "code",
      "execution_count": null,
      "id": "45739323",
      "metadata": {
        "id": "45739323"
      },
      "outputs": [],
      "source": [
        "from scipy import stats as s"
      ]
    },
    {
      "cell_type": "code",
      "execution_count": null,
      "id": "9ab50fb7",
      "metadata": {
        "id": "9ab50fb7",
        "outputId": "3ecac86f-e483-4bca-9386-8dd6dbd60e04"
      },
      "outputs": [
        {
          "data": {
            "text/plain": [
              "<AxesSubplot:xlabel='carat', ylabel='price'>"
            ]
          },
          "execution_count": 63,
          "metadata": {},
          "output_type": "execute_result"
        },
        {
          "data": {
            "image/png": "[encoded data removed]",
            "text/plain": [
              "<Figure size 432x288 with 1 Axes>"
            ]
          },
          "metadata": {
            "needs_background": "light"
          },
          "output_type": "display_data"
        }
      ],
      "source": [
        "sns.regplot(x='carat',y='price',data=df)"
      ]
    },
    {
      "cell_type": "code",
      "execution_count": null,
      "id": "06cae163",
      "metadata": {
        "id": "06cae163"
      },
      "outputs": [],
      "source": [
        "pearson_coef,p_value=s.pearsonr(df['carat'],df['price'])"
      ]
    },
    {
      "cell_type": "code",
      "execution_count": null,
      "id": "f9c67aed",
      "metadata": {
        "id": "f9c67aed",
        "outputId": "7e7bed1d-a3d0-4ba3-f6ba-b081d1edc2c1"
      },
      "outputs": [
        {
          "name": "stdout",
          "output_type": "stream",
          "text": [
            "The pearson coefficient is  0.9224131148021141  and the p_value is  0.0\n"
          ]
        }
      ],
      "source": [
        "print('The pearson coefficient is ',pearson_coef,' and the p_value is ',p_value)"
      ]
    },
    {
      "cell_type": "markdown",
      "id": "f179410d",
      "metadata": {
        "id": "f179410d"
      },
      "source": [
        "#The corelation between carat and price is positive and strong and since the value is <0.001 the corelation is statistically significant,therefore carat can be used as a determining feature of price"
      ]
    },
    {
      "cell_type": "code",
      "execution_count": null,
      "id": "da0681fd",
      "metadata": {
        "id": "da0681fd",
        "outputId": "d768ebfe-0a49-48fd-bdaa-61bb7c0a4535"
      },
      "outputs": [
        {
          "data": {
            "text/plain": [
              "<AxesSubplot:xlabel='x', ylabel='price'>"
            ]
          },
          "execution_count": 74,
          "metadata": {},
          "output_type": "execute_result"
        },
        {
          "data": {
            "image/png": "[encoded data removed]",
            "text/plain": [
              "<Figure size 432x288 with 1 Axes>"
            ]
          },
          "metadata": {
            "needs_background": "light"
          },
          "output_type": "display_data"
        }
      ],
      "source": [
        "sns.regplot(x='x',y='price',data=df)"
      ]
    },
    {
      "cell_type": "code",
      "execution_count": null,
      "id": "9abe3d9d",
      "metadata": {
        "id": "9abe3d9d"
      },
      "outputs": [],
      "source": [
        "pearson_coef,p_value=s.pearsonr(df['x'],df['price'])"
      ]
    },
    {
      "cell_type": "code",
      "execution_count": null,
      "id": "d4563fed",
      "metadata": {
        "id": "d4563fed",
        "outputId": "c1af2d7b-4984-41cc-e6ca-b28610deb936"
      },
      "outputs": [
        {
          "name": "stdout",
          "output_type": "stream",
          "text": [
            "The pearson coefficient is  0.8862450701487873  and the p_value is  0.0\n"
          ]
        }
      ],
      "source": [
        "print('The pearson coefficient is ',pearson_coef,' and the p_value is ',p_value)"
      ]
    },
    {
      "cell_type": "markdown",
      "id": "62d070e7",
      "metadata": {
        "id": "62d070e7"
      },
      "source": [
        "#The corelation between x and price is positive and strong and since the value is <0.001 the corelation is statistically significant,therefore x can be used as a determining feature of price"
      ]
    },
    {
      "cell_type": "code",
      "execution_count": null,
      "id": "0bb3eb7b",
      "metadata": {
        "id": "0bb3eb7b",
        "outputId": "e8e352ab-095d-484c-a599-4b087b2552c0"
      },
      "outputs": [
        {
          "data": {
            "text/plain": [
              "<AxesSubplot:xlabel='y', ylabel='price'>"
            ]
          },
          "execution_count": 80,
          "metadata": {},
          "output_type": "execute_result"
        },
        {
          "data": {
            "image/png": "[encoded data removed]",
            "text/plain": [
              "<Figure size 432x288 with 1 Axes>"
            ]
          },
          "metadata": {
            "needs_background": "light"
          },
          "output_type": "display_data"
        }
      ],
      "source": [
        "sns.regplot(x='y',y='price',data=df)"
      ]
    },
    {
      "cell_type": "code",
      "execution_count": null,
      "id": "afe89f49",
      "metadata": {
        "id": "afe89f49"
      },
      "outputs": [],
      "source": [
        "pearson_coef,p_value=s.pearsonr(df['y'],df['price'])"
      ]
    },
    {
      "cell_type": "code",
      "execution_count": null,
      "id": "9d6599f0",
      "metadata": {
        "id": "9d6599f0",
        "outputId": "45037843-c8b3-47b2-e2aa-d10b9b8894f9"
      },
      "outputs": [
        {
          "name": "stdout",
          "output_type": "stream",
          "text": [
            "The pearson coefficient is  0.8562369876518685  and the p_value is  0.0\n"
          ]
        }
      ],
      "source": [
        "print('The pearson coefficient is ',pearson_coef,' and the p_value is ',p_value)"
      ]
    },
    {
      "cell_type": "markdown",
      "id": "a3cb3bcc",
      "metadata": {
        "id": "a3cb3bcc"
      },
      "source": [
        "#The corelation between y and price is positive and strong and since the value is <0.001 the corelation is statistically significant,therefore y can be used as a determining feature of price"
      ]
    },
    {
      "cell_type": "code",
      "execution_count": null,
      "id": "be0414ff",
      "metadata": {
        "id": "be0414ff",
        "outputId": "6a6746b6-4bc2-49bc-cbcd-a8a8867259ee"
      },
      "outputs": [
        {
          "data": {
            "text/plain": [
              "<AxesSubplot:xlabel='z', ylabel='price'>"
            ]
          },
          "execution_count": 83,
          "metadata": {},
          "output_type": "execute_result"
        },
        {
          "data": {
            "image/png": "[encoded data removed]",
            "text/plain": [
              "<Figure size 432x288 with 1 Axes>"
            ]
          },
          "metadata": {
            "needs_background": "light"
          },
          "output_type": "display_data"
        }
      ],
      "source": [
        "sns.regplot(x='z',y='price',data=df)"
      ]
    },
    {
      "cell_type": "code",
      "execution_count": null,
      "id": "0bd9c742",
      "metadata": {
        "id": "0bd9c742"
      },
      "outputs": [],
      "source": [
        "pearson_coef,p_value=s.pearsonr(df['z'],df['price'])"
      ]
    },
    {
      "cell_type": "code",
      "execution_count": null,
      "id": "fff236f9",
      "metadata": {
        "id": "fff236f9",
        "outputId": "9c428a94-8ba6-498c-ae32-cf6417efc196"
      },
      "outputs": [
        {
          "name": "stdout",
          "output_type": "stream",
          "text": [
            "The pearson coefficient is  0.850530606935394  and the p_value is  0.0\n"
          ]
        }
      ],
      "source": [
        "print('The pearson coefficient is ',pearson_coef,' and the p_value is ',p_value)"
      ]
    },
    {
      "cell_type": "markdown",
      "id": "7884b9c1",
      "metadata": {
        "id": "7884b9c1"
      },
      "source": [
        "#The corelation between z and price is positive and strong and since the value is <0.001 the corelation is statistically significant,therefore z can be used as a determining feature of price"
      ]
    },
    {
      "cell_type": "markdown",
      "id": "16c3c11d",
      "metadata": {
        "id": "16c3c11d"
      },
      "source": [
        "#Basic statistics for categorical attributes"
      ]
    },
    {
      "cell_type": "code",
      "execution_count": null,
      "id": "1212b9f7",
      "metadata": {
        "id": "1212b9f7",
        "outputId": "5bab5940-aefe-4574-ff96-bbf55a63bb92"
      },
      "outputs": [
        {
          "data": {
            "text/html": [
              "<div>\n",
              "<style scoped>\n",
              "    .dataframe tbody tr th:only-of-type {\n",
              "        vertical-align: middle;\n",
              "    }\n",
              "\n",
              "    .dataframe tbody tr th {\n",
              "        vertical-align: top;\n",
              "    }\n",
              "\n",
              "    .dataframe thead th {\n",
              "        text-align: right;\n",
              "    }\n",
              "</style>\n",
              "<table border=\"1\" class=\"dataframe\">\n",
              "  <thead>\n",
              "    <tr style=\"text-align: right;\">\n",
              "      <th></th>\n",
              "      <th>cut</th>\n",
              "      <th>color</th>\n",
              "      <th>clarity</th>\n",
              "    </tr>\n",
              "  </thead>\n",
              "  <tbody>\n",
              "    <tr>\n",
              "      <th>count</th>\n",
              "      <td>26965</td>\n",
              "      <td>26965</td>\n",
              "      <td>26965</td>\n",
              "    </tr>\n",
              "    <tr>\n",
              "      <th>unique</th>\n",
              "      <td>5</td>\n",
              "      <td>7</td>\n",
              "      <td>8</td>\n",
              "    </tr>\n",
              "    <tr>\n",
              "      <th>top</th>\n",
              "      <td>Ideal</td>\n",
              "      <td>G</td>\n",
              "      <td>SI1</td>\n",
              "    </tr>\n",
              "    <tr>\n",
              "      <th>freq</th>\n",
              "      <td>10815</td>\n",
              "      <td>5660</td>\n",
              "      <td>6570</td>\n",
              "    </tr>\n",
              "  </tbody>\n",
              "</table>\n",
              "</div>"
            ],
            "text/plain": [
              "          cut  color clarity\n",
              "count   26965  26965   26965\n",
              "unique      5      7       8\n",
              "top     Ideal      G     SI1\n",
              "freq    10815   5660    6570"
            ]
          },
          "execution_count": 52,
          "metadata": {},
          "output_type": "execute_result"
        }
      ],
      "source": [
        "df.describe(include='object')"
      ]
    },
    {
      "cell_type": "code",
      "execution_count": null,
      "id": "6e51fdf2",
      "metadata": {
        "id": "6e51fdf2",
        "outputId": "a8a44369-c44b-466f-ba57-c361aa7bfbcb"
      },
      "outputs": [
        {
          "data": {
            "text/plain": [
              "<AxesSubplot:xlabel='cut', ylabel='price'>"
            ]
          },
          "execution_count": 54,
          "metadata": {},
          "output_type": "execute_result"
        },
        {
          "data": {
            "image/png": "[encoded data removed]",
            "text/plain": [
              "<Figure size 432x288 with 1 Axes>"
            ]
          },
          "metadata": {
            "needs_background": "light"
          },
          "output_type": "display_data"
        }
      ],
      "source": [
        "sns.boxplot(x='cut',y='price',data=df)"
      ]
    },
    {
      "cell_type": "code",
      "execution_count": null,
      "id": "8b44e631",
      "metadata": {
        "id": "8b44e631",
        "outputId": "df6e6d88-1d3c-47bc-9f5f-c33c279c4faf"
      },
      "outputs": [
        {
          "data": {
            "text/plain": [
              "Ideal        10815\n",
              "Premium       6898\n",
              "Very Good     6030\n",
              "Good          2441\n",
              "Fair           781\n",
              "Name: cut, dtype: int64"
            ]
          },
          "execution_count": 55,
          "metadata": {},
          "output_type": "execute_result"
        }
      ],
      "source": [
        "df['cut'].value_counts()"
      ]
    },
    {
      "cell_type": "markdown",
      "id": "a7a035b0",
      "metadata": {
        "id": "a7a035b0"
      },
      "source": [
        "#There is an overlap of price distribution across different categories of cut ,so cut  cannot be used as an effective feature for price prediction"
      ]
    },
    {
      "cell_type": "code",
      "execution_count": null,
      "id": "c95f6b1e",
      "metadata": {
        "id": "c95f6b1e",
        "outputId": "c26ed14b-a613-43df-8659-0a6c4378e4e2"
      },
      "outputs": [
        {
          "data": {
            "text/plain": [
              "<AxesSubplot:xlabel='clarity', ylabel='price'>"
            ]
          },
          "execution_count": 57,
          "metadata": {},
          "output_type": "execute_result"
        },
        {
          "data": {
            "image/png": "[encoded data removed]",
            "text/plain": [
              "<Figure size 432x288 with 1 Axes>"
            ]
          },
          "metadata": {
            "needs_background": "light"
          },
          "output_type": "display_data"
        }
      ],
      "source": [
        "sns.boxplot(x='clarity',y='price',data=df)"
      ]
    },
    {
      "cell_type": "markdown",
      "id": "f1ea151d",
      "metadata": {
        "id": "f1ea151d"
      },
      "source": [
        "#There is an overlap of price distribution across different categories of clarity ,so clarity cannot be used as an effective feature for price prediction"
      ]
    },
    {
      "cell_type": "code",
      "execution_count": null,
      "id": "43dfc638",
      "metadata": {
        "id": "43dfc638",
        "outputId": "f49ab8f0-f080-4616-f424-4cba49071f81"
      },
      "outputs": [
        {
          "data": {
            "text/plain": [
              "<AxesSubplot:xlabel='color', ylabel='price'>"
            ]
          },
          "execution_count": 58,
          "metadata": {},
          "output_type": "execute_result"
        },
        {
          "data": {
            "image/png": "[encoded data removed]",
            "text/plain": [
              "<Figure size 432x288 with 1 Axes>"
            ]
          },
          "metadata": {
            "needs_background": "light"
          },
          "output_type": "display_data"
        }
      ],
      "source": [
        "sns.boxplot(x='color',y='price',data=df)"
      ]
    },
    {
      "cell_type": "markdown",
      "id": "b6cb854d",
      "metadata": {
        "id": "b6cb854d"
      },
      "source": [
        "#There is an overlap of price distribution across different categories of color ,so color cannot be used as an effective feature for price prediction"
      ]
    },
    {
      "cell_type": "markdown",
      "id": "580d7d4a",
      "metadata": {
        "id": "580d7d4a"
      },
      "source": [
        "#Multiple Linear Regression\n",
        "#attributes for independent variables carat,x,y,z\n",
        "#price dependent variable"
      ]
    },
    {
      "cell_type": "code",
      "execution_count": null,
      "id": "ab17f4de",
      "metadata": {
        "id": "ab17f4de"
      },
      "outputs": [],
      "source": [
        "X=df[['carat','x','y','z']]\n",
        "Y=df['price']"
      ]
    },
    {
      "cell_type": "code",
      "execution_count": null,
      "id": "671aef11",
      "metadata": {
        "id": "671aef11"
      },
      "outputs": [],
      "source": [
        "from sklearn.model_selection import train_test_split"
      ]
    },
    {
      "cell_type": "code",
      "execution_count": null,
      "id": "847da149",
      "metadata": {
        "id": "847da149"
      },
      "outputs": [],
      "source": [
        "x_train,x_test,y_train,y_test=train_test_split(X,Y,test_size=0.2,random_state=0)"
      ]
    },
    {
      "cell_type": "code",
      "execution_count": null,
      "id": "1ab06a46",
      "metadata": {
        "id": "1ab06a46"
      },
      "outputs": [],
      "source": [
        "from sklearn.linear_model import LinearRegression "
      ]
    },
    {
      "cell_type": "code",
      "execution_count": null,
      "id": "bacaa47a",
      "metadata": {
        "id": "bacaa47a"
      },
      "outputs": [],
      "source": [
        "lm=LinearRegression()"
      ]
    },
    {
      "cell_type": "code",
      "execution_count": null,
      "id": "4e264d0c",
      "metadata": {
        "id": "4e264d0c",
        "outputId": "4e86e6be-ca65-48b6-bcf7-84ae058e130a"
      },
      "outputs": [
        {
          "data": {
            "text/plain": [
              "LinearRegression()"
            ]
          },
          "execution_count": 98,
          "metadata": {},
          "output_type": "execute_result"
        }
      ],
      "source": [
        "lm.fit(x_train,y_train)"
      ]
    },
    {
      "cell_type": "code",
      "execution_count": null,
      "id": "70c4bd18",
      "metadata": {
        "id": "70c4bd18"
      },
      "outputs": [],
      "source": [
        "Y_predict=lm.predict(x_test)"
      ]
    },
    {
      "cell_type": "code",
      "execution_count": null,
      "id": "c0506448",
      "metadata": {
        "id": "c0506448",
        "outputId": "2131a588-6547-4515-8558-19e370a696de"
      },
      "outputs": [
        {
          "data": {
            "text/plain": [
              "array([5991.68727318, 2951.84298745, 3059.97392206, 1732.359476  ,\n",
              "       2902.93407701])"
            ]
          },
          "execution_count": 100,
          "metadata": {},
          "output_type": "execute_result"
        }
      ],
      "source": [
        "Y_predict[0:5]"
      ]
    },
    {
      "cell_type": "code",
      "execution_count": null,
      "id": "31537a3e",
      "metadata": {
        "id": "31537a3e"
      },
      "outputs": [],
      "source": [
        "from sklearn.metrics import r2_score"
      ]
    },
    {
      "cell_type": "code",
      "execution_count": null,
      "id": "924cbe3b",
      "metadata": {
        "id": "924cbe3b",
        "outputId": "8a910f34-376e-4db7-da58-5c64230e8d11"
      },
      "outputs": [
        {
          "name": "stdout",
          "output_type": "stream",
          "text": [
            "The accuracy of prediction is: 84.36835440821851\n"
          ]
        }
      ],
      "source": [
        "print('The accuracy of prediction is:',r2_score(Y_predict,y_test)*100)"
      ]
    },
    {
      "cell_type": "code",
      "execution_count": null,
      "id": "a254eb89",
      "metadata": {
        "id": "a254eb89",
        "outputId": "0a37cc34-a8be-4478-e5c2-e03050c697aa"
      },
      "outputs": [
        {
          "name": "stderr",
          "output_type": "stream",
          "text": [
            "/Users/sumakari/opt/anaconda3/lib/python3.9/site-packages/seaborn/distributions.py:2619: FutureWarning: `distplot` is a deprecated function and will be removed in a future version. Please adapt your code to use either `displot` (a figure-level function with similar flexibility) or `kdeplot` (an axes-level function for kernel density plots).\n",
            "  warnings.warn(msg, FutureWarning)\n",
            "/Users/sumakari/opt/anaconda3/lib/python3.9/site-packages/seaborn/distributions.py:2619: FutureWarning: `distplot` is a deprecated function and will be removed in a future version. Please adapt your code to use either `displot` (a figure-level function with similar flexibility) or `kdeplot` (an axes-level function for kernel density plots).\n",
            "  warnings.warn(msg, FutureWarning)\n"
          ]
        },
        {
          "data": {
            "text/plain": [
              "Text(0.5, 1.0, 'Actual Versus Predicted Price')"
            ]
          },
          "execution_count": 108,
          "metadata": {},
          "output_type": "execute_result"
        },
        {
          "data": {
            "image/png": "[encoded data removed]",
            "text/plain": [
              "<Figure size 432x288 with 1 Axes>"
            ]
          },
          "metadata": {
            "needs_background": "light"
          },
          "output_type": "display_data"
        }
      ],
      "source": [
        "ax1=sns.distplot(y_test,hist=False,label='Actual Values of Price',color='red')\n",
        "sns.distplot(Y_predict,hist=False,label='Predicted Values of Price',color='blue',ax=ax1)\n",
        "plt.title('Actual Versus Predicted Price')"
      ]
    },
    {
      "cell_type": "code",
      "execution_count": null,
      "id": "636e1a7d",
      "metadata": {
        "id": "636e1a7d"
      },
      "outputs": [],
      "source": []
    }
  ],
  "metadata": {
    "kernelspec": {
      "display_name": "Python 3 (ipykernel)",
      "language": "python",
      "name": "python3"
    },
    "language_info": {
      "codemirror_mode": {
        "name": "ipython",
        "version": 3
      },
      "file_extension": ".py",
      "mimetype": "text/x-python",
      "name": "python",
      "nbconvert_exporter": "python",
      "pygments_lexer": "ipython3",
      "version": "3.9.7"
    },
    "colab": {
      "provenance": [],
      "include_colab_link": true
    }
  },
  "nbformat": 4,
  "nbformat_minor": 5
}