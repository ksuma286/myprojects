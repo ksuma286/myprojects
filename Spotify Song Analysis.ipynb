{
 "cells": [
  {
   "cell_type": "markdown",
   "id": "426488bc",
   "metadata": {},
   "source": [
    "Spotify Top 100\n",
    "Top 100 songs in 2018, based on Spotify streaming data, including name, artist and key attributes (danceability, energy, loudness, mode, speechiness, acousticness, etc)\n",
    "\n",
    "(Source: Spotify)\n",
    "\n",
    "(License: Public Domain)\n",
    "\n",
    "Recommended Analysis\n",
    "\n",
    "Which artists had the most Top 100 songs?\n",
    "\n",
    "Are there more artists in the Top 100 with 'Lil' in their name, or with 'DJ' in their name?\n",
    "\n",
    "Which song attributes are most strongly correlated? What attributes seem to have very little correlation?\n",
    "\n",
    "Which attributes have the most variability? Which tend to be the most similar among the Top 100 songs?\n",
    "\n"
   ]
  },
  {
   "cell_type": "code",
   "execution_count": 1,
   "id": "102ef42d",
   "metadata": {},
   "outputs": [],
   "source": [
    "import pandas as pd"
   ]
  },
  {
   "cell_type": "code",
   "execution_count": 2,
   "id": "d593351d",
   "metadata": {},
   "outputs": [],
   "source": [
    "df=pd.read_csv('top2018.csv')"
   ]
  },
  {
   "cell_type": "code",
   "execution_count": 3,
   "id": "f3cb1c4f",
   "metadata": {},
   "outputs": [
    {
     "data": {
      "text/html": [
       "<div>\n",
       "<style scoped>\n",
       "    .dataframe tbody tr th:only-of-type {\n",
       "        vertical-align: middle;\n",
       "    }\n",
       "\n",
       "    .dataframe tbody tr th {\n",
       "        vertical-align: top;\n",
       "    }\n",
       "\n",
       "    .dataframe thead th {\n",
       "        text-align: right;\n",
       "    }\n",
       "</style>\n",
       "<table border=\"1\" class=\"dataframe\">\n",
       "  <thead>\n",
       "    <tr style=\"text-align: right;\">\n",
       "      <th></th>\n",
       "      <th>id</th>\n",
       "      <th>name</th>\n",
       "      <th>artists</th>\n",
       "      <th>danceability</th>\n",
       "      <th>energy</th>\n",
       "      <th>key</th>\n",
       "      <th>loudness</th>\n",
       "      <th>mode</th>\n",
       "      <th>speechiness</th>\n",
       "      <th>acousticness</th>\n",
       "      <th>instrumentalness</th>\n",
       "      <th>liveness</th>\n",
       "      <th>valence</th>\n",
       "      <th>tempo</th>\n",
       "      <th>duration_ms</th>\n",
       "      <th>time_signature</th>\n",
       "    </tr>\n",
       "  </thead>\n",
       "  <tbody>\n",
       "    <tr>\n",
       "      <th>0</th>\n",
       "      <td>6DCZcSspjsKoFjzjrWoCd</td>\n",
       "      <td>God's Plan</td>\n",
       "      <td>Drake</td>\n",
       "      <td>0.754</td>\n",
       "      <td>0.449</td>\n",
       "      <td>7.0</td>\n",
       "      <td>-9.211</td>\n",
       "      <td>1.0</td>\n",
       "      <td>0.1090</td>\n",
       "      <td>0.0332</td>\n",
       "      <td>0.000083</td>\n",
       "      <td>0.552</td>\n",
       "      <td>0.357</td>\n",
       "      <td>77.169</td>\n",
       "      <td>198973.0</td>\n",
       "      <td>4.0</td>\n",
       "    </tr>\n",
       "    <tr>\n",
       "      <th>1</th>\n",
       "      <td>3ee8Jmje8o58CHK66QrVC</td>\n",
       "      <td>SAD!</td>\n",
       "      <td>XXXTENTACION</td>\n",
       "      <td>0.740</td>\n",
       "      <td>0.613</td>\n",
       "      <td>8.0</td>\n",
       "      <td>-4.880</td>\n",
       "      <td>1.0</td>\n",
       "      <td>0.1450</td>\n",
       "      <td>0.2580</td>\n",
       "      <td>0.003720</td>\n",
       "      <td>0.123</td>\n",
       "      <td>0.473</td>\n",
       "      <td>75.023</td>\n",
       "      <td>166606.0</td>\n",
       "      <td>4.0</td>\n",
       "    </tr>\n",
       "    <tr>\n",
       "      <th>2</th>\n",
       "      <td>0e7ipj03S05BNilyu5bRz</td>\n",
       "      <td>rockstar (feat. 21 Savage)</td>\n",
       "      <td>Post Malone</td>\n",
       "      <td>0.587</td>\n",
       "      <td>0.535</td>\n",
       "      <td>5.0</td>\n",
       "      <td>-6.090</td>\n",
       "      <td>0.0</td>\n",
       "      <td>0.0898</td>\n",
       "      <td>0.1170</td>\n",
       "      <td>0.000066</td>\n",
       "      <td>0.131</td>\n",
       "      <td>0.140</td>\n",
       "      <td>159.847</td>\n",
       "      <td>218147.0</td>\n",
       "      <td>4.0</td>\n",
       "    </tr>\n",
       "    <tr>\n",
       "      <th>3</th>\n",
       "      <td>3swc6WTsr7rl9DqQKQA55</td>\n",
       "      <td>Psycho (feat. Ty Dolla $ign)</td>\n",
       "      <td>Post Malone</td>\n",
       "      <td>0.739</td>\n",
       "      <td>0.559</td>\n",
       "      <td>8.0</td>\n",
       "      <td>-8.011</td>\n",
       "      <td>1.0</td>\n",
       "      <td>0.1170</td>\n",
       "      <td>0.5800</td>\n",
       "      <td>0.000000</td>\n",
       "      <td>0.112</td>\n",
       "      <td>0.439</td>\n",
       "      <td>140.124</td>\n",
       "      <td>221440.0</td>\n",
       "      <td>4.0</td>\n",
       "    </tr>\n",
       "    <tr>\n",
       "      <th>4</th>\n",
       "      <td>2G7V7zsVDxg1yRsu7Ew9R</td>\n",
       "      <td>In My Feelings</td>\n",
       "      <td>Drake</td>\n",
       "      <td>0.835</td>\n",
       "      <td>0.626</td>\n",
       "      <td>1.0</td>\n",
       "      <td>-5.833</td>\n",
       "      <td>1.0</td>\n",
       "      <td>0.1250</td>\n",
       "      <td>0.0589</td>\n",
       "      <td>0.000060</td>\n",
       "      <td>0.396</td>\n",
       "      <td>0.350</td>\n",
       "      <td>91.030</td>\n",
       "      <td>217925.0</td>\n",
       "      <td>4.0</td>\n",
       "    </tr>\n",
       "  </tbody>\n",
       "</table>\n",
       "</div>"
      ],
      "text/plain": [
       "                      id                          name       artists  \\\n",
       "0  6DCZcSspjsKoFjzjrWoCd                    God's Plan         Drake   \n",
       "1  3ee8Jmje8o58CHK66QrVC                          SAD!  XXXTENTACION   \n",
       "2  0e7ipj03S05BNilyu5bRz    rockstar (feat. 21 Savage)   Post Malone   \n",
       "3  3swc6WTsr7rl9DqQKQA55  Psycho (feat. Ty Dolla $ign)   Post Malone   \n",
       "4  2G7V7zsVDxg1yRsu7Ew9R                In My Feelings         Drake   \n",
       "\n",
       "   danceability  energy  key  loudness  mode  speechiness  acousticness  \\\n",
       "0         0.754   0.449  7.0    -9.211   1.0       0.1090        0.0332   \n",
       "1         0.740   0.613  8.0    -4.880   1.0       0.1450        0.2580   \n",
       "2         0.587   0.535  5.0    -6.090   0.0       0.0898        0.1170   \n",
       "3         0.739   0.559  8.0    -8.011   1.0       0.1170        0.5800   \n",
       "4         0.835   0.626  1.0    -5.833   1.0       0.1250        0.0589   \n",
       "\n",
       "   instrumentalness  liveness  valence    tempo  duration_ms  time_signature  \n",
       "0          0.000083     0.552    0.357   77.169     198973.0             4.0  \n",
       "1          0.003720     0.123    0.473   75.023     166606.0             4.0  \n",
       "2          0.000066     0.131    0.140  159.847     218147.0             4.0  \n",
       "3          0.000000     0.112    0.439  140.124     221440.0             4.0  \n",
       "4          0.000060     0.396    0.350   91.030     217925.0             4.0  "
      ]
     },
     "execution_count": 3,
     "metadata": {},
     "output_type": "execute_result"
    }
   ],
   "source": [
    "df.head()"
   ]
  },
  {
   "cell_type": "code",
   "execution_count": 4,
   "id": "d912b598",
   "metadata": {},
   "outputs": [
    {
     "data": {
      "text/plain": [
       "(100, 16)"
      ]
     },
     "execution_count": 4,
     "metadata": {},
     "output_type": "execute_result"
    }
   ],
   "source": [
    "df.shape"
   ]
  },
  {
   "cell_type": "code",
   "execution_count": 5,
   "id": "7b2c070f",
   "metadata": {},
   "outputs": [
    {
     "data": {
      "text/plain": [
       "id                  0\n",
       "name                0\n",
       "artists             0\n",
       "danceability        0\n",
       "energy              0\n",
       "key                 0\n",
       "loudness            0\n",
       "mode                0\n",
       "speechiness         0\n",
       "acousticness        0\n",
       "instrumentalness    0\n",
       "liveness            0\n",
       "valence             0\n",
       "tempo               0\n",
       "duration_ms         0\n",
       "time_signature      0\n",
       "dtype: int64"
      ]
     },
     "execution_count": 5,
     "metadata": {},
     "output_type": "execute_result"
    }
   ],
   "source": [
    "df.isnull().sum()"
   ]
  },
  {
   "cell_type": "code",
   "execution_count": 6,
   "id": "9d8d5506",
   "metadata": {},
   "outputs": [
    {
     "data": {
      "text/plain": [
       "0"
      ]
     },
     "execution_count": 6,
     "metadata": {},
     "output_type": "execute_result"
    }
   ],
   "source": [
    "df.duplicated().sum()"
   ]
  },
  {
   "cell_type": "code",
   "execution_count": 7,
   "id": "ddd66043",
   "metadata": {},
   "outputs": [
    {
     "data": {
      "text/html": [
       "<div>\n",
       "<style scoped>\n",
       "    .dataframe tbody tr th:only-of-type {\n",
       "        vertical-align: middle;\n",
       "    }\n",
       "\n",
       "    .dataframe tbody tr th {\n",
       "        vertical-align: top;\n",
       "    }\n",
       "\n",
       "    .dataframe thead th {\n",
       "        text-align: right;\n",
       "    }\n",
       "</style>\n",
       "<table border=\"1\" class=\"dataframe\">\n",
       "  <thead>\n",
       "    <tr style=\"text-align: right;\">\n",
       "      <th></th>\n",
       "      <th>danceability</th>\n",
       "      <th>energy</th>\n",
       "      <th>key</th>\n",
       "      <th>loudness</th>\n",
       "      <th>mode</th>\n",
       "      <th>speechiness</th>\n",
       "      <th>acousticness</th>\n",
       "      <th>instrumentalness</th>\n",
       "      <th>liveness</th>\n",
       "      <th>valence</th>\n",
       "      <th>tempo</th>\n",
       "      <th>duration_ms</th>\n",
       "      <th>time_signature</th>\n",
       "    </tr>\n",
       "  </thead>\n",
       "  <tbody>\n",
       "    <tr>\n",
       "      <th>count</th>\n",
       "      <td>100.00000</td>\n",
       "      <td>100.000000</td>\n",
       "      <td>100.000000</td>\n",
       "      <td>100.000000</td>\n",
       "      <td>100.000000</td>\n",
       "      <td>100.000000</td>\n",
       "      <td>100.000000</td>\n",
       "      <td>100.000000</td>\n",
       "      <td>100.000000</td>\n",
       "      <td>100.000000</td>\n",
       "      <td>100.000000</td>\n",
       "      <td>100.000000</td>\n",
       "      <td>100.00</td>\n",
       "    </tr>\n",
       "    <tr>\n",
       "      <th>mean</th>\n",
       "      <td>0.71646</td>\n",
       "      <td>0.659060</td>\n",
       "      <td>5.330000</td>\n",
       "      <td>-5.677640</td>\n",
       "      <td>0.590000</td>\n",
       "      <td>0.115569</td>\n",
       "      <td>0.195701</td>\n",
       "      <td>0.001584</td>\n",
       "      <td>0.158302</td>\n",
       "      <td>0.484443</td>\n",
       "      <td>119.904180</td>\n",
       "      <td>205206.780000</td>\n",
       "      <td>3.98</td>\n",
       "    </tr>\n",
       "    <tr>\n",
       "      <th>std</th>\n",
       "      <td>0.13107</td>\n",
       "      <td>0.145067</td>\n",
       "      <td>3.676447</td>\n",
       "      <td>1.777577</td>\n",
       "      <td>0.494311</td>\n",
       "      <td>0.104527</td>\n",
       "      <td>0.220946</td>\n",
       "      <td>0.013449</td>\n",
       "      <td>0.111662</td>\n",
       "      <td>0.206145</td>\n",
       "      <td>28.795984</td>\n",
       "      <td>40007.893404</td>\n",
       "      <td>0.20</td>\n",
       "    </tr>\n",
       "    <tr>\n",
       "      <th>min</th>\n",
       "      <td>0.25800</td>\n",
       "      <td>0.296000</td>\n",
       "      <td>0.000000</td>\n",
       "      <td>-10.109000</td>\n",
       "      <td>0.000000</td>\n",
       "      <td>0.023200</td>\n",
       "      <td>0.000282</td>\n",
       "      <td>0.000000</td>\n",
       "      <td>0.021500</td>\n",
       "      <td>0.079600</td>\n",
       "      <td>64.934000</td>\n",
       "      <td>95467.000000</td>\n",
       "      <td>3.00</td>\n",
       "    </tr>\n",
       "    <tr>\n",
       "      <th>25%</th>\n",
       "      <td>0.63550</td>\n",
       "      <td>0.562000</td>\n",
       "      <td>1.750000</td>\n",
       "      <td>-6.650500</td>\n",
       "      <td>0.000000</td>\n",
       "      <td>0.045350</td>\n",
       "      <td>0.040225</td>\n",
       "      <td>0.000000</td>\n",
       "      <td>0.094675</td>\n",
       "      <td>0.341000</td>\n",
       "      <td>95.730750</td>\n",
       "      <td>184680.000000</td>\n",
       "      <td>4.00</td>\n",
       "    </tr>\n",
       "    <tr>\n",
       "      <th>50%</th>\n",
       "      <td>0.73300</td>\n",
       "      <td>0.678000</td>\n",
       "      <td>5.000000</td>\n",
       "      <td>-5.566500</td>\n",
       "      <td>1.000000</td>\n",
       "      <td>0.074950</td>\n",
       "      <td>0.109000</td>\n",
       "      <td>0.000000</td>\n",
       "      <td>0.118500</td>\n",
       "      <td>0.470500</td>\n",
       "      <td>120.116000</td>\n",
       "      <td>205047.500000</td>\n",
       "      <td>4.00</td>\n",
       "    </tr>\n",
       "    <tr>\n",
       "      <th>75%</th>\n",
       "      <td>0.79825</td>\n",
       "      <td>0.772250</td>\n",
       "      <td>8.250000</td>\n",
       "      <td>-4.363750</td>\n",
       "      <td>1.000000</td>\n",
       "      <td>0.137000</td>\n",
       "      <td>0.247750</td>\n",
       "      <td>0.000031</td>\n",
       "      <td>0.170750</td>\n",
       "      <td>0.641500</td>\n",
       "      <td>140.022750</td>\n",
       "      <td>221493.250000</td>\n",
       "      <td>4.00</td>\n",
       "    </tr>\n",
       "    <tr>\n",
       "      <th>max</th>\n",
       "      <td>0.96400</td>\n",
       "      <td>0.909000</td>\n",
       "      <td>11.000000</td>\n",
       "      <td>-2.384000</td>\n",
       "      <td>1.000000</td>\n",
       "      <td>0.530000</td>\n",
       "      <td>0.934000</td>\n",
       "      <td>0.134000</td>\n",
       "      <td>0.636000</td>\n",
       "      <td>0.931000</td>\n",
       "      <td>198.075000</td>\n",
       "      <td>417920.000000</td>\n",
       "      <td>5.00</td>\n",
       "    </tr>\n",
       "  </tbody>\n",
       "</table>\n",
       "</div>"
      ],
      "text/plain": [
       "       danceability      energy         key    loudness        mode  \\\n",
       "count     100.00000  100.000000  100.000000  100.000000  100.000000   \n",
       "mean        0.71646    0.659060    5.330000   -5.677640    0.590000   \n",
       "std         0.13107    0.145067    3.676447    1.777577    0.494311   \n",
       "min         0.25800    0.296000    0.000000  -10.109000    0.000000   \n",
       "25%         0.63550    0.562000    1.750000   -6.650500    0.000000   \n",
       "50%         0.73300    0.678000    5.000000   -5.566500    1.000000   \n",
       "75%         0.79825    0.772250    8.250000   -4.363750    1.000000   \n",
       "max         0.96400    0.909000   11.000000   -2.384000    1.000000   \n",
       "\n",
       "       speechiness  acousticness  instrumentalness    liveness     valence  \\\n",
       "count   100.000000    100.000000        100.000000  100.000000  100.000000   \n",
       "mean      0.115569      0.195701          0.001584    0.158302    0.484443   \n",
       "std       0.104527      0.220946          0.013449    0.111662    0.206145   \n",
       "min       0.023200      0.000282          0.000000    0.021500    0.079600   \n",
       "25%       0.045350      0.040225          0.000000    0.094675    0.341000   \n",
       "50%       0.074950      0.109000          0.000000    0.118500    0.470500   \n",
       "75%       0.137000      0.247750          0.000031    0.170750    0.641500   \n",
       "max       0.530000      0.934000          0.134000    0.636000    0.931000   \n",
       "\n",
       "            tempo    duration_ms  time_signature  \n",
       "count  100.000000     100.000000          100.00  \n",
       "mean   119.904180  205206.780000            3.98  \n",
       "std     28.795984   40007.893404            0.20  \n",
       "min     64.934000   95467.000000            3.00  \n",
       "25%     95.730750  184680.000000            4.00  \n",
       "50%    120.116000  205047.500000            4.00  \n",
       "75%    140.022750  221493.250000            4.00  \n",
       "max    198.075000  417920.000000            5.00  "
      ]
     },
     "execution_count": 7,
     "metadata": {},
     "output_type": "execute_result"
    }
   ],
   "source": [
    "df.describe()"
   ]
  },
  {
   "cell_type": "code",
   "execution_count": 8,
   "id": "06787cc4",
   "metadata": {},
   "outputs": [
    {
     "data": {
      "text/html": [
       "<div>\n",
       "<style scoped>\n",
       "    .dataframe tbody tr th:only-of-type {\n",
       "        vertical-align: middle;\n",
       "    }\n",
       "\n",
       "    .dataframe tbody tr th {\n",
       "        vertical-align: top;\n",
       "    }\n",
       "\n",
       "    .dataframe thead th {\n",
       "        text-align: right;\n",
       "    }\n",
       "</style>\n",
       "<table border=\"1\" class=\"dataframe\">\n",
       "  <thead>\n",
       "    <tr style=\"text-align: right;\">\n",
       "      <th></th>\n",
       "      <th>id</th>\n",
       "      <th>name</th>\n",
       "      <th>artists</th>\n",
       "    </tr>\n",
       "  </thead>\n",
       "  <tbody>\n",
       "    <tr>\n",
       "      <th>count</th>\n",
       "      <td>100</td>\n",
       "      <td>100</td>\n",
       "      <td>100</td>\n",
       "    </tr>\n",
       "    <tr>\n",
       "      <th>unique</th>\n",
       "      <td>100</td>\n",
       "      <td>100</td>\n",
       "      <td>70</td>\n",
       "    </tr>\n",
       "    <tr>\n",
       "      <th>top</th>\n",
       "      <td>6DCZcSspjsKoFjzjrWoCd</td>\n",
       "      <td>God's Plan</td>\n",
       "      <td>Post Malone</td>\n",
       "    </tr>\n",
       "    <tr>\n",
       "      <th>freq</th>\n",
       "      <td>1</td>\n",
       "      <td>1</td>\n",
       "      <td>6</td>\n",
       "    </tr>\n",
       "  </tbody>\n",
       "</table>\n",
       "</div>"
      ],
      "text/plain": [
       "                           id        name      artists\n",
       "count                     100         100          100\n",
       "unique                    100         100           70\n",
       "top     6DCZcSspjsKoFjzjrWoCd  God's Plan  Post Malone\n",
       "freq                        1           1            6"
      ]
     },
     "execution_count": 8,
     "metadata": {},
     "output_type": "execute_result"
    }
   ],
   "source": [
    "df.describe(include='object')"
   ]
  },
  {
   "cell_type": "markdown",
   "id": "2644c6a0",
   "metadata": {},
   "source": [
    "Which artists had the most Top 100 songs?\n"
   ]
  },
  {
   "cell_type": "code",
   "execution_count": 15,
   "id": "e746d98b",
   "metadata": {},
   "outputs": [],
   "source": [
    "dm1=df.groupby('artists')['name'].count().sort_values(ascending=False).reset_index(name='Number of Songs')"
   ]
  },
  {
   "cell_type": "code",
   "execution_count": 18,
   "id": "94a53049",
   "metadata": {},
   "outputs": [
    {
     "data": {
      "text/html": [
       "<div>\n",
       "<style scoped>\n",
       "    .dataframe tbody tr th:only-of-type {\n",
       "        vertical-align: middle;\n",
       "    }\n",
       "\n",
       "    .dataframe tbody tr th {\n",
       "        vertical-align: top;\n",
       "    }\n",
       "\n",
       "    .dataframe thead th {\n",
       "        text-align: right;\n",
       "    }\n",
       "</style>\n",
       "<table border=\"1\" class=\"dataframe\">\n",
       "  <thead>\n",
       "    <tr style=\"text-align: right;\">\n",
       "      <th></th>\n",
       "      <th>artists</th>\n",
       "      <th>Number of Songs</th>\n",
       "    </tr>\n",
       "  </thead>\n",
       "  <tbody>\n",
       "    <tr>\n",
       "      <th>0</th>\n",
       "      <td>Post Malone</td>\n",
       "      <td>6</td>\n",
       "    </tr>\n",
       "    <tr>\n",
       "      <th>1</th>\n",
       "      <td>XXXTENTACION</td>\n",
       "      <td>6</td>\n",
       "    </tr>\n",
       "    <tr>\n",
       "      <th>2</th>\n",
       "      <td>Drake</td>\n",
       "      <td>4</td>\n",
       "    </tr>\n",
       "    <tr>\n",
       "      <th>3</th>\n",
       "      <td>Ed Sheeran</td>\n",
       "      <td>3</td>\n",
       "    </tr>\n",
       "    <tr>\n",
       "      <th>4</th>\n",
       "      <td>Marshmello</td>\n",
       "      <td>3</td>\n",
       "    </tr>\n",
       "  </tbody>\n",
       "</table>\n",
       "</div>"
      ],
      "text/plain": [
       "        artists  Number of Songs\n",
       "0   Post Malone                6\n",
       "1  XXXTENTACION                6\n",
       "2         Drake                4\n",
       "3    Ed Sheeran                3\n",
       "4    Marshmello                3"
      ]
     },
     "execution_count": 18,
     "metadata": {},
     "output_type": "execute_result"
    }
   ],
   "source": [
    "dm1.head(5)"
   ]
  },
  {
   "cell_type": "markdown",
   "id": "5eed07c7",
   "metadata": {},
   "source": [
    "Are there more artists in the Top 100 with 'Lil' in their name, or with 'DJ' in their name?"
   ]
  },
  {
   "cell_type": "code",
   "execution_count": 29,
   "id": "987a7c89",
   "metadata": {},
   "outputs": [],
   "source": [
    "dm2=df[df['artists'].str.contains('Lil')]"
   ]
  },
  {
   "cell_type": "code",
   "execution_count": 30,
   "id": "a2a35008",
   "metadata": {},
   "outputs": [],
   "source": [
    "dm3=df[df['artists'].str.contains('DJ')]"
   ]
  },
  {
   "cell_type": "code",
   "execution_count": 32,
   "id": "04d3d09e",
   "metadata": {},
   "outputs": [
    {
     "name": "stdout",
     "output_type": "stream",
     "text": [
      "Number of artists with in Top 100 with Lil in their name: 3\n"
     ]
    }
   ],
   "source": [
    "print('Number of artists with in Top 100 with Lil in their name:',len(dm2))"
   ]
  },
  {
   "cell_type": "code",
   "execution_count": 33,
   "id": "11a71cbb",
   "metadata": {},
   "outputs": [
    {
     "name": "stdout",
     "output_type": "stream",
     "text": [
      "Number of artists with in Top 100 with DJ in their name: 2\n"
     ]
    }
   ],
   "source": [
    "print('Number of artists with in Top 100 with DJ in their name:',len(dm3))"
   ]
  },
  {
   "cell_type": "markdown",
   "id": "d0b04801",
   "metadata": {},
   "source": [
    "Which song attributes are most strongly correlated? What attributes seem to have very little correlation?"
   ]
  },
  {
   "cell_type": "code",
   "execution_count": 34,
   "id": "584a946f",
   "metadata": {},
   "outputs": [],
   "source": [
    "import seaborn as sns"
   ]
  },
  {
   "cell_type": "code",
   "execution_count": 35,
   "id": "6d021d39",
   "metadata": {},
   "outputs": [],
   "source": [
    "corr=df.corr()"
   ]
  },
  {
   "cell_type": "code",
   "execution_count": 37,
   "id": "7bb268a5",
   "metadata": {},
   "outputs": [
    {
     "data": {
      "text/html": [
       "<div>\n",
       "<style scoped>\n",
       "    .dataframe tbody tr th:only-of-type {\n",
       "        vertical-align: middle;\n",
       "    }\n",
       "\n",
       "    .dataframe tbody tr th {\n",
       "        vertical-align: top;\n",
       "    }\n",
       "\n",
       "    .dataframe thead th {\n",
       "        text-align: right;\n",
       "    }\n",
       "</style>\n",
       "<table border=\"1\" class=\"dataframe\">\n",
       "  <thead>\n",
       "    <tr style=\"text-align: right;\">\n",
       "      <th></th>\n",
       "      <th>danceability</th>\n",
       "      <th>energy</th>\n",
       "      <th>key</th>\n",
       "      <th>loudness</th>\n",
       "      <th>mode</th>\n",
       "      <th>speechiness</th>\n",
       "      <th>acousticness</th>\n",
       "      <th>instrumentalness</th>\n",
       "      <th>liveness</th>\n",
       "      <th>valence</th>\n",
       "      <th>tempo</th>\n",
       "      <th>duration_ms</th>\n",
       "      <th>time_signature</th>\n",
       "    </tr>\n",
       "  </thead>\n",
       "  <tbody>\n",
       "    <tr>\n",
       "      <th>danceability</th>\n",
       "      <td>1.000000</td>\n",
       "      <td>-0.072582</td>\n",
       "      <td>-0.051759</td>\n",
       "      <td>0.015517</td>\n",
       "      <td>-0.058019</td>\n",
       "      <td>0.227075</td>\n",
       "      <td>-0.134374</td>\n",
       "      <td>-0.066592</td>\n",
       "      <td>-0.038761</td>\n",
       "      <td>0.413855</td>\n",
       "      <td>-0.195012</td>\n",
       "      <td>-0.068368</td>\n",
       "      <td>0.119421</td>\n",
       "    </tr>\n",
       "    <tr>\n",
       "      <th>energy</th>\n",
       "      <td>-0.072582</td>\n",
       "      <td>1.000000</td>\n",
       "      <td>-0.136345</td>\n",
       "      <td>0.732719</td>\n",
       "      <td>-0.117555</td>\n",
       "      <td>-0.073591</td>\n",
       "      <td>-0.421209</td>\n",
       "      <td>0.093684</td>\n",
       "      <td>0.050542</td>\n",
       "      <td>0.382434</td>\n",
       "      <td>0.062272</td>\n",
       "      <td>0.073017</td>\n",
       "      <td>0.255235</td>\n",
       "    </tr>\n",
       "    <tr>\n",
       "      <th>key</th>\n",
       "      <td>-0.051759</td>\n",
       "      <td>-0.136345</td>\n",
       "      <td>1.000000</td>\n",
       "      <td>-0.105309</td>\n",
       "      <td>-0.141568</td>\n",
       "      <td>0.019583</td>\n",
       "      <td>0.141590</td>\n",
       "      <td>-0.136607</td>\n",
       "      <td>-0.125443</td>\n",
       "      <td>-0.032622</td>\n",
       "      <td>0.003737</td>\n",
       "      <td>0.046144</td>\n",
       "      <td>-0.087096</td>\n",
       "    </tr>\n",
       "    <tr>\n",
       "      <th>loudness</th>\n",
       "      <td>0.015517</td>\n",
       "      <td>0.732719</td>\n",
       "      <td>-0.105309</td>\n",
       "      <td>1.000000</td>\n",
       "      <td>-0.110178</td>\n",
       "      <td>-0.252037</td>\n",
       "      <td>-0.269742</td>\n",
       "      <td>0.036248</td>\n",
       "      <td>0.000006</td>\n",
       "      <td>0.407760</td>\n",
       "      <td>-0.035156</td>\n",
       "      <td>0.265310</td>\n",
       "      <td>0.072301</td>\n",
       "    </tr>\n",
       "    <tr>\n",
       "      <th>mode</th>\n",
       "      <td>-0.058019</td>\n",
       "      <td>-0.117555</td>\n",
       "      <td>-0.141568</td>\n",
       "      <td>-0.110178</td>\n",
       "      <td>1.000000</td>\n",
       "      <td>-0.150076</td>\n",
       "      <td>-0.030028</td>\n",
       "      <td>0.089667</td>\n",
       "      <td>0.024428</td>\n",
       "      <td>-0.210599</td>\n",
       "      <td>-0.011911</td>\n",
       "      <td>0.055411</td>\n",
       "      <td>-0.083782</td>\n",
       "    </tr>\n",
       "    <tr>\n",
       "      <th>speechiness</th>\n",
       "      <td>0.227075</td>\n",
       "      <td>-0.073591</td>\n",
       "      <td>0.019583</td>\n",
       "      <td>-0.252037</td>\n",
       "      <td>-0.150076</td>\n",
       "      <td>1.000000</td>\n",
       "      <td>-0.081536</td>\n",
       "      <td>-0.069543</td>\n",
       "      <td>-0.099379</td>\n",
       "      <td>-0.051054</td>\n",
       "      <td>0.102999</td>\n",
       "      <td>-0.009856</td>\n",
       "      <td>0.235615</td>\n",
       "    </tr>\n",
       "    <tr>\n",
       "      <th>acousticness</th>\n",
       "      <td>-0.134374</td>\n",
       "      <td>-0.421209</td>\n",
       "      <td>0.141590</td>\n",
       "      <td>-0.269742</td>\n",
       "      <td>-0.030028</td>\n",
       "      <td>-0.081536</td>\n",
       "      <td>1.000000</td>\n",
       "      <td>-0.089583</td>\n",
       "      <td>-0.150177</td>\n",
       "      <td>-0.020800</td>\n",
       "      <td>-0.158013</td>\n",
       "      <td>-0.069627</td>\n",
       "      <td>-0.158935</td>\n",
       "    </tr>\n",
       "    <tr>\n",
       "      <th>instrumentalness</th>\n",
       "      <td>-0.066592</td>\n",
       "      <td>0.093684</td>\n",
       "      <td>-0.136607</td>\n",
       "      <td>0.036248</td>\n",
       "      <td>0.089667</td>\n",
       "      <td>-0.069543</td>\n",
       "      <td>-0.089583</td>\n",
       "      <td>1.000000</td>\n",
       "      <td>-0.016249</td>\n",
       "      <td>-0.095123</td>\n",
       "      <td>0.178142</td>\n",
       "      <td>-0.045873</td>\n",
       "      <td>0.011894</td>\n",
       "    </tr>\n",
       "    <tr>\n",
       "      <th>liveness</th>\n",
       "      <td>-0.038761</td>\n",
       "      <td>0.050542</td>\n",
       "      <td>-0.125443</td>\n",
       "      <td>0.000006</td>\n",
       "      <td>0.024428</td>\n",
       "      <td>-0.099379</td>\n",
       "      <td>-0.150177</td>\n",
       "      <td>-0.016249</td>\n",
       "      <td>1.000000</td>\n",
       "      <td>-0.042612</td>\n",
       "      <td>-0.107652</td>\n",
       "      <td>-0.042942</td>\n",
       "      <td>-0.079558</td>\n",
       "    </tr>\n",
       "    <tr>\n",
       "      <th>valence</th>\n",
       "      <td>0.413855</td>\n",
       "      <td>0.382434</td>\n",
       "      <td>-0.032622</td>\n",
       "      <td>0.407760</td>\n",
       "      <td>-0.210599</td>\n",
       "      <td>-0.051054</td>\n",
       "      <td>-0.020800</td>\n",
       "      <td>-0.095123</td>\n",
       "      <td>-0.042612</td>\n",
       "      <td>1.000000</td>\n",
       "      <td>-0.148423</td>\n",
       "      <td>-0.131901</td>\n",
       "      <td>0.223410</td>\n",
       "    </tr>\n",
       "    <tr>\n",
       "      <th>tempo</th>\n",
       "      <td>-0.195012</td>\n",
       "      <td>0.062272</td>\n",
       "      <td>0.003737</td>\n",
       "      <td>-0.035156</td>\n",
       "      <td>-0.011911</td>\n",
       "      <td>0.102999</td>\n",
       "      <td>-0.158013</td>\n",
       "      <td>0.178142</td>\n",
       "      <td>-0.107652</td>\n",
       "      <td>-0.148423</td>\n",
       "      <td>1.000000</td>\n",
       "      <td>0.005493</td>\n",
       "      <td>0.090191</td>\n",
       "    </tr>\n",
       "    <tr>\n",
       "      <th>duration_ms</th>\n",
       "      <td>-0.068368</td>\n",
       "      <td>0.073017</td>\n",
       "      <td>0.046144</td>\n",
       "      <td>0.265310</td>\n",
       "      <td>0.055411</td>\n",
       "      <td>-0.009856</td>\n",
       "      <td>-0.069627</td>\n",
       "      <td>-0.045873</td>\n",
       "      <td>-0.042942</td>\n",
       "      <td>-0.131901</td>\n",
       "      <td>0.005493</td>\n",
       "      <td>1.000000</td>\n",
       "      <td>-0.102138</td>\n",
       "    </tr>\n",
       "    <tr>\n",
       "      <th>time_signature</th>\n",
       "      <td>0.119421</td>\n",
       "      <td>0.255235</td>\n",
       "      <td>-0.087096</td>\n",
       "      <td>0.072301</td>\n",
       "      <td>-0.083782</td>\n",
       "      <td>0.235615</td>\n",
       "      <td>-0.158935</td>\n",
       "      <td>0.011894</td>\n",
       "      <td>-0.079558</td>\n",
       "      <td>0.223410</td>\n",
       "      <td>0.090191</td>\n",
       "      <td>-0.102138</td>\n",
       "      <td>1.000000</td>\n",
       "    </tr>\n",
       "  </tbody>\n",
       "</table>\n",
       "</div>"
      ],
      "text/plain": [
       "                  danceability    energy       key  loudness      mode  \\\n",
       "danceability          1.000000 -0.072582 -0.051759  0.015517 -0.058019   \n",
       "energy               -0.072582  1.000000 -0.136345  0.732719 -0.117555   \n",
       "key                  -0.051759 -0.136345  1.000000 -0.105309 -0.141568   \n",
       "loudness              0.015517  0.732719 -0.105309  1.000000 -0.110178   \n",
       "mode                 -0.058019 -0.117555 -0.141568 -0.110178  1.000000   \n",
       "speechiness           0.227075 -0.073591  0.019583 -0.252037 -0.150076   \n",
       "acousticness         -0.134374 -0.421209  0.141590 -0.269742 -0.030028   \n",
       "instrumentalness     -0.066592  0.093684 -0.136607  0.036248  0.089667   \n",
       "liveness             -0.038761  0.050542 -0.125443  0.000006  0.024428   \n",
       "valence               0.413855  0.382434 -0.032622  0.407760 -0.210599   \n",
       "tempo                -0.195012  0.062272  0.003737 -0.035156 -0.011911   \n",
       "duration_ms          -0.068368  0.073017  0.046144  0.265310  0.055411   \n",
       "time_signature        0.119421  0.255235 -0.087096  0.072301 -0.083782   \n",
       "\n",
       "                  speechiness  acousticness  instrumentalness  liveness  \\\n",
       "danceability         0.227075     -0.134374         -0.066592 -0.038761   \n",
       "energy              -0.073591     -0.421209          0.093684  0.050542   \n",
       "key                  0.019583      0.141590         -0.136607 -0.125443   \n",
       "loudness            -0.252037     -0.269742          0.036248  0.000006   \n",
       "mode                -0.150076     -0.030028          0.089667  0.024428   \n",
       "speechiness          1.000000     -0.081536         -0.069543 -0.099379   \n",
       "acousticness        -0.081536      1.000000         -0.089583 -0.150177   \n",
       "instrumentalness    -0.069543     -0.089583          1.000000 -0.016249   \n",
       "liveness            -0.099379     -0.150177         -0.016249  1.000000   \n",
       "valence             -0.051054     -0.020800         -0.095123 -0.042612   \n",
       "tempo                0.102999     -0.158013          0.178142 -0.107652   \n",
       "duration_ms         -0.009856     -0.069627         -0.045873 -0.042942   \n",
       "time_signature       0.235615     -0.158935          0.011894 -0.079558   \n",
       "\n",
       "                   valence     tempo  duration_ms  time_signature  \n",
       "danceability      0.413855 -0.195012    -0.068368        0.119421  \n",
       "energy            0.382434  0.062272     0.073017        0.255235  \n",
       "key              -0.032622  0.003737     0.046144       -0.087096  \n",
       "loudness          0.407760 -0.035156     0.265310        0.072301  \n",
       "mode             -0.210599 -0.011911     0.055411       -0.083782  \n",
       "speechiness      -0.051054  0.102999    -0.009856        0.235615  \n",
       "acousticness     -0.020800 -0.158013    -0.069627       -0.158935  \n",
       "instrumentalness -0.095123  0.178142    -0.045873        0.011894  \n",
       "liveness         -0.042612 -0.107652    -0.042942       -0.079558  \n",
       "valence           1.000000 -0.148423    -0.131901        0.223410  \n",
       "tempo            -0.148423  1.000000     0.005493        0.090191  \n",
       "duration_ms      -0.131901  0.005493     1.000000       -0.102138  \n",
       "time_signature    0.223410  0.090191    -0.102138        1.000000  "
      ]
     },
     "execution_count": 37,
     "metadata": {},
     "output_type": "execute_result"
    }
   ],
   "source": [
    "corr"
   ]
  },
  {
   "cell_type": "code",
   "execution_count": 36,
   "id": "37c227df",
   "metadata": {},
   "outputs": [
    {
     "data": {
      "text/plain": [
       "<AxesSubplot:>"
      ]
     },
     "execution_count": 36,
     "metadata": {},
     "output_type": "execute_result"
    },
    {
     "data": {
      "image/png": "[encoded data removed]",
      "text/plain": [
       "<Figure size 432x288 with 2 Axes>"
      ]
     },
     "metadata": {
      "needs_background": "light"
     },
     "output_type": "display_data"
    }
   ],
   "source": [
    "sns.heatmap(corr,cmap='plasma')"
   ]
  },
  {
   "cell_type": "markdown",
   "id": "58418852",
   "metadata": {},
   "source": [
    "energy and loudeness are strongly positive corelated"
   ]
  },
  {
   "cell_type": "code",
   "execution_count": 40,
   "id": "00a0afde",
   "metadata": {},
   "outputs": [
    {
     "data": {
      "text/plain": [
       "<seaborn.axisgrid.FacetGrid at 0x7fb13ba92fa0>"
      ]
     },
     "execution_count": 40,
     "metadata": {},
     "output_type": "execute_result"
    },
    {
     "data": {
      "image/png": "[encoded data removed]",
      "text/plain": [
       "<Figure size 360x360 with 1 Axes>"
      ]
     },
     "metadata": {
      "needs_background": "light"
     },
     "output_type": "display_data"
    }
   ],
   "source": [
    "sns.lmplot(x='energy',y='loudness',data=df)"
   ]
  },
  {
   "cell_type": "code",
   "execution_count": 45,
   "id": "a4846052",
   "metadata": {},
   "outputs": [],
   "source": [
    "import matplotlib.pyplot as plt"
   ]
  },
  {
   "cell_type": "markdown",
   "id": "571da49a",
   "metadata": {},
   "source": [
    "Which attributes have the most variability? Which tend to be the most similar among the Top 100 songs?\n"
   ]
  },
  {
   "cell_type": "code",
   "execution_count": 58,
   "id": "a854f5b6",
   "metadata": {},
   "outputs": [
    {
     "data": {
      "text/plain": [
       "Index(['id', 'name', 'artists', 'danceability', 'energy', 'key', 'loudness',\n",
       "       'mode', 'speechiness', 'acousticness', 'instrumentalness', 'liveness',\n",
       "       'valence', 'tempo', 'duration_ms', 'time_signature'],\n",
       "      dtype='object')"
      ]
     },
     "execution_count": 58,
     "metadata": {},
     "output_type": "execute_result"
    }
   ],
   "source": [
    "df.columns"
   ]
  },
  {
   "cell_type": "code",
   "execution_count": 59,
   "id": "c9eba179",
   "metadata": {},
   "outputs": [],
   "source": [
    "dm4=df.iloc[:,3:13]"
   ]
  },
  {
   "cell_type": "code",
   "execution_count": 60,
   "id": "f02ae265",
   "metadata": {},
   "outputs": [
    {
     "data": {
      "text/plain": [
       "array([[<AxesSubplot:title={'center':'danceability'}>,\n",
       "        <AxesSubplot:title={'center':'energy'}>,\n",
       "        <AxesSubplot:title={'center':'key'}>],\n",
       "       [<AxesSubplot:title={'center':'loudness'}>,\n",
       "        <AxesSubplot:title={'center':'mode'}>,\n",
       "        <AxesSubplot:title={'center':'speechiness'}>],\n",
       "       [<AxesSubplot:title={'center':'acousticness'}>,\n",
       "        <AxesSubplot:title={'center':'instrumentalness'}>,\n",
       "        <AxesSubplot:title={'center':'liveness'}>],\n",
       "       [<AxesSubplot:title={'center':'valence'}>, <AxesSubplot:>,\n",
       "        <AxesSubplot:>]], dtype=object)"
      ]
     },
     "execution_count": 60,
     "metadata": {},
     "output_type": "execute_result"
    },
    {
     "data": {
      "image/png": "[encoded data removed]",
      "text/plain": [
       "<Figure size 432x288 with 12 Axes>"
      ]
     },
     "metadata": {
      "needs_background": "light"
     },
     "output_type": "display_data"
    }
   ],
   "source": [
    "dm4.hist()"
   ]
  },
  {
   "cell_type": "code",
   "execution_count": 62,
   "id": "08230ebe",
   "metadata": {},
   "outputs": [
    {
     "data": {
      "text/html": [
       "<div>\n",
       "<style scoped>\n",
       "    .dataframe tbody tr th:only-of-type {\n",
       "        vertical-align: middle;\n",
       "    }\n",
       "\n",
       "    .dataframe tbody tr th {\n",
       "        vertical-align: top;\n",
       "    }\n",
       "\n",
       "    .dataframe thead th {\n",
       "        text-align: right;\n",
       "    }\n",
       "</style>\n",
       "<table border=\"1\" class=\"dataframe\">\n",
       "  <thead>\n",
       "    <tr style=\"text-align: right;\">\n",
       "      <th></th>\n",
       "      <th>danceability</th>\n",
       "      <th>energy</th>\n",
       "      <th>key</th>\n",
       "      <th>loudness</th>\n",
       "      <th>mode</th>\n",
       "      <th>speechiness</th>\n",
       "      <th>acousticness</th>\n",
       "      <th>instrumentalness</th>\n",
       "      <th>liveness</th>\n",
       "      <th>valence</th>\n",
       "    </tr>\n",
       "  </thead>\n",
       "  <tbody>\n",
       "    <tr>\n",
       "      <th>count</th>\n",
       "      <td>100.00000</td>\n",
       "      <td>100.000000</td>\n",
       "      <td>100.000000</td>\n",
       "      <td>100.000000</td>\n",
       "      <td>100.000000</td>\n",
       "      <td>100.000000</td>\n",
       "      <td>100.000000</td>\n",
       "      <td>100.000000</td>\n",
       "      <td>100.000000</td>\n",
       "      <td>100.000000</td>\n",
       "    </tr>\n",
       "    <tr>\n",
       "      <th>mean</th>\n",
       "      <td>0.71646</td>\n",
       "      <td>0.659060</td>\n",
       "      <td>5.330000</td>\n",
       "      <td>-5.677640</td>\n",
       "      <td>0.590000</td>\n",
       "      <td>0.115569</td>\n",
       "      <td>0.195701</td>\n",
       "      <td>0.001584</td>\n",
       "      <td>0.158302</td>\n",
       "      <td>0.484443</td>\n",
       "    </tr>\n",
       "    <tr>\n",
       "      <th>std</th>\n",
       "      <td>0.13107</td>\n",
       "      <td>0.145067</td>\n",
       "      <td>3.676447</td>\n",
       "      <td>1.777577</td>\n",
       "      <td>0.494311</td>\n",
       "      <td>0.104527</td>\n",
       "      <td>0.220946</td>\n",
       "      <td>0.013449</td>\n",
       "      <td>0.111662</td>\n",
       "      <td>0.206145</td>\n",
       "    </tr>\n",
       "    <tr>\n",
       "      <th>min</th>\n",
       "      <td>0.25800</td>\n",
       "      <td>0.296000</td>\n",
       "      <td>0.000000</td>\n",
       "      <td>-10.109000</td>\n",
       "      <td>0.000000</td>\n",
       "      <td>0.023200</td>\n",
       "      <td>0.000282</td>\n",
       "      <td>0.000000</td>\n",
       "      <td>0.021500</td>\n",
       "      <td>0.079600</td>\n",
       "    </tr>\n",
       "    <tr>\n",
       "      <th>25%</th>\n",
       "      <td>0.63550</td>\n",
       "      <td>0.562000</td>\n",
       "      <td>1.750000</td>\n",
       "      <td>-6.650500</td>\n",
       "      <td>0.000000</td>\n",
       "      <td>0.045350</td>\n",
       "      <td>0.040225</td>\n",
       "      <td>0.000000</td>\n",
       "      <td>0.094675</td>\n",
       "      <td>0.341000</td>\n",
       "    </tr>\n",
       "    <tr>\n",
       "      <th>50%</th>\n",
       "      <td>0.73300</td>\n",
       "      <td>0.678000</td>\n",
       "      <td>5.000000</td>\n",
       "      <td>-5.566500</td>\n",
       "      <td>1.000000</td>\n",
       "      <td>0.074950</td>\n",
       "      <td>0.109000</td>\n",
       "      <td>0.000000</td>\n",
       "      <td>0.118500</td>\n",
       "      <td>0.470500</td>\n",
       "    </tr>\n",
       "    <tr>\n",
       "      <th>75%</th>\n",
       "      <td>0.79825</td>\n",
       "      <td>0.772250</td>\n",
       "      <td>8.250000</td>\n",
       "      <td>-4.363750</td>\n",
       "      <td>1.000000</td>\n",
       "      <td>0.137000</td>\n",
       "      <td>0.247750</td>\n",
       "      <td>0.000031</td>\n",
       "      <td>0.170750</td>\n",
       "      <td>0.641500</td>\n",
       "    </tr>\n",
       "    <tr>\n",
       "      <th>max</th>\n",
       "      <td>0.96400</td>\n",
       "      <td>0.909000</td>\n",
       "      <td>11.000000</td>\n",
       "      <td>-2.384000</td>\n",
       "      <td>1.000000</td>\n",
       "      <td>0.530000</td>\n",
       "      <td>0.934000</td>\n",
       "      <td>0.134000</td>\n",
       "      <td>0.636000</td>\n",
       "      <td>0.931000</td>\n",
       "    </tr>\n",
       "  </tbody>\n",
       "</table>\n",
       "</div>"
      ],
      "text/plain": [
       "       danceability      energy         key    loudness        mode  \\\n",
       "count     100.00000  100.000000  100.000000  100.000000  100.000000   \n",
       "mean        0.71646    0.659060    5.330000   -5.677640    0.590000   \n",
       "std         0.13107    0.145067    3.676447    1.777577    0.494311   \n",
       "min         0.25800    0.296000    0.000000  -10.109000    0.000000   \n",
       "25%         0.63550    0.562000    1.750000   -6.650500    0.000000   \n",
       "50%         0.73300    0.678000    5.000000   -5.566500    1.000000   \n",
       "75%         0.79825    0.772250    8.250000   -4.363750    1.000000   \n",
       "max         0.96400    0.909000   11.000000   -2.384000    1.000000   \n",
       "\n",
       "       speechiness  acousticness  instrumentalness    liveness     valence  \n",
       "count   100.000000    100.000000        100.000000  100.000000  100.000000  \n",
       "mean      0.115569      0.195701          0.001584    0.158302    0.484443  \n",
       "std       0.104527      0.220946          0.013449    0.111662    0.206145  \n",
       "min       0.023200      0.000282          0.000000    0.021500    0.079600  \n",
       "25%       0.045350      0.040225          0.000000    0.094675    0.341000  \n",
       "50%       0.074950      0.109000          0.000000    0.118500    0.470500  \n",
       "75%       0.137000      0.247750          0.000031    0.170750    0.641500  \n",
       "max       0.530000      0.934000          0.134000    0.636000    0.931000  "
      ]
     },
     "execution_count": 62,
     "metadata": {},
     "output_type": "execute_result"
    }
   ],
   "source": [
    "dm4.describe()"
   ]
  },
  {
   "cell_type": "markdown",
   "id": "aff6845b",
   "metadata": {},
   "source": [
    "mode,speechiness,acoustiness have greater variance"
   ]
  },
  {
   "cell_type": "code",
   "execution_count": 64,
   "id": "dd381e1f",
   "metadata": {},
   "outputs": [
    {
     "data": {
      "text/plain": [
       "<AxesSubplot:>"
      ]
     },
     "execution_count": 64,
     "metadata": {},
     "output_type": "execute_result"
    },
    {
     "data": {
      "image/png": "[encoded data removed]",
      "text/plain": [
       "<Figure size 432x288 with 1 Axes>"
      ]
     },
     "metadata": {
      "needs_background": "light"
     },
     "output_type": "display_data"
    }
   ],
   "source": [
    "dm4.iloc[:,4:7].boxplot()"
   ]
  },
  {
   "cell_type": "code",
   "execution_count": 65,
   "id": "026f4cd2",
   "metadata": {},
   "outputs": [
    {
     "data": {
      "text/plain": [
       "<AxesSubplot:>"
      ]
     },
     "execution_count": 65,
     "metadata": {},
     "output_type": "execute_result"
    },
    {
     "data": {
      "image/png": "[encoded data removed]",
      "text/plain": [
       "<Figure size 432x288 with 1 Axes>"
      ]
     },
     "metadata": {
      "needs_background": "light"
     },
     "output_type": "display_data"
    }
   ],
   "source": [
    "dm4.iloc[:,0:2].boxplot()"
   ]
  },
  {
   "cell_type": "code",
   "execution_count": 67,
   "id": "cab91563",
   "metadata": {},
   "outputs": [
    {
     "data": {
      "text/plain": [
       "<AxesSubplot:>"
      ]
     },
     "execution_count": 67,
     "metadata": {},
     "output_type": "execute_result"
    },
    {
     "data": {
      "image/png": "[encoded data removed]",
      "text/plain": [
       "<Figure size 432x288 with 1 Axes>"
      ]
     },
     "metadata": {
      "needs_background": "light"
     },
     "output_type": "display_data"
    }
   ],
   "source": [
    "dm4.iloc[:,8:10].boxplot()"
   ]
  },
  {
   "cell_type": "code",
   "execution_count": 72,
   "id": "17f54f92",
   "metadata": {},
   "outputs": [
    {
     "data": {
      "text/plain": [
       "<AxesSubplot:xlabel='key'>"
      ]
     },
     "execution_count": 72,
     "metadata": {},
     "output_type": "execute_result"
    },
    {
     "data": {
      "image/png": "[encoded data removed]",
      "text/plain": [
       "<Figure size 432x288 with 1 Axes>"
      ]
     },
     "metadata": {
      "needs_background": "light"
     },
     "output_type": "display_data"
    }
   ],
   "source": [
    "sns.boxplot(x='key',data=df)"
   ]
  },
  {
   "cell_type": "code",
   "execution_count": 74,
   "id": "6e02aaf1",
   "metadata": {},
   "outputs": [
    {
     "data": {
      "text/plain": [
       "<AxesSubplot:xlabel='loudness'>"
      ]
     },
     "execution_count": 74,
     "metadata": {},
     "output_type": "execute_result"
    },
    {
     "data": {
      "image/png": "[encoded data removed]",
      "text/plain": [
       "<Figure size 432x288 with 1 Axes>"
      ]
     },
     "metadata": {
      "needs_background": "light"
     },
     "output_type": "display_data"
    }
   ],
   "source": [
    "sns.boxplot(x='loudness',data=df)"
   ]
  },
  {
   "cell_type": "code",
   "execution_count": null,
   "id": "ccac5571",
   "metadata": {},
   "outputs": [],
   "source": []
  }
 ],
 "metadata": {
  "kernelspec": {
   "display_name": "Python 3 (ipykernel)",
   "language": "python",
   "name": "python3"
  },
  "language_info": {
   "codemirror_mode": {
    "name": "ipython",
    "version": 3
   },
   "file_extension": ".py",
   "mimetype": "text/x-python",
   "name": "python",
   "nbconvert_exporter": "python",
   "pygments_lexer": "ipython3",
   "version": "3.9.7"
  }
 },
 "nbformat": 4,
 "nbformat_minor": 5
}
