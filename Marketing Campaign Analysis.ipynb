{
 "cells": [
  {
   "cell_type": "markdown",
   "id": "9c8bbc56",
   "metadata": {},
   "source": [
    "Marketing Campaign Analysis dataset source:Maven Analytics Data Playground"
   ]
  },
  {
   "cell_type": "markdown",
   "id": "8b6fc385",
   "metadata": {},
   "source": [
    "Are there any null values or outliers? How will you handle them?\n",
    "\n",
    "What factors are significantly related to the number of web purchases?\n",
    "\n",
    "Which marketing campaign was the most successful?\n",
    "\n",
    "What does the average customer look like?\n",
    "\n",
    "Which products are performing best?\n",
    "\n",
    "Which channels are underperforming?\n",
    "\n"
   ]
  },
  {
   "cell_type": "code",
   "execution_count": 152,
   "id": "0c3af530",
   "metadata": {},
   "outputs": [],
   "source": [
    "import pandas as pd"
   ]
  },
  {
   "cell_type": "code",
   "execution_count": 153,
   "id": "512d2edf",
   "metadata": {},
   "outputs": [],
   "source": [
    "df=pd.read_csv('marketing_data.csv')"
   ]
  },
  {
   "cell_type": "code",
   "execution_count": 154,
   "id": "e9510bba",
   "metadata": {},
   "outputs": [
    {
     "data": {
      "text/html": [
       "<div>\n",
       "<style scoped>\n",
       "    .dataframe tbody tr th:only-of-type {\n",
       "        vertical-align: middle;\n",
       "    }\n",
       "\n",
       "    .dataframe tbody tr th {\n",
       "        vertical-align: top;\n",
       "    }\n",
       "\n",
       "    .dataframe thead th {\n",
       "        text-align: right;\n",
       "    }\n",
       "</style>\n",
       "<table border=\"1\" class=\"dataframe\">\n",
       "  <thead>\n",
       "    <tr style=\"text-align: right;\">\n",
       "      <th></th>\n",
       "      <th>Year_Birth</th>\n",
       "      <th>Education</th>\n",
       "      <th>Marital_Status</th>\n",
       "      <th>Income</th>\n",
       "      <th>Kidhome</th>\n",
       "      <th>Teenhome</th>\n",
       "      <th>Dt_Customer</th>\n",
       "      <th>Recency</th>\n",
       "      <th>MntWines</th>\n",
       "    </tr>\n",
       "  </thead>\n",
       "  <tbody>\n",
       "    <tr>\n",
       "      <th>0</th>\n",
       "      <td>1970</td>\n",
       "      <td>Graduation</td>\n",
       "      <td>Divorced</td>\n",
       "      <td>84835.0</td>\n",
       "      <td>0</td>\n",
       "      <td>0</td>\n",
       "      <td>2014-06-16</td>\n",
       "      <td>0</td>\n",
       "      <td>189</td>\n",
       "    </tr>\n",
       "    <tr>\n",
       "      <th>1</th>\n",
       "      <td>1961</td>\n",
       "      <td>Graduation</td>\n",
       "      <td>Single</td>\n",
       "      <td>57091.0</td>\n",
       "      <td>0</td>\n",
       "      <td>0</td>\n",
       "      <td>2014-06-15</td>\n",
       "      <td>0</td>\n",
       "      <td>464</td>\n",
       "    </tr>\n",
       "    <tr>\n",
       "      <th>2</th>\n",
       "      <td>1958</td>\n",
       "      <td>Graduation</td>\n",
       "      <td>Married</td>\n",
       "      <td>67267.0</td>\n",
       "      <td>0</td>\n",
       "      <td>1</td>\n",
       "      <td>2014-05-13</td>\n",
       "      <td>0</td>\n",
       "      <td>134</td>\n",
       "    </tr>\n",
       "    <tr>\n",
       "      <th>3</th>\n",
       "      <td>1967</td>\n",
       "      <td>Graduation</td>\n",
       "      <td>Together</td>\n",
       "      <td>32474.0</td>\n",
       "      <td>1</td>\n",
       "      <td>1</td>\n",
       "      <td>2014-05-11</td>\n",
       "      <td>0</td>\n",
       "      <td>10</td>\n",
       "    </tr>\n",
       "    <tr>\n",
       "      <th>4</th>\n",
       "      <td>1989</td>\n",
       "      <td>Graduation</td>\n",
       "      <td>Single</td>\n",
       "      <td>21474.0</td>\n",
       "      <td>1</td>\n",
       "      <td>0</td>\n",
       "      <td>2014-04-08</td>\n",
       "      <td>0</td>\n",
       "      <td>6</td>\n",
       "    </tr>\n",
       "  </tbody>\n",
       "</table>\n",
       "</div>"
      ],
      "text/plain": [
       "   Year_Birth   Education Marital_Status   Income   Kidhome  Teenhome  \\\n",
       "0        1970  Graduation       Divorced   84835.0        0         0   \n",
       "1        1961  Graduation         Single   57091.0        0         0   \n",
       "2        1958  Graduation        Married   67267.0        0         1   \n",
       "3        1967  Graduation       Together   32474.0        1         1   \n",
       "4        1989  Graduation         Single   21474.0        1         0   \n",
       "\n",
       "  Dt_Customer  Recency  MntWines  \n",
       "0  2014-06-16        0       189  \n",
       "1  2014-06-15        0       464  \n",
       "2  2014-05-13        0       134  \n",
       "3  2014-05-11        0        10  \n",
       "4  2014-04-08        0         6  "
      ]
     },
     "execution_count": 154,
     "metadata": {},
     "output_type": "execute_result"
    }
   ],
   "source": [
    "df.iloc[0:5,1:10]"
   ]
  },
  {
   "cell_type": "code",
   "execution_count": 155,
   "id": "94b05f97",
   "metadata": {},
   "outputs": [
    {
     "data": {
      "text/html": [
       "<div>\n",
       "<style scoped>\n",
       "    .dataframe tbody tr th:only-of-type {\n",
       "        vertical-align: middle;\n",
       "    }\n",
       "\n",
       "    .dataframe tbody tr th {\n",
       "        vertical-align: top;\n",
       "    }\n",
       "\n",
       "    .dataframe thead th {\n",
       "        text-align: right;\n",
       "    }\n",
       "</style>\n",
       "<table border=\"1\" class=\"dataframe\">\n",
       "  <thead>\n",
       "    <tr style=\"text-align: right;\">\n",
       "      <th></th>\n",
       "      <th>MntMeatProducts</th>\n",
       "      <th>MntFishProducts</th>\n",
       "      <th>MntSweetProducts</th>\n",
       "      <th>MntGoldProds</th>\n",
       "      <th>NumDealsPurchases</th>\n",
       "      <th>NumWebPurchases</th>\n",
       "      <th>NumCatalogPurchases</th>\n",
       "      <th>NumStorePurchases</th>\n",
       "      <th>NumWebVisitsMonth</th>\n",
       "      <th>AcceptedCmp3</th>\n",
       "      <th>AcceptedCmp4</th>\n",
       "      <th>AcceptedCmp5</th>\n",
       "      <th>AcceptedCmp1</th>\n",
       "      <th>AcceptedCmp2</th>\n",
       "      <th>Response</th>\n",
       "      <th>Complain</th>\n",
       "      <th>Country</th>\n",
       "    </tr>\n",
       "  </thead>\n",
       "  <tbody>\n",
       "    <tr>\n",
       "      <th>0</th>\n",
       "      <td>379</td>\n",
       "      <td>111</td>\n",
       "      <td>189</td>\n",
       "      <td>218</td>\n",
       "      <td>1</td>\n",
       "      <td>4</td>\n",
       "      <td>4</td>\n",
       "      <td>6</td>\n",
       "      <td>1</td>\n",
       "      <td>0</td>\n",
       "      <td>0</td>\n",
       "      <td>0</td>\n",
       "      <td>0</td>\n",
       "      <td>0</td>\n",
       "      <td>1</td>\n",
       "      <td>0</td>\n",
       "      <td>Spain</td>\n",
       "    </tr>\n",
       "    <tr>\n",
       "      <th>1</th>\n",
       "      <td>64</td>\n",
       "      <td>7</td>\n",
       "      <td>0</td>\n",
       "      <td>37</td>\n",
       "      <td>1</td>\n",
       "      <td>7</td>\n",
       "      <td>3</td>\n",
       "      <td>7</td>\n",
       "      <td>5</td>\n",
       "      <td>0</td>\n",
       "      <td>0</td>\n",
       "      <td>0</td>\n",
       "      <td>0</td>\n",
       "      <td>1</td>\n",
       "      <td>1</td>\n",
       "      <td>0</td>\n",
       "      <td>Canada</td>\n",
       "    </tr>\n",
       "    <tr>\n",
       "      <th>2</th>\n",
       "      <td>59</td>\n",
       "      <td>15</td>\n",
       "      <td>2</td>\n",
       "      <td>30</td>\n",
       "      <td>1</td>\n",
       "      <td>3</td>\n",
       "      <td>2</td>\n",
       "      <td>5</td>\n",
       "      <td>2</td>\n",
       "      <td>0</td>\n",
       "      <td>0</td>\n",
       "      <td>0</td>\n",
       "      <td>0</td>\n",
       "      <td>0</td>\n",
       "      <td>0</td>\n",
       "      <td>0</td>\n",
       "      <td>USA</td>\n",
       "    </tr>\n",
       "    <tr>\n",
       "      <th>3</th>\n",
       "      <td>1</td>\n",
       "      <td>0</td>\n",
       "      <td>0</td>\n",
       "      <td>0</td>\n",
       "      <td>1</td>\n",
       "      <td>1</td>\n",
       "      <td>0</td>\n",
       "      <td>2</td>\n",
       "      <td>7</td>\n",
       "      <td>0</td>\n",
       "      <td>0</td>\n",
       "      <td>0</td>\n",
       "      <td>0</td>\n",
       "      <td>0</td>\n",
       "      <td>0</td>\n",
       "      <td>0</td>\n",
       "      <td>Australia</td>\n",
       "    </tr>\n",
       "    <tr>\n",
       "      <th>4</th>\n",
       "      <td>24</td>\n",
       "      <td>11</td>\n",
       "      <td>0</td>\n",
       "      <td>34</td>\n",
       "      <td>2</td>\n",
       "      <td>3</td>\n",
       "      <td>1</td>\n",
       "      <td>2</td>\n",
       "      <td>7</td>\n",
       "      <td>1</td>\n",
       "      <td>0</td>\n",
       "      <td>0</td>\n",
       "      <td>0</td>\n",
       "      <td>0</td>\n",
       "      <td>1</td>\n",
       "      <td>0</td>\n",
       "      <td>Spain</td>\n",
       "    </tr>\n",
       "  </tbody>\n",
       "</table>\n",
       "</div>"
      ],
      "text/plain": [
       "   MntMeatProducts  MntFishProducts  MntSweetProducts  MntGoldProds  \\\n",
       "0              379              111               189           218   \n",
       "1               64                7                 0            37   \n",
       "2               59               15                 2            30   \n",
       "3                1                0                 0             0   \n",
       "4               24               11                 0            34   \n",
       "\n",
       "   NumDealsPurchases  NumWebPurchases  NumCatalogPurchases  NumStorePurchases  \\\n",
       "0                  1                4                    4                  6   \n",
       "1                  1                7                    3                  7   \n",
       "2                  1                3                    2                  5   \n",
       "3                  1                1                    0                  2   \n",
       "4                  2                3                    1                  2   \n",
       "\n",
       "   NumWebVisitsMonth  AcceptedCmp3  AcceptedCmp4  AcceptedCmp5  AcceptedCmp1  \\\n",
       "0                  1             0             0             0             0   \n",
       "1                  5             0             0             0             0   \n",
       "2                  2             0             0             0             0   \n",
       "3                  7             0             0             0             0   \n",
       "4                  7             1             0             0             0   \n",
       "\n",
       "   AcceptedCmp2  Response  Complain    Country  \n",
       "0             0         1         0      Spain  \n",
       "1             1         1         0     Canada  \n",
       "2             0         0         0        USA  \n",
       "3             0         0         0  Australia  \n",
       "4             0         1         0      Spain  "
      ]
     },
     "execution_count": 155,
     "metadata": {},
     "output_type": "execute_result"
    }
   ],
   "source": [
    "df.iloc[0:5,11:28]"
   ]
  },
  {
   "cell_type": "code",
   "execution_count": 156,
   "id": "0112bd2d",
   "metadata": {},
   "outputs": [
    {
     "data": {
      "text/plain": [
       "Index(['ID', 'Year_Birth', 'Education', 'Marital_Status', ' Income ',\n",
       "       'Kidhome', 'Teenhome', 'Dt_Customer', 'Recency', 'MntWines',\n",
       "       'MntFruits', 'MntMeatProducts', 'MntFishProducts', 'MntSweetProducts',\n",
       "       'MntGoldProds', 'NumDealsPurchases', 'NumWebPurchases',\n",
       "       'NumCatalogPurchases', 'NumStorePurchases', 'NumWebVisitsMonth',\n",
       "       'AcceptedCmp3', 'AcceptedCmp4', 'AcceptedCmp5', 'AcceptedCmp1',\n",
       "       'AcceptedCmp2', 'Response', 'Complain', 'Country'],\n",
       "      dtype='object')"
      ]
     },
     "execution_count": 156,
     "metadata": {},
     "output_type": "execute_result"
    }
   ],
   "source": [
    "df.columns"
   ]
  },
  {
   "cell_type": "code",
   "execution_count": 157,
   "id": "c5450701",
   "metadata": {},
   "outputs": [],
   "source": [
    "df1=pd.read_csv('marketing_data_dictionary.csv')"
   ]
  },
  {
   "cell_type": "code",
   "execution_count": 158,
   "id": "6d64693b",
   "metadata": {},
   "outputs": [
    {
     "data": {
      "text/html": [
       "<div>\n",
       "<style scoped>\n",
       "    .dataframe tbody tr th:only-of-type {\n",
       "        vertical-align: middle;\n",
       "    }\n",
       "\n",
       "    .dataframe tbody tr th {\n",
       "        vertical-align: top;\n",
       "    }\n",
       "\n",
       "    .dataframe thead th {\n",
       "        text-align: right;\n",
       "    }\n",
       "</style>\n",
       "<table border=\"1\" class=\"dataframe\">\n",
       "  <thead>\n",
       "    <tr style=\"text-align: right;\">\n",
       "      <th></th>\n",
       "      <th>Field</th>\n",
       "      <th>Description</th>\n",
       "    </tr>\n",
       "  </thead>\n",
       "  <tbody>\n",
       "    <tr>\n",
       "      <th>0</th>\n",
       "      <td>ID</td>\n",
       "      <td>Customer's unique identifier</td>\n",
       "    </tr>\n",
       "    <tr>\n",
       "      <th>1</th>\n",
       "      <td>Year_Birth</td>\n",
       "      <td>Customer's birth year</td>\n",
       "    </tr>\n",
       "    <tr>\n",
       "      <th>2</th>\n",
       "      <td>Education</td>\n",
       "      <td>Customer's education level</td>\n",
       "    </tr>\n",
       "    <tr>\n",
       "      <th>3</th>\n",
       "      <td>Marital_Status</td>\n",
       "      <td>Customer's marital status</td>\n",
       "    </tr>\n",
       "    <tr>\n",
       "      <th>4</th>\n",
       "      <td>Income</td>\n",
       "      <td>Customer's yearly household income</td>\n",
       "    </tr>\n",
       "    <tr>\n",
       "      <th>5</th>\n",
       "      <td>Kidhome</td>\n",
       "      <td>Number of children in customer's household</td>\n",
       "    </tr>\n",
       "    <tr>\n",
       "      <th>6</th>\n",
       "      <td>Teenhome</td>\n",
       "      <td>Number of teenagers in customer's household</td>\n",
       "    </tr>\n",
       "    <tr>\n",
       "      <th>7</th>\n",
       "      <td>Dt_Customer</td>\n",
       "      <td>Date of customer's enrollment with the company</td>\n",
       "    </tr>\n",
       "    <tr>\n",
       "      <th>8</th>\n",
       "      <td>Recency</td>\n",
       "      <td>Number of days since customer's last purchase</td>\n",
       "    </tr>\n",
       "    <tr>\n",
       "      <th>9</th>\n",
       "      <td>MntWines</td>\n",
       "      <td>Amount spent on wine in the last 2 years</td>\n",
       "    </tr>\n",
       "    <tr>\n",
       "      <th>10</th>\n",
       "      <td>MntFruits</td>\n",
       "      <td>Amount spent on fruits in the last 2 years</td>\n",
       "    </tr>\n",
       "    <tr>\n",
       "      <th>11</th>\n",
       "      <td>MntMeatProducts</td>\n",
       "      <td>Amount spent on meat in the last 2 years</td>\n",
       "    </tr>\n",
       "    <tr>\n",
       "      <th>12</th>\n",
       "      <td>MntFishProducts</td>\n",
       "      <td>Amount spent on fish in the last 2 years</td>\n",
       "    </tr>\n",
       "    <tr>\n",
       "      <th>13</th>\n",
       "      <td>MntSweetProducts</td>\n",
       "      <td>Amount spent on sweets in the last 2 years</td>\n",
       "    </tr>\n",
       "    <tr>\n",
       "      <th>14</th>\n",
       "      <td>MntGoldProds</td>\n",
       "      <td>Amount spent on gold in the last 2 years</td>\n",
       "    </tr>\n",
       "    <tr>\n",
       "      <th>15</th>\n",
       "      <td>NumDealsPurchases</td>\n",
       "      <td>Number of purchases made with a discount</td>\n",
       "    </tr>\n",
       "    <tr>\n",
       "      <th>16</th>\n",
       "      <td>NumWebPurchases</td>\n",
       "      <td>Number of purchases made through the company's...</td>\n",
       "    </tr>\n",
       "    <tr>\n",
       "      <th>17</th>\n",
       "      <td>NumCatalogPurchases</td>\n",
       "      <td>Number of purchases made using a catalogue</td>\n",
       "    </tr>\n",
       "    <tr>\n",
       "      <th>18</th>\n",
       "      <td>NumStorePurchases</td>\n",
       "      <td>Number of purchases made directly in stores</td>\n",
       "    </tr>\n",
       "    <tr>\n",
       "      <th>19</th>\n",
       "      <td>NumWebVisitsMonth</td>\n",
       "      <td>Number of visits to company's web site in the ...</td>\n",
       "    </tr>\n",
       "    <tr>\n",
       "      <th>20</th>\n",
       "      <td>AcceptedCmp3</td>\n",
       "      <td>1 if customer accepted the offer in the 3rd ca...</td>\n",
       "    </tr>\n",
       "    <tr>\n",
       "      <th>21</th>\n",
       "      <td>AcceptedCmp4</td>\n",
       "      <td>1 if customer accepted the offer in the 4th ca...</td>\n",
       "    </tr>\n",
       "    <tr>\n",
       "      <th>22</th>\n",
       "      <td>AcceptedCmp5</td>\n",
       "      <td>1 if customer accepted the offer in the 5th ca...</td>\n",
       "    </tr>\n",
       "    <tr>\n",
       "      <th>23</th>\n",
       "      <td>AcceptedCmp1</td>\n",
       "      <td>1 if customer accepted the offer in the 1st ca...</td>\n",
       "    </tr>\n",
       "    <tr>\n",
       "      <th>24</th>\n",
       "      <td>AcceptedCmp2</td>\n",
       "      <td>1 if customer accepted the offer in the 2nd ca...</td>\n",
       "    </tr>\n",
       "    <tr>\n",
       "      <th>25</th>\n",
       "      <td>Response</td>\n",
       "      <td>1 if customer accepted the offer in the last c...</td>\n",
       "    </tr>\n",
       "    <tr>\n",
       "      <th>26</th>\n",
       "      <td>Complain</td>\n",
       "      <td>1 if customer complained in the last 2 years, ...</td>\n",
       "    </tr>\n",
       "    <tr>\n",
       "      <th>27</th>\n",
       "      <td>Country</td>\n",
       "      <td>Customer's location</td>\n",
       "    </tr>\n",
       "  </tbody>\n",
       "</table>\n",
       "</div>"
      ],
      "text/plain": [
       "                  Field                                        Description\n",
       "0                    ID                       Customer's unique identifier\n",
       "1            Year_Birth                              Customer's birth year\n",
       "2             Education                         Customer's education level\n",
       "3        Marital_Status                          Customer's marital status\n",
       "4               Income                  Customer's yearly household income\n",
       "5               Kidhome         Number of children in customer's household\n",
       "6              Teenhome        Number of teenagers in customer's household\n",
       "7           Dt_Customer     Date of customer's enrollment with the company\n",
       "8               Recency      Number of days since customer's last purchase\n",
       "9              MntWines           Amount spent on wine in the last 2 years\n",
       "10            MntFruits         Amount spent on fruits in the last 2 years\n",
       "11      MntMeatProducts           Amount spent on meat in the last 2 years\n",
       "12      MntFishProducts           Amount spent on fish in the last 2 years\n",
       "13     MntSweetProducts         Amount spent on sweets in the last 2 years\n",
       "14         MntGoldProds           Amount spent on gold in the last 2 years\n",
       "15    NumDealsPurchases           Number of purchases made with a discount\n",
       "16      NumWebPurchases  Number of purchases made through the company's...\n",
       "17  NumCatalogPurchases         Number of purchases made using a catalogue\n",
       "18    NumStorePurchases        Number of purchases made directly in stores\n",
       "19    NumWebVisitsMonth  Number of visits to company's web site in the ...\n",
       "20         AcceptedCmp3  1 if customer accepted the offer in the 3rd ca...\n",
       "21         AcceptedCmp4  1 if customer accepted the offer in the 4th ca...\n",
       "22         AcceptedCmp5  1 if customer accepted the offer in the 5th ca...\n",
       "23         AcceptedCmp1  1 if customer accepted the offer in the 1st ca...\n",
       "24         AcceptedCmp2  1 if customer accepted the offer in the 2nd ca...\n",
       "25             Response  1 if customer accepted the offer in the last c...\n",
       "26             Complain  1 if customer complained in the last 2 years, ...\n",
       "27              Country                                Customer's location"
      ]
     },
     "execution_count": 158,
     "metadata": {},
     "output_type": "execute_result"
    }
   ],
   "source": [
    "df1.head(30)"
   ]
  },
  {
   "cell_type": "code",
   "execution_count": 159,
   "id": "c2171a9f",
   "metadata": {},
   "outputs": [
    {
     "name": "stdout",
     "output_type": "stream",
     "text": [
      "1 if customer accepted the offer in the 3rd campaign, 0 otherwise\n",
      "1 if customer accepted the offer in the 4th campaign, 0 otherwise\n",
      "1 if customer accepted the offer in the 5th campaign, 0 otherwise\n",
      "1 if customer accepted the offer in the 1st campaign, 0 otherwise\n",
      "1 if customer accepted the offer in the 2nd campaign, 0 otherwise\n",
      "1 if customer accepted the offer in the last campaign, 0 otherwise\n",
      "1 if customer complained in the last 2 years, 0 otherwise\n"
     ]
    }
   ],
   "source": [
    "for i in df1['Description'][20:27]:\n",
    "    print(i)"
   ]
  },
  {
   "cell_type": "markdown",
   "id": "1a763125",
   "metadata": {},
   "source": [
    "Are there any null values or outliers? How will you handle them?"
   ]
  },
  {
   "cell_type": "code",
   "execution_count": 160,
   "id": "4f27a879",
   "metadata": {},
   "outputs": [
    {
     "name": "stdout",
     "output_type": "stream",
     "text": [
      "<class 'pandas.core.frame.DataFrame'>\n",
      "RangeIndex: 2240 entries, 0 to 2239\n",
      "Data columns (total 28 columns):\n",
      " #   Column               Non-Null Count  Dtype  \n",
      "---  ------               --------------  -----  \n",
      " 0   ID                   2240 non-null   int64  \n",
      " 1   Year_Birth           2240 non-null   int64  \n",
      " 2   Education            2240 non-null   object \n",
      " 3   Marital_Status       2240 non-null   object \n",
      " 4    Income              2216 non-null   float64\n",
      " 5   Kidhome              2240 non-null   int64  \n",
      " 6   Teenhome             2240 non-null   int64  \n",
      " 7   Dt_Customer          2240 non-null   object \n",
      " 8   Recency              2240 non-null   int64  \n",
      " 9   MntWines             2240 non-null   int64  \n",
      " 10  MntFruits            2240 non-null   int64  \n",
      " 11  MntMeatProducts      2240 non-null   int64  \n",
      " 12  MntFishProducts      2240 non-null   int64  \n",
      " 13  MntSweetProducts     2240 non-null   int64  \n",
      " 14  MntGoldProds         2240 non-null   int64  \n",
      " 15  NumDealsPurchases    2240 non-null   int64  \n",
      " 16  NumWebPurchases      2240 non-null   int64  \n",
      " 17  NumCatalogPurchases  2240 non-null   int64  \n",
      " 18  NumStorePurchases    2240 non-null   int64  \n",
      " 19  NumWebVisitsMonth    2240 non-null   int64  \n",
      " 20  AcceptedCmp3         2240 non-null   int64  \n",
      " 21  AcceptedCmp4         2240 non-null   int64  \n",
      " 22  AcceptedCmp5         2240 non-null   int64  \n",
      " 23  AcceptedCmp1         2240 non-null   int64  \n",
      " 24  AcceptedCmp2         2240 non-null   int64  \n",
      " 25  Response             2240 non-null   int64  \n",
      " 26  Complain             2240 non-null   int64  \n",
      " 27  Country              2240 non-null   object \n",
      "dtypes: float64(1), int64(23), object(4)\n",
      "memory usage: 490.1+ KB\n"
     ]
    }
   ],
   "source": [
    "df.info()"
   ]
  },
  {
   "cell_type": "code",
   "execution_count": 161,
   "id": "2ff7bed5",
   "metadata": {},
   "outputs": [
    {
     "data": {
      "text/plain": [
       "count      2216.000000\n",
       "mean      52247.251354\n",
       "std       25173.076661\n",
       "min        1730.000000\n",
       "25%       35303.000000\n",
       "50%       51381.500000\n",
       "75%       68522.000000\n",
       "max      666666.000000\n",
       "Name:  Income , dtype: float64"
      ]
     },
     "execution_count": 161,
     "metadata": {},
     "output_type": "execute_result"
    }
   ],
   "source": [
    "df[' Income '].describe()"
   ]
  },
  {
   "cell_type": "code",
   "execution_count": 162,
   "id": "5da1a22d",
   "metadata": {},
   "outputs": [],
   "source": [
    "df[' Income '].fillna(df[' Income '].median(),axis=0,inplace=True)"
   ]
  },
  {
   "cell_type": "code",
   "execution_count": 165,
   "id": "78d115d9",
   "metadata": {},
   "outputs": [
    {
     "data": {
      "text/plain": [
       "0"
      ]
     },
     "execution_count": 165,
     "metadata": {},
     "output_type": "execute_result"
    }
   ],
   "source": [
    "df[' Income '].isnull().sum()"
   ]
  },
  {
   "cell_type": "markdown",
   "id": "2e2be684",
   "metadata": {},
   "source": [
    "There seem to be ouliers in data which might impact mean hence,using median to deal with null values in Income"
   ]
  },
  {
   "cell_type": "code",
   "execution_count": 164,
   "id": "88202bb6",
   "metadata": {},
   "outputs": [
    {
     "data": {
      "text/html": [
       "<div>\n",
       "<style scoped>\n",
       "    .dataframe tbody tr th:only-of-type {\n",
       "        vertical-align: middle;\n",
       "    }\n",
       "\n",
       "    .dataframe tbody tr th {\n",
       "        vertical-align: top;\n",
       "    }\n",
       "\n",
       "    .dataframe thead th {\n",
       "        text-align: right;\n",
       "    }\n",
       "</style>\n",
       "<table border=\"1\" class=\"dataframe\">\n",
       "  <thead>\n",
       "    <tr style=\"text-align: right;\">\n",
       "      <th></th>\n",
       "      <th>Education</th>\n",
       "      <th>Marital_Status</th>\n",
       "      <th>Dt_Customer</th>\n",
       "      <th>Country</th>\n",
       "    </tr>\n",
       "  </thead>\n",
       "  <tbody>\n",
       "    <tr>\n",
       "      <th>count</th>\n",
       "      <td>2240</td>\n",
       "      <td>2240</td>\n",
       "      <td>2240</td>\n",
       "      <td>2240</td>\n",
       "    </tr>\n",
       "    <tr>\n",
       "      <th>unique</th>\n",
       "      <td>5</td>\n",
       "      <td>8</td>\n",
       "      <td>663</td>\n",
       "      <td>8</td>\n",
       "    </tr>\n",
       "    <tr>\n",
       "      <th>top</th>\n",
       "      <td>Graduation</td>\n",
       "      <td>Married</td>\n",
       "      <td>2012-08-31</td>\n",
       "      <td>Spain</td>\n",
       "    </tr>\n",
       "    <tr>\n",
       "      <th>freq</th>\n",
       "      <td>1127</td>\n",
       "      <td>864</td>\n",
       "      <td>12</td>\n",
       "      <td>1095</td>\n",
       "    </tr>\n",
       "  </tbody>\n",
       "</table>\n",
       "</div>"
      ],
      "text/plain": [
       "         Education Marital_Status Dt_Customer Country\n",
       "count         2240           2240        2240    2240\n",
       "unique           5              8         663       8\n",
       "top     Graduation        Married  2012-08-31   Spain\n",
       "freq          1127            864          12    1095"
      ]
     },
     "execution_count": 164,
     "metadata": {},
     "output_type": "execute_result"
    }
   ],
   "source": [
    "df.describe(include='object')"
   ]
  },
  {
   "cell_type": "code",
   "execution_count": 12,
   "id": "d0aba8d7",
   "metadata": {},
   "outputs": [
    {
     "data": {
      "text/html": [
       "<div>\n",
       "<style scoped>\n",
       "    .dataframe tbody tr th:only-of-type {\n",
       "        vertical-align: middle;\n",
       "    }\n",
       "\n",
       "    .dataframe tbody tr th {\n",
       "        vertical-align: top;\n",
       "    }\n",
       "\n",
       "    .dataframe thead th {\n",
       "        text-align: right;\n",
       "    }\n",
       "</style>\n",
       "<table border=\"1\" class=\"dataframe\">\n",
       "  <thead>\n",
       "    <tr style=\"text-align: right;\">\n",
       "      <th></th>\n",
       "      <th>ID</th>\n",
       "      <th>Year_Birth</th>\n",
       "      <th>Income</th>\n",
       "      <th>Kidhome</th>\n",
       "      <th>Teenhome</th>\n",
       "      <th>Recency</th>\n",
       "      <th>MntWines</th>\n",
       "      <th>MntFruits</th>\n",
       "      <th>MntMeatProducts</th>\n",
       "      <th>MntFishProducts</th>\n",
       "      <th>MntSweetProducts</th>\n",
       "      <th>MntGoldProds</th>\n",
       "      <th>NumDealsPurchases</th>\n",
       "      <th>NumWebPurchases</th>\n",
       "      <th>NumCatalogPurchases</th>\n",
       "      <th>NumStorePurchases</th>\n",
       "      <th>NumWebVisitsMonth</th>\n",
       "    </tr>\n",
       "  </thead>\n",
       "  <tbody>\n",
       "    <tr>\n",
       "      <th>count</th>\n",
       "      <td>2240.000000</td>\n",
       "      <td>2240.000000</td>\n",
       "      <td>2216.000000</td>\n",
       "      <td>2240.000000</td>\n",
       "      <td>2240.000000</td>\n",
       "      <td>2240.000000</td>\n",
       "      <td>2240.000000</td>\n",
       "      <td>2240.000000</td>\n",
       "      <td>2240.000000</td>\n",
       "      <td>2240.000000</td>\n",
       "      <td>2240.000000</td>\n",
       "      <td>2240.000000</td>\n",
       "      <td>2240.000000</td>\n",
       "      <td>2240.000000</td>\n",
       "      <td>2240.000000</td>\n",
       "      <td>2240.000000</td>\n",
       "      <td>2240.000000</td>\n",
       "    </tr>\n",
       "    <tr>\n",
       "      <th>mean</th>\n",
       "      <td>5592.159821</td>\n",
       "      <td>1968.805804</td>\n",
       "      <td>52247.251354</td>\n",
       "      <td>0.444196</td>\n",
       "      <td>0.506250</td>\n",
       "      <td>49.109375</td>\n",
       "      <td>303.935714</td>\n",
       "      <td>26.302232</td>\n",
       "      <td>166.950000</td>\n",
       "      <td>37.525446</td>\n",
       "      <td>27.062946</td>\n",
       "      <td>44.021875</td>\n",
       "      <td>2.325000</td>\n",
       "      <td>4.084821</td>\n",
       "      <td>2.662054</td>\n",
       "      <td>5.790179</td>\n",
       "      <td>5.316518</td>\n",
       "    </tr>\n",
       "    <tr>\n",
       "      <th>std</th>\n",
       "      <td>3246.662198</td>\n",
       "      <td>11.984069</td>\n",
       "      <td>25173.076661</td>\n",
       "      <td>0.538398</td>\n",
       "      <td>0.544538</td>\n",
       "      <td>28.962453</td>\n",
       "      <td>336.597393</td>\n",
       "      <td>39.773434</td>\n",
       "      <td>225.715373</td>\n",
       "      <td>54.628979</td>\n",
       "      <td>41.280498</td>\n",
       "      <td>52.167439</td>\n",
       "      <td>1.932238</td>\n",
       "      <td>2.778714</td>\n",
       "      <td>2.923101</td>\n",
       "      <td>3.250958</td>\n",
       "      <td>2.426645</td>\n",
       "    </tr>\n",
       "    <tr>\n",
       "      <th>min</th>\n",
       "      <td>0.000000</td>\n",
       "      <td>1893.000000</td>\n",
       "      <td>1730.000000</td>\n",
       "      <td>0.000000</td>\n",
       "      <td>0.000000</td>\n",
       "      <td>0.000000</td>\n",
       "      <td>0.000000</td>\n",
       "      <td>0.000000</td>\n",
       "      <td>0.000000</td>\n",
       "      <td>0.000000</td>\n",
       "      <td>0.000000</td>\n",
       "      <td>0.000000</td>\n",
       "      <td>0.000000</td>\n",
       "      <td>0.000000</td>\n",
       "      <td>0.000000</td>\n",
       "      <td>0.000000</td>\n",
       "      <td>0.000000</td>\n",
       "    </tr>\n",
       "    <tr>\n",
       "      <th>25%</th>\n",
       "      <td>2828.250000</td>\n",
       "      <td>1959.000000</td>\n",
       "      <td>35303.000000</td>\n",
       "      <td>0.000000</td>\n",
       "      <td>0.000000</td>\n",
       "      <td>24.000000</td>\n",
       "      <td>23.750000</td>\n",
       "      <td>1.000000</td>\n",
       "      <td>16.000000</td>\n",
       "      <td>3.000000</td>\n",
       "      <td>1.000000</td>\n",
       "      <td>9.000000</td>\n",
       "      <td>1.000000</td>\n",
       "      <td>2.000000</td>\n",
       "      <td>0.000000</td>\n",
       "      <td>3.000000</td>\n",
       "      <td>3.000000</td>\n",
       "    </tr>\n",
       "    <tr>\n",
       "      <th>50%</th>\n",
       "      <td>5458.500000</td>\n",
       "      <td>1970.000000</td>\n",
       "      <td>51381.500000</td>\n",
       "      <td>0.000000</td>\n",
       "      <td>0.000000</td>\n",
       "      <td>49.000000</td>\n",
       "      <td>173.500000</td>\n",
       "      <td>8.000000</td>\n",
       "      <td>67.000000</td>\n",
       "      <td>12.000000</td>\n",
       "      <td>8.000000</td>\n",
       "      <td>24.000000</td>\n",
       "      <td>2.000000</td>\n",
       "      <td>4.000000</td>\n",
       "      <td>2.000000</td>\n",
       "      <td>5.000000</td>\n",
       "      <td>6.000000</td>\n",
       "    </tr>\n",
       "    <tr>\n",
       "      <th>75%</th>\n",
       "      <td>8427.750000</td>\n",
       "      <td>1977.000000</td>\n",
       "      <td>68522.000000</td>\n",
       "      <td>1.000000</td>\n",
       "      <td>1.000000</td>\n",
       "      <td>74.000000</td>\n",
       "      <td>504.250000</td>\n",
       "      <td>33.000000</td>\n",
       "      <td>232.000000</td>\n",
       "      <td>50.000000</td>\n",
       "      <td>33.000000</td>\n",
       "      <td>56.000000</td>\n",
       "      <td>3.000000</td>\n",
       "      <td>6.000000</td>\n",
       "      <td>4.000000</td>\n",
       "      <td>8.000000</td>\n",
       "      <td>7.000000</td>\n",
       "    </tr>\n",
       "    <tr>\n",
       "      <th>max</th>\n",
       "      <td>11191.000000</td>\n",
       "      <td>1996.000000</td>\n",
       "      <td>666666.000000</td>\n",
       "      <td>2.000000</td>\n",
       "      <td>2.000000</td>\n",
       "      <td>99.000000</td>\n",
       "      <td>1493.000000</td>\n",
       "      <td>199.000000</td>\n",
       "      <td>1725.000000</td>\n",
       "      <td>259.000000</td>\n",
       "      <td>263.000000</td>\n",
       "      <td>362.000000</td>\n",
       "      <td>15.000000</td>\n",
       "      <td>27.000000</td>\n",
       "      <td>28.000000</td>\n",
       "      <td>13.000000</td>\n",
       "      <td>20.000000</td>\n",
       "    </tr>\n",
       "  </tbody>\n",
       "</table>\n",
       "</div>"
      ],
      "text/plain": [
       "                 ID   Year_Birth        Income       Kidhome     Teenhome  \\\n",
       "count   2240.000000  2240.000000    2216.000000  2240.000000  2240.000000   \n",
       "mean    5592.159821  1968.805804   52247.251354     0.444196     0.506250   \n",
       "std     3246.662198    11.984069   25173.076661     0.538398     0.544538   \n",
       "min        0.000000  1893.000000    1730.000000     0.000000     0.000000   \n",
       "25%     2828.250000  1959.000000   35303.000000     0.000000     0.000000   \n",
       "50%     5458.500000  1970.000000   51381.500000     0.000000     0.000000   \n",
       "75%     8427.750000  1977.000000   68522.000000     1.000000     1.000000   \n",
       "max    11191.000000  1996.000000  666666.000000     2.000000     2.000000   \n",
       "\n",
       "           Recency     MntWines    MntFruits  MntMeatProducts  \\\n",
       "count  2240.000000  2240.000000  2240.000000      2240.000000   \n",
       "mean     49.109375   303.935714    26.302232       166.950000   \n",
       "std      28.962453   336.597393    39.773434       225.715373   \n",
       "min       0.000000     0.000000     0.000000         0.000000   \n",
       "25%      24.000000    23.750000     1.000000        16.000000   \n",
       "50%      49.000000   173.500000     8.000000        67.000000   \n",
       "75%      74.000000   504.250000    33.000000       232.000000   \n",
       "max      99.000000  1493.000000   199.000000      1725.000000   \n",
       "\n",
       "       MntFishProducts  MntSweetProducts  MntGoldProds  NumDealsPurchases  \\\n",
       "count      2240.000000       2240.000000   2240.000000        2240.000000   \n",
       "mean         37.525446         27.062946     44.021875           2.325000   \n",
       "std          54.628979         41.280498     52.167439           1.932238   \n",
       "min           0.000000          0.000000      0.000000           0.000000   \n",
       "25%           3.000000          1.000000      9.000000           1.000000   \n",
       "50%          12.000000          8.000000     24.000000           2.000000   \n",
       "75%          50.000000         33.000000     56.000000           3.000000   \n",
       "max         259.000000        263.000000    362.000000          15.000000   \n",
       "\n",
       "       NumWebPurchases  NumCatalogPurchases  NumStorePurchases  \\\n",
       "count      2240.000000          2240.000000        2240.000000   \n",
       "mean          4.084821             2.662054           5.790179   \n",
       "std           2.778714             2.923101           3.250958   \n",
       "min           0.000000             0.000000           0.000000   \n",
       "25%           2.000000             0.000000           3.000000   \n",
       "50%           4.000000             2.000000           5.000000   \n",
       "75%           6.000000             4.000000           8.000000   \n",
       "max          27.000000            28.000000          13.000000   \n",
       "\n",
       "       NumWebVisitsMonth  \n",
       "count        2240.000000  \n",
       "mean            5.316518  \n",
       "std             2.426645  \n",
       "min             0.000000  \n",
       "25%             3.000000  \n",
       "50%             6.000000  \n",
       "75%             7.000000  \n",
       "max            20.000000  "
      ]
     },
     "execution_count": 12,
     "metadata": {},
     "output_type": "execute_result"
    }
   ],
   "source": [
    "df.iloc[:,0:20].describe()"
   ]
  },
  {
   "cell_type": "code",
   "execution_count": 171,
   "id": "40c8e8c4",
   "metadata": {},
   "outputs": [],
   "source": [
    "import matplotlib.pyplot as plt"
   ]
  },
  {
   "cell_type": "code",
   "execution_count": 180,
   "id": "172ea5a1",
   "metadata": {},
   "outputs": [],
   "source": [
    "def outliers_check(i):\n",
    "    plt.boxplot(df[i])\n",
    "    plt.xlabel(i)\n",
    "    print('Boxplot for ',i)\n",
    "    "
   ]
  },
  {
   "cell_type": "code",
   "execution_count": 203,
   "id": "eaa4d5c5",
   "metadata": {},
   "outputs": [],
   "source": [
    "def outliers_fix(i):\n",
    "    Q1=df[i].quantile(0.25)#first quartile\n",
    "    Q3=df[i].quantile(0.75)#third quartile\n",
    "    IQR=Q3-Q1#interquartile range\n",
    "    upper_limit=Q3+(1.5*IQR)\n",
    "    lower_limit=Q1-(1.5*IQR)\n",
    "    df_median=df[i].median()\n",
    "    df[i]=df[i].apply(lambda x:df_median if(x>upper_limit or x<lower_limit) else x)"
   ]
  },
  {
   "cell_type": "code",
   "execution_count": 206,
   "id": "ada3f309",
   "metadata": {},
   "outputs": [],
   "source": [
    "#ouliers in Income"
   ]
  },
  {
   "cell_type": "code",
   "execution_count": 181,
   "id": "0a29a106",
   "metadata": {},
   "outputs": [
    {
     "name": "stdout",
     "output_type": "stream",
     "text": [
      "Boxplot for   Income \n"
     ]
    },
    {
     "data": {
      "image/png": "[encoded data removed]",
      "text/plain": [
       "<Figure size 432x288 with 1 Axes>"
      ]
     },
     "metadata": {
      "needs_background": "light"
     },
     "output_type": "display_data"
    }
   ],
   "source": [
    "outliers_check(' Income ')"
   ]
  },
  {
   "cell_type": "code",
   "execution_count": 204,
   "id": "6aa50ae6",
   "metadata": {},
   "outputs": [],
   "source": [
    "outliers_fix(' Income ')\n"
   ]
  },
  {
   "cell_type": "code",
   "execution_count": 205,
   "id": "29ba8567",
   "metadata": {},
   "outputs": [
    {
     "data": {
      "text/plain": [
       "count      2240.000000\n",
       "mean      51630.036161\n",
       "std       20564.846848\n",
       "min        1730.000000\n",
       "25%       35538.750000\n",
       "50%       51381.500000\n",
       "75%       68098.250000\n",
       "max      113734.000000\n",
       "Name:  Income , dtype: float64"
      ]
     },
     "execution_count": 205,
     "metadata": {},
     "output_type": "execute_result"
    }
   ],
   "source": [
    "df[' Income '].describe()"
   ]
  },
  {
   "cell_type": "code",
   "execution_count": 211,
   "id": "87fca070",
   "metadata": {},
   "outputs": [],
   "source": [
    "#ouliers in MntWines"
   ]
  },
  {
   "cell_type": "code",
   "execution_count": 207,
   "id": "41a5a0a9",
   "metadata": {},
   "outputs": [
    {
     "name": "stdout",
     "output_type": "stream",
     "text": [
      "Boxplot for  MntWines\n"
     ]
    },
    {
     "data": {
      "image/png": "[encoded data removed]",
      "text/plain": [
       "<Figure size 432x288 with 1 Axes>"
      ]
     },
     "metadata": {
      "needs_background": "light"
     },
     "output_type": "display_data"
    }
   ],
   "source": [
    "outliers_check('MntWines')"
   ]
  },
  {
   "cell_type": "code",
   "execution_count": 209,
   "id": "c8f0bf37",
   "metadata": {},
   "outputs": [],
   "source": [
    "outliers_fix('MntWines')"
   ]
  },
  {
   "cell_type": "code",
   "execution_count": 210,
   "id": "bc97c563",
   "metadata": {},
   "outputs": [
    {
     "data": {
      "text/plain": [
       "count    2240.000000\n",
       "mean      285.683259\n",
       "std       310.279574\n",
       "min         0.000000\n",
       "25%        23.750000\n",
       "50%       173.250000\n",
       "75%       479.000000\n",
       "max      1224.000000\n",
       "Name: MntWines, dtype: float64"
      ]
     },
     "execution_count": 210,
     "metadata": {},
     "output_type": "execute_result"
    }
   ],
   "source": [
    "df['MntWines'].describe()"
   ]
  },
  {
   "cell_type": "code",
   "execution_count": 212,
   "id": "a262d08c",
   "metadata": {},
   "outputs": [],
   "source": [
    "#outliers in MntFishProducts"
   ]
  },
  {
   "cell_type": "code",
   "execution_count": 214,
   "id": "664b1989",
   "metadata": {},
   "outputs": [
    {
     "name": "stdout",
     "output_type": "stream",
     "text": [
      "Boxplot for  MntFishProducts\n"
     ]
    },
    {
     "data": {
      "image/png": "[encoded data removed]",
      "text/plain": [
       "<Figure size 432x288 with 1 Axes>"
      ]
     },
     "metadata": {
      "needs_background": "light"
     },
     "output_type": "display_data"
    }
   ],
   "source": [
    "outliers_check('MntFishProducts')"
   ]
  },
  {
   "cell_type": "code",
   "execution_count": 215,
   "id": "78969a49",
   "metadata": {},
   "outputs": [],
   "source": [
    "outliers_fix('MntFishProducts')"
   ]
  },
  {
   "cell_type": "code",
   "execution_count": 216,
   "id": "2014ae17",
   "metadata": {},
   "outputs": [
    {
     "data": {
      "text/plain": [
       "count    2240.000000\n",
       "mean       21.314286\n",
       "std        27.831455\n",
       "min         0.000000\n",
       "25%         3.000000\n",
       "50%        12.000000\n",
       "75%        28.000000\n",
       "max       120.000000\n",
       "Name: MntFishProducts, dtype: float64"
      ]
     },
     "execution_count": 216,
     "metadata": {},
     "output_type": "execute_result"
    }
   ],
   "source": [
    "df['MntFishProducts'].describe()"
   ]
  },
  {
   "cell_type": "code",
   "execution_count": null,
   "id": "0a42f815",
   "metadata": {},
   "outputs": [],
   "source": [
    "#ouliers MntFruits"
   ]
  },
  {
   "cell_type": "code",
   "execution_count": 217,
   "id": "56ab7be3",
   "metadata": {},
   "outputs": [
    {
     "name": "stdout",
     "output_type": "stream",
     "text": [
      "Boxplot for  MntFruits\n"
     ]
    },
    {
     "data": {
      "image/png": "[encoded data removed]",
      "text/plain": [
       "<Figure size 432x288 with 1 Axes>"
      ]
     },
     "metadata": {
      "needs_background": "light"
     },
     "output_type": "display_data"
    }
   ],
   "source": [
    "outliers_check('MntFruits')"
   ]
  },
  {
   "cell_type": "code",
   "execution_count": 218,
   "id": "97101913",
   "metadata": {},
   "outputs": [],
   "source": [
    "outliers_fix('MntFruits')"
   ]
  },
  {
   "cell_type": "code",
   "execution_count": 219,
   "id": "892584fd",
   "metadata": {},
   "outputs": [
    {
     "data": {
      "text/plain": [
       "count    2240.000000\n",
       "mean       14.281250\n",
       "std        18.719299\n",
       "min         0.000000\n",
       "25%         1.000000\n",
       "50%         8.000000\n",
       "75%        19.000000\n",
       "max        81.000000\n",
       "Name: MntFruits, dtype: float64"
      ]
     },
     "execution_count": 219,
     "metadata": {},
     "output_type": "execute_result"
    }
   ],
   "source": [
    "df['MntFruits'].describe()"
   ]
  },
  {
   "cell_type": "code",
   "execution_count": 220,
   "id": "8969ec2b",
   "metadata": {},
   "outputs": [],
   "source": [
    "#ouliers in MntMeatProducts"
   ]
  },
  {
   "cell_type": "code",
   "execution_count": 222,
   "id": "7fb61541",
   "metadata": {},
   "outputs": [
    {
     "name": "stdout",
     "output_type": "stream",
     "text": [
      "Boxplot for  MntMeatProducts\n"
     ]
    },
    {
     "data": {
      "image/png": "[encoded data removed]",
      "text/plain": [
       "<Figure size 432x288 with 1 Axes>"
      ]
     },
     "metadata": {
      "needs_background": "light"
     },
     "output_type": "display_data"
    }
   ],
   "source": [
    "outliers_check('MntMeatProducts')"
   ]
  },
  {
   "cell_type": "code",
   "execution_count": 223,
   "id": "fcf21efb",
   "metadata": {},
   "outputs": [],
   "source": [
    "outliers_fix('MntMeatProducts')"
   ]
  },
  {
   "cell_type": "code",
   "execution_count": 225,
   "id": "33c7699d",
   "metadata": {},
   "outputs": [
    {
     "data": {
      "text/plain": [
       "count    2240.000000\n",
       "mean      112.670089\n",
       "std       135.044047\n",
       "min         0.000000\n",
       "25%        16.000000\n",
       "50%        67.000000\n",
       "75%       153.000000\n",
       "max       555.000000\n",
       "Name: MntMeatProducts, dtype: float64"
      ]
     },
     "execution_count": 225,
     "metadata": {},
     "output_type": "execute_result"
    }
   ],
   "source": [
    "df['MntMeatProducts'].describe()"
   ]
  },
  {
   "cell_type": "code",
   "execution_count": 226,
   "id": "6f127041",
   "metadata": {},
   "outputs": [],
   "source": [
    "#ouliers in MntSweetProducts"
   ]
  },
  {
   "cell_type": "code",
   "execution_count": 227,
   "id": "e7c8fcee",
   "metadata": {},
   "outputs": [
    {
     "name": "stdout",
     "output_type": "stream",
     "text": [
      "Boxplot for  MntSweetProducts\n"
     ]
    },
    {
     "data": {
      "image/png": "[encoded data removed]",
      "text/plain": [
       "<Figure size 432x288 with 1 Axes>"
      ]
     },
     "metadata": {
      "needs_background": "light"
     },
     "output_type": "display_data"
    }
   ],
   "source": [
    "outliers_check('MntSweetProducts')"
   ]
  },
  {
   "cell_type": "code",
   "execution_count": 228,
   "id": "789f1f71",
   "metadata": {},
   "outputs": [],
   "source": [
    "outliers_fix('MntSweetProducts')"
   ]
  },
  {
   "cell_type": "code",
   "execution_count": 229,
   "id": "5598be5d",
   "metadata": {},
   "outputs": [
    {
     "data": {
      "text/plain": [
       "count    2240.000000\n",
       "mean       13.855804\n",
       "std        18.117876\n",
       "min         0.000000\n",
       "25%         1.000000\n",
       "50%         8.000000\n",
       "75%        18.000000\n",
       "max        81.000000\n",
       "Name: MntSweetProducts, dtype: float64"
      ]
     },
     "execution_count": 229,
     "metadata": {},
     "output_type": "execute_result"
    }
   ],
   "source": [
    "df['MntSweetProducts'].describe()"
   ]
  },
  {
   "cell_type": "code",
   "execution_count": 230,
   "id": "eff88c52",
   "metadata": {},
   "outputs": [],
   "source": [
    "#outliers in gold products"
   ]
  },
  {
   "cell_type": "code",
   "execution_count": 231,
   "id": "ff77b33e",
   "metadata": {},
   "outputs": [
    {
     "name": "stdout",
     "output_type": "stream",
     "text": [
      "Boxplot for  MntGoldProds\n"
     ]
    },
    {
     "data": {
      "image/png": "[encoded data removed]",
      "text/plain": [
       "<Figure size 432x288 with 1 Axes>"
      ]
     },
     "metadata": {
      "needs_background": "light"
     },
     "output_type": "display_data"
    }
   ],
   "source": [
    "outliers_check('MntGoldProds')"
   ]
  },
  {
   "cell_type": "code",
   "execution_count": 233,
   "id": "757102bd",
   "metadata": {},
   "outputs": [],
   "source": [
    "outliers_fix('MntGoldProds')"
   ]
  },
  {
   "cell_type": "code",
   "execution_count": 234,
   "id": "d374dbe2",
   "metadata": {},
   "outputs": [
    {
     "data": {
      "text/plain": [
       "count    2240.000000\n",
       "mean       30.015625\n",
       "std        28.751608\n",
       "min         0.000000\n",
       "25%         9.000000\n",
       "50%        24.000000\n",
       "75%        40.250000\n",
       "max       126.000000\n",
       "Name: MntGoldProds, dtype: float64"
      ]
     },
     "execution_count": 234,
     "metadata": {},
     "output_type": "execute_result"
    }
   ],
   "source": [
    "df['MntGoldProds'].describe()"
   ]
  },
  {
   "cell_type": "code",
   "execution_count": 240,
   "id": "15c2ac67",
   "metadata": {},
   "outputs": [],
   "source": [
    "#ouliers in Year_Birth"
   ]
  },
  {
   "cell_type": "code",
   "execution_count": 236,
   "id": "51c938c4",
   "metadata": {},
   "outputs": [
    {
     "name": "stdout",
     "output_type": "stream",
     "text": [
      "Boxplot for  Year_Birth\n"
     ]
    },
    {
     "data": {
      "image/png": "[encoded data removed]",
      "text/plain": [
       "<Figure size 432x288 with 1 Axes>"
      ]
     },
     "metadata": {
      "needs_background": "light"
     },
     "output_type": "display_data"
    }
   ],
   "source": [
    "outliers_check('Year_Birth')"
   ]
  },
  {
   "cell_type": "code",
   "execution_count": 237,
   "id": "f911c185",
   "metadata": {},
   "outputs": [],
   "source": [
    "outliers_fix('Year_Birth')"
   ]
  },
  {
   "cell_type": "code",
   "execution_count": 239,
   "id": "a03a0ebe",
   "metadata": {},
   "outputs": [
    {
     "name": "stdout",
     "output_type": "stream",
     "text": [
      "Boxplot for  Year_Birth\n"
     ]
    },
    {
     "data": {
      "image/png": "[encoded data removed]",
      "text/plain": [
       "<Figure size 432x288 with 1 Axes>"
      ]
     },
     "metadata": {
      "needs_background": "light"
     },
     "output_type": "display_data"
    }
   ],
   "source": [
    "outliers_check('Year_Birth')"
   ]
  },
  {
   "cell_type": "code",
   "execution_count": 241,
   "id": "c24f50f0",
   "metadata": {},
   "outputs": [],
   "source": [
    "#exploring other attribute"
   ]
  },
  {
   "cell_type": "code",
   "execution_count": 242,
   "id": "6edffe1d",
   "metadata": {},
   "outputs": [
    {
     "data": {
      "text/plain": [
       "Graduation    1127\n",
       "PhD            486\n",
       "Master         370\n",
       "2n Cycle       203\n",
       "Basic           54\n",
       "Name: Education, dtype: int64"
      ]
     },
     "execution_count": 242,
     "metadata": {},
     "output_type": "execute_result"
    }
   ],
   "source": [
    "df['Education'].value_counts()"
   ]
  },
  {
   "cell_type": "code",
   "execution_count": 272,
   "id": "51d4fd4d",
   "metadata": {},
   "outputs": [
    {
     "data": {
      "text/plain": [
       "Married     864\n",
       "Together    580\n",
       "Single      480\n",
       "Divorced    232\n",
       "Widow        77\n",
       "Alone         3\n",
       "YOLO          2\n",
       "Absurd        2\n",
       "Name: Marital_Status, dtype: int64"
      ]
     },
     "execution_count": 272,
     "metadata": {},
     "output_type": "execute_result"
    }
   ],
   "source": [
    "df['Marital_Status'].value_counts()"
   ]
  },
  {
   "cell_type": "code",
   "execution_count": 282,
   "id": "1571acc2",
   "metadata": {},
   "outputs": [
    {
     "data": {
      "text/plain": [
       "'Married'"
      ]
     },
     "execution_count": 282,
     "metadata": {},
     "output_type": "execute_result"
    }
   ],
   "source": [
    "y=df['Marital_Status'].value_counts().idxmax()\n",
    "y"
   ]
  },
  {
   "cell_type": "code",
   "execution_count": 275,
   "id": "c217539b",
   "metadata": {},
   "outputs": [],
   "source": [
    "df['Marital_Status']=df['Marital_Status'].str.replace('YOLO',y)"
   ]
  },
  {
   "cell_type": "code",
   "execution_count": 276,
   "id": "178c9c4f",
   "metadata": {},
   "outputs": [],
   "source": [
    "df['Marital_Status']=df['Marital_Status'].str.replace('Absurd',y)"
   ]
  },
  {
   "cell_type": "code",
   "execution_count": 277,
   "id": "131c297d",
   "metadata": {},
   "outputs": [
    {
     "data": {
      "text/plain": [
       "Married     868\n",
       "Together    580\n",
       "Single      480\n",
       "Divorced    232\n",
       "Widow        77\n",
       "Alone         3\n",
       "Name: Marital_Status, dtype: int64"
      ]
     },
     "execution_count": 277,
     "metadata": {},
     "output_type": "execute_result"
    }
   ],
   "source": [
    "df['Marital_Status'].value_counts()"
   ]
  },
  {
   "cell_type": "markdown",
   "id": "184f374e",
   "metadata": {},
   "source": [
    "What factors are significantly related to the number of web purchases?\n"
   ]
  },
  {
   "cell_type": "code",
   "execution_count": 283,
   "id": "11338996",
   "metadata": {},
   "outputs": [],
   "source": [
    "import seaborn as sns"
   ]
  },
  {
   "cell_type": "code",
   "execution_count": 284,
   "id": "927748bf",
   "metadata": {},
   "outputs": [],
   "source": [
    "A=df.iloc[:,0:10]"
   ]
  },
  {
   "cell_type": "code",
   "execution_count": 285,
   "id": "bcf920db",
   "metadata": {},
   "outputs": [],
   "source": [
    "i=df['NumWebPurchases']"
   ]
  },
  {
   "cell_type": "code",
   "execution_count": 286,
   "id": "342f82f4",
   "metadata": {},
   "outputs": [],
   "source": [
    "A=pd.concat([A,i],axis=1)"
   ]
  },
  {
   "cell_type": "code",
   "execution_count": 287,
   "id": "84e91fc6",
   "metadata": {},
   "outputs": [
    {
     "data": {
      "text/html": [
       "<div>\n",
       "<style scoped>\n",
       "    .dataframe tbody tr th:only-of-type {\n",
       "        vertical-align: middle;\n",
       "    }\n",
       "\n",
       "    .dataframe tbody tr th {\n",
       "        vertical-align: top;\n",
       "    }\n",
       "\n",
       "    .dataframe thead th {\n",
       "        text-align: right;\n",
       "    }\n",
       "</style>\n",
       "<table border=\"1\" class=\"dataframe\">\n",
       "  <thead>\n",
       "    <tr style=\"text-align: right;\">\n",
       "      <th></th>\n",
       "      <th>ID</th>\n",
       "      <th>Year_Birth</th>\n",
       "      <th>Education</th>\n",
       "      <th>Marital_Status</th>\n",
       "      <th>Income</th>\n",
       "      <th>Kidhome</th>\n",
       "      <th>Teenhome</th>\n",
       "      <th>Dt_Customer</th>\n",
       "      <th>Recency</th>\n",
       "      <th>MntWines</th>\n",
       "      <th>NumWebPurchases</th>\n",
       "    </tr>\n",
       "  </thead>\n",
       "  <tbody>\n",
       "    <tr>\n",
       "      <th>0</th>\n",
       "      <td>1826</td>\n",
       "      <td>1970.0</td>\n",
       "      <td>Graduation</td>\n",
       "      <td>Divorced</td>\n",
       "      <td>84835.0</td>\n",
       "      <td>0</td>\n",
       "      <td>0</td>\n",
       "      <td>2014-06-16</td>\n",
       "      <td>0</td>\n",
       "      <td>189.0</td>\n",
       "      <td>4</td>\n",
       "    </tr>\n",
       "    <tr>\n",
       "      <th>1</th>\n",
       "      <td>1</td>\n",
       "      <td>1961.0</td>\n",
       "      <td>Graduation</td>\n",
       "      <td>Single</td>\n",
       "      <td>57091.0</td>\n",
       "      <td>0</td>\n",
       "      <td>0</td>\n",
       "      <td>2014-06-15</td>\n",
       "      <td>0</td>\n",
       "      <td>464.0</td>\n",
       "      <td>7</td>\n",
       "    </tr>\n",
       "    <tr>\n",
       "      <th>2</th>\n",
       "      <td>10476</td>\n",
       "      <td>1958.0</td>\n",
       "      <td>Graduation</td>\n",
       "      <td>Married</td>\n",
       "      <td>67267.0</td>\n",
       "      <td>0</td>\n",
       "      <td>1</td>\n",
       "      <td>2014-05-13</td>\n",
       "      <td>0</td>\n",
       "      <td>134.0</td>\n",
       "      <td>3</td>\n",
       "    </tr>\n",
       "    <tr>\n",
       "      <th>3</th>\n",
       "      <td>1386</td>\n",
       "      <td>1967.0</td>\n",
       "      <td>Graduation</td>\n",
       "      <td>Together</td>\n",
       "      <td>32474.0</td>\n",
       "      <td>1</td>\n",
       "      <td>1</td>\n",
       "      <td>2014-05-11</td>\n",
       "      <td>0</td>\n",
       "      <td>10.0</td>\n",
       "      <td>1</td>\n",
       "    </tr>\n",
       "    <tr>\n",
       "      <th>4</th>\n",
       "      <td>5371</td>\n",
       "      <td>1989.0</td>\n",
       "      <td>Graduation</td>\n",
       "      <td>Single</td>\n",
       "      <td>21474.0</td>\n",
       "      <td>1</td>\n",
       "      <td>0</td>\n",
       "      <td>2014-04-08</td>\n",
       "      <td>0</td>\n",
       "      <td>6.0</td>\n",
       "      <td>3</td>\n",
       "    </tr>\n",
       "  </tbody>\n",
       "</table>\n",
       "</div>"
      ],
      "text/plain": [
       "      ID  Year_Birth   Education Marital_Status   Income   Kidhome  Teenhome  \\\n",
       "0   1826      1970.0  Graduation       Divorced   84835.0        0         0   \n",
       "1      1      1961.0  Graduation         Single   57091.0        0         0   \n",
       "2  10476      1958.0  Graduation        Married   67267.0        0         1   \n",
       "3   1386      1967.0  Graduation       Together   32474.0        1         1   \n",
       "4   5371      1989.0  Graduation         Single   21474.0        1         0   \n",
       "\n",
       "  Dt_Customer  Recency  MntWines  NumWebPurchases  \n",
       "0  2014-06-16        0     189.0                4  \n",
       "1  2014-06-15        0     464.0                7  \n",
       "2  2014-05-13        0     134.0                3  \n",
       "3  2014-05-11        0      10.0                1  \n",
       "4  2014-04-08        0       6.0                3  "
      ]
     },
     "execution_count": 287,
     "metadata": {},
     "output_type": "execute_result"
    }
   ],
   "source": [
    "A.head()"
   ]
  },
  {
   "cell_type": "code",
   "execution_count": 288,
   "id": "f74d4ec5",
   "metadata": {},
   "outputs": [
    {
     "data": {
      "text/html": [
       "<div>\n",
       "<style scoped>\n",
       "    .dataframe tbody tr th:only-of-type {\n",
       "        vertical-align: middle;\n",
       "    }\n",
       "\n",
       "    .dataframe tbody tr th {\n",
       "        vertical-align: top;\n",
       "    }\n",
       "\n",
       "    .dataframe thead th {\n",
       "        text-align: right;\n",
       "    }\n",
       "</style>\n",
       "<table border=\"1\" class=\"dataframe\">\n",
       "  <thead>\n",
       "    <tr style=\"text-align: right;\">\n",
       "      <th></th>\n",
       "      <th>ID</th>\n",
       "      <th>Year_Birth</th>\n",
       "      <th>Income</th>\n",
       "      <th>Kidhome</th>\n",
       "      <th>Teenhome</th>\n",
       "      <th>Recency</th>\n",
       "      <th>MntWines</th>\n",
       "      <th>NumWebPurchases</th>\n",
       "    </tr>\n",
       "  </thead>\n",
       "  <tbody>\n",
       "    <tr>\n",
       "      <th>ID</th>\n",
       "      <td>1.000000</td>\n",
       "      <td>0.003062</td>\n",
       "      <td>0.000738</td>\n",
       "      <td>0.002406</td>\n",
       "      <td>-0.002580</td>\n",
       "      <td>-0.046524</td>\n",
       "      <td>-0.029490</td>\n",
       "      <td>-0.018924</td>\n",
       "    </tr>\n",
       "    <tr>\n",
       "      <th>Year_Birth</th>\n",
       "      <td>0.003062</td>\n",
       "      <td>1.000000</td>\n",
       "      <td>-0.210966</td>\n",
       "      <td>0.233979</td>\n",
       "      <td>-0.363181</td>\n",
       "      <td>-0.019637</td>\n",
       "      <td>-0.156359</td>\n",
       "      <td>-0.153989</td>\n",
       "    </tr>\n",
       "    <tr>\n",
       "      <th>Income</th>\n",
       "      <td>0.000738</td>\n",
       "      <td>-0.210966</td>\n",
       "      <td>1.000000</td>\n",
       "      <td>-0.527027</td>\n",
       "      <td>0.041937</td>\n",
       "      <td>0.005572</td>\n",
       "      <td>0.709660</td>\n",
       "      <td>0.491548</td>\n",
       "    </tr>\n",
       "    <tr>\n",
       "      <th>Kidhome</th>\n",
       "      <td>0.002406</td>\n",
       "      <td>0.233979</td>\n",
       "      <td>-0.527027</td>\n",
       "      <td>1.000000</td>\n",
       "      <td>-0.036133</td>\n",
       "      <td>0.008827</td>\n",
       "      <td>-0.496302</td>\n",
       "      <td>-0.361647</td>\n",
       "    </tr>\n",
       "    <tr>\n",
       "      <th>Teenhome</th>\n",
       "      <td>-0.002580</td>\n",
       "      <td>-0.363181</td>\n",
       "      <td>0.041937</td>\n",
       "      <td>-0.036133</td>\n",
       "      <td>1.000000</td>\n",
       "      <td>0.016198</td>\n",
       "      <td>0.019484</td>\n",
       "      <td>0.155500</td>\n",
       "    </tr>\n",
       "    <tr>\n",
       "      <th>Recency</th>\n",
       "      <td>-0.046524</td>\n",
       "      <td>-0.019637</td>\n",
       "      <td>0.005572</td>\n",
       "      <td>0.008827</td>\n",
       "      <td>0.016198</td>\n",
       "      <td>1.000000</td>\n",
       "      <td>0.019222</td>\n",
       "      <td>-0.010726</td>\n",
       "    </tr>\n",
       "    <tr>\n",
       "      <th>MntWines</th>\n",
       "      <td>-0.029490</td>\n",
       "      <td>-0.156359</td>\n",
       "      <td>0.709660</td>\n",
       "      <td>-0.496302</td>\n",
       "      <td>0.019484</td>\n",
       "      <td>0.019222</td>\n",
       "      <td>1.000000</td>\n",
       "      <td>0.551592</td>\n",
       "    </tr>\n",
       "    <tr>\n",
       "      <th>NumWebPurchases</th>\n",
       "      <td>-0.018924</td>\n",
       "      <td>-0.153989</td>\n",
       "      <td>0.491548</td>\n",
       "      <td>-0.361647</td>\n",
       "      <td>0.155500</td>\n",
       "      <td>-0.010726</td>\n",
       "      <td>0.551592</td>\n",
       "      <td>1.000000</td>\n",
       "    </tr>\n",
       "  </tbody>\n",
       "</table>\n",
       "</div>"
      ],
      "text/plain": [
       "                       ID  Year_Birth   Income    Kidhome  Teenhome   Recency  \\\n",
       "ID               1.000000    0.003062  0.000738  0.002406 -0.002580 -0.046524   \n",
       "Year_Birth       0.003062    1.000000 -0.210966  0.233979 -0.363181 -0.019637   \n",
       " Income          0.000738   -0.210966  1.000000 -0.527027  0.041937  0.005572   \n",
       "Kidhome          0.002406    0.233979 -0.527027  1.000000 -0.036133  0.008827   \n",
       "Teenhome        -0.002580   -0.363181  0.041937 -0.036133  1.000000  0.016198   \n",
       "Recency         -0.046524   -0.019637  0.005572  0.008827  0.016198  1.000000   \n",
       "MntWines        -0.029490   -0.156359  0.709660 -0.496302  0.019484  0.019222   \n",
       "NumWebPurchases -0.018924   -0.153989  0.491548 -0.361647  0.155500 -0.010726   \n",
       "\n",
       "                 MntWines  NumWebPurchases  \n",
       "ID              -0.029490        -0.018924  \n",
       "Year_Birth      -0.156359        -0.153989  \n",
       " Income          0.709660         0.491548  \n",
       "Kidhome         -0.496302        -0.361647  \n",
       "Teenhome         0.019484         0.155500  \n",
       "Recency          0.019222        -0.010726  \n",
       "MntWines         1.000000         0.551592  \n",
       "NumWebPurchases  0.551592         1.000000  "
      ]
     },
     "execution_count": 288,
     "metadata": {},
     "output_type": "execute_result"
    }
   ],
   "source": [
    "A.corr()"
   ]
  },
  {
   "cell_type": "code",
   "execution_count": 289,
   "id": "7cce8c79",
   "metadata": {},
   "outputs": [
    {
     "data": {
      "text/plain": [
       "<seaborn.axisgrid.FacetGrid at 0x7f83c060ad60>"
      ]
     },
     "execution_count": 289,
     "metadata": {},
     "output_type": "execute_result"
    },
    {
     "data": {
      "image/png": "[encoded data removed]",
      "text/plain": [
       "<Figure size 360x360 with 1 Axes>"
      ]
     },
     "metadata": {
      "needs_background": "light"
     },
     "output_type": "display_data"
    }
   ],
   "source": [
    "sns.lmplot(y='NumWebPurchases',x='MntWines',data=df)"
   ]
  },
  {
   "cell_type": "code",
   "execution_count": 290,
   "id": "0cc8daba",
   "metadata": {},
   "outputs": [],
   "source": [
    "import scipy.stats as s"
   ]
  },
  {
   "cell_type": "code",
   "execution_count": 291,
   "id": "f0a23ec7",
   "metadata": {},
   "outputs": [],
   "source": [
    "pearson_coef,p_value=s.pearsonr(df['NumWebPurchases'],df['MntWines'])"
   ]
  },
  {
   "cell_type": "code",
   "execution_count": 292,
   "id": "8921b6af",
   "metadata": {},
   "outputs": [
    {
     "name": "stdout",
     "output_type": "stream",
     "text": [
      "The pearson_coef= 0.5515917725034333  The p value is  1.5403375098359687e-178\n"
     ]
    }
   ],
   "source": [
    "print('The pearson_coef=',pearson_coef,' The p value is ',p_value)"
   ]
  },
  {
   "cell_type": "markdown",
   "id": "4ef2b0ad",
   "metadata": {},
   "source": [
    "There is moderate positive corelation between Web purchases and Wine Purchases and since the p value is small,the relationship is statistically significant"
   ]
  },
  {
   "cell_type": "code",
   "execution_count": 293,
   "id": "31884ce2",
   "metadata": {},
   "outputs": [],
   "source": [
    "B=df.iloc[:,10:28]"
   ]
  },
  {
   "cell_type": "code",
   "execution_count": 294,
   "id": "b0ff718d",
   "metadata": {},
   "outputs": [
    {
     "data": {
      "text/html": [
       "<div>\n",
       "<style scoped>\n",
       "    .dataframe tbody tr th:only-of-type {\n",
       "        vertical-align: middle;\n",
       "    }\n",
       "\n",
       "    .dataframe tbody tr th {\n",
       "        vertical-align: top;\n",
       "    }\n",
       "\n",
       "    .dataframe thead th {\n",
       "        text-align: right;\n",
       "    }\n",
       "</style>\n",
       "<table border=\"1\" class=\"dataframe\">\n",
       "  <thead>\n",
       "    <tr style=\"text-align: right;\">\n",
       "      <th></th>\n",
       "      <th>MntFruits</th>\n",
       "      <th>MntMeatProducts</th>\n",
       "      <th>MntFishProducts</th>\n",
       "      <th>MntSweetProducts</th>\n",
       "      <th>MntGoldProds</th>\n",
       "      <th>NumDealsPurchases</th>\n",
       "      <th>NumWebPurchases</th>\n",
       "      <th>NumCatalogPurchases</th>\n",
       "      <th>NumStorePurchases</th>\n",
       "      <th>NumWebVisitsMonth</th>\n",
       "      <th>AcceptedCmp3</th>\n",
       "      <th>AcceptedCmp4</th>\n",
       "      <th>AcceptedCmp5</th>\n",
       "      <th>AcceptedCmp1</th>\n",
       "      <th>AcceptedCmp2</th>\n",
       "      <th>Response</th>\n",
       "      <th>Complain</th>\n",
       "    </tr>\n",
       "  </thead>\n",
       "  <tbody>\n",
       "    <tr>\n",
       "      <th>MntFruits</th>\n",
       "      <td>1.000000</td>\n",
       "      <td>0.433735</td>\n",
       "      <td>0.467033</td>\n",
       "      <td>0.400267</td>\n",
       "      <td>0.338949</td>\n",
       "      <td>-0.034263</td>\n",
       "      <td>0.298400</td>\n",
       "      <td>0.407673</td>\n",
       "      <td>0.423426</td>\n",
       "      <td>-0.333787</td>\n",
       "      <td>0.013697</td>\n",
       "      <td>0.038054</td>\n",
       "      <td>0.157874</td>\n",
       "      <td>0.100906</td>\n",
       "      <td>0.025019</td>\n",
       "      <td>0.109029</td>\n",
       "      <td>-0.004185</td>\n",
       "    </tr>\n",
       "    <tr>\n",
       "      <th>MntMeatProducts</th>\n",
       "      <td>0.433735</td>\n",
       "      <td>1.000000</td>\n",
       "      <td>0.461862</td>\n",
       "      <td>0.417706</td>\n",
       "      <td>0.370937</td>\n",
       "      <td>-0.035716</td>\n",
       "      <td>0.389444</td>\n",
       "      <td>0.569081</td>\n",
       "      <td>0.539785</td>\n",
       "      <td>-0.414469</td>\n",
       "      <td>0.004236</td>\n",
       "      <td>0.086394</td>\n",
       "      <td>0.213075</td>\n",
       "      <td>0.214703</td>\n",
       "      <td>0.050278</td>\n",
       "      <td>0.127475</td>\n",
       "      <td>-0.018084</td>\n",
       "    </tr>\n",
       "    <tr>\n",
       "      <th>MntFishProducts</th>\n",
       "      <td>0.467033</td>\n",
       "      <td>0.461862</td>\n",
       "      <td>1.000000</td>\n",
       "      <td>0.467480</td>\n",
       "      <td>0.324891</td>\n",
       "      <td>-0.050743</td>\n",
       "      <td>0.317406</td>\n",
       "      <td>0.416525</td>\n",
       "      <td>0.434202</td>\n",
       "      <td>-0.343800</td>\n",
       "      <td>-0.016876</td>\n",
       "      <td>0.032099</td>\n",
       "      <td>0.213696</td>\n",
       "      <td>0.160514</td>\n",
       "      <td>0.053257</td>\n",
       "      <td>0.089411</td>\n",
       "      <td>0.015550</td>\n",
       "    </tr>\n",
       "    <tr>\n",
       "      <th>MntSweetProducts</th>\n",
       "      <td>0.400267</td>\n",
       "      <td>0.417706</td>\n",
       "      <td>0.467480</td>\n",
       "      <td>1.000000</td>\n",
       "      <td>0.284807</td>\n",
       "      <td>-0.048276</td>\n",
       "      <td>0.282550</td>\n",
       "      <td>0.417520</td>\n",
       "      <td>0.430399</td>\n",
       "      <td>-0.323274</td>\n",
       "      <td>-0.025190</td>\n",
       "      <td>0.030689</td>\n",
       "      <td>0.171307</td>\n",
       "      <td>0.155531</td>\n",
       "      <td>0.031802</td>\n",
       "      <td>0.107397</td>\n",
       "      <td>-0.005619</td>\n",
       "    </tr>\n",
       "    <tr>\n",
       "      <th>MntGoldProds</th>\n",
       "      <td>0.338949</td>\n",
       "      <td>0.370937</td>\n",
       "      <td>0.324891</td>\n",
       "      <td>0.284807</td>\n",
       "      <td>1.000000</td>\n",
       "      <td>0.094042</td>\n",
       "      <td>0.393606</td>\n",
       "      <td>0.370778</td>\n",
       "      <td>0.395438</td>\n",
       "      <td>-0.206761</td>\n",
       "      <td>0.063045</td>\n",
       "      <td>0.054419</td>\n",
       "      <td>0.139575</td>\n",
       "      <td>0.107696</td>\n",
       "      <td>0.042766</td>\n",
       "      <td>0.107860</td>\n",
       "      <td>-0.033090</td>\n",
       "    </tr>\n",
       "    <tr>\n",
       "      <th>NumDealsPurchases</th>\n",
       "      <td>-0.034263</td>\n",
       "      <td>-0.035716</td>\n",
       "      <td>-0.050743</td>\n",
       "      <td>-0.048276</td>\n",
       "      <td>0.094042</td>\n",
       "      <td>1.000000</td>\n",
       "      <td>0.234185</td>\n",
       "      <td>-0.008617</td>\n",
       "      <td>0.068879</td>\n",
       "      <td>0.347633</td>\n",
       "      <td>-0.023109</td>\n",
       "      <td>0.015594</td>\n",
       "      <td>-0.183248</td>\n",
       "      <td>-0.123244</td>\n",
       "      <td>-0.037695</td>\n",
       "      <td>0.002238</td>\n",
       "      <td>0.000420</td>\n",
       "    </tr>\n",
       "    <tr>\n",
       "      <th>NumWebPurchases</th>\n",
       "      <td>0.298400</td>\n",
       "      <td>0.389444</td>\n",
       "      <td>0.317406</td>\n",
       "      <td>0.282550</td>\n",
       "      <td>0.393606</td>\n",
       "      <td>0.234185</td>\n",
       "      <td>1.000000</td>\n",
       "      <td>0.378376</td>\n",
       "      <td>0.502713</td>\n",
       "      <td>-0.055846</td>\n",
       "      <td>0.042176</td>\n",
       "      <td>0.155903</td>\n",
       "      <td>0.138684</td>\n",
       "      <td>0.155143</td>\n",
       "      <td>0.034188</td>\n",
       "      <td>0.148730</td>\n",
       "      <td>-0.016310</td>\n",
       "    </tr>\n",
       "    <tr>\n",
       "      <th>NumCatalogPurchases</th>\n",
       "      <td>0.407673</td>\n",
       "      <td>0.569081</td>\n",
       "      <td>0.416525</td>\n",
       "      <td>0.417520</td>\n",
       "      <td>0.370778</td>\n",
       "      <td>-0.008617</td>\n",
       "      <td>0.378376</td>\n",
       "      <td>1.000000</td>\n",
       "      <td>0.518738</td>\n",
       "      <td>-0.520364</td>\n",
       "      <td>0.104730</td>\n",
       "      <td>0.139247</td>\n",
       "      <td>0.322321</td>\n",
       "      <td>0.308097</td>\n",
       "      <td>0.099852</td>\n",
       "      <td>0.220810</td>\n",
       "      <td>-0.020453</td>\n",
       "    </tr>\n",
       "    <tr>\n",
       "      <th>NumStorePurchases</th>\n",
       "      <td>0.423426</td>\n",
       "      <td>0.539785</td>\n",
       "      <td>0.434202</td>\n",
       "      <td>0.430399</td>\n",
       "      <td>0.395438</td>\n",
       "      <td>0.068879</td>\n",
       "      <td>0.502713</td>\n",
       "      <td>0.518738</td>\n",
       "      <td>1.000000</td>\n",
       "      <td>-0.428473</td>\n",
       "      <td>-0.067577</td>\n",
       "      <td>0.179379</td>\n",
       "      <td>0.214790</td>\n",
       "      <td>0.183249</td>\n",
       "      <td>0.085189</td>\n",
       "      <td>0.039363</td>\n",
       "      <td>-0.016524</td>\n",
       "    </tr>\n",
       "    <tr>\n",
       "      <th>NumWebVisitsMonth</th>\n",
       "      <td>-0.333787</td>\n",
       "      <td>-0.414469</td>\n",
       "      <td>-0.343800</td>\n",
       "      <td>-0.323274</td>\n",
       "      <td>-0.206761</td>\n",
       "      <td>0.347633</td>\n",
       "      <td>-0.055846</td>\n",
       "      <td>-0.520364</td>\n",
       "      <td>-0.428473</td>\n",
       "      <td>1.000000</td>\n",
       "      <td>0.061211</td>\n",
       "      <td>-0.032126</td>\n",
       "      <td>-0.278113</td>\n",
       "      <td>-0.192502</td>\n",
       "      <td>-0.007196</td>\n",
       "      <td>-0.003987</td>\n",
       "      <td>0.019769</td>\n",
       "    </tr>\n",
       "    <tr>\n",
       "      <th>AcceptedCmp3</th>\n",
       "      <td>0.013697</td>\n",
       "      <td>0.004236</td>\n",
       "      <td>-0.016876</td>\n",
       "      <td>-0.025190</td>\n",
       "      <td>0.063045</td>\n",
       "      <td>-0.023109</td>\n",
       "      <td>0.042176</td>\n",
       "      <td>0.104730</td>\n",
       "      <td>-0.067577</td>\n",
       "      <td>0.061211</td>\n",
       "      <td>1.000000</td>\n",
       "      <td>-0.079512</td>\n",
       "      <td>0.080316</td>\n",
       "      <td>0.094751</td>\n",
       "      <td>0.072020</td>\n",
       "      <td>0.254258</td>\n",
       "      <td>0.008415</td>\n",
       "    </tr>\n",
       "    <tr>\n",
       "      <th>AcceptedCmp4</th>\n",
       "      <td>0.038054</td>\n",
       "      <td>0.086394</td>\n",
       "      <td>0.032099</td>\n",
       "      <td>0.030689</td>\n",
       "      <td>0.054419</td>\n",
       "      <td>0.015594</td>\n",
       "      <td>0.155903</td>\n",
       "      <td>0.139247</td>\n",
       "      <td>0.179379</td>\n",
       "      <td>-0.032126</td>\n",
       "      <td>-0.079512</td>\n",
       "      <td>1.000000</td>\n",
       "      <td>0.306526</td>\n",
       "      <td>0.251300</td>\n",
       "      <td>0.292210</td>\n",
       "      <td>0.177019</td>\n",
       "      <td>-0.027611</td>\n",
       "    </tr>\n",
       "    <tr>\n",
       "      <th>AcceptedCmp5</th>\n",
       "      <td>0.157874</td>\n",
       "      <td>0.213075</td>\n",
       "      <td>0.213696</td>\n",
       "      <td>0.171307</td>\n",
       "      <td>0.139575</td>\n",
       "      <td>-0.183248</td>\n",
       "      <td>0.138684</td>\n",
       "      <td>0.322321</td>\n",
       "      <td>0.214790</td>\n",
       "      <td>-0.278113</td>\n",
       "      <td>0.080316</td>\n",
       "      <td>0.306526</td>\n",
       "      <td>1.000000</td>\n",
       "      <td>0.403078</td>\n",
       "      <td>0.221533</td>\n",
       "      <td>0.326634</td>\n",
       "      <td>-0.009419</td>\n",
       "    </tr>\n",
       "    <tr>\n",
       "      <th>AcceptedCmp1</th>\n",
       "      <td>0.100906</td>\n",
       "      <td>0.214703</td>\n",
       "      <td>0.160514</td>\n",
       "      <td>0.155531</td>\n",
       "      <td>0.107696</td>\n",
       "      <td>-0.123244</td>\n",
       "      <td>0.155143</td>\n",
       "      <td>0.308097</td>\n",
       "      <td>0.183249</td>\n",
       "      <td>-0.192502</td>\n",
       "      <td>0.094751</td>\n",
       "      <td>0.251300</td>\n",
       "      <td>0.403078</td>\n",
       "      <td>1.000000</td>\n",
       "      <td>0.175315</td>\n",
       "      <td>0.293982</td>\n",
       "      <td>-0.025499</td>\n",
       "    </tr>\n",
       "    <tr>\n",
       "      <th>AcceptedCmp2</th>\n",
       "      <td>0.025019</td>\n",
       "      <td>0.050278</td>\n",
       "      <td>0.053257</td>\n",
       "      <td>0.031802</td>\n",
       "      <td>0.042766</td>\n",
       "      <td>-0.037695</td>\n",
       "      <td>0.034188</td>\n",
       "      <td>0.099852</td>\n",
       "      <td>0.085189</td>\n",
       "      <td>-0.007196</td>\n",
       "      <td>0.072020</td>\n",
       "      <td>0.292210</td>\n",
       "      <td>0.221533</td>\n",
       "      <td>0.175315</td>\n",
       "      <td>1.000000</td>\n",
       "      <td>0.169293</td>\n",
       "      <td>-0.011334</td>\n",
       "    </tr>\n",
       "    <tr>\n",
       "      <th>Response</th>\n",
       "      <td>0.109029</td>\n",
       "      <td>0.127475</td>\n",
       "      <td>0.089411</td>\n",
       "      <td>0.107397</td>\n",
       "      <td>0.107860</td>\n",
       "      <td>0.002238</td>\n",
       "      <td>0.148730</td>\n",
       "      <td>0.220810</td>\n",
       "      <td>0.039363</td>\n",
       "      <td>-0.003987</td>\n",
       "      <td>0.254258</td>\n",
       "      <td>0.177019</td>\n",
       "      <td>0.326634</td>\n",
       "      <td>0.293982</td>\n",
       "      <td>0.169293</td>\n",
       "      <td>1.000000</td>\n",
       "      <td>-0.001707</td>\n",
       "    </tr>\n",
       "    <tr>\n",
       "      <th>Complain</th>\n",
       "      <td>-0.004185</td>\n",
       "      <td>-0.018084</td>\n",
       "      <td>0.015550</td>\n",
       "      <td>-0.005619</td>\n",
       "      <td>-0.033090</td>\n",
       "      <td>0.000420</td>\n",
       "      <td>-0.016310</td>\n",
       "      <td>-0.020453</td>\n",
       "      <td>-0.016524</td>\n",
       "      <td>0.019769</td>\n",
       "      <td>0.008415</td>\n",
       "      <td>-0.027611</td>\n",
       "      <td>-0.009419</td>\n",
       "      <td>-0.025499</td>\n",
       "      <td>-0.011334</td>\n",
       "      <td>-0.001707</td>\n",
       "      <td>1.000000</td>\n",
       "    </tr>\n",
       "  </tbody>\n",
       "</table>\n",
       "</div>"
      ],
      "text/plain": [
       "                     MntFruits  MntMeatProducts  MntFishProducts  \\\n",
       "MntFruits             1.000000         0.433735         0.467033   \n",
       "MntMeatProducts       0.433735         1.000000         0.461862   \n",
       "MntFishProducts       0.467033         0.461862         1.000000   \n",
       "MntSweetProducts      0.400267         0.417706         0.467480   \n",
       "MntGoldProds          0.338949         0.370937         0.324891   \n",
       "NumDealsPurchases    -0.034263        -0.035716        -0.050743   \n",
       "NumWebPurchases       0.298400         0.389444         0.317406   \n",
       "NumCatalogPurchases   0.407673         0.569081         0.416525   \n",
       "NumStorePurchases     0.423426         0.539785         0.434202   \n",
       "NumWebVisitsMonth    -0.333787        -0.414469        -0.343800   \n",
       "AcceptedCmp3          0.013697         0.004236        -0.016876   \n",
       "AcceptedCmp4          0.038054         0.086394         0.032099   \n",
       "AcceptedCmp5          0.157874         0.213075         0.213696   \n",
       "AcceptedCmp1          0.100906         0.214703         0.160514   \n",
       "AcceptedCmp2          0.025019         0.050278         0.053257   \n",
       "Response              0.109029         0.127475         0.089411   \n",
       "Complain             -0.004185        -0.018084         0.015550   \n",
       "\n",
       "                     MntSweetProducts  MntGoldProds  NumDealsPurchases  \\\n",
       "MntFruits                    0.400267      0.338949          -0.034263   \n",
       "MntMeatProducts              0.417706      0.370937          -0.035716   \n",
       "MntFishProducts              0.467480      0.324891          -0.050743   \n",
       "MntSweetProducts             1.000000      0.284807          -0.048276   \n",
       "MntGoldProds                 0.284807      1.000000           0.094042   \n",
       "NumDealsPurchases           -0.048276      0.094042           1.000000   \n",
       "NumWebPurchases              0.282550      0.393606           0.234185   \n",
       "NumCatalogPurchases          0.417520      0.370778          -0.008617   \n",
       "NumStorePurchases            0.430399      0.395438           0.068879   \n",
       "NumWebVisitsMonth           -0.323274     -0.206761           0.347633   \n",
       "AcceptedCmp3                -0.025190      0.063045          -0.023109   \n",
       "AcceptedCmp4                 0.030689      0.054419           0.015594   \n",
       "AcceptedCmp5                 0.171307      0.139575          -0.183248   \n",
       "AcceptedCmp1                 0.155531      0.107696          -0.123244   \n",
       "AcceptedCmp2                 0.031802      0.042766          -0.037695   \n",
       "Response                     0.107397      0.107860           0.002238   \n",
       "Complain                    -0.005619     -0.033090           0.000420   \n",
       "\n",
       "                     NumWebPurchases  NumCatalogPurchases  NumStorePurchases  \\\n",
       "MntFruits                   0.298400             0.407673           0.423426   \n",
       "MntMeatProducts             0.389444             0.569081           0.539785   \n",
       "MntFishProducts             0.317406             0.416525           0.434202   \n",
       "MntSweetProducts            0.282550             0.417520           0.430399   \n",
       "MntGoldProds                0.393606             0.370778           0.395438   \n",
       "NumDealsPurchases           0.234185            -0.008617           0.068879   \n",
       "NumWebPurchases             1.000000             0.378376           0.502713   \n",
       "NumCatalogPurchases         0.378376             1.000000           0.518738   \n",
       "NumStorePurchases           0.502713             0.518738           1.000000   \n",
       "NumWebVisitsMonth          -0.055846            -0.520364          -0.428473   \n",
       "AcceptedCmp3                0.042176             0.104730          -0.067577   \n",
       "AcceptedCmp4                0.155903             0.139247           0.179379   \n",
       "AcceptedCmp5                0.138684             0.322321           0.214790   \n",
       "AcceptedCmp1                0.155143             0.308097           0.183249   \n",
       "AcceptedCmp2                0.034188             0.099852           0.085189   \n",
       "Response                    0.148730             0.220810           0.039363   \n",
       "Complain                   -0.016310            -0.020453          -0.016524   \n",
       "\n",
       "                     NumWebVisitsMonth  AcceptedCmp3  AcceptedCmp4  \\\n",
       "MntFruits                    -0.333787      0.013697      0.038054   \n",
       "MntMeatProducts              -0.414469      0.004236      0.086394   \n",
       "MntFishProducts              -0.343800     -0.016876      0.032099   \n",
       "MntSweetProducts             -0.323274     -0.025190      0.030689   \n",
       "MntGoldProds                 -0.206761      0.063045      0.054419   \n",
       "NumDealsPurchases             0.347633     -0.023109      0.015594   \n",
       "NumWebPurchases              -0.055846      0.042176      0.155903   \n",
       "NumCatalogPurchases          -0.520364      0.104730      0.139247   \n",
       "NumStorePurchases            -0.428473     -0.067577      0.179379   \n",
       "NumWebVisitsMonth             1.000000      0.061211     -0.032126   \n",
       "AcceptedCmp3                  0.061211      1.000000     -0.079512   \n",
       "AcceptedCmp4                 -0.032126     -0.079512      1.000000   \n",
       "AcceptedCmp5                 -0.278113      0.080316      0.306526   \n",
       "AcceptedCmp1                 -0.192502      0.094751      0.251300   \n",
       "AcceptedCmp2                 -0.007196      0.072020      0.292210   \n",
       "Response                     -0.003987      0.254258      0.177019   \n",
       "Complain                      0.019769      0.008415     -0.027611   \n",
       "\n",
       "                     AcceptedCmp5  AcceptedCmp1  AcceptedCmp2  Response  \\\n",
       "MntFruits                0.157874      0.100906      0.025019  0.109029   \n",
       "MntMeatProducts          0.213075      0.214703      0.050278  0.127475   \n",
       "MntFishProducts          0.213696      0.160514      0.053257  0.089411   \n",
       "MntSweetProducts         0.171307      0.155531      0.031802  0.107397   \n",
       "MntGoldProds             0.139575      0.107696      0.042766  0.107860   \n",
       "NumDealsPurchases       -0.183248     -0.123244     -0.037695  0.002238   \n",
       "NumWebPurchases          0.138684      0.155143      0.034188  0.148730   \n",
       "NumCatalogPurchases      0.322321      0.308097      0.099852  0.220810   \n",
       "NumStorePurchases        0.214790      0.183249      0.085189  0.039363   \n",
       "NumWebVisitsMonth       -0.278113     -0.192502     -0.007196 -0.003987   \n",
       "AcceptedCmp3             0.080316      0.094751      0.072020  0.254258   \n",
       "AcceptedCmp4             0.306526      0.251300      0.292210  0.177019   \n",
       "AcceptedCmp5             1.000000      0.403078      0.221533  0.326634   \n",
       "AcceptedCmp1             0.403078      1.000000      0.175315  0.293982   \n",
       "AcceptedCmp2             0.221533      0.175315      1.000000  0.169293   \n",
       "Response                 0.326634      0.293982      0.169293  1.000000   \n",
       "Complain                -0.009419     -0.025499     -0.011334 -0.001707   \n",
       "\n",
       "                     Complain  \n",
       "MntFruits           -0.004185  \n",
       "MntMeatProducts     -0.018084  \n",
       "MntFishProducts      0.015550  \n",
       "MntSweetProducts    -0.005619  \n",
       "MntGoldProds        -0.033090  \n",
       "NumDealsPurchases    0.000420  \n",
       "NumWebPurchases     -0.016310  \n",
       "NumCatalogPurchases -0.020453  \n",
       "NumStorePurchases   -0.016524  \n",
       "NumWebVisitsMonth    0.019769  \n",
       "AcceptedCmp3         0.008415  \n",
       "AcceptedCmp4        -0.027611  \n",
       "AcceptedCmp5        -0.009419  \n",
       "AcceptedCmp1        -0.025499  \n",
       "AcceptedCmp2        -0.011334  \n",
       "Response            -0.001707  \n",
       "Complain             1.000000  "
      ]
     },
     "execution_count": 294,
     "metadata": {},
     "output_type": "execute_result"
    }
   ],
   "source": [
    "B.corr()\n"
   ]
  },
  {
   "cell_type": "code",
   "execution_count": 295,
   "id": "03fb008a",
   "metadata": {},
   "outputs": [
    {
     "data": {
      "text/plain": [
       "<seaborn.axisgrid.FacetGrid at 0x7f83c04e9d30>"
      ]
     },
     "execution_count": 295,
     "metadata": {},
     "output_type": "execute_result"
    },
    {
     "data": {
      "image/png": "[encoded data removed]",
      "text/plain": [
       "<Figure size 360x360 with 1 Axes>"
      ]
     },
     "metadata": {
      "needs_background": "light"
     },
     "output_type": "display_data"
    }
   ],
   "source": [
    "sns.lmplot(y='NumWebPurchases',x='NumStorePurchases',data=df)"
   ]
  },
  {
   "cell_type": "code",
   "execution_count": 296,
   "id": "ec60aa1b",
   "metadata": {},
   "outputs": [],
   "source": [
    "pearson_coef,p_value=s.pearsonr(df['NumWebPurchases'],df['NumWebPurchases'])"
   ]
  },
  {
   "cell_type": "code",
   "execution_count": 297,
   "id": "47d0c91a",
   "metadata": {},
   "outputs": [
    {
     "name": "stdout",
     "output_type": "stream",
     "text": [
      "The pearson_coef= 0.9999999999999978  The p value is  0.0\n"
     ]
    }
   ],
   "source": [
    "print('The pearson_coef=',pearson_coef,' The p value is ',p_value)"
   ]
  },
  {
   "cell_type": "markdown",
   "id": "ddbccaf8",
   "metadata": {},
   "source": [
    "There is moderate positive corelation between Web purchases and Store Purchases and since the p value is small,the relationship is statistically significant"
   ]
  },
  {
   "cell_type": "markdown",
   "id": "e48f5cab",
   "metadata": {},
   "source": [
    "Which marketing campaign was the most successful?\n"
   ]
  },
  {
   "cell_type": "code",
   "execution_count": 303,
   "id": "ad98be32",
   "metadata": {},
   "outputs": [],
   "source": [
    "C=df.iloc[:,20:25]"
   ]
  },
  {
   "cell_type": "code",
   "execution_count": 304,
   "id": "762d13ae",
   "metadata": {},
   "outputs": [
    {
     "data": {
      "text/html": [
       "<div>\n",
       "<style scoped>\n",
       "    .dataframe tbody tr th:only-of-type {\n",
       "        vertical-align: middle;\n",
       "    }\n",
       "\n",
       "    .dataframe tbody tr th {\n",
       "        vertical-align: top;\n",
       "    }\n",
       "\n",
       "    .dataframe thead th {\n",
       "        text-align: right;\n",
       "    }\n",
       "</style>\n",
       "<table border=\"1\" class=\"dataframe\">\n",
       "  <thead>\n",
       "    <tr style=\"text-align: right;\">\n",
       "      <th></th>\n",
       "      <th>AcceptedCmp3</th>\n",
       "      <th>AcceptedCmp4</th>\n",
       "      <th>AcceptedCmp5</th>\n",
       "      <th>AcceptedCmp1</th>\n",
       "      <th>AcceptedCmp2</th>\n",
       "    </tr>\n",
       "  </thead>\n",
       "  <tbody>\n",
       "    <tr>\n",
       "      <th>0</th>\n",
       "      <td>0</td>\n",
       "      <td>0</td>\n",
       "      <td>0</td>\n",
       "      <td>0</td>\n",
       "      <td>0</td>\n",
       "    </tr>\n",
       "    <tr>\n",
       "      <th>1</th>\n",
       "      <td>0</td>\n",
       "      <td>0</td>\n",
       "      <td>0</td>\n",
       "      <td>0</td>\n",
       "      <td>1</td>\n",
       "    </tr>\n",
       "    <tr>\n",
       "      <th>2</th>\n",
       "      <td>0</td>\n",
       "      <td>0</td>\n",
       "      <td>0</td>\n",
       "      <td>0</td>\n",
       "      <td>0</td>\n",
       "    </tr>\n",
       "    <tr>\n",
       "      <th>3</th>\n",
       "      <td>0</td>\n",
       "      <td>0</td>\n",
       "      <td>0</td>\n",
       "      <td>0</td>\n",
       "      <td>0</td>\n",
       "    </tr>\n",
       "    <tr>\n",
       "      <th>4</th>\n",
       "      <td>1</td>\n",
       "      <td>0</td>\n",
       "      <td>0</td>\n",
       "      <td>0</td>\n",
       "      <td>0</td>\n",
       "    </tr>\n",
       "  </tbody>\n",
       "</table>\n",
       "</div>"
      ],
      "text/plain": [
       "   AcceptedCmp3  AcceptedCmp4  AcceptedCmp5  AcceptedCmp1  AcceptedCmp2\n",
       "0             0             0             0             0             0\n",
       "1             0             0             0             0             1\n",
       "2             0             0             0             0             0\n",
       "3             0             0             0             0             0\n",
       "4             1             0             0             0             0"
      ]
     },
     "execution_count": 304,
     "metadata": {},
     "output_type": "execute_result"
    }
   ],
   "source": [
    "C.head()"
   ]
  },
  {
   "cell_type": "code",
   "execution_count": 305,
   "id": "c075ef56",
   "metadata": {},
   "outputs": [
    {
     "data": {
      "text/plain": [
       "AcceptedCmp3    163\n",
       "AcceptedCmp4    167\n",
       "AcceptedCmp5    163\n",
       "AcceptedCmp1    144\n",
       "AcceptedCmp2     30\n",
       "dtype: int64"
      ]
     },
     "execution_count": 305,
     "metadata": {},
     "output_type": "execute_result"
    }
   ],
   "source": [
    "C.sum()"
   ]
  },
  {
   "cell_type": "code",
   "execution_count": 307,
   "id": "c09eb341",
   "metadata": {},
   "outputs": [
    {
     "data": {
      "text/plain": [
       "Text(0.5, 1.0, 'Distribution of Responses to various campaigns')"
      ]
     },
     "execution_count": 307,
     "metadata": {},
     "output_type": "execute_result"
    },
    {
     "data": {
      "image/png": "[encoded data removed]",
      "text/plain": [
       "<Figure size 432x288 with 1 Axes>"
      ]
     },
     "metadata": {
      "needs_background": "light"
     },
     "output_type": "display_data"
    }
   ],
   "source": [
    "C.apply(pd.value_counts).plot(kind='bar')\n",
    "plt.title('Distribution of Responses to various campaigns')"
   ]
  },
  {
   "cell_type": "markdown",
   "id": "39c929d1",
   "metadata": {},
   "source": [
    "Campaign 3 4 5 seems to have better response than campaign 1 and Campaign 2 did not fare well"
   ]
  },
  {
   "cell_type": "markdown",
   "id": "00137111",
   "metadata": {},
   "source": [
    "What does the average customer look like?\n"
   ]
  },
  {
   "cell_type": "code",
   "execution_count": 128,
   "id": "ae39dcee",
   "metadata": {},
   "outputs": [
    {
     "data": {
      "text/plain": [
       "Index(['ID', 'Year_Birth', 'Education', 'Marital_Status', ' Income ',\n",
       "       'Kidhome', 'Teenhome', 'Dt_Customer', 'Recency', 'MntWines',\n",
       "       'MntFruits', 'MntMeatProducts', 'MntFishProducts', 'MntSweetProducts',\n",
       "       'MntGoldProds', 'NumDealsPurchases', 'NumWebPurchases',\n",
       "       'NumCatalogPurchases', 'NumStorePurchases', 'NumWebVisitsMonth',\n",
       "       'AcceptedCmp3', 'AcceptedCmp4', 'AcceptedCmp5', 'AcceptedCmp1',\n",
       "       'AcceptedCmp2', 'Response', 'Complain', 'Country', 'Dt_Customer_Year'],\n",
       "      dtype='object')"
      ]
     },
     "execution_count": 128,
     "metadata": {},
     "output_type": "execute_result"
    }
   ],
   "source": [
    "df.columns"
   ]
  },
  {
   "cell_type": "code",
   "execution_count": 129,
   "id": "e7941160",
   "metadata": {},
   "outputs": [
    {
     "data": {
      "text/html": [
       "<div>\n",
       "<style scoped>\n",
       "    .dataframe tbody tr th:only-of-type {\n",
       "        vertical-align: middle;\n",
       "    }\n",
       "\n",
       "    .dataframe tbody tr th {\n",
       "        vertical-align: top;\n",
       "    }\n",
       "\n",
       "    .dataframe thead th {\n",
       "        text-align: right;\n",
       "    }\n",
       "</style>\n",
       "<table border=\"1\" class=\"dataframe\">\n",
       "  <thead>\n",
       "    <tr style=\"text-align: right;\">\n",
       "      <th></th>\n",
       "      <th>Year_Birth</th>\n",
       "      <th>Income</th>\n",
       "      <th>Kidhome</th>\n",
       "      <th>Teenhome</th>\n",
       "      <th>Recency</th>\n",
       "    </tr>\n",
       "  </thead>\n",
       "  <tbody>\n",
       "    <tr>\n",
       "      <th>count</th>\n",
       "      <td>2239.000000</td>\n",
       "      <td>2239.000000</td>\n",
       "      <td>2239.000000</td>\n",
       "      <td>2239.000000</td>\n",
       "      <td>2239.000000</td>\n",
       "    </tr>\n",
       "    <tr>\n",
       "      <th>mean</th>\n",
       "      <td>1968.802144</td>\n",
       "      <td>51972.834762</td>\n",
       "      <td>0.443948</td>\n",
       "      <td>0.506476</td>\n",
       "      <td>49.121036</td>\n",
       "    </tr>\n",
       "    <tr>\n",
       "      <th>std</th>\n",
       "      <td>11.985494</td>\n",
       "      <td>21410.605416</td>\n",
       "      <td>0.538390</td>\n",
       "      <td>0.544555</td>\n",
       "      <td>28.963662</td>\n",
       "    </tr>\n",
       "    <tr>\n",
       "      <th>min</th>\n",
       "      <td>1893.000000</td>\n",
       "      <td>1730.000000</td>\n",
       "      <td>0.000000</td>\n",
       "      <td>0.000000</td>\n",
       "      <td>0.000000</td>\n",
       "    </tr>\n",
       "    <tr>\n",
       "      <th>25%</th>\n",
       "      <td>1959.000000</td>\n",
       "      <td>35533.500000</td>\n",
       "      <td>0.000000</td>\n",
       "      <td>0.000000</td>\n",
       "      <td>24.000000</td>\n",
       "    </tr>\n",
       "    <tr>\n",
       "      <th>50%</th>\n",
       "      <td>1970.000000</td>\n",
       "      <td>51717.000000</td>\n",
       "      <td>0.000000</td>\n",
       "      <td>0.000000</td>\n",
       "      <td>49.000000</td>\n",
       "    </tr>\n",
       "    <tr>\n",
       "      <th>75%</th>\n",
       "      <td>1977.000000</td>\n",
       "      <td>68277.500000</td>\n",
       "      <td>1.000000</td>\n",
       "      <td>1.000000</td>\n",
       "      <td>74.000000</td>\n",
       "    </tr>\n",
       "    <tr>\n",
       "      <th>max</th>\n",
       "      <td>1996.000000</td>\n",
       "      <td>162397.000000</td>\n",
       "      <td>2.000000</td>\n",
       "      <td>2.000000</td>\n",
       "      <td>99.000000</td>\n",
       "    </tr>\n",
       "  </tbody>\n",
       "</table>\n",
       "</div>"
      ],
      "text/plain": [
       "        Year_Birth        Income       Kidhome     Teenhome      Recency\n",
       "count  2239.000000    2239.000000  2239.000000  2239.000000  2239.000000\n",
       "mean   1968.802144   51972.834762     0.443948     0.506476    49.121036\n",
       "std      11.985494   21410.605416     0.538390     0.544555    28.963662\n",
       "min    1893.000000    1730.000000     0.000000     0.000000     0.000000\n",
       "25%    1959.000000   35533.500000     0.000000     0.000000    24.000000\n",
       "50%    1970.000000   51717.000000     0.000000     0.000000    49.000000\n",
       "75%    1977.000000   68277.500000     1.000000     1.000000    74.000000\n",
       "max    1996.000000  162397.000000     2.000000     2.000000    99.000000"
      ]
     },
     "execution_count": 129,
     "metadata": {},
     "output_type": "execute_result"
    }
   ],
   "source": [
    "df.iloc[:,1:9].describe()"
   ]
  },
  {
   "cell_type": "code",
   "execution_count": 134,
   "id": "91fa1b94",
   "metadata": {},
   "outputs": [
    {
     "data": {
      "text/html": [
       "<div>\n",
       "<style scoped>\n",
       "    .dataframe tbody tr th:only-of-type {\n",
       "        vertical-align: middle;\n",
       "    }\n",
       "\n",
       "    .dataframe tbody tr th {\n",
       "        vertical-align: top;\n",
       "    }\n",
       "\n",
       "    .dataframe thead th {\n",
       "        text-align: right;\n",
       "    }\n",
       "</style>\n",
       "<table border=\"1\" class=\"dataframe\">\n",
       "  <thead>\n",
       "    <tr style=\"text-align: right;\">\n",
       "      <th></th>\n",
       "      <th>MntWines</th>\n",
       "      <th>MntFruits</th>\n",
       "      <th>MntMeatProducts</th>\n",
       "      <th>MntFishProducts</th>\n",
       "      <th>MntSweetProducts</th>\n",
       "      <th>MntGoldProds</th>\n",
       "      <th>NumDealsPurchases</th>\n",
       "      <th>NumWebPurchases</th>\n",
       "      <th>NumCatalogPurchases</th>\n",
       "      <th>NumStorePurchases</th>\n",
       "      <th>NumWebVisitsMonth</th>\n",
       "    </tr>\n",
       "  </thead>\n",
       "  <tbody>\n",
       "    <tr>\n",
       "      <th>count</th>\n",
       "      <td>2239.000000</td>\n",
       "      <td>2239.000000</td>\n",
       "      <td>2239.000000</td>\n",
       "      <td>2239.000000</td>\n",
       "      <td>2239.000000</td>\n",
       "      <td>2239.000000</td>\n",
       "      <td>2239.000000</td>\n",
       "      <td>2239.000000</td>\n",
       "      <td>2239.000000</td>\n",
       "      <td>2239.000000</td>\n",
       "      <td>2239.000000</td>\n",
       "    </tr>\n",
       "    <tr>\n",
       "      <th>mean</th>\n",
       "      <td>304.067441</td>\n",
       "      <td>26.307727</td>\n",
       "      <td>167.016525</td>\n",
       "      <td>37.538633</td>\n",
       "      <td>27.074587</td>\n",
       "      <td>44.036177</td>\n",
       "      <td>2.324252</td>\n",
       "      <td>4.085306</td>\n",
       "      <td>2.662796</td>\n",
       "      <td>5.791425</td>\n",
       "      <td>5.316213</td>\n",
       "    </tr>\n",
       "    <tr>\n",
       "      <th>std</th>\n",
       "      <td>336.614830</td>\n",
       "      <td>39.781468</td>\n",
       "      <td>225.743829</td>\n",
       "      <td>54.637617</td>\n",
       "      <td>41.286043</td>\n",
       "      <td>52.174700</td>\n",
       "      <td>1.932345</td>\n",
       "      <td>2.779240</td>\n",
       "      <td>2.923542</td>\n",
       "      <td>3.251149</td>\n",
       "      <td>2.427144</td>\n",
       "    </tr>\n",
       "    <tr>\n",
       "      <th>min</th>\n",
       "      <td>0.000000</td>\n",
       "      <td>0.000000</td>\n",
       "      <td>0.000000</td>\n",
       "      <td>0.000000</td>\n",
       "      <td>0.000000</td>\n",
       "      <td>0.000000</td>\n",
       "      <td>0.000000</td>\n",
       "      <td>0.000000</td>\n",
       "      <td>0.000000</td>\n",
       "      <td>0.000000</td>\n",
       "      <td>0.000000</td>\n",
       "    </tr>\n",
       "    <tr>\n",
       "      <th>25%</th>\n",
       "      <td>24.000000</td>\n",
       "      <td>1.000000</td>\n",
       "      <td>16.000000</td>\n",
       "      <td>3.000000</td>\n",
       "      <td>1.000000</td>\n",
       "      <td>9.000000</td>\n",
       "      <td>1.000000</td>\n",
       "      <td>2.000000</td>\n",
       "      <td>0.000000</td>\n",
       "      <td>3.000000</td>\n",
       "      <td>3.000000</td>\n",
       "    </tr>\n",
       "    <tr>\n",
       "      <th>50%</th>\n",
       "      <td>174.000000</td>\n",
       "      <td>8.000000</td>\n",
       "      <td>67.000000</td>\n",
       "      <td>12.000000</td>\n",
       "      <td>8.000000</td>\n",
       "      <td>24.000000</td>\n",
       "      <td>2.000000</td>\n",
       "      <td>4.000000</td>\n",
       "      <td>2.000000</td>\n",
       "      <td>5.000000</td>\n",
       "      <td>6.000000</td>\n",
       "    </tr>\n",
       "    <tr>\n",
       "      <th>75%</th>\n",
       "      <td>504.500000</td>\n",
       "      <td>33.000000</td>\n",
       "      <td>232.000000</td>\n",
       "      <td>50.000000</td>\n",
       "      <td>33.000000</td>\n",
       "      <td>56.000000</td>\n",
       "      <td>3.000000</td>\n",
       "      <td>6.000000</td>\n",
       "      <td>4.000000</td>\n",
       "      <td>8.000000</td>\n",
       "      <td>7.000000</td>\n",
       "    </tr>\n",
       "    <tr>\n",
       "      <th>max</th>\n",
       "      <td>1493.000000</td>\n",
       "      <td>199.000000</td>\n",
       "      <td>1725.000000</td>\n",
       "      <td>259.000000</td>\n",
       "      <td>263.000000</td>\n",
       "      <td>362.000000</td>\n",
       "      <td>15.000000</td>\n",
       "      <td>27.000000</td>\n",
       "      <td>28.000000</td>\n",
       "      <td>13.000000</td>\n",
       "      <td>20.000000</td>\n",
       "    </tr>\n",
       "  </tbody>\n",
       "</table>\n",
       "</div>"
      ],
      "text/plain": [
       "          MntWines    MntFruits  MntMeatProducts  MntFishProducts  \\\n",
       "count  2239.000000  2239.000000      2239.000000      2239.000000   \n",
       "mean    304.067441    26.307727       167.016525        37.538633   \n",
       "std     336.614830    39.781468       225.743829        54.637617   \n",
       "min       0.000000     0.000000         0.000000         0.000000   \n",
       "25%      24.000000     1.000000        16.000000         3.000000   \n",
       "50%     174.000000     8.000000        67.000000        12.000000   \n",
       "75%     504.500000    33.000000       232.000000        50.000000   \n",
       "max    1493.000000   199.000000      1725.000000       259.000000   \n",
       "\n",
       "       MntSweetProducts  MntGoldProds  NumDealsPurchases  NumWebPurchases  \\\n",
       "count       2239.000000   2239.000000        2239.000000      2239.000000   \n",
       "mean          27.074587     44.036177           2.324252         4.085306   \n",
       "std           41.286043     52.174700           1.932345         2.779240   \n",
       "min            0.000000      0.000000           0.000000         0.000000   \n",
       "25%            1.000000      9.000000           1.000000         2.000000   \n",
       "50%            8.000000     24.000000           2.000000         4.000000   \n",
       "75%           33.000000     56.000000           3.000000         6.000000   \n",
       "max          263.000000    362.000000          15.000000        27.000000   \n",
       "\n",
       "       NumCatalogPurchases  NumStorePurchases  NumWebVisitsMonth  \n",
       "count          2239.000000        2239.000000        2239.000000  \n",
       "mean              2.662796           5.791425           5.316213  \n",
       "std               2.923542           3.251149           2.427144  \n",
       "min               0.000000           0.000000           0.000000  \n",
       "25%               0.000000           3.000000           3.000000  \n",
       "50%               2.000000           5.000000           6.000000  \n",
       "75%               4.000000           8.000000           7.000000  \n",
       "max              28.000000          13.000000          20.000000  "
      ]
     },
     "execution_count": 134,
     "metadata": {},
     "output_type": "execute_result"
    }
   ],
   "source": [
    "df.iloc[:,9:20].describe()"
   ]
  },
  {
   "cell_type": "code",
   "execution_count": 135,
   "id": "36c59f30",
   "metadata": {},
   "outputs": [
    {
     "data": {
      "text/html": [
       "<div>\n",
       "<style scoped>\n",
       "    .dataframe tbody tr th:only-of-type {\n",
       "        vertical-align: middle;\n",
       "    }\n",
       "\n",
       "    .dataframe tbody tr th {\n",
       "        vertical-align: top;\n",
       "    }\n",
       "\n",
       "    .dataframe thead th {\n",
       "        text-align: right;\n",
       "    }\n",
       "</style>\n",
       "<table border=\"1\" class=\"dataframe\">\n",
       "  <thead>\n",
       "    <tr style=\"text-align: right;\">\n",
       "      <th></th>\n",
       "      <th>Education</th>\n",
       "      <th>Marital_Status</th>\n",
       "      <th>Dt_Customer</th>\n",
       "      <th>Country</th>\n",
       "    </tr>\n",
       "  </thead>\n",
       "  <tbody>\n",
       "    <tr>\n",
       "      <th>count</th>\n",
       "      <td>2239</td>\n",
       "      <td>2239</td>\n",
       "      <td>2239</td>\n",
       "      <td>2239</td>\n",
       "    </tr>\n",
       "    <tr>\n",
       "      <th>unique</th>\n",
       "      <td>5</td>\n",
       "      <td>8</td>\n",
       "      <td>663</td>\n",
       "      <td>8</td>\n",
       "    </tr>\n",
       "    <tr>\n",
       "      <th>top</th>\n",
       "      <td>Graduation</td>\n",
       "      <td>Married</td>\n",
       "      <td>2012-08-31</td>\n",
       "      <td>Spain</td>\n",
       "    </tr>\n",
       "    <tr>\n",
       "      <th>freq</th>\n",
       "      <td>1126</td>\n",
       "      <td>864</td>\n",
       "      <td>12</td>\n",
       "      <td>1095</td>\n",
       "    </tr>\n",
       "  </tbody>\n",
       "</table>\n",
       "</div>"
      ],
      "text/plain": [
       "         Education Marital_Status Dt_Customer Country\n",
       "count         2239           2239        2239    2239\n",
       "unique           5              8         663       8\n",
       "top     Graduation        Married  2012-08-31   Spain\n",
       "freq          1126            864          12    1095"
      ]
     },
     "execution_count": 135,
     "metadata": {},
     "output_type": "execute_result"
    }
   ],
   "source": [
    "df.describe(include='object')"
   ]
  },
  {
   "cell_type": "code",
   "execution_count": 143,
   "id": "048d15ff",
   "metadata": {},
   "outputs": [
    {
     "data": {
      "text/plain": [
       "Response  Complain\n",
       "0         0           1887\n",
       "1         0            331\n",
       "0         1             18\n",
       "1         1              3\n",
       "dtype: int64"
      ]
     },
     "execution_count": 143,
     "metadata": {},
     "output_type": "execute_result"
    }
   ],
   "source": [
    "df[['Response','Complain']].value_counts()"
   ]
  },
  {
   "cell_type": "markdown",
   "id": "53df7e63",
   "metadata": {},
   "source": [
    "Which products are performing best?\n"
   ]
  },
  {
   "cell_type": "code",
   "execution_count": 312,
   "id": "ed129900",
   "metadata": {},
   "outputs": [
    {
     "data": {
      "text/plain": [
       "Text(0, 0.5, 'Products')"
      ]
     },
     "execution_count": 312,
     "metadata": {},
     "output_type": "execute_result"
    },
    {
     "data": {
      "image/png": "[encoded data removed]",
      "text/plain": [
       "<Figure size 432x288 with 1 Axes>"
      ]
     },
     "metadata": {
      "needs_background": "light"
     },
     "output_type": "display_data"
    }
   ],
   "source": [
    "df.iloc[:,10:15].sum().sort_values().plot(kind='barh')\n",
    "plt.title('Distribution of Product Purchases')\n",
    "plt.xlabel('Count')\n",
    "plt.ylabel('Products')"
   ]
  },
  {
   "cell_type": "markdown",
   "id": "fdffe896",
   "metadata": {},
   "source": [
    "Which channels are underperforming?"
   ]
  },
  {
   "cell_type": "code",
   "execution_count": 319,
   "id": "99d168b4",
   "metadata": {},
   "outputs": [
    {
     "data": {
      "text/plain": [
       "Text(0.5, 1.0, 'Distribution of useage of different Purchase Channels')"
      ]
     },
     "execution_count": 319,
     "metadata": {},
     "output_type": "execute_result"
    },
    {
     "data": {
      "image/png": "[encoded data removed]",
      "text/plain": [
       "<Figure size 432x288 with 1 Axes>"
      ]
     },
     "metadata": {},
     "output_type": "display_data"
    }
   ],
   "source": [
    "df.iloc[:,15:19].sum().sort_values().plot(kind='pie',autopct='%1.1f%%',label=' ')\n",
    "plt.title('Distribution of useage of different Purchase Channels')"
   ]
  },
  {
   "cell_type": "code",
   "execution_count": null,
   "id": "7694eaa9",
   "metadata": {},
   "outputs": [],
   "source": []
  }
 ],
 "metadata": {
  "kernelspec": {
   "display_name": "Python 3 (ipykernel)",
   "language": "python",
   "name": "python3"
  },
  "language_info": {
   "codemirror_mode": {
    "name": "ipython",
    "version": 3
   },
   "file_extension": ".py",
   "mimetype": "text/x-python",
   "name": "python",
   "nbconvert_exporter": "python",
   "pygments_lexer": "ipython3",
   "version": "3.9.7"
  }
 },
 "nbformat": 4,
 "nbformat_minor": 5
}
