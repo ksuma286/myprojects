{
 "cells": [
  {
   "cell_type": "markdown",
   "id": "3addc2ac",
   "metadata": {},
   "source": [
    "Which brand has had the most Super Bowl commercials? Do they have a distinct style?\n",
    "\n",
    "How have different characteristics for commercials trended across time?\n",
    "\n",
    "Can you identify any patterns for the most successful commercials on YouTube?\n",
    "\n",
    "Which characteristics are paired most often? Can you find any unusual combinations?"
   ]
  },
  {
   "cell_type": "markdown",
   "id": "52ffd0ea",
   "metadata": {},
   "source": [
    "dataset from mavenanalytics"
   ]
  },
  {
   "cell_type": "code",
   "execution_count": 1,
   "id": "1a8d596f",
   "metadata": {},
   "outputs": [],
   "source": [
    "import pandas as pd"
   ]
  },
  {
   "cell_type": "code",
   "execution_count": 2,
   "id": "0a99b488",
   "metadata": {},
   "outputs": [],
   "source": [
    "df=pd.read_csv('superbowl_commercials.csv')"
   ]
  },
  {
   "cell_type": "code",
   "execution_count": 3,
   "id": "6634ae27",
   "metadata": {},
   "outputs": [
    {
     "data": {
      "text/html": [
       "<div>\n",
       "<style scoped>\n",
       "    .dataframe tbody tr th:only-of-type {\n",
       "        vertical-align: middle;\n",
       "    }\n",
       "\n",
       "    .dataframe tbody tr th {\n",
       "        vertical-align: top;\n",
       "    }\n",
       "\n",
       "    .dataframe thead th {\n",
       "        text-align: right;\n",
       "    }\n",
       "</style>\n",
       "<table border=\"1\" class=\"dataframe\">\n",
       "  <thead>\n",
       "    <tr style=\"text-align: right;\">\n",
       "      <th></th>\n",
       "      <th>Year</th>\n",
       "      <th>Brand</th>\n",
       "      <th>Superbowl Ads Link</th>\n",
       "      <th>Youtube Link</th>\n",
       "      <th>Funny</th>\n",
       "      <th>Shows Product Quickly</th>\n",
       "      <th>Patriotic</th>\n",
       "      <th>Celebrity</th>\n",
       "      <th>Danger</th>\n",
       "      <th>Animals</th>\n",
       "      <th>Uses Sex</th>\n",
       "      <th>Length</th>\n",
       "      <th>Estimated Cost</th>\n",
       "      <th>Youtube Views</th>\n",
       "      <th>Youtube Likes</th>\n",
       "      <th>TV Viewers</th>\n",
       "    </tr>\n",
       "  </thead>\n",
       "  <tbody>\n",
       "    <tr>\n",
       "      <th>0</th>\n",
       "      <td>2000</td>\n",
       "      <td>E-Trade</td>\n",
       "      <td>https://superbowl-ads.com/2000-etrade-monkey-d...</td>\n",
       "      <td>https://www.youtube.com/watch?v=Muyq2kMDFoA</td>\n",
       "      <td>True</td>\n",
       "      <td>True</td>\n",
       "      <td>False</td>\n",
       "      <td>False</td>\n",
       "      <td>False</td>\n",
       "      <td>True</td>\n",
       "      <td>False</td>\n",
       "      <td>30</td>\n",
       "      <td>2.1</td>\n",
       "      <td>13615.0</td>\n",
       "      <td>84.0</td>\n",
       "      <td>88.47</td>\n",
       "    </tr>\n",
       "    <tr>\n",
       "      <th>1</th>\n",
       "      <td>2000</td>\n",
       "      <td>E-Trade</td>\n",
       "      <td>https://superbowl-ads.com/2000-etrade-money-ou...</td>\n",
       "      <td>https://www.youtube.com/watch?v=oftjwYmlfoA</td>\n",
       "      <td>True</td>\n",
       "      <td>True</td>\n",
       "      <td>False</td>\n",
       "      <td>False</td>\n",
       "      <td>True</td>\n",
       "      <td>False</td>\n",
       "      <td>False</td>\n",
       "      <td>30</td>\n",
       "      <td>2.1</td>\n",
       "      <td>72772.0</td>\n",
       "      <td>146.0</td>\n",
       "      <td>88.47</td>\n",
       "    </tr>\n",
       "    <tr>\n",
       "      <th>2</th>\n",
       "      <td>2000</td>\n",
       "      <td>Budweiser</td>\n",
       "      <td>https://superbowl-ads.com/2000-budweiser-whaas...</td>\n",
       "      <td>https://www.youtube.com/watch?v=loimTUjV92Q</td>\n",
       "      <td>True</td>\n",
       "      <td>True</td>\n",
       "      <td>False</td>\n",
       "      <td>False</td>\n",
       "      <td>False</td>\n",
       "      <td>False</td>\n",
       "      <td>False</td>\n",
       "      <td>30</td>\n",
       "      <td>2.1</td>\n",
       "      <td>5399.0</td>\n",
       "      <td>11.0</td>\n",
       "      <td>88.47</td>\n",
       "    </tr>\n",
       "    <tr>\n",
       "      <th>3</th>\n",
       "      <td>2000</td>\n",
       "      <td>Bud Light</td>\n",
       "      <td>https://superbowl-ads.com/2000-bud-light-hold-...</td>\n",
       "      <td>https://www.youtube.com/watch?v=M3IV93HwSkc</td>\n",
       "      <td>True</td>\n",
       "      <td>True</td>\n",
       "      <td>False</td>\n",
       "      <td>False</td>\n",
       "      <td>True</td>\n",
       "      <td>False</td>\n",
       "      <td>False</td>\n",
       "      <td>30</td>\n",
       "      <td>2.1</td>\n",
       "      <td>6699.0</td>\n",
       "      <td>8.0</td>\n",
       "      <td>88.47</td>\n",
       "    </tr>\n",
       "    <tr>\n",
       "      <th>4</th>\n",
       "      <td>2000</td>\n",
       "      <td>Budweiser</td>\n",
       "      <td>https://superbowl-ads.com/2000-budweiser-talki...</td>\n",
       "      <td>https://www.youtube.com/watch?v=dK1tlG778J8</td>\n",
       "      <td>True</td>\n",
       "      <td>False</td>\n",
       "      <td>False</td>\n",
       "      <td>False</td>\n",
       "      <td>False</td>\n",
       "      <td>True</td>\n",
       "      <td>False</td>\n",
       "      <td>30</td>\n",
       "      <td>2.1</td>\n",
       "      <td>18972.0</td>\n",
       "      <td>6.0</td>\n",
       "      <td>88.47</td>\n",
       "    </tr>\n",
       "  </tbody>\n",
       "</table>\n",
       "</div>"
      ],
      "text/plain": [
       "   Year      Brand                                 Superbowl Ads Link  \\\n",
       "0  2000    E-Trade  https://superbowl-ads.com/2000-etrade-monkey-d...   \n",
       "1  2000    E-Trade  https://superbowl-ads.com/2000-etrade-money-ou...   \n",
       "2  2000  Budweiser  https://superbowl-ads.com/2000-budweiser-whaas...   \n",
       "3  2000  Bud Light  https://superbowl-ads.com/2000-bud-light-hold-...   \n",
       "4  2000  Budweiser  https://superbowl-ads.com/2000-budweiser-talki...   \n",
       "\n",
       "                                  Youtube Link  Funny  Shows Product Quickly  \\\n",
       "0  https://www.youtube.com/watch?v=Muyq2kMDFoA   True                   True   \n",
       "1  https://www.youtube.com/watch?v=oftjwYmlfoA   True                   True   \n",
       "2  https://www.youtube.com/watch?v=loimTUjV92Q   True                   True   \n",
       "3  https://www.youtube.com/watch?v=M3IV93HwSkc   True                   True   \n",
       "4  https://www.youtube.com/watch?v=dK1tlG778J8   True                  False   \n",
       "\n",
       "   Patriotic  Celebrity  Danger  Animals  Uses Sex  Length  Estimated Cost  \\\n",
       "0      False      False   False     True     False      30             2.1   \n",
       "1      False      False    True    False     False      30             2.1   \n",
       "2      False      False   False    False     False      30             2.1   \n",
       "3      False      False    True    False     False      30             2.1   \n",
       "4      False      False   False     True     False      30             2.1   \n",
       "\n",
       "   Youtube Views  Youtube Likes  TV Viewers  \n",
       "0        13615.0           84.0       88.47  \n",
       "1        72772.0          146.0       88.47  \n",
       "2         5399.0           11.0       88.47  \n",
       "3         6699.0            8.0       88.47  \n",
       "4        18972.0            6.0       88.47  "
      ]
     },
     "execution_count": 3,
     "metadata": {},
     "output_type": "execute_result"
    }
   ],
   "source": [
    "df.head()"
   ]
  },
  {
   "cell_type": "code",
   "execution_count": 7,
   "id": "7ac2e1ff",
   "metadata": {},
   "outputs": [
    {
     "data": {
      "text/plain": [
       "(249, 16)"
      ]
     },
     "execution_count": 7,
     "metadata": {},
     "output_type": "execute_result"
    }
   ],
   "source": [
    "df.shape"
   ]
  },
  {
   "cell_type": "markdown",
   "id": "640cde5c",
   "metadata": {},
   "source": [
    "fields description"
   ]
  },
  {
   "cell_type": "markdown",
   "id": "855096ee",
   "metadata": {},
   "source": [
    "Year-Year the spot aired, according to superbowl-ads.com\n",
    "\n",
    "Brand-Brand of advertiser\n",
    "\n",
    "Superbowl Ads Link-Link to superbowl-ads.com entry for this ad\n",
    "\n",
    "YouTube Link-Link to a YouTube video for this ad (if this field is blank, it means no YouTube video was found)\n",
    "\n",
    "Funny-Was it trying to be funny? Is the ad jokey, goofy, weird or silly? Funny commercials (or ones that are trying to be funny) are marked TRUE. Anything serious or dramatic is marked FALSE.\n",
    "\n",
    "Shows Product Quickly-Did it show the product right away? Can you tell what is being advertised within the first 10 seconds of the commercial? If you can see the product or brand name on the screen, that counts.\n",
    "\n",
    "Patriotic-Was it patriotic? Did the commercial make a patriotic appeal, either clear or subtle, or include American imagery? Any glimpses of an American flag or the words \"America\" or \"United States\" counted, as did references to the armed forces, manufacturing and farming.\n",
    "\n",
    "Celebrity-Did it feature a celebrity? If we saw a celebrity we recognized, we checked this one off.\n",
    "\n",
    "Danger-Did it involve danger? Did we see any violence, threats of violence, injuries, fighting or guns? Any allusions to death or hokey injuries also counted here.\n",
    "\n",
    "Animals-Did it include animals? Did an animal — either real or computer-generated — show up at any point in the ad? Even one-frame appearances counted.\n",
    "\n",
    "Uses Sex-Did it use sex to sell its product? We counted any subtle or overt suggestions of sex, sexuality, sex appeal or nudity.\n",
    "\n",
    "Length-Runtime for the ad, in seconds\n",
    "\n",
    "Estimated Cost-Estimated cost of the TV spot for the ad, in millions of dollars, based on length and the cost of a 30 second ad that year, according to gobankingrates.com\n",
    "\n",
    "YouTube Views-YouTube view count as of 2022-01-11 for the video in the link provided\n",
    "\n",
    "YouTube Likes-YouTube likes as of 2022-01-11 for the video in the link provided\n",
    "\n",
    "TV Viewers-Millions of television viewers for the corresponding Super Bowl, according to sportsmediawatch.com"
   ]
  },
  {
   "cell_type": "code",
   "execution_count": 16,
   "id": "39e01e41",
   "metadata": {},
   "outputs": [
    {
     "name": "stdout",
     "output_type": "stream",
     "text": [
      "<class 'pandas.core.frame.DataFrame'>\n",
      "RangeIndex: 249 entries, 0 to 248\n",
      "Data columns (total 16 columns):\n",
      " #   Column                 Non-Null Count  Dtype  \n",
      "---  ------                 --------------  -----  \n",
      " 0   Year                   249 non-null    int64  \n",
      " 1   Brand                  249 non-null    object \n",
      " 2   Superbowl Ads Link     249 non-null    object \n",
      " 3   Youtube Link           240 non-null    object \n",
      " 4   Funny                  249 non-null    bool   \n",
      " 5   Shows Product Quickly  249 non-null    bool   \n",
      " 6   Patriotic              249 non-null    bool   \n",
      " 7   Celebrity              249 non-null    bool   \n",
      " 8   Danger                 249 non-null    bool   \n",
      " 9   Animals                249 non-null    bool   \n",
      " 10  Uses Sex               249 non-null    bool   \n",
      " 11  Length                 249 non-null    int64  \n",
      " 12  Estimated Cost         249 non-null    float64\n",
      " 13  Youtube Views          237 non-null    float64\n",
      " 14  Youtube Likes          231 non-null    float64\n",
      " 15  TV Viewers             249 non-null    float64\n",
      "dtypes: bool(7), float64(4), int64(2), object(3)\n",
      "memory usage: 19.3+ KB\n"
     ]
    }
   ],
   "source": [
    "df.info()"
   ]
  },
  {
   "cell_type": "code",
   "execution_count": 17,
   "id": "b8c7e5e6",
   "metadata": {},
   "outputs": [],
   "source": [
    "df['Youtube Link'].fillna('Missing data',inplace=True)\n",
    "df['Youtube Views'].fillna(df['Youtube Views'].mean(),inplace=True)\n",
    "df['Youtube Likes'].fillna(df['Youtube Likes'].mean(),inplace=True)\n",
    "#handling missing data"
   ]
  },
  {
   "cell_type": "code",
   "execution_count": 18,
   "id": "cb314ae7",
   "metadata": {},
   "outputs": [
    {
     "name": "stdout",
     "output_type": "stream",
     "text": [
      "<class 'pandas.core.frame.DataFrame'>\n",
      "RangeIndex: 249 entries, 0 to 248\n",
      "Data columns (total 16 columns):\n",
      " #   Column                 Non-Null Count  Dtype  \n",
      "---  ------                 --------------  -----  \n",
      " 0   Year                   249 non-null    int64  \n",
      " 1   Brand                  249 non-null    object \n",
      " 2   Superbowl Ads Link     249 non-null    object \n",
      " 3   Youtube Link           249 non-null    object \n",
      " 4   Funny                  249 non-null    bool   \n",
      " 5   Shows Product Quickly  249 non-null    bool   \n",
      " 6   Patriotic              249 non-null    bool   \n",
      " 7   Celebrity              249 non-null    bool   \n",
      " 8   Danger                 249 non-null    bool   \n",
      " 9   Animals                249 non-null    bool   \n",
      " 10  Uses Sex               249 non-null    bool   \n",
      " 11  Length                 249 non-null    int64  \n",
      " 12  Estimated Cost         249 non-null    float64\n",
      " 13  Youtube Views          249 non-null    float64\n",
      " 14  Youtube Likes          249 non-null    float64\n",
      " 15  TV Viewers             249 non-null    float64\n",
      "dtypes: bool(7), float64(4), int64(2), object(3)\n",
      "memory usage: 19.3+ KB\n"
     ]
    }
   ],
   "source": [
    "df.info()"
   ]
  },
  {
   "cell_type": "code",
   "execution_count": 20,
   "id": "09c2da53",
   "metadata": {},
   "outputs": [
    {
     "data": {
      "text/plain": [
       "0"
      ]
     },
     "execution_count": 20,
     "metadata": {},
     "output_type": "execute_result"
    }
   ],
   "source": [
    "df.duplicated().sum()"
   ]
  },
  {
   "cell_type": "code",
   "execution_count": 21,
   "id": "56e34844",
   "metadata": {},
   "outputs": [
    {
     "data": {
      "text/html": [
       "<div>\n",
       "<style scoped>\n",
       "    .dataframe tbody tr th:only-of-type {\n",
       "        vertical-align: middle;\n",
       "    }\n",
       "\n",
       "    .dataframe tbody tr th {\n",
       "        vertical-align: top;\n",
       "    }\n",
       "\n",
       "    .dataframe thead th {\n",
       "        text-align: right;\n",
       "    }\n",
       "</style>\n",
       "<table border=\"1\" class=\"dataframe\">\n",
       "  <thead>\n",
       "    <tr style=\"text-align: right;\">\n",
       "      <th></th>\n",
       "      <th>Year</th>\n",
       "      <th>Length</th>\n",
       "      <th>Estimated Cost</th>\n",
       "      <th>Youtube Views</th>\n",
       "      <th>Youtube Likes</th>\n",
       "      <th>TV Viewers</th>\n",
       "    </tr>\n",
       "  </thead>\n",
       "  <tbody>\n",
       "    <tr>\n",
       "      <th>count</th>\n",
       "      <td>249.000000</td>\n",
       "      <td>249.000000</td>\n",
       "      <td>249.000000</td>\n",
       "      <td>2.490000e+02</td>\n",
       "      <td>249.000000</td>\n",
       "      <td>249.000000</td>\n",
       "    </tr>\n",
       "    <tr>\n",
       "      <th>mean</th>\n",
       "      <td>2010.469880</td>\n",
       "      <td>44.457831</td>\n",
       "      <td>5.156888</td>\n",
       "      <td>1.569672e+06</td>\n",
       "      <td>5086.592713</td>\n",
       "      <td>100.475341</td>\n",
       "    </tr>\n",
       "    <tr>\n",
       "      <th>std</th>\n",
       "      <td>6.002024</td>\n",
       "      <td>21.331845</td>\n",
       "      <td>4.075974</td>\n",
       "      <td>1.199796e+07</td>\n",
       "      <td>27337.998617</td>\n",
       "      <td>12.819811</td>\n",
       "    </tr>\n",
       "    <tr>\n",
       "      <th>min</th>\n",
       "      <td>2000.000000</td>\n",
       "      <td>10.000000</td>\n",
       "      <td>0.980000</td>\n",
       "      <td>5.000000e+00</td>\n",
       "      <td>0.000000</td>\n",
       "      <td>84.340000</td>\n",
       "    </tr>\n",
       "    <tr>\n",
       "      <th>25%</th>\n",
       "      <td>2006.000000</td>\n",
       "      <td>30.000000</td>\n",
       "      <td>2.400000</td>\n",
       "      <td>8.062000e+03</td>\n",
       "      <td>28.000000</td>\n",
       "      <td>90.750000</td>\n",
       "    </tr>\n",
       "    <tr>\n",
       "      <th>50%</th>\n",
       "      <td>2010.000000</td>\n",
       "      <td>30.000000</td>\n",
       "      <td>3.150000</td>\n",
       "      <td>5.860600e+04</td>\n",
       "      <td>185.000000</td>\n",
       "      <td>98.730000</td>\n",
       "    </tr>\n",
       "    <tr>\n",
       "      <th>75%</th>\n",
       "      <td>2015.000000</td>\n",
       "      <td>60.000000</td>\n",
       "      <td>5.900000</td>\n",
       "      <td>2.270920e+05</td>\n",
       "      <td>1200.000000</td>\n",
       "      <td>111.010000</td>\n",
       "    </tr>\n",
       "    <tr>\n",
       "      <th>max</th>\n",
       "      <td>2021.000000</td>\n",
       "      <td>180.000000</td>\n",
       "      <td>31.730000</td>\n",
       "      <td>1.814238e+08</td>\n",
       "      <td>295000.000000</td>\n",
       "      <td>232.000000</td>\n",
       "    </tr>\n",
       "  </tbody>\n",
       "</table>\n",
       "</div>"
      ],
      "text/plain": [
       "              Year      Length  Estimated Cost  Youtube Views  Youtube Likes  \\\n",
       "count   249.000000  249.000000      249.000000   2.490000e+02     249.000000   \n",
       "mean   2010.469880   44.457831        5.156888   1.569672e+06    5086.592713   \n",
       "std       6.002024   21.331845        4.075974   1.199796e+07   27337.998617   \n",
       "min    2000.000000   10.000000        0.980000   5.000000e+00       0.000000   \n",
       "25%    2006.000000   30.000000        2.400000   8.062000e+03      28.000000   \n",
       "50%    2010.000000   30.000000        3.150000   5.860600e+04     185.000000   \n",
       "75%    2015.000000   60.000000        5.900000   2.270920e+05    1200.000000   \n",
       "max    2021.000000  180.000000       31.730000   1.814238e+08  295000.000000   \n",
       "\n",
       "       TV Viewers  \n",
       "count  249.000000  \n",
       "mean   100.475341  \n",
       "std     12.819811  \n",
       "min     84.340000  \n",
       "25%     90.750000  \n",
       "50%     98.730000  \n",
       "75%    111.010000  \n",
       "max    232.000000  "
      ]
     },
     "execution_count": 21,
     "metadata": {},
     "output_type": "execute_result"
    }
   ],
   "source": [
    "df.describe()"
   ]
  },
  {
   "cell_type": "markdown",
   "id": "a30373f0",
   "metadata": {},
   "source": [
    "Which brand has had the most Super Bowl commercials? Do they have a distinct style?"
   ]
  },
  {
   "cell_type": "code",
   "execution_count": 28,
   "id": "79d98129",
   "metadata": {},
   "outputs": [
    {
     "data": {
      "text/plain": [
       "Bud Light    62\n",
       "Budweiser    43\n",
       "Doritos      26\n",
       "Pepsi        25\n",
       "Hyundai      22\n",
       "Coca-Cola    21\n",
       "E-Trade      14\n",
       "Kia          13\n",
       "Toyota       12\n",
       "NFL          11\n",
       "Name: Brand, dtype: int64"
      ]
     },
     "execution_count": 28,
     "metadata": {},
     "output_type": "execute_result"
    }
   ],
   "source": [
    "df['Brand'].value_counts().sort_values(ascending=False)"
   ]
  },
  {
   "cell_type": "markdown",
   "id": "cc00646d",
   "metadata": {},
   "source": [
    "Bud Lighter has the most number of superbowl commercials"
   ]
  },
  {
   "cell_type": "code",
   "execution_count": 29,
   "id": "e361e116",
   "metadata": {},
   "outputs": [],
   "source": [
    "df_brand_bud_lighter=df[df['Brand']=='Bud Light']"
   ]
  },
  {
   "cell_type": "code",
   "execution_count": 32,
   "id": "ca1aae99",
   "metadata": {},
   "outputs": [],
   "source": [
    "df_brand_bud_lighter_characteristics=df_brand_bud_lighter.iloc[:,4:11]"
   ]
  },
  {
   "cell_type": "code",
   "execution_count": 64,
   "id": "ddfd8332",
   "metadata": {},
   "outputs": [
    {
     "name": "stdout",
     "output_type": "stream",
     "text": [
      "True     59\n",
      "False     3\n",
      "Name: Funny, dtype: int64\n",
      "True     51\n",
      "False    11\n",
      "Name: Shows Product Quickly, dtype: int64\n",
      "False    59\n",
      "True      3\n",
      "Name: Patriotic, dtype: int64\n",
      "False    47\n",
      "True     15\n",
      "Name: Celebrity, dtype: int64\n",
      "False    33\n",
      "True     29\n",
      "Name: Danger, dtype: int64\n",
      "False    41\n",
      "True     21\n",
      "Name: Animals, dtype: int64\n",
      "False    38\n",
      "True     24\n",
      "Name: Uses Sex, dtype: int64\n"
     ]
    }
   ],
   "source": [
    "for i in df_brand_bud_lighter_characteristics.columns:\n",
    "    print(df_brand_bud_lighter_characteristics[i].value_counts())"
   ]
  },
  {
   "cell_type": "markdown",
   "id": "39c983b1",
   "metadata": {},
   "source": [
    "Bud Lighter adds focus on the characteristics Funny,Showing Product Quickly,Patriotism and Celebrities"
   ]
  },
  {
   "cell_type": "markdown",
   "id": "c885560a",
   "metadata": {},
   "source": [
    "How have different characteristics for commercials trended across time?"
   ]
  },
  {
   "cell_type": "code",
   "execution_count": 49,
   "id": "219644a5",
   "metadata": {},
   "outputs": [],
   "source": [
    "import numpy as np"
   ]
  },
  {
   "cell_type": "code",
   "execution_count": 75,
   "id": "0fc66771",
   "metadata": {},
   "outputs": [],
   "source": [
    "dfg=df.groupby('Year').agg({'Funny':'value_counts','Shows Product Quickly':'value_counts','Patriotic':'value_counts','Celebrity':'value_counts','Danger':'value_counts','Animals':'value_counts','Uses Sex':'value_counts'})"
   ]
  },
  {
   "cell_type": "code",
   "execution_count": 76,
   "id": "28ad0b21",
   "metadata": {},
   "outputs": [
    {
     "data": {
      "text/plain": [
       "(44, 7)"
      ]
     },
     "execution_count": 76,
     "metadata": {},
     "output_type": "execute_result"
    }
   ],
   "source": [
    "dfg.shape"
   ]
  },
  {
   "cell_type": "code",
   "execution_count": 77,
   "id": "62834a21",
   "metadata": {},
   "outputs": [
    {
     "data": {
      "text/html": [
       "<div>\n",
       "<style scoped>\n",
       "    .dataframe tbody tr th:only-of-type {\n",
       "        vertical-align: middle;\n",
       "    }\n",
       "\n",
       "    .dataframe tbody tr th {\n",
       "        vertical-align: top;\n",
       "    }\n",
       "\n",
       "    .dataframe thead th {\n",
       "        text-align: right;\n",
       "    }\n",
       "</style>\n",
       "<table border=\"1\" class=\"dataframe\">\n",
       "  <thead>\n",
       "    <tr style=\"text-align: right;\">\n",
       "      <th></th>\n",
       "      <th></th>\n",
       "      <th>Funny</th>\n",
       "      <th>Shows Product Quickly</th>\n",
       "      <th>Patriotic</th>\n",
       "      <th>Celebrity</th>\n",
       "      <th>Danger</th>\n",
       "      <th>Animals</th>\n",
       "      <th>Uses Sex</th>\n",
       "    </tr>\n",
       "    <tr>\n",
       "      <th>Year</th>\n",
       "      <th></th>\n",
       "      <th></th>\n",
       "      <th></th>\n",
       "      <th></th>\n",
       "      <th></th>\n",
       "      <th></th>\n",
       "      <th></th>\n",
       "      <th></th>\n",
       "    </tr>\n",
       "  </thead>\n",
       "  <tbody>\n",
       "    <tr>\n",
       "      <th rowspan=\"2\" valign=\"top\">2000</th>\n",
       "      <th>False</th>\n",
       "      <td>NaN</td>\n",
       "      <td>3</td>\n",
       "      <td>8.0</td>\n",
       "      <td>8.0</td>\n",
       "      <td>4</td>\n",
       "      <td>4</td>\n",
       "      <td>7.0</td>\n",
       "    </tr>\n",
       "    <tr>\n",
       "      <th>True</th>\n",
       "      <td>8.0</td>\n",
       "      <td>5</td>\n",
       "      <td>NaN</td>\n",
       "      <td>NaN</td>\n",
       "      <td>4</td>\n",
       "      <td>4</td>\n",
       "      <td>1.0</td>\n",
       "    </tr>\n",
       "    <tr>\n",
       "      <th rowspan=\"2\" valign=\"top\">2001</th>\n",
       "      <th>False</th>\n",
       "      <td>3.0</td>\n",
       "      <td>9</td>\n",
       "      <td>12.0</td>\n",
       "      <td>7.0</td>\n",
       "      <td>9</td>\n",
       "      <td>10</td>\n",
       "      <td>7.0</td>\n",
       "    </tr>\n",
       "    <tr>\n",
       "      <th>True</th>\n",
       "      <td>10.0</td>\n",
       "      <td>4</td>\n",
       "      <td>1.0</td>\n",
       "      <td>6.0</td>\n",
       "      <td>4</td>\n",
       "      <td>3</td>\n",
       "      <td>6.0</td>\n",
       "    </tr>\n",
       "    <tr>\n",
       "      <th rowspan=\"2\" valign=\"top\">2002</th>\n",
       "      <th>False</th>\n",
       "      <td>2.0</td>\n",
       "      <td>3</td>\n",
       "      <td>9.0</td>\n",
       "      <td>8.0</td>\n",
       "      <td>6</td>\n",
       "      <td>7</td>\n",
       "      <td>4.0</td>\n",
       "    </tr>\n",
       "    <tr>\n",
       "      <th>True</th>\n",
       "      <td>8.0</td>\n",
       "      <td>7</td>\n",
       "      <td>1.0</td>\n",
       "      <td>2.0</td>\n",
       "      <td>4</td>\n",
       "      <td>3</td>\n",
       "      <td>6.0</td>\n",
       "    </tr>\n",
       "    <tr>\n",
       "      <th rowspan=\"2\" valign=\"top\">2003</th>\n",
       "      <th>False</th>\n",
       "      <td>1.0</td>\n",
       "      <td>2</td>\n",
       "      <td>12.0</td>\n",
       "      <td>10.0</td>\n",
       "      <td>10</td>\n",
       "      <td>9</td>\n",
       "      <td>8.0</td>\n",
       "    </tr>\n",
       "    <tr>\n",
       "      <th>True</th>\n",
       "      <td>11.0</td>\n",
       "      <td>10</td>\n",
       "      <td>NaN</td>\n",
       "      <td>2.0</td>\n",
       "      <td>2</td>\n",
       "      <td>3</td>\n",
       "      <td>4.0</td>\n",
       "    </tr>\n",
       "    <tr>\n",
       "      <th rowspan=\"2\" valign=\"top\">2004</th>\n",
       "      <th>False</th>\n",
       "      <td>1.0</td>\n",
       "      <td>4</td>\n",
       "      <td>10.0</td>\n",
       "      <td>9.0</td>\n",
       "      <td>7</td>\n",
       "      <td>5</td>\n",
       "      <td>7.0</td>\n",
       "    </tr>\n",
       "    <tr>\n",
       "      <th>True</th>\n",
       "      <td>10.0</td>\n",
       "      <td>7</td>\n",
       "      <td>1.0</td>\n",
       "      <td>2.0</td>\n",
       "      <td>4</td>\n",
       "      <td>6</td>\n",
       "      <td>4.0</td>\n",
       "    </tr>\n",
       "    <tr>\n",
       "      <th rowspan=\"2\" valign=\"top\">2005</th>\n",
       "      <th>False</th>\n",
       "      <td>NaN</td>\n",
       "      <td>3</td>\n",
       "      <td>8.0</td>\n",
       "      <td>5.0</td>\n",
       "      <td>7</td>\n",
       "      <td>5</td>\n",
       "      <td>3.0</td>\n",
       "    </tr>\n",
       "    <tr>\n",
       "      <th>True</th>\n",
       "      <td>8.0</td>\n",
       "      <td>5</td>\n",
       "      <td>NaN</td>\n",
       "      <td>3.0</td>\n",
       "      <td>1</td>\n",
       "      <td>3</td>\n",
       "      <td>5.0</td>\n",
       "    </tr>\n",
       "    <tr>\n",
       "      <th rowspan=\"2\" valign=\"top\">2006</th>\n",
       "      <th>False</th>\n",
       "      <td>NaN</td>\n",
       "      <td>2</td>\n",
       "      <td>7.0</td>\n",
       "      <td>5.0</td>\n",
       "      <td>4</td>\n",
       "      <td>5</td>\n",
       "      <td>5.0</td>\n",
       "    </tr>\n",
       "    <tr>\n",
       "      <th>True</th>\n",
       "      <td>7.0</td>\n",
       "      <td>5</td>\n",
       "      <td>NaN</td>\n",
       "      <td>2.0</td>\n",
       "      <td>3</td>\n",
       "      <td>2</td>\n",
       "      <td>2.0</td>\n",
       "    </tr>\n",
       "    <tr>\n",
       "      <th rowspan=\"2\" valign=\"top\">2007</th>\n",
       "      <th>False</th>\n",
       "      <td>5.0</td>\n",
       "      <td>3</td>\n",
       "      <td>12.0</td>\n",
       "      <td>12.0</td>\n",
       "      <td>8</td>\n",
       "      <td>9</td>\n",
       "      <td>11.0</td>\n",
       "    </tr>\n",
       "    <tr>\n",
       "      <th>True</th>\n",
       "      <td>9.0</td>\n",
       "      <td>11</td>\n",
       "      <td>2.0</td>\n",
       "      <td>2.0</td>\n",
       "      <td>6</td>\n",
       "      <td>5</td>\n",
       "      <td>3.0</td>\n",
       "    </tr>\n",
       "    <tr>\n",
       "      <th rowspan=\"2\" valign=\"top\">2008</th>\n",
       "      <th>False</th>\n",
       "      <td>2.0</td>\n",
       "      <td>2</td>\n",
       "      <td>10.0</td>\n",
       "      <td>8.0</td>\n",
       "      <td>9</td>\n",
       "      <td>10</td>\n",
       "      <td>9.0</td>\n",
       "    </tr>\n",
       "    <tr>\n",
       "      <th>True</th>\n",
       "      <td>11.0</td>\n",
       "      <td>11</td>\n",
       "      <td>3.0</td>\n",
       "      <td>5.0</td>\n",
       "      <td>4</td>\n",
       "      <td>3</td>\n",
       "      <td>4.0</td>\n",
       "    </tr>\n",
       "    <tr>\n",
       "      <th rowspan=\"2\" valign=\"top\">2009</th>\n",
       "      <th>False</th>\n",
       "      <td>4.0</td>\n",
       "      <td>3</td>\n",
       "      <td>12.0</td>\n",
       "      <td>13.0</td>\n",
       "      <td>8</td>\n",
       "      <td>10</td>\n",
       "      <td>13.0</td>\n",
       "    </tr>\n",
       "    <tr>\n",
       "      <th>True</th>\n",
       "      <td>11.0</td>\n",
       "      <td>12</td>\n",
       "      <td>3.0</td>\n",
       "      <td>2.0</td>\n",
       "      <td>7</td>\n",
       "      <td>5</td>\n",
       "      <td>2.0</td>\n",
       "    </tr>\n",
       "    <tr>\n",
       "      <th rowspan=\"2\" valign=\"top\">2010</th>\n",
       "      <th>False</th>\n",
       "      <td>3.0</td>\n",
       "      <td>5</td>\n",
       "      <td>11.0</td>\n",
       "      <td>12.0</td>\n",
       "      <td>11</td>\n",
       "      <td>11</td>\n",
       "      <td>11.0</td>\n",
       "    </tr>\n",
       "    <tr>\n",
       "      <th>True</th>\n",
       "      <td>11.0</td>\n",
       "      <td>9</td>\n",
       "      <td>3.0</td>\n",
       "      <td>2.0</td>\n",
       "      <td>3</td>\n",
       "      <td>3</td>\n",
       "      <td>3.0</td>\n",
       "    </tr>\n",
       "  </tbody>\n",
       "</table>\n",
       "</div>"
      ],
      "text/plain": [
       "            Funny  Shows Product Quickly  Patriotic  Celebrity  Danger  \\\n",
       "Year                                                                     \n",
       "2000 False    NaN                      3        8.0        8.0       4   \n",
       "     True     8.0                      5        NaN        NaN       4   \n",
       "2001 False    3.0                      9       12.0        7.0       9   \n",
       "     True    10.0                      4        1.0        6.0       4   \n",
       "2002 False    2.0                      3        9.0        8.0       6   \n",
       "     True     8.0                      7        1.0        2.0       4   \n",
       "2003 False    1.0                      2       12.0       10.0      10   \n",
       "     True    11.0                     10        NaN        2.0       2   \n",
       "2004 False    1.0                      4       10.0        9.0       7   \n",
       "     True    10.0                      7        1.0        2.0       4   \n",
       "2005 False    NaN                      3        8.0        5.0       7   \n",
       "     True     8.0                      5        NaN        3.0       1   \n",
       "2006 False    NaN                      2        7.0        5.0       4   \n",
       "     True     7.0                      5        NaN        2.0       3   \n",
       "2007 False    5.0                      3       12.0       12.0       8   \n",
       "     True     9.0                     11        2.0        2.0       6   \n",
       "2008 False    2.0                      2       10.0        8.0       9   \n",
       "     True    11.0                     11        3.0        5.0       4   \n",
       "2009 False    4.0                      3       12.0       13.0       8   \n",
       "     True    11.0                     12        3.0        2.0       7   \n",
       "2010 False    3.0                      5       11.0       12.0      11   \n",
       "     True    11.0                      9        3.0        2.0       3   \n",
       "\n",
       "            Animals  Uses Sex  \n",
       "Year                           \n",
       "2000 False        4       7.0  \n",
       "     True         4       1.0  \n",
       "2001 False       10       7.0  \n",
       "     True         3       6.0  \n",
       "2002 False        7       4.0  \n",
       "     True         3       6.0  \n",
       "2003 False        9       8.0  \n",
       "     True         3       4.0  \n",
       "2004 False        5       7.0  \n",
       "     True         6       4.0  \n",
       "2005 False        5       3.0  \n",
       "     True         3       5.0  \n",
       "2006 False        5       5.0  \n",
       "     True         2       2.0  \n",
       "2007 False        9      11.0  \n",
       "     True         5       3.0  \n",
       "2008 False       10       9.0  \n",
       "     True         3       4.0  \n",
       "2009 False       10      13.0  \n",
       "     True         5       2.0  \n",
       "2010 False       11      11.0  \n",
       "     True         3       3.0  "
      ]
     },
     "execution_count": 77,
     "metadata": {},
     "output_type": "execute_result"
    }
   ],
   "source": [
    "dfg.head(22)"
   ]
  },
  {
   "cell_type": "code",
   "execution_count": 78,
   "id": "00ff6413",
   "metadata": {},
   "outputs": [],
   "source": [
    "dfg.fillna(0,inplace=True)"
   ]
  },
  {
   "cell_type": "code",
   "execution_count": 79,
   "id": "54fd8511",
   "metadata": {},
   "outputs": [],
   "source": [
    "dfg=dfg.reset_index()"
   ]
  },
  {
   "cell_type": "code",
   "execution_count": 129,
   "id": "c78f9407",
   "metadata": {},
   "outputs": [
    {
     "data": {
      "text/html": [
       "<div>\n",
       "<style scoped>\n",
       "    .dataframe tbody tr th:only-of-type {\n",
       "        vertical-align: middle;\n",
       "    }\n",
       "\n",
       "    .dataframe tbody tr th {\n",
       "        vertical-align: top;\n",
       "    }\n",
       "\n",
       "    .dataframe thead th {\n",
       "        text-align: right;\n",
       "    }\n",
       "</style>\n",
       "<table border=\"1\" class=\"dataframe\">\n",
       "  <thead>\n",
       "    <tr style=\"text-align: right;\">\n",
       "      <th></th>\n",
       "      <th>Year</th>\n",
       "      <th>level_1</th>\n",
       "      <th>Funny</th>\n",
       "      <th>Shows Product Quickly</th>\n",
       "      <th>Patriotic</th>\n",
       "      <th>Celebrity</th>\n",
       "      <th>Danger</th>\n",
       "      <th>Animals</th>\n",
       "      <th>Uses Sex</th>\n",
       "    </tr>\n",
       "  </thead>\n",
       "  <tbody>\n",
       "    <tr>\n",
       "      <th>0</th>\n",
       "      <td>2000</td>\n",
       "      <td>False</td>\n",
       "      <td>0.0</td>\n",
       "      <td>3</td>\n",
       "      <td>8.0</td>\n",
       "      <td>8.0</td>\n",
       "      <td>4</td>\n",
       "      <td>4</td>\n",
       "      <td>7.0</td>\n",
       "    </tr>\n",
       "    <tr>\n",
       "      <th>1</th>\n",
       "      <td>2000</td>\n",
       "      <td>True</td>\n",
       "      <td>8.0</td>\n",
       "      <td>5</td>\n",
       "      <td>0.0</td>\n",
       "      <td>0.0</td>\n",
       "      <td>4</td>\n",
       "      <td>4</td>\n",
       "      <td>1.0</td>\n",
       "    </tr>\n",
       "    <tr>\n",
       "      <th>2</th>\n",
       "      <td>2001</td>\n",
       "      <td>False</td>\n",
       "      <td>3.0</td>\n",
       "      <td>9</td>\n",
       "      <td>12.0</td>\n",
       "      <td>7.0</td>\n",
       "      <td>9</td>\n",
       "      <td>10</td>\n",
       "      <td>7.0</td>\n",
       "    </tr>\n",
       "    <tr>\n",
       "      <th>3</th>\n",
       "      <td>2001</td>\n",
       "      <td>True</td>\n",
       "      <td>10.0</td>\n",
       "      <td>4</td>\n",
       "      <td>1.0</td>\n",
       "      <td>6.0</td>\n",
       "      <td>4</td>\n",
       "      <td>3</td>\n",
       "      <td>6.0</td>\n",
       "    </tr>\n",
       "    <tr>\n",
       "      <th>4</th>\n",
       "      <td>2002</td>\n",
       "      <td>False</td>\n",
       "      <td>2.0</td>\n",
       "      <td>3</td>\n",
       "      <td>9.0</td>\n",
       "      <td>8.0</td>\n",
       "      <td>6</td>\n",
       "      <td>7</td>\n",
       "      <td>4.0</td>\n",
       "    </tr>\n",
       "  </tbody>\n",
       "</table>\n",
       "</div>"
      ],
      "text/plain": [
       "   Year  level_1  Funny  Shows Product Quickly  Patriotic  Celebrity  Danger  \\\n",
       "0  2000    False    0.0                      3        8.0        8.0       4   \n",
       "1  2000     True    8.0                      5        0.0        0.0       4   \n",
       "2  2001    False    3.0                      9       12.0        7.0       9   \n",
       "3  2001     True   10.0                      4        1.0        6.0       4   \n",
       "4  2002    False    2.0                      3        9.0        8.0       6   \n",
       "\n",
       "   Animals  Uses Sex  \n",
       "0        4       7.0  \n",
       "1        4       1.0  \n",
       "2       10       7.0  \n",
       "3        3       6.0  \n",
       "4        7       4.0  "
      ]
     },
     "execution_count": 129,
     "metadata": {},
     "output_type": "execute_result"
    }
   ],
   "source": [
    "dfg.head()"
   ]
  },
  {
   "cell_type": "code",
   "execution_count": 82,
   "id": "5728c350",
   "metadata": {},
   "outputs": [],
   "source": [
    "import seaborn as sns"
   ]
  },
  {
   "cell_type": "code",
   "execution_count": 92,
   "id": "cf48cb55",
   "metadata": {
    "scrolled": true
   },
   "outputs": [
    {
     "data": {
      "text/plain": [
       "<seaborn.axisgrid.FacetGrid at 0x7f90b82959d0>"
      ]
     },
     "execution_count": 92,
     "metadata": {},
     "output_type": "execute_result"
    },
    {
     "data": {
      "image/png": "[encoded data removed]",
      "text/plain": [
       "<Figure size 421.25x360 with 1 Axes>"
      ]
     },
     "metadata": {
      "needs_background": "light"
     },
     "output_type": "display_data"
    }
   ],
   "source": [
    "sns.lmplot(x='Year',y='Funny',hue='level_1',data=dfg)"
   ]
  },
  {
   "cell_type": "markdown",
   "id": "36fca2ed",
   "metadata": {},
   "source": [
    "The useage of Funny in superbowl commercials has decreased over the years"
   ]
  },
  {
   "cell_type": "code",
   "execution_count": 93,
   "id": "7bcad24f",
   "metadata": {},
   "outputs": [
    {
     "data": {
      "text/plain": [
       "<seaborn.axisgrid.FacetGrid at 0x7f90e19299d0>"
      ]
     },
     "execution_count": 93,
     "metadata": {},
     "output_type": "execute_result"
    },
    {
     "data": {
      "image/png": "[encoded data removed]",
      "text/plain": [
       "<Figure size 421.25x360 with 1 Axes>"
      ]
     },
     "metadata": {
      "needs_background": "light"
     },
     "output_type": "display_data"
    }
   ],
   "source": [
    "sns.lmplot(x='Year',y='Shows Product Quickly',hue='level_1',data=dfg)"
   ]
  },
  {
   "cell_type": "markdown",
   "id": "8046d525",
   "metadata": {},
   "source": [
    "The pattern of showing product quickly has not been consistent over the years in superbowl commercials "
   ]
  },
  {
   "cell_type": "code",
   "execution_count": 97,
   "id": "adadab49",
   "metadata": {},
   "outputs": [
    {
     "data": {
      "text/plain": [
       "<seaborn.axisgrid.FacetGrid at 0x7f911aab8d90>"
      ]
     },
     "execution_count": 97,
     "metadata": {},
     "output_type": "execute_result"
    },
    {
     "data": {
      "image/png": "[encoded data removed]",
      "text/plain": [
       "<Figure size 421.25x360 with 1 Axes>"
      ]
     },
     "metadata": {
      "needs_background": "light"
     },
     "output_type": "display_data"
    }
   ],
   "source": [
    "sns.lmplot(x='Year',y='Patriotic',hue='level_1',data=dfg)"
   ]
  },
  {
   "cell_type": "markdown",
   "id": "f808155c",
   "metadata": {},
   "source": [
    "The useage of Patriotism in superbowl commercials has increased over the years"
   ]
  },
  {
   "cell_type": "code",
   "execution_count": 99,
   "id": "4eb77142",
   "metadata": {},
   "outputs": [
    {
     "data": {
      "text/plain": [
       "<seaborn.axisgrid.FacetGrid at 0x7f90b82dca30>"
      ]
     },
     "execution_count": 99,
     "metadata": {},
     "output_type": "execute_result"
    },
    {
     "data": {
      "image/png": "[encoded data removed]",
      "text/plain": [
       "<Figure size 421.25x360 with 1 Axes>"
      ]
     },
     "metadata": {
      "needs_background": "light"
     },
     "output_type": "display_data"
    }
   ],
   "source": [
    "sns.lmplot(x='Year',y='Celebrity',hue='level_1',data=dfg)"
   ]
  },
  {
   "cell_type": "markdown",
   "id": "fcf90281",
   "metadata": {},
   "source": [
    "The useage of Celebrities in superbowl commercials has increased over the years"
   ]
  },
  {
   "cell_type": "code",
   "execution_count": 104,
   "id": "0f973ac0",
   "metadata": {},
   "outputs": [
    {
     "data": {
      "text/plain": [
       "<seaborn.axisgrid.FacetGrid at 0x7f911affd5b0>"
      ]
     },
     "execution_count": 104,
     "metadata": {},
     "output_type": "execute_result"
    },
    {
     "data": {
      "image/png": "[encoded data removed]",
      "text/plain": [
       "<Figure size 421.25x360 with 1 Axes>"
      ]
     },
     "metadata": {
      "needs_background": "light"
     },
     "output_type": "display_data"
    }
   ],
   "source": [
    "sns.lmplot(x='Year',y='Animals',hue='level_1',data=dfg)"
   ]
  },
  {
   "cell_type": "markdown",
   "id": "86038a59",
   "metadata": {},
   "source": [
    "The useage of Animals has not been consistent over the years in superbowl commercials "
   ]
  },
  {
   "cell_type": "code",
   "execution_count": 105,
   "id": "9b5bc66e",
   "metadata": {},
   "outputs": [
    {
     "data": {
      "text/plain": [
       "<seaborn.axisgrid.FacetGrid at 0x7f90b83c6ca0>"
      ]
     },
     "execution_count": 105,
     "metadata": {},
     "output_type": "execute_result"
    },
    {
     "data": {
      "image/png": "[encoded data removed]",
      "text/plain": [
       "<Figure size 421.25x360 with 1 Axes>"
      ]
     },
     "metadata": {
      "needs_background": "light"
     },
     "output_type": "display_data"
    }
   ],
   "source": [
    "sns.lmplot(x='Year',y='Danger',hue='level_1',data=dfg)"
   ]
  },
  {
   "cell_type": "markdown",
   "id": "3147a169",
   "metadata": {},
   "source": [
    "The useage of Danger has not been consistent over the years in superbowl commercials "
   ]
  },
  {
   "cell_type": "code",
   "execution_count": 107,
   "id": "d06bddd5",
   "metadata": {},
   "outputs": [
    {
     "data": {
      "text/plain": [
       "<seaborn.axisgrid.FacetGrid at 0x7f90e8331e80>"
      ]
     },
     "execution_count": 107,
     "metadata": {},
     "output_type": "execute_result"
    },
    {
     "data": {
      "image/png": "[encoded data removed]",
      "text/plain": [
       "<Figure size 421.25x360 with 1 Axes>"
      ]
     },
     "metadata": {
      "needs_background": "light"
     },
     "output_type": "display_data"
    }
   ],
   "source": [
    "sns.lmplot(x='Year',y='Uses Sex',hue='level_1',data=dfg)"
   ]
  },
  {
   "cell_type": "markdown",
   "id": "1c58a59d",
   "metadata": {},
   "source": [
    "The useage of charatersistic 'Uses Sex' in superbowl commercials has decreased over the years"
   ]
  },
  {
   "cell_type": "markdown",
   "id": "3ad5d711",
   "metadata": {},
   "source": [
    "Can you identify any patterns for the most successful commercials on YouTube?\n"
   ]
  },
  {
   "cell_type": "code",
   "execution_count": 135,
   "id": "9860887f",
   "metadata": {},
   "outputs": [],
   "source": [
    "df_youtube_sucessful=df.iloc[:,3:15]"
   ]
  },
  {
   "cell_type": "code",
   "execution_count": 136,
   "id": "8ac88f0f",
   "metadata": {},
   "outputs": [
    {
     "data": {
      "text/plain": [
       "Index(['Youtube Link', 'Funny', 'Shows Product Quickly', 'Patriotic',\n",
       "       'Celebrity', 'Danger', 'Animals', 'Uses Sex', 'Length',\n",
       "       'Estimated Cost', 'Youtube Views', 'Youtube Likes'],\n",
       "      dtype='object')"
      ]
     },
     "execution_count": 136,
     "metadata": {},
     "output_type": "execute_result"
    }
   ],
   "source": [
    "df_youtube_sucessful.columns"
   ]
  },
  {
   "cell_type": "code",
   "execution_count": 137,
   "id": "0116104a",
   "metadata": {},
   "outputs": [],
   "source": [
    "df_youtube_sucessful=df_youtube_sucessful.sort_values(by=['Youtube Views'],ascending=False)"
   ]
  },
  {
   "cell_type": "markdown",
   "id": "e40f6bf8",
   "metadata": {},
   "source": [
    "top ten percent most sucessful youtube commercials on basis of total views"
   ]
  },
  {
   "cell_type": "code",
   "execution_count": 238,
   "id": "ff4022e4",
   "metadata": {},
   "outputs": [],
   "source": [
    "top_ten_youtube_sucessful_commercials=df_youtube_sucessful.iloc[0:25,1:8]"
   ]
  },
  {
   "cell_type": "code",
   "execution_count": 265,
   "id": "eaab9146",
   "metadata": {},
   "outputs": [
    {
     "data": {
      "text/plain": [
       "Text(0, 0.5, 'Count')"
      ]
     },
     "execution_count": 265,
     "metadata": {},
     "output_type": "execute_result"
    },
    {
     "data": {
      "image/png": "[encoded data removed]",
      "text/plain": [
       "<Figure size 432x288 with 1 Axes>"
      ]
     },
     "metadata": {
      "needs_background": "light"
     },
     "output_type": "display_data"
    }
   ],
   "source": [
    "top_ten_youtube_sucessful_commercials.apply(pd.value_counts).plot(kind='bar', \n",
    "                                     title='Distribution of characteristics in Commercial of Superbowl for top ten percent of youtube commercials that performed well')\n",
    "plt.xlabel('Characteristics')\n",
    "plt.ylabel('Count')"
   ]
  },
  {
   "cell_type": "markdown",
   "id": "b8a11c59",
   "metadata": {},
   "source": [
    " top ten percent of Superbowl commercials that performed well on youtube are funny and display product of commercial quickly"
   ]
  },
  {
   "cell_type": "code",
   "execution_count": 155,
   "id": "04a8a47d",
   "metadata": {},
   "outputs": [
    {
     "data": {
      "text/html": [
       "<div>\n",
       "<style scoped>\n",
       "    .dataframe tbody tr th:only-of-type {\n",
       "        vertical-align: middle;\n",
       "    }\n",
       "\n",
       "    .dataframe tbody tr th {\n",
       "        vertical-align: top;\n",
       "    }\n",
       "\n",
       "    .dataframe thead th {\n",
       "        text-align: right;\n",
       "    }\n",
       "</style>\n",
       "<table border=\"1\" class=\"dataframe\">\n",
       "  <thead>\n",
       "    <tr style=\"text-align: right;\">\n",
       "      <th></th>\n",
       "      <th>Length</th>\n",
       "      <th>Estimated Cost</th>\n",
       "      <th>Youtube Views</th>\n",
       "      <th>Youtube Likes</th>\n",
       "    </tr>\n",
       "  </thead>\n",
       "  <tbody>\n",
       "    <tr>\n",
       "      <th>count</th>\n",
       "      <td>25.000000</td>\n",
       "      <td>25.000000</td>\n",
       "      <td>2.500000e+01</td>\n",
       "      <td>25.000000</td>\n",
       "    </tr>\n",
       "    <tr>\n",
       "      <th>mean</th>\n",
       "      <td>57.200000</td>\n",
       "      <td>8.021200</td>\n",
       "      <td>1.421782e+07</td>\n",
       "      <td>44070.637085</td>\n",
       "    </tr>\n",
       "    <tr>\n",
       "      <th>std</th>\n",
       "      <td>38.353618</td>\n",
       "      <td>7.565909</td>\n",
       "      <td>3.607464e+07</td>\n",
       "      <td>77069.340512</td>\n",
       "    </tr>\n",
       "    <tr>\n",
       "      <th>min</th>\n",
       "      <td>30.000000</td>\n",
       "      <td>2.100000</td>\n",
       "      <td>1.569672e+06</td>\n",
       "      <td>2500.000000</td>\n",
       "    </tr>\n",
       "    <tr>\n",
       "      <th>25%</th>\n",
       "      <td>30.000000</td>\n",
       "      <td>2.950000</td>\n",
       "      <td>1.569672e+06</td>\n",
       "      <td>5086.592713</td>\n",
       "    </tr>\n",
       "    <tr>\n",
       "      <th>50%</th>\n",
       "      <td>60.000000</td>\n",
       "      <td>4.250000</td>\n",
       "      <td>2.137823e+06</td>\n",
       "      <td>5086.592713</td>\n",
       "    </tr>\n",
       "    <tr>\n",
       "      <th>75%</th>\n",
       "      <td>60.000000</td>\n",
       "      <td>10.400000</td>\n",
       "      <td>8.087637e+06</td>\n",
       "      <td>31000.000000</td>\n",
       "    </tr>\n",
       "    <tr>\n",
       "      <th>max</th>\n",
       "      <td>180.000000</td>\n",
       "      <td>31.730000</td>\n",
       "      <td>1.814238e+08</td>\n",
       "      <td>295000.000000</td>\n",
       "    </tr>\n",
       "  </tbody>\n",
       "</table>\n",
       "</div>"
      ],
      "text/plain": [
       "           Length  Estimated Cost  Youtube Views  Youtube Likes\n",
       "count   25.000000       25.000000   2.500000e+01      25.000000\n",
       "mean    57.200000        8.021200   1.421782e+07   44070.637085\n",
       "std     38.353618        7.565909   3.607464e+07   77069.340512\n",
       "min     30.000000        2.100000   1.569672e+06    2500.000000\n",
       "25%     30.000000        2.950000   1.569672e+06    5086.592713\n",
       "50%     60.000000        4.250000   2.137823e+06    5086.592713\n",
       "75%     60.000000       10.400000   8.087637e+06   31000.000000\n",
       "max    180.000000       31.730000   1.814238e+08  295000.000000"
      ]
     },
     "execution_count": 155,
     "metadata": {},
     "output_type": "execute_result"
    }
   ],
   "source": [
    "top_ten_youtube_sucessful_commercials.describe()"
   ]
  },
  {
   "cell_type": "code",
   "execution_count": 161,
   "id": "eb927d3a",
   "metadata": {},
   "outputs": [],
   "source": [
    "import matplotlib.pyplot as plt"
   ]
  },
  {
   "cell_type": "code",
   "execution_count": 164,
   "id": "da01330d",
   "metadata": {
    "scrolled": true
   },
   "outputs": [
    {
     "data": {
      "text/plain": [
       "Text(0.5, 1.0, 'Distribution of Lenght in seconds of top ten percent superbowl commercials box plot')"
      ]
     },
     "execution_count": 164,
     "metadata": {},
     "output_type": "execute_result"
    },
    {
     "data": {
      "image/png": "[encoded data removed]",
      "text/plain": [
       "<Figure size 432x288 with 1 Axes>"
      ]
     },
     "metadata": {
      "needs_background": "light"
     },
     "output_type": "display_data"
    }
   ],
   "source": [
    "sns.boxplot(x='Length',data=top_ten_youtube_sucessful_commercials)\n",
    "plt.title('Distribution of Lenght in seconds of top ten percent superbowl commercials box plot')"
   ]
  },
  {
   "cell_type": "markdown",
   "id": "19752c26",
   "metadata": {},
   "source": [
    "75% of The top ten percent of most sucessful youtube commercials in terms of total views for superbowl have length of 60 seconds"
   ]
  },
  {
   "cell_type": "markdown",
   "id": "47cadfcd",
   "metadata": {},
   "source": [
    "Which characteristics are paired most often? Can you find any unusual combinations?"
   ]
  },
  {
   "cell_type": "code",
   "execution_count": 254,
   "id": "dc46c4f7",
   "metadata": {},
   "outputs": [],
   "source": [
    "y=df.groupby(['Funny', 'Shows Product Quickly', 'Patriotic',\n",
    "       'Celebrity', 'Danger', 'Animals','Uses Sex']).size().sort_values(ascending=False)"
   ]
  },
  {
   "cell_type": "code",
   "execution_count": 261,
   "id": "4dfad4e5",
   "metadata": {
    "scrolled": true
   },
   "outputs": [
    {
     "data": {
      "text/plain": [
       "Funny  Shows Product Quickly  Patriotic  Celebrity  Danger  Animals  Uses Sex\n",
       "True   True                   False      False      False   False    False       23\n",
       "                                                    True    False    False       16\n",
       "                                                            True     False       11\n",
       "False  True                   False      False      False   False    False       11\n",
       "True   True                   False      False      False   True     False       10\n",
       "False  True                   True       False      False   True     False        9\n",
       "True   False                  False      False      False   False    False        9\n",
       "False  False                  False      True       False   False    False        8\n",
       "True   True                   False      False      False   False    True         8\n",
       "                                         True       False   False    False        8\n",
       "dtype: int64"
      ]
     },
     "execution_count": 261,
     "metadata": {},
     "output_type": "execute_result"
    }
   ],
   "source": [
    "y.head(10)"
   ]
  },
  {
   "cell_type": "code",
   "execution_count": 259,
   "id": "9c0ab810",
   "metadata": {},
   "outputs": [],
   "source": []
  },
  {
   "cell_type": "code",
   "execution_count": null,
   "id": "1045bc68",
   "metadata": {},
   "outputs": [],
   "source": []
  }
 ],
 "metadata": {
  "kernelspec": {
   "display_name": "Python 3 (ipykernel)",
   "language": "python",
   "name": "python3"
  },
  "language_info": {
   "codemirror_mode": {
    "name": "ipython",
    "version": 3
   },
   "file_extension": ".py",
   "mimetype": "text/x-python",
   "name": "python",
   "nbconvert_exporter": "python",
   "pygments_lexer": "ipython3",
   "version": "3.9.7"
  }
 },
 "nbformat": 4,
 "nbformat_minor": 5
}
