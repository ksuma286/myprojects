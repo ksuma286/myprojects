{
  "cells": [
    {
      "cell_type": "markdown",
      "metadata": {
        "id": "view-in-github",
        "colab_type": "text"
      },
      "source": [
        "<a href=\"https://colab.research.google.com/github/ksuma286/myprojects/blob/main/Online_Retail_Store_Analysis.ipynb\" target=\"_parent\"><img src=\"https://colab.research.google.com/assets/colab-badge.svg\" alt=\"Open In Colab\"/></a>"
      ]
    },
    {
      "cell_type": "code",
      "execution_count": null,
      "id": "f6358713",
      "metadata": {
        "id": "f6358713"
      },
      "outputs": [],
      "source": [
        "import pandas as pd"
      ]
    },
    {
      "cell_type": "code",
      "execution_count": null,
      "id": "25a24f44",
      "metadata": {
        "id": "25a24f44"
      },
      "outputs": [],
      "source": [
        "df=pd.read_excel('Online_Retail.xlsx')"
      ]
    },
    {
      "cell_type": "code",
      "execution_count": null,
      "id": "4bdc1529",
      "metadata": {
        "id": "4bdc1529",
        "outputId": "ce8a921f-3e8f-48b1-9f6c-75fb95712d1d"
      },
      "outputs": [
        {
          "data": {
            "text/html": [
              "<div>\n",
              "<style scoped>\n",
              "    .dataframe tbody tr th:only-of-type {\n",
              "        vertical-align: middle;\n",
              "    }\n",
              "\n",
              "    .dataframe tbody tr th {\n",
              "        vertical-align: top;\n",
              "    }\n",
              "\n",
              "    .dataframe thead th {\n",
              "        text-align: right;\n",
              "    }\n",
              "</style>\n",
              "<table border=\"1\" class=\"dataframe\">\n",
              "  <thead>\n",
              "    <tr style=\"text-align: right;\">\n",
              "      <th></th>\n",
              "      <th>InvoiceNo</th>\n",
              "      <th>StockCode</th>\n",
              "      <th>Description</th>\n",
              "      <th>Quantity</th>\n",
              "      <th>InvoiceDate</th>\n",
              "      <th>UnitPrice</th>\n",
              "      <th>CustomerID</th>\n",
              "      <th>Country</th>\n",
              "    </tr>\n",
              "  </thead>\n",
              "  <tbody>\n",
              "    <tr>\n",
              "      <th>0</th>\n",
              "      <td>536365</td>\n",
              "      <td>85123A</td>\n",
              "      <td>WHITE HANGING HEART T-LIGHT HOLDER</td>\n",
              "      <td>6</td>\n",
              "      <td>2010-12-01 08:26:00</td>\n",
              "      <td>2.55</td>\n",
              "      <td>17850.0</td>\n",
              "      <td>United Kingdom</td>\n",
              "    </tr>\n",
              "    <tr>\n",
              "      <th>1</th>\n",
              "      <td>536365</td>\n",
              "      <td>71053</td>\n",
              "      <td>WHITE METAL LANTERN</td>\n",
              "      <td>6</td>\n",
              "      <td>2010-12-01 08:26:00</td>\n",
              "      <td>3.39</td>\n",
              "      <td>17850.0</td>\n",
              "      <td>United Kingdom</td>\n",
              "    </tr>\n",
              "    <tr>\n",
              "      <th>2</th>\n",
              "      <td>536365</td>\n",
              "      <td>84406B</td>\n",
              "      <td>CREAM CUPID HEARTS COAT HANGER</td>\n",
              "      <td>8</td>\n",
              "      <td>2010-12-01 08:26:00</td>\n",
              "      <td>2.75</td>\n",
              "      <td>17850.0</td>\n",
              "      <td>United Kingdom</td>\n",
              "    </tr>\n",
              "    <tr>\n",
              "      <th>3</th>\n",
              "      <td>536365</td>\n",
              "      <td>84029G</td>\n",
              "      <td>KNITTED UNION FLAG HOT WATER BOTTLE</td>\n",
              "      <td>6</td>\n",
              "      <td>2010-12-01 08:26:00</td>\n",
              "      <td>3.39</td>\n",
              "      <td>17850.0</td>\n",
              "      <td>United Kingdom</td>\n",
              "    </tr>\n",
              "    <tr>\n",
              "      <th>4</th>\n",
              "      <td>536365</td>\n",
              "      <td>84029E</td>\n",
              "      <td>RED WOOLLY HOTTIE WHITE HEART.</td>\n",
              "      <td>6</td>\n",
              "      <td>2010-12-01 08:26:00</td>\n",
              "      <td>3.39</td>\n",
              "      <td>17850.0</td>\n",
              "      <td>United Kingdom</td>\n",
              "    </tr>\n",
              "  </tbody>\n",
              "</table>\n",
              "</div>"
            ],
            "text/plain": [
              "  InvoiceNo StockCode                          Description  Quantity  \\\n",
              "0    536365    85123A   WHITE HANGING HEART T-LIGHT HOLDER         6   \n",
              "1    536365     71053                  WHITE METAL LANTERN         6   \n",
              "2    536365    84406B       CREAM CUPID HEARTS COAT HANGER         8   \n",
              "3    536365    84029G  KNITTED UNION FLAG HOT WATER BOTTLE         6   \n",
              "4    536365    84029E       RED WOOLLY HOTTIE WHITE HEART.         6   \n",
              "\n",
              "          InvoiceDate  UnitPrice  CustomerID         Country  \n",
              "0 2010-12-01 08:26:00       2.55     17850.0  United Kingdom  \n",
              "1 2010-12-01 08:26:00       3.39     17850.0  United Kingdom  \n",
              "2 2010-12-01 08:26:00       2.75     17850.0  United Kingdom  \n",
              "3 2010-12-01 08:26:00       3.39     17850.0  United Kingdom  \n",
              "4 2010-12-01 08:26:00       3.39     17850.0  United Kingdom  "
            ]
          },
          "execution_count": 240,
          "metadata": {},
          "output_type": "execute_result"
        }
      ],
      "source": [
        "df.head()"
      ]
    },
    {
      "cell_type": "code",
      "execution_count": null,
      "id": "7ac2b746",
      "metadata": {
        "id": "7ac2b746",
        "outputId": "61536bb1-d677-4f02-e999-0b8a42180564"
      },
      "outputs": [
        {
          "data": {
            "text/plain": [
              "(541909, 8)"
            ]
          },
          "execution_count": 241,
          "metadata": {},
          "output_type": "execute_result"
        }
      ],
      "source": [
        "df.shape"
      ]
    },
    {
      "cell_type": "code",
      "execution_count": null,
      "id": "673d3af2",
      "metadata": {
        "id": "673d3af2",
        "outputId": "4accfc06-af80-4ad3-d8d6-ebed8f851a3a"
      },
      "outputs": [
        {
          "name": "stdout",
          "output_type": "stream",
          "text": [
            "<class 'pandas.core.frame.DataFrame'>\n",
            "RangeIndex: 541909 entries, 0 to 541908\n",
            "Data columns (total 8 columns):\n",
            " #   Column       Non-Null Count   Dtype         \n",
            "---  ------       --------------   -----         \n",
            " 0   InvoiceNo    541909 non-null  object        \n",
            " 1   StockCode    541909 non-null  object        \n",
            " 2   Description  540455 non-null  object        \n",
            " 3   Quantity     541909 non-null  int64         \n",
            " 4   InvoiceDate  541909 non-null  datetime64[ns]\n",
            " 5   UnitPrice    541909 non-null  float64       \n",
            " 6   CustomerID   406829 non-null  float64       \n",
            " 7   Country      541909 non-null  object        \n",
            "dtypes: datetime64[ns](1), float64(2), int64(1), object(4)\n",
            "memory usage: 33.1+ MB\n"
          ]
        }
      ],
      "source": [
        "df.info()"
      ]
    },
    {
      "cell_type": "code",
      "execution_count": null,
      "id": "03ee9b6c",
      "metadata": {
        "id": "03ee9b6c"
      },
      "outputs": [],
      "source": [
        "df=df[['StockCode','Description','Quantity','InvoiceDate','UnitPrice','Country','CustomerID','InvoiceNo']]"
      ]
    },
    {
      "cell_type": "code",
      "execution_count": null,
      "id": "93767831",
      "metadata": {
        "id": "93767831"
      },
      "outputs": [],
      "source": [
        "df.dropna(axis=0,inplace=True)"
      ]
    },
    {
      "cell_type": "code",
      "execution_count": null,
      "id": "b79cf449",
      "metadata": {
        "id": "b79cf449",
        "outputId": "bdb78c9b-82ad-4630-f22e-55f6f7f592f4"
      },
      "outputs": [
        {
          "data": {
            "text/plain": [
              "(406829, 8)"
            ]
          },
          "execution_count": 245,
          "metadata": {},
          "output_type": "execute_result"
        }
      ],
      "source": [
        "df.shape"
      ]
    },
    {
      "cell_type": "code",
      "execution_count": null,
      "id": "d55ba036",
      "metadata": {
        "id": "d55ba036",
        "outputId": "4e9a0b11-75df-4e66-d91d-4f3b27c6ff58"
      },
      "outputs": [
        {
          "data": {
            "text/plain": [
              "StockCode      0\n",
              "Description    0\n",
              "Quantity       0\n",
              "InvoiceDate    0\n",
              "UnitPrice      0\n",
              "Country        0\n",
              "CustomerID     0\n",
              "InvoiceNo      0\n",
              "dtype: int64"
            ]
          },
          "execution_count": 246,
          "metadata": {},
          "output_type": "execute_result"
        }
      ],
      "source": [
        "df.isnull().sum()"
      ]
    },
    {
      "cell_type": "code",
      "execution_count": null,
      "id": "f7db1ce2",
      "metadata": {
        "id": "f7db1ce2"
      },
      "outputs": [],
      "source": [
        "df['Total']=df['Quantity']*df['UnitPrice']"
      ]
    },
    {
      "cell_type": "code",
      "execution_count": null,
      "id": "5bd69861",
      "metadata": {
        "id": "5bd69861",
        "outputId": "295eae32-04b5-4faa-def4-ec185caba0b3"
      },
      "outputs": [
        {
          "data": {
            "text/html": [
              "<div>\n",
              "<style scoped>\n",
              "    .dataframe tbody tr th:only-of-type {\n",
              "        vertical-align: middle;\n",
              "    }\n",
              "\n",
              "    .dataframe tbody tr th {\n",
              "        vertical-align: top;\n",
              "    }\n",
              "\n",
              "    .dataframe thead th {\n",
              "        text-align: right;\n",
              "    }\n",
              "</style>\n",
              "<table border=\"1\" class=\"dataframe\">\n",
              "  <thead>\n",
              "    <tr style=\"text-align: right;\">\n",
              "      <th></th>\n",
              "      <th>Quantity</th>\n",
              "      <th>UnitPrice</th>\n",
              "      <th>Total</th>\n",
              "    </tr>\n",
              "  </thead>\n",
              "  <tbody>\n",
              "    <tr>\n",
              "      <th>0</th>\n",
              "      <td>6</td>\n",
              "      <td>2.55</td>\n",
              "      <td>15.30</td>\n",
              "    </tr>\n",
              "    <tr>\n",
              "      <th>1</th>\n",
              "      <td>6</td>\n",
              "      <td>3.39</td>\n",
              "      <td>20.34</td>\n",
              "    </tr>\n",
              "    <tr>\n",
              "      <th>2</th>\n",
              "      <td>8</td>\n",
              "      <td>2.75</td>\n",
              "      <td>22.00</td>\n",
              "    </tr>\n",
              "    <tr>\n",
              "      <th>3</th>\n",
              "      <td>6</td>\n",
              "      <td>3.39</td>\n",
              "      <td>20.34</td>\n",
              "    </tr>\n",
              "    <tr>\n",
              "      <th>4</th>\n",
              "      <td>6</td>\n",
              "      <td>3.39</td>\n",
              "      <td>20.34</td>\n",
              "    </tr>\n",
              "  </tbody>\n",
              "</table>\n",
              "</div>"
            ],
            "text/plain": [
              "   Quantity  UnitPrice  Total\n",
              "0         6       2.55  15.30\n",
              "1         6       3.39  20.34\n",
              "2         8       2.75  22.00\n",
              "3         6       3.39  20.34\n",
              "4         6       3.39  20.34"
            ]
          },
          "execution_count": 248,
          "metadata": {},
          "output_type": "execute_result"
        }
      ],
      "source": [
        "df[['Quantity','UnitPrice','Total']].head()"
      ]
    },
    {
      "cell_type": "code",
      "execution_count": null,
      "id": "377dcaab",
      "metadata": {
        "id": "377dcaab"
      },
      "outputs": [],
      "source": [
        "df_total=df.groupby(['StockCode','Description'])['Total'].sum()"
      ]
    },
    {
      "cell_type": "code",
      "execution_count": null,
      "id": "ffe0a920",
      "metadata": {
        "id": "ffe0a920"
      },
      "outputs": [],
      "source": [
        "df_total=pd.DataFrame(df_total)"
      ]
    },
    {
      "cell_type": "code",
      "execution_count": null,
      "id": "01ca938e",
      "metadata": {
        "id": "01ca938e",
        "outputId": "2c80608d-ee33-4b47-ea87-b8f26b78e55e"
      },
      "outputs": [
        {
          "data": {
            "text/plain": [
              "Index(['Total'], dtype='object')"
            ]
          },
          "execution_count": 251,
          "metadata": {},
          "output_type": "execute_result"
        }
      ],
      "source": [
        "df_total.columns"
      ]
    },
    {
      "cell_type": "code",
      "execution_count": null,
      "id": "ebc635ea",
      "metadata": {
        "id": "ebc635ea"
      },
      "outputs": [],
      "source": [
        "df_total=df_total['Total'].sort_values(ascending=False)"
      ]
    },
    {
      "cell_type": "markdown",
      "id": "b0283c6a",
      "metadata": {
        "id": "b0283c6a"
      },
      "source": [
        "The top ten selling stock are"
      ]
    },
    {
      "cell_type": "code",
      "execution_count": null,
      "id": "1bc1ec20",
      "metadata": {
        "id": "1bc1ec20",
        "outputId": "cd61d86c-4eec-44c8-d67d-564c8c1dcf19"
      },
      "outputs": [
        {
          "data": {
            "text/plain": [
              "StockCode  Description                       \n",
              "22423      REGENCY CAKESTAND 3 TIER              132870.40\n",
              "85123A     WHITE HANGING HEART T-LIGHT HOLDER     93823.85\n",
              "85099B     JUMBO BAG RED RETROSPOT                83236.76\n",
              "47566      PARTY BUNTING                          67687.53\n",
              "POST       POSTAGE                                66710.24\n",
              "84879      ASSORTED COLOUR BIRD ORNAMENT          56499.22\n",
              "23084      RABBIT NIGHT LIGHT                     51137.80\n",
              "79321      CHILLI LIGHTS                          45936.81\n",
              "22086      PAPER CHAIN KIT 50'S CHRISTMAS         41500.48\n",
              "22502      PICNIC BASKET WICKER 60 PIECES         39619.50\n",
              "Name: Total, dtype: float64"
            ]
          },
          "execution_count": 253,
          "metadata": {},
          "output_type": "execute_result"
        }
      ],
      "source": [
        "df_total.head(10)"
      ]
    },
    {
      "cell_type": "markdown",
      "id": "4a83bf4d",
      "metadata": {
        "id": "4a83bf4d"
      },
      "source": [
        "The top ten least revenue generating stock are"
      ]
    },
    {
      "cell_type": "code",
      "execution_count": null,
      "id": "917c337b",
      "metadata": {
        "id": "917c337b",
        "outputId": "3ebd54f4-afd3-4dc4-9e8d-eb37edb6d2e3"
      },
      "outputs": [
        {
          "data": {
            "text/plain": [
              "StockCode  Description                    \n",
              "20703      BLUE PADDED SOFT MOBILE              -25.50\n",
              "79323P     PINK CHERRY LIGHTS                   -27.00\n",
              "21645      ASSORTED TUTTI FRUTTI ROUND BOX      -39.60\n",
              "35400      WOODEN BOX ADVENT CALENDAR           -45.70\n",
              "85063      CREAM SWEETHEART MAGAZINE RACK       -46.85\n",
              "79323W     WHITE CHERRY LIGHTS                  -54.00\n",
              "22769      CHALKBOARD KITCHEN ORGANISER         -87.80\n",
              "D          Discount                           -5696.22\n",
              "CRUK       CRUK Commission                    -7933.43\n",
              "M          Manual                            -58385.46\n",
              "Name: Total, dtype: float64"
            ]
          },
          "execution_count": 254,
          "metadata": {},
          "output_type": "execute_result"
        }
      ],
      "source": [
        "df_total.tail(10)"
      ]
    },
    {
      "cell_type": "code",
      "execution_count": null,
      "id": "1d301d8a",
      "metadata": {
        "id": "1d301d8a",
        "outputId": "a3292346-6da5-4b98-e40c-ac9a7a9af0dc"
      },
      "outputs": [
        {
          "data": {
            "text/plain": [
              "3896"
            ]
          },
          "execution_count": 255,
          "metadata": {},
          "output_type": "execute_result"
        }
      ],
      "source": [
        "df['Description'].nunique()"
      ]
    },
    {
      "cell_type": "markdown",
      "id": "9c07113c",
      "metadata": {
        "id": "9c07113c"
      },
      "source": [
        "top ten items sold"
      ]
    },
    {
      "cell_type": "code",
      "execution_count": null,
      "id": "6e64f23b",
      "metadata": {
        "id": "6e64f23b"
      },
      "outputs": [],
      "source": [
        "df_stock_count=df.groupby(['StockCode','Description'])['Quantity'].sum()"
      ]
    },
    {
      "cell_type": "code",
      "execution_count": null,
      "id": "6a95740b",
      "metadata": {
        "id": "6a95740b"
      },
      "outputs": [],
      "source": [
        "df_stock_count=pd.DataFrame(df_stock_count)"
      ]
    },
    {
      "cell_type": "code",
      "execution_count": null,
      "id": "4668ef34",
      "metadata": {
        "id": "4668ef34",
        "outputId": "e8479f0c-c158-4dd6-9880-4b694a5e0310"
      },
      "outputs": [
        {
          "data": {
            "text/html": [
              "<div>\n",
              "<style scoped>\n",
              "    .dataframe tbody tr th:only-of-type {\n",
              "        vertical-align: middle;\n",
              "    }\n",
              "\n",
              "    .dataframe tbody tr th {\n",
              "        vertical-align: top;\n",
              "    }\n",
              "\n",
              "    .dataframe thead th {\n",
              "        text-align: right;\n",
              "    }\n",
              "</style>\n",
              "<table border=\"1\" class=\"dataframe\">\n",
              "  <thead>\n",
              "    <tr style=\"text-align: right;\">\n",
              "      <th></th>\n",
              "      <th></th>\n",
              "      <th>Quantity</th>\n",
              "    </tr>\n",
              "    <tr>\n",
              "      <th>StockCode</th>\n",
              "      <th>Description</th>\n",
              "      <th></th>\n",
              "    </tr>\n",
              "  </thead>\n",
              "  <tbody>\n",
              "    <tr>\n",
              "      <th>10002</th>\n",
              "      <th>INFLATABLE POLITICAL GLOBE</th>\n",
              "      <td>823</td>\n",
              "    </tr>\n",
              "    <tr>\n",
              "      <th>10080</th>\n",
              "      <th>GROOVY CACTUS INFLATABLE</th>\n",
              "      <td>291</td>\n",
              "    </tr>\n",
              "    <tr>\n",
              "      <th>10120</th>\n",
              "      <th>DOGGY RUBBER</th>\n",
              "      <td>193</td>\n",
              "    </tr>\n",
              "    <tr>\n",
              "      <th>10125</th>\n",
              "      <th>MINI FUNKY DESIGN TAPES</th>\n",
              "      <td>1226</td>\n",
              "    </tr>\n",
              "    <tr>\n",
              "      <th>10133</th>\n",
              "      <th>COLOURING PENCILS BROWN TUBE</th>\n",
              "      <td>2374</td>\n",
              "    </tr>\n",
              "  </tbody>\n",
              "</table>\n",
              "</div>"
            ],
            "text/plain": [
              "                                        Quantity\n",
              "StockCode Description                           \n",
              "10002     INFLATABLE POLITICAL GLOBE         823\n",
              "10080     GROOVY CACTUS INFLATABLE           291\n",
              "10120     DOGGY RUBBER                       193\n",
              "10125     MINI FUNKY DESIGN TAPES           1226\n",
              "10133     COLOURING PENCILS BROWN TUBE      2374"
            ]
          },
          "execution_count": 258,
          "metadata": {},
          "output_type": "execute_result"
        }
      ],
      "source": [
        "df_stock_count.head()"
      ]
    },
    {
      "cell_type": "code",
      "execution_count": null,
      "id": "eb5ec024",
      "metadata": {
        "id": "eb5ec024",
        "outputId": "4a7916a5-5954-4d28-9cac-6223b03231ca"
      },
      "outputs": [
        {
          "data": {
            "text/plain": [
              "Index(['Quantity'], dtype='object')"
            ]
          },
          "execution_count": 259,
          "metadata": {},
          "output_type": "execute_result"
        }
      ],
      "source": [
        "df_stock_count.columns"
      ]
    },
    {
      "cell_type": "code",
      "execution_count": null,
      "id": "58cda443",
      "metadata": {
        "id": "58cda443"
      },
      "outputs": [],
      "source": [
        "df_stock_count=df_stock_count['Quantity'].sort_values(ascending=False)"
      ]
    },
    {
      "cell_type": "code",
      "execution_count": null,
      "id": "7b2cfeb5",
      "metadata": {
        "id": "7b2cfeb5",
        "outputId": "7ad2c56e-ae20-4c96-f072-5a75a09b735b"
      },
      "outputs": [
        {
          "data": {
            "text/plain": [
              "(3916,)"
            ]
          },
          "execution_count": 261,
          "metadata": {},
          "output_type": "execute_result"
        }
      ],
      "source": [
        "df_stock_count.shape"
      ]
    },
    {
      "cell_type": "code",
      "execution_count": null,
      "id": "ccfc2ad6",
      "metadata": {
        "id": "ccfc2ad6",
        "outputId": "e6fa8b6b-2bd7-4786-8576-010efa89d455"
      },
      "outputs": [
        {
          "data": {
            "text/plain": [
              "StockCode  Description                       \n",
              "84077      WORLD WAR 2 GLIDERS ASSTD DESIGNS     53215\n",
              "85099B     JUMBO BAG RED RETROSPOT               45066\n",
              "84879      ASSORTED COLOUR BIRD ORNAMENT         35314\n",
              "85123A     WHITE HANGING HEART T-LIGHT HOLDER    34147\n",
              "21212      PACK OF 72 RETROSPOT CAKE CASES       33409\n",
              "22197      POPCORN HOLDER                        30504\n",
              "23084      RABBIT NIGHT LIGHT                    27094\n",
              "22492      MINI PAINT SET VINTAGE                25880\n",
              "22616      PACK OF 12 LONDON TISSUES             25321\n",
              "21977      PACK OF 60 PINK PAISLEY CAKE CASES    24163\n",
              "Name: Quantity, dtype: int64"
            ]
          },
          "execution_count": 262,
          "metadata": {},
          "output_type": "execute_result"
        }
      ],
      "source": [
        "df_stock_count.head(10)"
      ]
    },
    {
      "cell_type": "markdown",
      "id": "eee00699",
      "metadata": {
        "id": "eee00699"
      },
      "source": [
        "top ten least selling items"
      ]
    },
    {
      "cell_type": "code",
      "execution_count": null,
      "id": "0e698300",
      "metadata": {
        "id": "0e698300",
        "outputId": "0cba8d22-8a49-4811-d6d3-f22b4bb70bbb"
      },
      "outputs": [
        {
          "data": {
            "text/plain": [
              "StockCode  Description                        \n",
              "35400      WOODEN BOX ADVENT CALENDAR               -6\n",
              "21412      VINTAGE GOLD TINSEL REEL                 -6\n",
              "20703      BLUE PADDED SOFT MOBILE                  -6\n",
              "79323W     WHITE CHERRY LIGHTS                      -8\n",
              "22034      ROBIN CHRISTMAS CARD                     -9\n",
              "21144      PINK POODLE HANGING DECORATION          -12\n",
              "CRUK       CRUK Commission                         -16\n",
              "21645      ASSORTED TUTTI FRUTTI ROUND BOX         -24\n",
              "D          Discount                              -1194\n",
              "84347      ROTATING SILVER ANGELS T-LIGHT HLDR   -1460\n",
              "Name: Quantity, dtype: int64"
            ]
          },
          "execution_count": 263,
          "metadata": {},
          "output_type": "execute_result"
        }
      ],
      "source": [
        "df_stock_count.tail(10)"
      ]
    },
    {
      "cell_type": "code",
      "execution_count": null,
      "id": "b57d14bb",
      "metadata": {
        "id": "b57d14bb"
      },
      "outputs": [],
      "source": [
        "df_country=df[['StockCode','Description','Country','Quantity','UnitPrice','CustomerID','Total']]"
      ]
    },
    {
      "cell_type": "code",
      "execution_count": null,
      "id": "4566b7c6",
      "metadata": {
        "id": "4566b7c6",
        "outputId": "b0fb6eef-8f1c-418b-879d-0b427c0e1f5e"
      },
      "outputs": [
        {
          "data": {
            "text/plain": [
              "Index(['StockCode', 'Description', 'Country', 'Quantity', 'UnitPrice',\n",
              "       'CustomerID', 'Total'],\n",
              "      dtype='object')"
            ]
          },
          "execution_count": 265,
          "metadata": {},
          "output_type": "execute_result"
        }
      ],
      "source": [
        "df_country.columns"
      ]
    },
    {
      "cell_type": "code",
      "execution_count": null,
      "id": "a9bee0e1",
      "metadata": {
        "id": "a9bee0e1"
      },
      "outputs": [],
      "source": [
        "dfc=df_country.groupby('Country')['CustomerID'].nunique()"
      ]
    },
    {
      "cell_type": "code",
      "execution_count": null,
      "id": "17593649",
      "metadata": {
        "id": "17593649",
        "outputId": "5ea49bb5-adeb-48a2-cf23-a8fc787d7b1d"
      },
      "outputs": [
        {
          "data": {
            "text/plain": [
              "(37,)"
            ]
          },
          "execution_count": 267,
          "metadata": {},
          "output_type": "execute_result"
        }
      ],
      "source": [
        "dfc.shape"
      ]
    },
    {
      "cell_type": "code",
      "execution_count": null,
      "id": "9d2884f5",
      "metadata": {
        "id": "9d2884f5"
      },
      "outputs": [],
      "source": [
        "dfc=dfc.sort_values(ascending=False)"
      ]
    },
    {
      "cell_type": "code",
      "execution_count": null,
      "id": "0ddaeb9e",
      "metadata": {
        "id": "0ddaeb9e"
      },
      "outputs": [],
      "source": [
        "dfc_10=dfc.iloc[:10,]"
      ]
    },
    {
      "cell_type": "code",
      "execution_count": null,
      "id": "cc3a62a3",
      "metadata": {
        "id": "cc3a62a3"
      },
      "outputs": [],
      "source": [
        "import matplotlib.pyplot as plt"
      ]
    },
    {
      "cell_type": "code",
      "execution_count": null,
      "id": "089b0b28",
      "metadata": {
        "id": "089b0b28",
        "outputId": "6d459af2-3e5b-43ff-83d6-47009b80ee67"
      },
      "outputs": [
        {
          "data": {
            "text/plain": [
              "Text(0, 0.5, 'Cusstomer Count')"
            ]
          },
          "execution_count": 271,
          "metadata": {},
          "output_type": "execute_result"
        },
        {
          "data": {
            "image/png": "[encoded data removed]",
            "text/plain": [
              "<Figure size 432x288 with 1 Axes>"
            ]
          },
          "metadata": {
            "needs_background": "light"
          },
          "output_type": "display_data"
        }
      ],
      "source": [
        "dfc_10.plot(kind='bar')\n",
        "plt.title('Top Ten Countries with highest customer count ')\n",
        "plt.ylabel('Cusstomer Count')"
      ]
    },
    {
      "cell_type": "code",
      "execution_count": null,
      "id": "071d9010",
      "metadata": {
        "id": "071d9010"
      },
      "outputs": [],
      "source": [
        "import seaborn as sns"
      ]
    },
    {
      "cell_type": "code",
      "execution_count": null,
      "id": "c962886a",
      "metadata": {
        "id": "c962886a"
      },
      "outputs": [],
      "source": [
        "dfcs=df_country.groupby('Country')['Total'].sum()"
      ]
    },
    {
      "cell_type": "code",
      "execution_count": null,
      "id": "6bbac5cf",
      "metadata": {
        "id": "6bbac5cf",
        "outputId": "31a3bac8-cfcb-4f6d-f297-eea1a519283b"
      },
      "outputs": [
        {
          "data": {
            "text/plain": [
              "Country\n",
              "Australia    137077.27\n",
              "Austria       10154.32\n",
              "Bahrain         548.40\n",
              "Belgium       40910.96\n",
              "Brazil         1143.60\n",
              "Name: Total, dtype: float64"
            ]
          },
          "execution_count": 274,
          "metadata": {},
          "output_type": "execute_result"
        }
      ],
      "source": [
        "dfcs.head()"
      ]
    },
    {
      "cell_type": "code",
      "execution_count": null,
      "id": "cb675076",
      "metadata": {
        "id": "cb675076"
      },
      "outputs": [],
      "source": [
        "dfcs=dfcs.sort_values(ascending=False)"
      ]
    },
    {
      "cell_type": "code",
      "execution_count": null,
      "id": "651e826d",
      "metadata": {
        "id": "651e826d"
      },
      "outputs": [],
      "source": [
        "dfcs_5=dfcs.iloc[:5,]"
      ]
    },
    {
      "cell_type": "code",
      "execution_count": null,
      "id": "07666c98",
      "metadata": {
        "id": "07666c98",
        "outputId": "d5d5e7cf-4a0a-4d60-8f14-c1c84a134a1b"
      },
      "outputs": [
        {
          "data": {
            "text/plain": [
              "Text(0.5, 1.0, 'Renenue of top five sales performing countries')"
            ]
          },
          "execution_count": 277,
          "metadata": {},
          "output_type": "execute_result"
        },
        {
          "data": {
            "image/png": "[encoded data removed]",
            "text/plain": [
              "<Figure size 432x288 with 1 Axes>"
            ]
          },
          "metadata": {},
          "output_type": "display_data"
        }
      ],
      "source": [
        "dfcs_5.plot(kind='pie',autopct='%1.1f%%')\n",
        "plt.title('Renenue of top five sales performing countries')\n"
      ]
    },
    {
      "cell_type": "code",
      "execution_count": null,
      "id": "cbd42866",
      "metadata": {
        "id": "cbd42866",
        "outputId": "8de9db68-8f9f-42b2-e7da-97ee8fb2b78d"
      },
      "outputs": [
        {
          "data": {
            "text/plain": [
              "dtype('<M8[ns]')"
            ]
          },
          "execution_count": 278,
          "metadata": {},
          "output_type": "execute_result"
        }
      ],
      "source": [
        "df['InvoiceDate'].dtypes"
      ]
    },
    {
      "cell_type": "code",
      "execution_count": null,
      "id": "201c065a",
      "metadata": {
        "id": "201c065a"
      },
      "outputs": [],
      "source": [
        "df['Invoice_year']=df['InvoiceDate'].dt.year\n"
      ]
    },
    {
      "cell_type": "code",
      "execution_count": null,
      "id": "ac7bbbf6",
      "metadata": {
        "id": "ac7bbbf6",
        "outputId": "fb3d47ca-dde1-40e8-ed98-e11ded6e05d8"
      },
      "outputs": [
        {
          "data": {
            "text/plain": [
              "0    2010\n",
              "1    2010\n",
              "2    2010\n",
              "3    2010\n",
              "4    2010\n",
              "Name: Invoice_year, dtype: int64"
            ]
          },
          "execution_count": 280,
          "metadata": {},
          "output_type": "execute_result"
        }
      ],
      "source": [
        "df['Invoice_year'].head()"
      ]
    },
    {
      "cell_type": "code",
      "execution_count": null,
      "id": "580443f4",
      "metadata": {
        "id": "580443f4",
        "outputId": "965c523a-3041-4171-d5b5-297ca2c62b68"
      },
      "outputs": [
        {
          "data": {
            "text/plain": [
              "Text(0, 0.5, 'Number of Invoices')"
            ]
          },
          "execution_count": 281,
          "metadata": {},
          "output_type": "execute_result"
        },
        {
          "data": {
            "image/png": "[encoded data removed]",
            "text/plain": [
              "<Figure size 432x288 with 1 Axes>"
            ]
          },
          "metadata": {
            "needs_background": "light"
          },
          "output_type": "display_data"
        }
      ],
      "source": [
        "df.groupby('Invoice_year')['InvoiceNo'].nunique().plot(kind='bar')\n",
        "plt.title('Distribution of invoices generated on basis of years')\n",
        "plt.ylabel('Number of Invoices')"
      ]
    },
    {
      "cell_type": "code",
      "execution_count": null,
      "id": "fc53d62e",
      "metadata": {
        "id": "fc53d62e"
      },
      "outputs": [],
      "source": [
        "df_2011_m=df[df['Invoice_year']==2011]"
      ]
    },
    {
      "cell_type": "code",
      "execution_count": null,
      "id": "26168232",
      "metadata": {
        "id": "26168232",
        "outputId": "e62d4956-f5c4-4554-f0d3-26d3c39b4a1c"
      },
      "outputs": [
        {
          "name": "stderr",
          "output_type": "stream",
          "text": [
            "/var/folders/db/5lq6wtyx2y39rtvf97mrmwfm0000gn/T/ipykernel_6135/657462859.py:1: SettingWithCopyWarning: \n",
            "A value is trying to be set on a copy of a slice from a DataFrame.\n",
            "Try using .loc[row_indexer,col_indexer] = value instead\n",
            "\n",
            "See the caveats in the documentation: https://pandas.pydata.org/pandas-docs/stable/user_guide/indexing.html#returning-a-view-versus-a-copy\n",
            "  df_2011_m['month']=df_2011_m['InvoiceDate'].dt.month\n"
          ]
        }
      ],
      "source": [
        "df_2011_m['month']=df_2011_m['InvoiceDate'].dt.month"
      ]
    },
    {
      "cell_type": "code",
      "execution_count": null,
      "id": "39b04b42",
      "metadata": {
        "id": "39b04b42",
        "outputId": "82fce27e-68b4-44d3-ef67-b133caf1ab08"
      },
      "outputs": [
        {
          "data": {
            "text/plain": [
              "42481    1\n",
              "42482    1\n",
              "42483    1\n",
              "42484    1\n",
              "42485    1\n",
              "Name: month, dtype: int64"
            ]
          },
          "execution_count": 284,
          "metadata": {},
          "output_type": "execute_result"
        }
      ],
      "source": [
        "df_2011_m['month'].head()"
      ]
    },
    {
      "cell_type": "code",
      "execution_count": null,
      "id": "c97ef21a",
      "metadata": {
        "id": "c97ef21a"
      },
      "outputs": [],
      "source": [
        "df_m={1:'January',2:'Februrary',3:'March',4:'April',5:'May',6:'June',7:'July',8:'August',9:'September',10:'October',9:'November',10:'December'}"
      ]
    },
    {
      "cell_type": "code",
      "execution_count": null,
      "id": "cbf69c50",
      "metadata": {
        "id": "cbf69c50",
        "outputId": "3b593e10-6b58-4e70-b608-11a0e757459d"
      },
      "outputs": [
        {
          "name": "stderr",
          "output_type": "stream",
          "text": [
            "/var/folders/db/5lq6wtyx2y39rtvf97mrmwfm0000gn/T/ipykernel_6135/4140849021.py:1: SettingWithCopyWarning: \n",
            "A value is trying to be set on a copy of a slice from a DataFrame.\n",
            "Try using .loc[row_indexer,col_indexer] = value instead\n",
            "\n",
            "See the caveats in the documentation: https://pandas.pydata.org/pandas-docs/stable/user_guide/indexing.html#returning-a-view-versus-a-copy\n",
            "  df_2011_m['month']=df_2011_m['month'].map(df_m)\n"
          ]
        }
      ],
      "source": [
        "df_2011_m['month']=df_2011_m['month'].map(df_m)"
      ]
    },
    {
      "cell_type": "code",
      "execution_count": null,
      "id": "7c892d71",
      "metadata": {
        "id": "7c892d71",
        "outputId": "5bf45490-7e7f-4566-d569-bcc154117d8e"
      },
      "outputs": [
        {
          "data": {
            "text/plain": [
              "42481    January\n",
              "42482    January\n",
              "42483    January\n",
              "42484    January\n",
              "42485    January\n",
              "Name: month, dtype: object"
            ]
          },
          "execution_count": 287,
          "metadata": {},
          "output_type": "execute_result"
        }
      ],
      "source": [
        "df_2011_m['month'].head()"
      ]
    },
    {
      "cell_type": "code",
      "execution_count": null,
      "id": "db229bfe",
      "metadata": {
        "id": "db229bfe",
        "outputId": "5c14c08e-381a-437b-9c09-19d1556778ec"
      },
      "outputs": [
        {
          "data": {
            "text/plain": [
              "Text(0, 0.5, 'Number of Invoices')"
            ]
          },
          "execution_count": 288,
          "metadata": {},
          "output_type": "execute_result"
        },
        {
          "data": {
            "image/png": "[encoded data removed]",
            "text/plain": [
              "<Figure size 432x288 with 1 Axes>"
            ]
          },
          "metadata": {
            "needs_background": "light"
          },
          "output_type": "display_data"
        }
      ],
      "source": [
        "df_2011_m.groupby('month')['InvoiceNo'].count().sort_values().plot(kind='bar')\n",
        "plt.title('Distribution of invoices generated on basis of months of 2011')\n",
        "plt.ylabel('Number of Invoices')"
      ]
    },
    {
      "cell_type": "code",
      "execution_count": null,
      "id": "b2d64140",
      "metadata": {
        "id": "b2d64140",
        "outputId": "585f3eb6-92d9-4d2f-fffe-f0d88a751d43"
      },
      "outputs": [
        {
          "data": {
            "text/plain": [
              "Text(0.5, 1.0, 'Distribution of revenue on basis of months of 2011')"
            ]
          },
          "execution_count": 289,
          "metadata": {},
          "output_type": "execute_result"
        },
        {
          "data": {
            "image/png": "[encoded data removed]",
            "text/plain": [
              "<Figure size 432x288 with 1 Axes>"
            ]
          },
          "metadata": {},
          "output_type": "display_data"
        }
      ],
      "source": [
        "df_2011_m.groupby('month')['Total'].sum().plot(kind='pie',autopct='%1.1f%%')\n",
        "plt.title('Distribution of revenue on basis of months of 2011')"
      ]
    },
    {
      "cell_type": "code",
      "execution_count": null,
      "id": "032b7f9a",
      "metadata": {
        "id": "032b7f9a"
      },
      "outputs": [],
      "source": [
        "df_top_ten_repeated_customers_sales=df.groupby('CustomerID')['Total'].sum().sort_values(ascending=False).iloc[:10,]"
      ]
    },
    {
      "cell_type": "markdown",
      "id": "756fe4c4",
      "metadata": {
        "id": "756fe4c4"
      },
      "source": [
        "#top ten customers who paid the most to purchase"
      ]
    },
    {
      "cell_type": "code",
      "execution_count": null,
      "id": "b3f7ec2b",
      "metadata": {
        "id": "b3f7ec2b",
        "outputId": "bec47a60-9430-4e55-9470-54af3b5fcd23"
      },
      "outputs": [
        {
          "data": {
            "text/plain": [
              "Text(0, 0.5, 'Amount spent')"
            ]
          },
          "execution_count": 291,
          "metadata": {},
          "output_type": "execute_result"
        },
        {
          "data": {
            "image/png": "[encoded data removed]",
            "text/plain": [
              "<Figure size 432x288 with 1 Axes>"
            ]
          },
          "metadata": {
            "needs_background": "light"
          },
          "output_type": "display_data"
        }
      ],
      "source": [
        "df_top_ten_repeated_customers_sales.plot(kind='bar')\n",
        "plt.title('The amount spent by top ten revenue giving customers')\n",
        "plt.ylabel('Amount spent')"
      ]
    },
    {
      "cell_type": "code",
      "execution_count": null,
      "id": "55f20e8b",
      "metadata": {
        "id": "55f20e8b"
      },
      "outputs": [],
      "source": [
        "df_days=df.sort_values(by='CustomerID')"
      ]
    },
    {
      "cell_type": "code",
      "execution_count": null,
      "id": "524fc1f3",
      "metadata": {
        "id": "524fc1f3",
        "outputId": "b14301c6-2387-4696-cee6-3a4b775bdd7b"
      },
      "outputs": [
        {
          "data": {
            "text/html": [
              "<div>\n",
              "<style scoped>\n",
              "    .dataframe tbody tr th:only-of-type {\n",
              "        vertical-align: middle;\n",
              "    }\n",
              "\n",
              "    .dataframe tbody tr th {\n",
              "        vertical-align: top;\n",
              "    }\n",
              "\n",
              "    .dataframe thead th {\n",
              "        text-align: right;\n",
              "    }\n",
              "</style>\n",
              "<table border=\"1\" class=\"dataframe\">\n",
              "  <thead>\n",
              "    <tr style=\"text-align: right;\">\n",
              "      <th></th>\n",
              "      <th>StockCode</th>\n",
              "      <th>Description</th>\n",
              "      <th>Quantity</th>\n",
              "      <th>InvoiceDate</th>\n",
              "      <th>UnitPrice</th>\n",
              "      <th>Country</th>\n",
              "      <th>CustomerID</th>\n",
              "      <th>InvoiceNo</th>\n",
              "      <th>Total</th>\n",
              "      <th>Invoice_year</th>\n",
              "    </tr>\n",
              "  </thead>\n",
              "  <tbody>\n",
              "    <tr>\n",
              "      <th>61619</th>\n",
              "      <td>23166</td>\n",
              "      <td>MEDIUM CERAMIC TOP STORAGE JAR</td>\n",
              "      <td>74215</td>\n",
              "      <td>2011-01-18 10:01:00</td>\n",
              "      <td>1.04</td>\n",
              "      <td>United Kingdom</td>\n",
              "      <td>12346.0</td>\n",
              "      <td>541431</td>\n",
              "      <td>77183.6</td>\n",
              "      <td>2011</td>\n",
              "    </tr>\n",
              "    <tr>\n",
              "      <th>61624</th>\n",
              "      <td>23166</td>\n",
              "      <td>MEDIUM CERAMIC TOP STORAGE JAR</td>\n",
              "      <td>-74215</td>\n",
              "      <td>2011-01-18 10:17:00</td>\n",
              "      <td>1.04</td>\n",
              "      <td>United Kingdom</td>\n",
              "      <td>12346.0</td>\n",
              "      <td>C541433</td>\n",
              "      <td>-77183.6</td>\n",
              "      <td>2011</td>\n",
              "    </tr>\n",
              "    <tr>\n",
              "      <th>286628</th>\n",
              "      <td>21578</td>\n",
              "      <td>WOODLAND DESIGN  COTTON TOTE BAG</td>\n",
              "      <td>6</td>\n",
              "      <td>2011-08-02 08:48:00</td>\n",
              "      <td>2.25</td>\n",
              "      <td>Iceland</td>\n",
              "      <td>12347.0</td>\n",
              "      <td>562032</td>\n",
              "      <td>13.5</td>\n",
              "      <td>2011</td>\n",
              "    </tr>\n",
              "    <tr>\n",
              "      <th>72263</th>\n",
              "      <td>47559B</td>\n",
              "      <td>TEA TIME OVEN GLOVE</td>\n",
              "      <td>10</td>\n",
              "      <td>2011-01-26 14:30:00</td>\n",
              "      <td>1.25</td>\n",
              "      <td>Iceland</td>\n",
              "      <td>12347.0</td>\n",
              "      <td>542237</td>\n",
              "      <td>12.5</td>\n",
              "      <td>2011</td>\n",
              "    </tr>\n",
              "    <tr>\n",
              "      <th>72264</th>\n",
              "      <td>21154</td>\n",
              "      <td>RED RETROSPOT OVEN GLOVE</td>\n",
              "      <td>10</td>\n",
              "      <td>2011-01-26 14:30:00</td>\n",
              "      <td>1.25</td>\n",
              "      <td>Iceland</td>\n",
              "      <td>12347.0</td>\n",
              "      <td>542237</td>\n",
              "      <td>12.5</td>\n",
              "      <td>2011</td>\n",
              "    </tr>\n",
              "  </tbody>\n",
              "</table>\n",
              "</div>"
            ],
            "text/plain": [
              "       StockCode                       Description  Quantity  \\\n",
              "61619      23166    MEDIUM CERAMIC TOP STORAGE JAR     74215   \n",
              "61624      23166    MEDIUM CERAMIC TOP STORAGE JAR    -74215   \n",
              "286628     21578  WOODLAND DESIGN  COTTON TOTE BAG         6   \n",
              "72263     47559B               TEA TIME OVEN GLOVE        10   \n",
              "72264      21154         RED RETROSPOT OVEN GLOVE         10   \n",
              "\n",
              "               InvoiceDate  UnitPrice         Country  CustomerID InvoiceNo  \\\n",
              "61619  2011-01-18 10:01:00       1.04  United Kingdom     12346.0    541431   \n",
              "61624  2011-01-18 10:17:00       1.04  United Kingdom     12346.0   C541433   \n",
              "286628 2011-08-02 08:48:00       2.25         Iceland     12347.0    562032   \n",
              "72263  2011-01-26 14:30:00       1.25         Iceland     12347.0    542237   \n",
              "72264  2011-01-26 14:30:00       1.25         Iceland     12347.0    542237   \n",
              "\n",
              "          Total  Invoice_year  \n",
              "61619   77183.6          2011  \n",
              "61624  -77183.6          2011  \n",
              "286628     13.5          2011  \n",
              "72263      12.5          2011  \n",
              "72264      12.5          2011  "
            ]
          },
          "execution_count": 293,
          "metadata": {},
          "output_type": "execute_result"
        }
      ],
      "source": [
        "df_days.head()"
      ]
    },
    {
      "cell_type": "code",
      "execution_count": null,
      "id": "50ccdd2c",
      "metadata": {
        "id": "50ccdd2c"
      },
      "outputs": [],
      "source": [
        "#fucntion tot calculate the number of days between each purchases of customers"
      ]
    },
    {
      "cell_type": "code",
      "execution_count": null,
      "id": "ed83ecd4",
      "metadata": {
        "id": "ed83ecd4"
      },
      "outputs": [],
      "source": [
        "df_days=df[['CustomerID','InvoiceDate','InvoiceNo']]"
      ]
    },
    {
      "cell_type": "code",
      "execution_count": null,
      "id": "ddefff03",
      "metadata": {
        "id": "ddefff03",
        "outputId": "6e4d765e-4383-434e-c018-ba813d88b0f5"
      },
      "outputs": [
        {
          "data": {
            "text/plain": [
              "384608"
            ]
          },
          "execution_count": 296,
          "metadata": {},
          "output_type": "execute_result"
        }
      ],
      "source": [
        "df_days.duplicated().sum()"
      ]
    },
    {
      "cell_type": "code",
      "execution_count": null,
      "id": "2f808481",
      "metadata": {
        "id": "2f808481",
        "outputId": "6c9beb21-9e99-456a-a908-48aa0d06c24b"
      },
      "outputs": [
        {
          "name": "stderr",
          "output_type": "stream",
          "text": [
            "/Users/sumakari/opt/anaconda3/lib/python3.9/site-packages/pandas/util/_decorators.py:311: SettingWithCopyWarning: \n",
            "A value is trying to be set on a copy of a slice from a DataFrame\n",
            "\n",
            "See the caveats in the documentation: https://pandas.pydata.org/pandas-docs/stable/user_guide/indexing.html#returning-a-view-versus-a-copy\n",
            "  return func(*args, **kwargs)\n"
          ]
        }
      ],
      "source": [
        "df_days.drop_duplicates(inplace=True)"
      ]
    },
    {
      "cell_type": "code",
      "execution_count": null,
      "id": "3488a91a",
      "metadata": {
        "id": "3488a91a",
        "outputId": "cd02c0d3-2f54-401f-c395-60e23d1aab36"
      },
      "outputs": [
        {
          "data": {
            "text/plain": [
              "0"
            ]
          },
          "execution_count": 298,
          "metadata": {},
          "output_type": "execute_result"
        }
      ],
      "source": [
        "df_days.duplicated().sum()"
      ]
    },
    {
      "cell_type": "code",
      "execution_count": null,
      "id": "9df3f5ce",
      "metadata": {
        "id": "9df3f5ce",
        "outputId": "820e3eb7-dad6-4996-9efe-e2a7e9bd6a11"
      },
      "outputs": [
        {
          "data": {
            "text/plain": [
              "(22221, 3)"
            ]
          },
          "execution_count": 299,
          "metadata": {},
          "output_type": "execute_result"
        }
      ],
      "source": [
        "df_days.shape"
      ]
    },
    {
      "cell_type": "code",
      "execution_count": null,
      "id": "fa1afbe5",
      "metadata": {
        "id": "fa1afbe5"
      },
      "outputs": [],
      "source": [
        "k=[]\n",
        "for i in range(22221):\n",
        "    k.append(i)"
      ]
    },
    {
      "cell_type": "code",
      "execution_count": null,
      "id": "45c72776",
      "metadata": {
        "id": "45c72776"
      },
      "outputs": [],
      "source": [
        "df_days=df_days.reset_index()"
      ]
    },
    {
      "cell_type": "code",
      "execution_count": null,
      "id": "69a08579",
      "metadata": {
        "id": "69a08579",
        "outputId": "372fb815-a815-4cad-9005-482794a20022"
      },
      "outputs": [
        {
          "data": {
            "text/plain": [
              "(22221, 4)"
            ]
          },
          "execution_count": 302,
          "metadata": {},
          "output_type": "execute_result"
        }
      ],
      "source": [
        "df_days.shape"
      ]
    },
    {
      "cell_type": "code",
      "execution_count": null,
      "id": "719b6df0",
      "metadata": {
        "id": "719b6df0",
        "outputId": "37f9d586-86b4-435e-b944-c070cac1c5a4"
      },
      "outputs": [
        {
          "data": {
            "text/html": [
              "<div>\n",
              "<style scoped>\n",
              "    .dataframe tbody tr th:only-of-type {\n",
              "        vertical-align: middle;\n",
              "    }\n",
              "\n",
              "    .dataframe tbody tr th {\n",
              "        vertical-align: top;\n",
              "    }\n",
              "\n",
              "    .dataframe thead th {\n",
              "        text-align: right;\n",
              "    }\n",
              "</style>\n",
              "<table border=\"1\" class=\"dataframe\">\n",
              "  <thead>\n",
              "    <tr style=\"text-align: right;\">\n",
              "      <th></th>\n",
              "      <th>index</th>\n",
              "      <th>CustomerID</th>\n",
              "      <th>InvoiceDate</th>\n",
              "      <th>InvoiceNo</th>\n",
              "    </tr>\n",
              "  </thead>\n",
              "  <tbody>\n",
              "    <tr>\n",
              "      <th>0</th>\n",
              "      <td>0</td>\n",
              "      <td>17850.0</td>\n",
              "      <td>2010-12-01 08:26:00</td>\n",
              "      <td>536365</td>\n",
              "    </tr>\n",
              "    <tr>\n",
              "      <th>1</th>\n",
              "      <td>7</td>\n",
              "      <td>17850.0</td>\n",
              "      <td>2010-12-01 08:28:00</td>\n",
              "      <td>536366</td>\n",
              "    </tr>\n",
              "    <tr>\n",
              "      <th>2</th>\n",
              "      <td>9</td>\n",
              "      <td>13047.0</td>\n",
              "      <td>2010-12-01 08:34:00</td>\n",
              "      <td>536367</td>\n",
              "    </tr>\n",
              "    <tr>\n",
              "      <th>3</th>\n",
              "      <td>21</td>\n",
              "      <td>13047.0</td>\n",
              "      <td>2010-12-01 08:34:00</td>\n",
              "      <td>536368</td>\n",
              "    </tr>\n",
              "    <tr>\n",
              "      <th>4</th>\n",
              "      <td>25</td>\n",
              "      <td>13047.0</td>\n",
              "      <td>2010-12-01 08:35:00</td>\n",
              "      <td>536369</td>\n",
              "    </tr>\n",
              "  </tbody>\n",
              "</table>\n",
              "</div>"
            ],
            "text/plain": [
              "   index  CustomerID         InvoiceDate InvoiceNo\n",
              "0      0     17850.0 2010-12-01 08:26:00    536365\n",
              "1      7     17850.0 2010-12-01 08:28:00    536366\n",
              "2      9     13047.0 2010-12-01 08:34:00    536367\n",
              "3     21     13047.0 2010-12-01 08:34:00    536368\n",
              "4     25     13047.0 2010-12-01 08:35:00    536369"
            ]
          },
          "execution_count": 303,
          "metadata": {},
          "output_type": "execute_result"
        }
      ],
      "source": [
        "df_days.head()"
      ]
    },
    {
      "cell_type": "code",
      "execution_count": null,
      "id": "8cacc240",
      "metadata": {
        "id": "8cacc240"
      },
      "outputs": [],
      "source": [
        "df_days.drop(['index'],axis=1,inplace=True)"
      ]
    },
    {
      "cell_type": "code",
      "execution_count": null,
      "id": "09dbd1d0",
      "metadata": {
        "id": "09dbd1d0",
        "outputId": "9f8abbfd-4420-41c6-fa92-5b957c76872a"
      },
      "outputs": [
        {
          "data": {
            "text/html": [
              "<div>\n",
              "<style scoped>\n",
              "    .dataframe tbody tr th:only-of-type {\n",
              "        vertical-align: middle;\n",
              "    }\n",
              "\n",
              "    .dataframe tbody tr th {\n",
              "        vertical-align: top;\n",
              "    }\n",
              "\n",
              "    .dataframe thead th {\n",
              "        text-align: right;\n",
              "    }\n",
              "</style>\n",
              "<table border=\"1\" class=\"dataframe\">\n",
              "  <thead>\n",
              "    <tr style=\"text-align: right;\">\n",
              "      <th></th>\n",
              "      <th>CustomerID</th>\n",
              "      <th>InvoiceDate</th>\n",
              "      <th>InvoiceNo</th>\n",
              "    </tr>\n",
              "  </thead>\n",
              "  <tbody>\n",
              "    <tr>\n",
              "      <th>0</th>\n",
              "      <td>17850.0</td>\n",
              "      <td>2010-12-01 08:26:00</td>\n",
              "      <td>536365</td>\n",
              "    </tr>\n",
              "    <tr>\n",
              "      <th>1</th>\n",
              "      <td>17850.0</td>\n",
              "      <td>2010-12-01 08:28:00</td>\n",
              "      <td>536366</td>\n",
              "    </tr>\n",
              "    <tr>\n",
              "      <th>2</th>\n",
              "      <td>13047.0</td>\n",
              "      <td>2010-12-01 08:34:00</td>\n",
              "      <td>536367</td>\n",
              "    </tr>\n",
              "    <tr>\n",
              "      <th>3</th>\n",
              "      <td>13047.0</td>\n",
              "      <td>2010-12-01 08:34:00</td>\n",
              "      <td>536368</td>\n",
              "    </tr>\n",
              "    <tr>\n",
              "      <th>4</th>\n",
              "      <td>13047.0</td>\n",
              "      <td>2010-12-01 08:35:00</td>\n",
              "      <td>536369</td>\n",
              "    </tr>\n",
              "  </tbody>\n",
              "</table>\n",
              "</div>"
            ],
            "text/plain": [
              "   CustomerID         InvoiceDate InvoiceNo\n",
              "0     17850.0 2010-12-01 08:26:00    536365\n",
              "1     17850.0 2010-12-01 08:28:00    536366\n",
              "2     13047.0 2010-12-01 08:34:00    536367\n",
              "3     13047.0 2010-12-01 08:34:00    536368\n",
              "4     13047.0 2010-12-01 08:35:00    536369"
            ]
          },
          "execution_count": 305,
          "metadata": {},
          "output_type": "execute_result"
        }
      ],
      "source": [
        "df_days.head()"
      ]
    },
    {
      "cell_type": "code",
      "execution_count": null,
      "id": "c903555f",
      "metadata": {
        "id": "c903555f"
      },
      "outputs": [],
      "source": [
        "df_days['days_between_purchases']=0"
      ]
    },
    {
      "cell_type": "code",
      "execution_count": null,
      "id": "702c62bb",
      "metadata": {
        "id": "702c62bb"
      },
      "outputs": [],
      "source": [
        "df_days['InvoiceDate']=pd.to_datetime(df_days['InvoiceDate'])"
      ]
    },
    {
      "cell_type": "code",
      "execution_count": null,
      "id": "97abee87",
      "metadata": {
        "id": "97abee87"
      },
      "outputs": [],
      "source": [
        "df_days['InvoiceDate']=df_days['InvoiceDate'].dt.date"
      ]
    },
    {
      "cell_type": "code",
      "execution_count": null,
      "id": "f5f0cd97",
      "metadata": {
        "id": "f5f0cd97"
      },
      "outputs": [],
      "source": [
        "for i in df_days.index:\n",
        "    j=i+1\n",
        "    if j!=22221:\n",
        "        if df_days.loc[i,'CustomerID']==df_days.loc[j,'CustomerID']:\n",
        "            df_days.loc[i,'days_between_purchases']=df_days.loc[j,'InvoiceDate']-df_days.loc[i,'InvoiceDate']\n"
      ]
    },
    {
      "cell_type": "markdown",
      "id": "26a5473d",
      "metadata": {
        "id": "26a5473d"
      },
      "source": [
        "last value cannot be calculated hence if j!=22221 as 22221 is last cell and there is no cell 22222 which can be used to subrtrat 22221-22222"
      ]
    },
    {
      "cell_type": "code",
      "execution_count": null,
      "id": "af6c872d",
      "metadata": {
        "id": "af6c872d",
        "outputId": "14453684-7615-4bbc-daba-8cd7451b2194"
      },
      "outputs": [
        {
          "data": {
            "text/plain": [
              "0    2010-12-01\n",
              "1    2010-12-01\n",
              "2    2010-12-01\n",
              "3    2010-12-01\n",
              "4    2010-12-01\n",
              "Name: InvoiceDate, dtype: object"
            ]
          },
          "execution_count": 310,
          "metadata": {},
          "output_type": "execute_result"
        }
      ],
      "source": [
        "df_days['InvoiceDate'].head()"
      ]
    },
    {
      "cell_type": "code",
      "execution_count": null,
      "id": "76f8c1c3",
      "metadata": {
        "id": "76f8c1c3",
        "outputId": "8ac396de-f5b7-4b8f-b7b7-5c3842c57afd"
      },
      "outputs": [
        {
          "data": {
            "text/plain": [
              "0        0:00:00\n",
              "1              0\n",
              "2        0:00:00\n",
              "3        0:00:00\n",
              "4              0\n",
              "          ...   \n",
              "22216    0:00:00\n",
              "22217          0\n",
              "22218          0\n",
              "22219          0\n",
              "22220          0\n",
              "Name: days_between_purchases, Length: 22221, dtype: object"
            ]
          },
          "execution_count": 311,
          "metadata": {},
          "output_type": "execute_result"
        }
      ],
      "source": [
        "\n",
        "df_days.loc[:,'days_between_purchases']"
      ]
    },
    {
      "cell_type": "code",
      "execution_count": null,
      "id": "4cb1872e",
      "metadata": {
        "id": "4cb1872e",
        "outputId": "40677751-5175-429e-bb1b-321fe472dfc8"
      },
      "outputs": [
        {
          "data": {
            "text/html": [
              "<div>\n",
              "<style scoped>\n",
              "    .dataframe tbody tr th:only-of-type {\n",
              "        vertical-align: middle;\n",
              "    }\n",
              "\n",
              "    .dataframe tbody tr th {\n",
              "        vertical-align: top;\n",
              "    }\n",
              "\n",
              "    .dataframe thead th {\n",
              "        text-align: right;\n",
              "    }\n",
              "</style>\n",
              "<table border=\"1\" class=\"dataframe\">\n",
              "  <thead>\n",
              "    <tr style=\"text-align: right;\">\n",
              "      <th></th>\n",
              "      <th>CustomerID</th>\n",
              "      <th>InvoiceDate</th>\n",
              "      <th>InvoiceNo</th>\n",
              "      <th>days_between_purchases</th>\n",
              "    </tr>\n",
              "  </thead>\n",
              "  <tbody>\n",
              "    <tr>\n",
              "      <th>22071</th>\n",
              "      <td>14135.0</td>\n",
              "      <td>2011-12-08</td>\n",
              "      <td>581291</td>\n",
              "      <td>0</td>\n",
              "    </tr>\n",
              "    <tr>\n",
              "      <th>22072</th>\n",
              "      <td>16933.0</td>\n",
              "      <td>2011-12-08</td>\n",
              "      <td>C581305</td>\n",
              "      <td>0</td>\n",
              "    </tr>\n",
              "    <tr>\n",
              "      <th>22073</th>\n",
              "      <td>16442.0</td>\n",
              "      <td>2011-12-08</td>\n",
              "      <td>581310</td>\n",
              "      <td>0</td>\n",
              "    </tr>\n",
              "    <tr>\n",
              "      <th>22074</th>\n",
              "      <td>12523.0</td>\n",
              "      <td>2011-12-08</td>\n",
              "      <td>C581316</td>\n",
              "      <td>0</td>\n",
              "    </tr>\n",
              "    <tr>\n",
              "      <th>22075</th>\n",
              "      <td>18223.0</td>\n",
              "      <td>2011-12-08</td>\n",
              "      <td>C581322</td>\n",
              "      <td>0</td>\n",
              "    </tr>\n",
              "    <tr>\n",
              "      <th>...</th>\n",
              "      <td>...</td>\n",
              "      <td>...</td>\n",
              "      <td>...</td>\n",
              "      <td>...</td>\n",
              "    </tr>\n",
              "    <tr>\n",
              "      <th>22216</th>\n",
              "      <td>13777.0</td>\n",
              "      <td>2011-12-09</td>\n",
              "      <td>581583</td>\n",
              "      <td>0:00:00</td>\n",
              "    </tr>\n",
              "    <tr>\n",
              "      <th>22217</th>\n",
              "      <td>13777.0</td>\n",
              "      <td>2011-12-09</td>\n",
              "      <td>581584</td>\n",
              "      <td>0</td>\n",
              "    </tr>\n",
              "    <tr>\n",
              "      <th>22218</th>\n",
              "      <td>15804.0</td>\n",
              "      <td>2011-12-09</td>\n",
              "      <td>581585</td>\n",
              "      <td>0</td>\n",
              "    </tr>\n",
              "    <tr>\n",
              "      <th>22219</th>\n",
              "      <td>13113.0</td>\n",
              "      <td>2011-12-09</td>\n",
              "      <td>581586</td>\n",
              "      <td>0</td>\n",
              "    </tr>\n",
              "    <tr>\n",
              "      <th>22220</th>\n",
              "      <td>12680.0</td>\n",
              "      <td>2011-12-09</td>\n",
              "      <td>581587</td>\n",
              "      <td>0</td>\n",
              "    </tr>\n",
              "  </tbody>\n",
              "</table>\n",
              "<p>150 rows × 4 columns</p>\n",
              "</div>"
            ],
            "text/plain": [
              "       CustomerID InvoiceDate InvoiceNo days_between_purchases\n",
              "22071     14135.0  2011-12-08    581291                      0\n",
              "22072     16933.0  2011-12-08   C581305                      0\n",
              "22073     16442.0  2011-12-08    581310                      0\n",
              "22074     12523.0  2011-12-08   C581316                      0\n",
              "22075     18223.0  2011-12-08   C581322                      0\n",
              "...           ...         ...       ...                    ...\n",
              "22216     13777.0  2011-12-09    581583                0:00:00\n",
              "22217     13777.0  2011-12-09    581584                      0\n",
              "22218     15804.0  2011-12-09    581585                      0\n",
              "22219     13113.0  2011-12-09    581586                      0\n",
              "22220     12680.0  2011-12-09    581587                      0\n",
              "\n",
              "[150 rows x 4 columns]"
            ]
          },
          "execution_count": 312,
          "metadata": {},
          "output_type": "execute_result"
        }
      ],
      "source": [
        "df_days.tail(150)"
      ]
    },
    {
      "cell_type": "code",
      "execution_count": null,
      "id": "7c3ecad9",
      "metadata": {
        "id": "7c3ecad9",
        "outputId": "ff104041-6beb-4d6f-8ac9-c4de979ab733"
      },
      "outputs": [
        {
          "data": {
            "text/plain": [
              "0                  20773\n",
              "0:00:00             1447\n",
              "2 days, 0:00:00        1\n",
              "Name: days_between_purchases, dtype: int64"
            ]
          },
          "execution_count": 315,
          "metadata": {},
          "output_type": "execute_result"
        }
      ],
      "source": [
        "df_days['days_between_purchases'].value_counts()"
      ]
    },
    {
      "cell_type": "code",
      "execution_count": null,
      "id": "74711788",
      "metadata": {
        "id": "74711788"
      },
      "outputs": [],
      "source": []
    }
  ],
  "metadata": {
    "kernelspec": {
      "display_name": "Python 3 (ipykernel)",
      "language": "python",
      "name": "python3"
    },
    "language_info": {
      "codemirror_mode": {
        "name": "ipython",
        "version": 3
      },
      "file_extension": ".py",
      "mimetype": "text/x-python",
      "name": "python",
      "nbconvert_exporter": "python",
      "pygments_lexer": "ipython3",
      "version": "3.9.7"
    },
    "colab": {
      "provenance": [],
      "include_colab_link": true
    }
  },
  "nbformat": 4,
  "nbformat_minor": 5
}