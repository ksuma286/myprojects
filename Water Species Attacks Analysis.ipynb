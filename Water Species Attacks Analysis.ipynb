{
 "cells": [
  {
   "cell_type": "markdown",
   "id": "1fad0d93",
   "metadata": {},
   "source": [
    "Shark attacks reported over the past 100 years, including location, activity, victim info (name, gender, age), shark species, etc.\n",
    "\n",
    "Data Source:Maven Analytics Data Playground\n",
    "\n",
    "Recommended Analysis\n",
    "\n",
    "Make a graph of number of shark attacks annually over time since 1900. What trends do you see?\n",
    "\n",
    "Which countries report the most shark attacks? Within those countries, which areas and locations seem to be the most dangerous?\n",
    "\n",
    "The next questions will require you to practice your data cleaning skills. The data is pretty raw, and will need some work before you analyze it...\n",
    "\n",
    "What body parts are most often injured? (hint: you'll need to perform text analysis on the Injury column)\n",
    "\n",
    "Are shark attacks more common during certain parts of the day (again, the Time data isn't quite ready to go. You may need to transform it before analyzing)\n",
    "\n",
    "Which species of shark are attacking most often? (you guessed it... this data is messy too!)\n",
    "\n"
   ]
  },
  {
   "cell_type": "code",
   "execution_count": 246,
   "id": "11c307a3",
   "metadata": {},
   "outputs": [],
   "source": [
    "import pandas as pd\n",
    "import warnings\n",
    "warnings.filterwarnings(\"ignore\")"
   ]
  },
  {
   "cell_type": "code",
   "execution_count": 247,
   "id": "d1201793",
   "metadata": {},
   "outputs": [],
   "source": [
    "df=pd.read_csv('attacks.csv',encoding='latin2')"
   ]
  },
  {
   "cell_type": "code",
   "execution_count": 248,
   "id": "329a4383",
   "metadata": {},
   "outputs": [
    {
     "data": {
      "text/html": [
       "<div>\n",
       "<style scoped>\n",
       "    .dataframe tbody tr th:only-of-type {\n",
       "        vertical-align: middle;\n",
       "    }\n",
       "\n",
       "    .dataframe tbody tr th {\n",
       "        vertical-align: top;\n",
       "    }\n",
       "\n",
       "    .dataframe thead th {\n",
       "        text-align: right;\n",
       "    }\n",
       "</style>\n",
       "<table border=\"1\" class=\"dataframe\">\n",
       "  <thead>\n",
       "    <tr style=\"text-align: right;\">\n",
       "      <th></th>\n",
       "      <th>Case Number</th>\n",
       "      <th>Date</th>\n",
       "      <th>Year</th>\n",
       "      <th>Type</th>\n",
       "      <th>Country</th>\n",
       "      <th>Area</th>\n",
       "      <th>Location</th>\n",
       "      <th>Activity</th>\n",
       "      <th>Name</th>\n",
       "      <th>Sex</th>\n",
       "      <th>...</th>\n",
       "      <th>Fatal (Y/N)</th>\n",
       "      <th>Time</th>\n",
       "      <th>Species</th>\n",
       "      <th>Investigator or Source</th>\n",
       "      <th>pdf</th>\n",
       "      <th>href formula</th>\n",
       "      <th>href</th>\n",
       "      <th>Case Number.1</th>\n",
       "      <th>Case Number.2</th>\n",
       "      <th>original order</th>\n",
       "    </tr>\n",
       "  </thead>\n",
       "  <tbody>\n",
       "    <tr>\n",
       "      <th>0</th>\n",
       "      <td>2017.06.11</td>\n",
       "      <td>2017-06-11</td>\n",
       "      <td>2017.0</td>\n",
       "      <td>Unprovoked</td>\n",
       "      <td>AUSTRALIA</td>\n",
       "      <td>Western Australia</td>\n",
       "      <td>Point Casuarina, Bunbury</td>\n",
       "      <td>Body boarding</td>\n",
       "      <td>Paul Goff</td>\n",
       "      <td>M</td>\n",
       "      <td>...</td>\n",
       "      <td>N</td>\n",
       "      <td>08h30</td>\n",
       "      <td>White shark, 4 m</td>\n",
       "      <td>WA Today, 6/11/2017</td>\n",
       "      <td>2017.06.11-Goff.pdf</td>\n",
       "      <td>http://sharkattackfile.net/spreadsheets/pdf_di...</td>\n",
       "      <td>http://sharkattackfile.net/spreadsheets/pdf_di...</td>\n",
       "      <td>2017.06.11</td>\n",
       "      <td>2017.06.11</td>\n",
       "      <td>6095.0</td>\n",
       "    </tr>\n",
       "    <tr>\n",
       "      <th>1</th>\n",
       "      <td>2017.06.10.b</td>\n",
       "      <td>2017-06-10</td>\n",
       "      <td>2017.0</td>\n",
       "      <td>Unprovoked</td>\n",
       "      <td>AUSTRALIA</td>\n",
       "      <td>Victoria</td>\n",
       "      <td>Flinders, Mornington Penisula</td>\n",
       "      <td>Surfing</td>\n",
       "      <td>female</td>\n",
       "      <td>F</td>\n",
       "      <td>...</td>\n",
       "      <td>N</td>\n",
       "      <td>15h45</td>\n",
       "      <td>7 gill shark</td>\n",
       "      <td>NaN</td>\n",
       "      <td>2017.06.10.b-Flinders.pdf</td>\n",
       "      <td>http://sharkattackfile.net/spreadsheets/pdf_di...</td>\n",
       "      <td>http://sharkattackfile.net/spreadsheets/pdf_di...</td>\n",
       "      <td>2017.06.10.b</td>\n",
       "      <td>2017.06.10.b</td>\n",
       "      <td>6094.0</td>\n",
       "    </tr>\n",
       "    <tr>\n",
       "      <th>2</th>\n",
       "      <td>2017.06.10.a</td>\n",
       "      <td>2017-06-10</td>\n",
       "      <td>2017.0</td>\n",
       "      <td>Unprovoked</td>\n",
       "      <td>USA</td>\n",
       "      <td>Florida</td>\n",
       "      <td>Ponce Inlet, Volusia County</td>\n",
       "      <td>Surfing</td>\n",
       "      <td>Bryan Brock</td>\n",
       "      <td>M</td>\n",
       "      <td>...</td>\n",
       "      <td>N</td>\n",
       "      <td>10h00</td>\n",
       "      <td>NaN</td>\n",
       "      <td>Daytona Beach News-Journal, 6/10/2017</td>\n",
       "      <td>2017.06.10.a-Brock.pdf</td>\n",
       "      <td>http://sharkattackfile.net/spreadsheets/pdf_di...</td>\n",
       "      <td>http://sharkattackfile.net/spreadsheets/pdf_di...</td>\n",
       "      <td>2017.06.10.a</td>\n",
       "      <td>2017.06.10.a</td>\n",
       "      <td>6093.0</td>\n",
       "    </tr>\n",
       "    <tr>\n",
       "      <th>3</th>\n",
       "      <td>2017.06.07.R</td>\n",
       "      <td>Reported 07-Jun-2017</td>\n",
       "      <td>2017.0</td>\n",
       "      <td>Unprovoked</td>\n",
       "      <td>UNITED KINGDOM</td>\n",
       "      <td>South Devon</td>\n",
       "      <td>Bantham Beach</td>\n",
       "      <td>Surfing</td>\n",
       "      <td>Rich Thomson</td>\n",
       "      <td>M</td>\n",
       "      <td>...</td>\n",
       "      <td>N</td>\n",
       "      <td>NaN</td>\n",
       "      <td>3m shark, probably a smooth hound</td>\n",
       "      <td>C. Moore, GSAF</td>\n",
       "      <td>2017.06.07.R-Thomson.pdf</td>\n",
       "      <td>http://sharkattackfile.net/spreadsheets/pdf_di...</td>\n",
       "      <td>http://sharkattackfile.net/spreadsheets/pdf_di...</td>\n",
       "      <td>2017.06.07.R</td>\n",
       "      <td>2017.06.07.R</td>\n",
       "      <td>6092.0</td>\n",
       "    </tr>\n",
       "    <tr>\n",
       "      <th>4</th>\n",
       "      <td>2017.06.04</td>\n",
       "      <td>2017-06-04</td>\n",
       "      <td>2017.0</td>\n",
       "      <td>Unprovoked</td>\n",
       "      <td>USA</td>\n",
       "      <td>Florida</td>\n",
       "      <td>Middle Sambo Reef off Boca Chica, Monroe County</td>\n",
       "      <td>Spearfishing</td>\n",
       "      <td>Parker Simpson</td>\n",
       "      <td>M</td>\n",
       "      <td>...</td>\n",
       "      <td>N</td>\n",
       "      <td>NaN</td>\n",
       "      <td>8' shark</td>\n",
       "      <td>Nine News, 6/7/2017</td>\n",
       "      <td>2017.06.04-Simpson.pdf</td>\n",
       "      <td>http://sharkattackfile.net/spreadsheets/pdf_di...</td>\n",
       "      <td>http://sharkattackfile.net/spreadsheets/pdf_di...</td>\n",
       "      <td>2017.06.04</td>\n",
       "      <td>2017.06.04</td>\n",
       "      <td>6091.0</td>\n",
       "    </tr>\n",
       "  </tbody>\n",
       "</table>\n",
       "<p>5 rows × 22 columns</p>\n",
       "</div>"
      ],
      "text/plain": [
       "    Case Number                  Date    Year        Type         Country  \\\n",
       "0    2017.06.11            2017-06-11  2017.0  Unprovoked       AUSTRALIA   \n",
       "1  2017.06.10.b            2017-06-10  2017.0  Unprovoked       AUSTRALIA   \n",
       "2  2017.06.10.a            2017-06-10  2017.0  Unprovoked             USA   \n",
       "3  2017.06.07.R  Reported 07-Jun-2017  2017.0  Unprovoked  UNITED KINGDOM   \n",
       "4    2017.06.04            2017-06-04  2017.0  Unprovoked             USA   \n",
       "\n",
       "                Area                                         Location  \\\n",
       "0  Western Australia                         Point Casuarina, Bunbury   \n",
       "1           Victoria                    Flinders, Mornington Penisula   \n",
       "2            Florida                      Ponce Inlet, Volusia County   \n",
       "3        South Devon                                    Bantham Beach   \n",
       "4            Florida  Middle Sambo Reef off Boca Chica, Monroe County   \n",
       "\n",
       "        Activity            Name Sex   ... Fatal (Y/N)   Time  \\\n",
       "0  Body boarding       Paul Goff    M  ...           N  08h30   \n",
       "1        Surfing          female    F  ...           N  15h45   \n",
       "2        Surfing     Bryan Brock    M  ...           N  10h00   \n",
       "3       Surfing     Rich Thomson    M  ...           N    NaN   \n",
       "4   Spearfishing  Parker Simpson    M  ...           N    NaN   \n",
       "\n",
       "                            Species                  Investigator or Source  \\\n",
       "0                   White shark, 4 m                    WA Today, 6/11/2017   \n",
       "1                       7 gill shark                                    NaN   \n",
       "2                                NaN  Daytona Beach News-Journal, 6/10/2017   \n",
       "3  3m shark, probably a smooth hound                         C. Moore, GSAF   \n",
       "4                           8' shark                    Nine News, 6/7/2017   \n",
       "\n",
       "                         pdf  \\\n",
       "0        2017.06.11-Goff.pdf   \n",
       "1  2017.06.10.b-Flinders.pdf   \n",
       "2     2017.06.10.a-Brock.pdf   \n",
       "3   2017.06.07.R-Thomson.pdf   \n",
       "4     2017.06.04-Simpson.pdf   \n",
       "\n",
       "                                        href formula  \\\n",
       "0  http://sharkattackfile.net/spreadsheets/pdf_di...   \n",
       "1  http://sharkattackfile.net/spreadsheets/pdf_di...   \n",
       "2  http://sharkattackfile.net/spreadsheets/pdf_di...   \n",
       "3  http://sharkattackfile.net/spreadsheets/pdf_di...   \n",
       "4  http://sharkattackfile.net/spreadsheets/pdf_di...   \n",
       "\n",
       "                                                href Case Number.1  \\\n",
       "0  http://sharkattackfile.net/spreadsheets/pdf_di...    2017.06.11   \n",
       "1  http://sharkattackfile.net/spreadsheets/pdf_di...  2017.06.10.b   \n",
       "2  http://sharkattackfile.net/spreadsheets/pdf_di...  2017.06.10.a   \n",
       "3  http://sharkattackfile.net/spreadsheets/pdf_di...  2017.06.07.R   \n",
       "4  http://sharkattackfile.net/spreadsheets/pdf_di...    2017.06.04   \n",
       "\n",
       "  Case Number.2 original order  \n",
       "0    2017.06.11         6095.0  \n",
       "1  2017.06.10.b         6094.0  \n",
       "2  2017.06.10.a         6093.0  \n",
       "3  2017.06.07.R         6092.0  \n",
       "4    2017.06.04         6091.0  \n",
       "\n",
       "[5 rows x 22 columns]"
      ]
     },
     "execution_count": 248,
     "metadata": {},
     "output_type": "execute_result"
    }
   ],
   "source": [
    "df.head()"
   ]
  },
  {
   "cell_type": "code",
   "execution_count": 249,
   "id": "630fbd43",
   "metadata": {},
   "outputs": [
    {
     "data": {
      "text/plain": [
       "Index(['Case Number', 'Date', 'Year', 'Type', 'Country', 'Area', 'Location',\n",
       "       'Activity', 'Name', 'Sex ', 'Age', 'Injury', 'Fatal (Y/N)', 'Time',\n",
       "       'Species ', 'Investigator or Source', 'pdf', 'href formula', 'href',\n",
       "       'Case Number.1', 'Case Number.2', 'original order'],\n",
       "      dtype='object')"
      ]
     },
     "execution_count": 249,
     "metadata": {},
     "output_type": "execute_result"
    }
   ],
   "source": [
    "df.columns"
   ]
  },
  {
   "cell_type": "code",
   "execution_count": 250,
   "id": "482ca178",
   "metadata": {},
   "outputs": [
    {
     "data": {
      "text/plain": [
       "(25614, 22)"
      ]
     },
     "execution_count": 250,
     "metadata": {},
     "output_type": "execute_result"
    }
   ],
   "source": [
    "df.shape"
   ]
  },
  {
   "cell_type": "code",
   "execution_count": 251,
   "id": "b5727ec8",
   "metadata": {},
   "outputs": [
    {
     "data": {
      "text/html": [
       "<div>\n",
       "<style scoped>\n",
       "    .dataframe tbody tr th:only-of-type {\n",
       "        vertical-align: middle;\n",
       "    }\n",
       "\n",
       "    .dataframe tbody tr th {\n",
       "        vertical-align: top;\n",
       "    }\n",
       "\n",
       "    .dataframe thead th {\n",
       "        text-align: right;\n",
       "    }\n",
       "</style>\n",
       "<table border=\"1\" class=\"dataframe\">\n",
       "  <thead>\n",
       "    <tr style=\"text-align: right;\">\n",
       "      <th></th>\n",
       "      <th>Age</th>\n",
       "      <th>Injury</th>\n",
       "      <th>Fatal (Y/N)</th>\n",
       "      <th>Time</th>\n",
       "      <th>Species</th>\n",
       "      <th>Investigator or Source</th>\n",
       "      <th>pdf</th>\n",
       "      <th>href formula</th>\n",
       "      <th>href</th>\n",
       "      <th>Case Number.1</th>\n",
       "      <th>Case Number.2</th>\n",
       "      <th>original order</th>\n",
       "    </tr>\n",
       "  </thead>\n",
       "  <tbody>\n",
       "    <tr>\n",
       "      <th>0</th>\n",
       "      <td>48</td>\n",
       "      <td>No injury, board bitten</td>\n",
       "      <td>N</td>\n",
       "      <td>08h30</td>\n",
       "      <td>White shark, 4 m</td>\n",
       "      <td>WA Today, 6/11/2017</td>\n",
       "      <td>2017.06.11-Goff.pdf</td>\n",
       "      <td>http://sharkattackfile.net/spreadsheets/pdf_di...</td>\n",
       "      <td>http://sharkattackfile.net/spreadsheets/pdf_di...</td>\n",
       "      <td>2017.06.11</td>\n",
       "      <td>2017.06.11</td>\n",
       "      <td>6095.0</td>\n",
       "    </tr>\n",
       "    <tr>\n",
       "      <th>1</th>\n",
       "      <td>NaN</td>\n",
       "      <td>No injury, knocke off board</td>\n",
       "      <td>N</td>\n",
       "      <td>15h45</td>\n",
       "      <td>7 gill shark</td>\n",
       "      <td>NaN</td>\n",
       "      <td>2017.06.10.b-Flinders.pdf</td>\n",
       "      <td>http://sharkattackfile.net/spreadsheets/pdf_di...</td>\n",
       "      <td>http://sharkattackfile.net/spreadsheets/pdf_di...</td>\n",
       "      <td>2017.06.10.b</td>\n",
       "      <td>2017.06.10.b</td>\n",
       "      <td>6094.0</td>\n",
       "    </tr>\n",
       "    <tr>\n",
       "      <th>2</th>\n",
       "      <td>19</td>\n",
       "      <td>Laceration to left foot</td>\n",
       "      <td>N</td>\n",
       "      <td>10h00</td>\n",
       "      <td>NaN</td>\n",
       "      <td>Daytona Beach News-Journal, 6/10/2017</td>\n",
       "      <td>2017.06.10.a-Brock.pdf</td>\n",
       "      <td>http://sharkattackfile.net/spreadsheets/pdf_di...</td>\n",
       "      <td>http://sharkattackfile.net/spreadsheets/pdf_di...</td>\n",
       "      <td>2017.06.10.a</td>\n",
       "      <td>2017.06.10.a</td>\n",
       "      <td>6093.0</td>\n",
       "    </tr>\n",
       "    <tr>\n",
       "      <th>3</th>\n",
       "      <td>30</td>\n",
       "      <td>Bruise to leg, cuts to hand sustained when he ...</td>\n",
       "      <td>N</td>\n",
       "      <td>NaN</td>\n",
       "      <td>3m shark, probably a smooth hound</td>\n",
       "      <td>C. Moore, GSAF</td>\n",
       "      <td>2017.06.07.R-Thomson.pdf</td>\n",
       "      <td>http://sharkattackfile.net/spreadsheets/pdf_di...</td>\n",
       "      <td>http://sharkattackfile.net/spreadsheets/pdf_di...</td>\n",
       "      <td>2017.06.07.R</td>\n",
       "      <td>2017.06.07.R</td>\n",
       "      <td>6092.0</td>\n",
       "    </tr>\n",
       "    <tr>\n",
       "      <th>4</th>\n",
       "      <td>NaN</td>\n",
       "      <td>Laceration to shin</td>\n",
       "      <td>N</td>\n",
       "      <td>NaN</td>\n",
       "      <td>8' shark</td>\n",
       "      <td>Nine News, 6/7/2017</td>\n",
       "      <td>2017.06.04-Simpson.pdf</td>\n",
       "      <td>http://sharkattackfile.net/spreadsheets/pdf_di...</td>\n",
       "      <td>http://sharkattackfile.net/spreadsheets/pdf_di...</td>\n",
       "      <td>2017.06.04</td>\n",
       "      <td>2017.06.04</td>\n",
       "      <td>6091.0</td>\n",
       "    </tr>\n",
       "  </tbody>\n",
       "</table>\n",
       "</div>"
      ],
      "text/plain": [
       "   Age                                             Injury Fatal (Y/N)   Time  \\\n",
       "0   48                            No injury, board bitten           N  08h30   \n",
       "1  NaN                        No injury, knocke off board           N  15h45   \n",
       "2   19                            Laceration to left foot           N  10h00   \n",
       "3   30  Bruise to leg, cuts to hand sustained when he ...           N    NaN   \n",
       "4  NaN                                 Laceration to shin           N    NaN   \n",
       "\n",
       "                            Species                  Investigator or Source  \\\n",
       "0                   White shark, 4 m                    WA Today, 6/11/2017   \n",
       "1                       7 gill shark                                    NaN   \n",
       "2                                NaN  Daytona Beach News-Journal, 6/10/2017   \n",
       "3  3m shark, probably a smooth hound                         C. Moore, GSAF   \n",
       "4                           8' shark                    Nine News, 6/7/2017   \n",
       "\n",
       "                         pdf  \\\n",
       "0        2017.06.11-Goff.pdf   \n",
       "1  2017.06.10.b-Flinders.pdf   \n",
       "2     2017.06.10.a-Brock.pdf   \n",
       "3   2017.06.07.R-Thomson.pdf   \n",
       "4     2017.06.04-Simpson.pdf   \n",
       "\n",
       "                                        href formula  \\\n",
       "0  http://sharkattackfile.net/spreadsheets/pdf_di...   \n",
       "1  http://sharkattackfile.net/spreadsheets/pdf_di...   \n",
       "2  http://sharkattackfile.net/spreadsheets/pdf_di...   \n",
       "3  http://sharkattackfile.net/spreadsheets/pdf_di...   \n",
       "4  http://sharkattackfile.net/spreadsheets/pdf_di...   \n",
       "\n",
       "                                                href Case Number.1  \\\n",
       "0  http://sharkattackfile.net/spreadsheets/pdf_di...    2017.06.11   \n",
       "1  http://sharkattackfile.net/spreadsheets/pdf_di...  2017.06.10.b   \n",
       "2  http://sharkattackfile.net/spreadsheets/pdf_di...  2017.06.10.a   \n",
       "3  http://sharkattackfile.net/spreadsheets/pdf_di...  2017.06.07.R   \n",
       "4  http://sharkattackfile.net/spreadsheets/pdf_di...    2017.06.04   \n",
       "\n",
       "  Case Number.2  original order  \n",
       "0    2017.06.11          6095.0  \n",
       "1  2017.06.10.b          6094.0  \n",
       "2  2017.06.10.a          6093.0  \n",
       "3  2017.06.07.R          6092.0  \n",
       "4    2017.06.04          6091.0  "
      ]
     },
     "execution_count": 251,
     "metadata": {},
     "output_type": "execute_result"
    }
   ],
   "source": [
    "df.iloc[:,10:23].head()"
   ]
  },
  {
   "cell_type": "code",
   "execution_count": 252,
   "id": "4904705d",
   "metadata": {},
   "outputs": [],
   "source": [
    "df=df.iloc[:,0:15]"
   ]
  },
  {
   "cell_type": "code",
   "execution_count": 253,
   "id": "bcbb0f5e",
   "metadata": {},
   "outputs": [
    {
     "name": "stdout",
     "output_type": "stream",
     "text": [
      "<class 'pandas.core.frame.DataFrame'>\n",
      "RangeIndex: 25614 entries, 0 to 25613\n",
      "Data columns (total 15 columns):\n",
      " #   Column       Non-Null Count  Dtype  \n",
      "---  ------       --------------  -----  \n",
      " 0   Case Number  6095 non-null   object \n",
      " 1   Date         6094 non-null   object \n",
      " 2   Year         6092 non-null   float64\n",
      " 3   Type         6090 non-null   object \n",
      " 4   Country      6048 non-null   object \n",
      " 5   Area         5682 non-null   object \n",
      " 6   Location     5583 non-null   object \n",
      " 7   Activity     5559 non-null   object \n",
      " 8   Name         5888 non-null   object \n",
      " 9   Sex          5517 non-null   object \n",
      " 10  Age          3374 non-null   object \n",
      " 11  Injury       6066 non-null   object \n",
      " 12  Fatal (Y/N)  6064 non-null   object \n",
      " 13  Time         2848 non-null   object \n",
      " 14  Species      3100 non-null   object \n",
      "dtypes: float64(1), object(14)\n",
      "memory usage: 2.9+ MB\n"
     ]
    }
   ],
   "source": [
    "df.info()"
   ]
  },
  {
   "cell_type": "code",
   "execution_count": 254,
   "id": "3d60bb9f",
   "metadata": {},
   "outputs": [],
   "source": [
    "df=df.dropna(how='all')#drop those rows which have null values for all columns"
   ]
  },
  {
   "cell_type": "code",
   "execution_count": 255,
   "id": "77454d0f",
   "metadata": {},
   "outputs": [
    {
     "data": {
      "text/html": [
       "<div>\n",
       "<style scoped>\n",
       "    .dataframe tbody tr th:only-of-type {\n",
       "        vertical-align: middle;\n",
       "    }\n",
       "\n",
       "    .dataframe tbody tr th {\n",
       "        vertical-align: top;\n",
       "    }\n",
       "\n",
       "    .dataframe thead th {\n",
       "        text-align: right;\n",
       "    }\n",
       "</style>\n",
       "<table border=\"1\" class=\"dataframe\">\n",
       "  <thead>\n",
       "    <tr style=\"text-align: right;\">\n",
       "      <th></th>\n",
       "      <th>Case Number</th>\n",
       "      <th>Date</th>\n",
       "      <th>Year</th>\n",
       "      <th>Type</th>\n",
       "      <th>Country</th>\n",
       "      <th>Area</th>\n",
       "      <th>Location</th>\n",
       "      <th>Activity</th>\n",
       "      <th>Name</th>\n",
       "      <th>Sex</th>\n",
       "      <th>Age</th>\n",
       "      <th>Injury</th>\n",
       "      <th>Fatal (Y/N)</th>\n",
       "      <th>Time</th>\n",
       "      <th>Species</th>\n",
       "    </tr>\n",
       "  </thead>\n",
       "  <tbody>\n",
       "    <tr>\n",
       "      <th>0</th>\n",
       "      <td>2017.06.11</td>\n",
       "      <td>2017-06-11</td>\n",
       "      <td>2017.0</td>\n",
       "      <td>Unprovoked</td>\n",
       "      <td>AUSTRALIA</td>\n",
       "      <td>Western Australia</td>\n",
       "      <td>Point Casuarina, Bunbury</td>\n",
       "      <td>Body boarding</td>\n",
       "      <td>Paul Goff</td>\n",
       "      <td>M</td>\n",
       "      <td>48</td>\n",
       "      <td>No injury, board bitten</td>\n",
       "      <td>N</td>\n",
       "      <td>08h30</td>\n",
       "      <td>White shark, 4 m</td>\n",
       "    </tr>\n",
       "    <tr>\n",
       "      <th>1</th>\n",
       "      <td>2017.06.10.b</td>\n",
       "      <td>2017-06-10</td>\n",
       "      <td>2017.0</td>\n",
       "      <td>Unprovoked</td>\n",
       "      <td>AUSTRALIA</td>\n",
       "      <td>Victoria</td>\n",
       "      <td>Flinders, Mornington Penisula</td>\n",
       "      <td>Surfing</td>\n",
       "      <td>female</td>\n",
       "      <td>F</td>\n",
       "      <td>NaN</td>\n",
       "      <td>No injury, knocke off board</td>\n",
       "      <td>N</td>\n",
       "      <td>15h45</td>\n",
       "      <td>7 gill shark</td>\n",
       "    </tr>\n",
       "    <tr>\n",
       "      <th>2</th>\n",
       "      <td>2017.06.10.a</td>\n",
       "      <td>2017-06-10</td>\n",
       "      <td>2017.0</td>\n",
       "      <td>Unprovoked</td>\n",
       "      <td>USA</td>\n",
       "      <td>Florida</td>\n",
       "      <td>Ponce Inlet, Volusia County</td>\n",
       "      <td>Surfing</td>\n",
       "      <td>Bryan Brock</td>\n",
       "      <td>M</td>\n",
       "      <td>19</td>\n",
       "      <td>Laceration to left foot</td>\n",
       "      <td>N</td>\n",
       "      <td>10h00</td>\n",
       "      <td>NaN</td>\n",
       "    </tr>\n",
       "    <tr>\n",
       "      <th>3</th>\n",
       "      <td>2017.06.07.R</td>\n",
       "      <td>Reported 07-Jun-2017</td>\n",
       "      <td>2017.0</td>\n",
       "      <td>Unprovoked</td>\n",
       "      <td>UNITED KINGDOM</td>\n",
       "      <td>South Devon</td>\n",
       "      <td>Bantham Beach</td>\n",
       "      <td>Surfing</td>\n",
       "      <td>Rich Thomson</td>\n",
       "      <td>M</td>\n",
       "      <td>30</td>\n",
       "      <td>Bruise to leg, cuts to hand sustained when he ...</td>\n",
       "      <td>N</td>\n",
       "      <td>NaN</td>\n",
       "      <td>3m shark, probably a smooth hound</td>\n",
       "    </tr>\n",
       "    <tr>\n",
       "      <th>4</th>\n",
       "      <td>2017.06.04</td>\n",
       "      <td>2017-06-04</td>\n",
       "      <td>2017.0</td>\n",
       "      <td>Unprovoked</td>\n",
       "      <td>USA</td>\n",
       "      <td>Florida</td>\n",
       "      <td>Middle Sambo Reef off Boca Chica, Monroe County</td>\n",
       "      <td>Spearfishing</td>\n",
       "      <td>Parker Simpson</td>\n",
       "      <td>M</td>\n",
       "      <td>NaN</td>\n",
       "      <td>Laceration to shin</td>\n",
       "      <td>N</td>\n",
       "      <td>NaN</td>\n",
       "      <td>8' shark</td>\n",
       "    </tr>\n",
       "  </tbody>\n",
       "</table>\n",
       "</div>"
      ],
      "text/plain": [
       "    Case Number                  Date    Year        Type         Country  \\\n",
       "0    2017.06.11            2017-06-11  2017.0  Unprovoked       AUSTRALIA   \n",
       "1  2017.06.10.b            2017-06-10  2017.0  Unprovoked       AUSTRALIA   \n",
       "2  2017.06.10.a            2017-06-10  2017.0  Unprovoked             USA   \n",
       "3  2017.06.07.R  Reported 07-Jun-2017  2017.0  Unprovoked  UNITED KINGDOM   \n",
       "4    2017.06.04            2017-06-04  2017.0  Unprovoked             USA   \n",
       "\n",
       "                Area                                         Location  \\\n",
       "0  Western Australia                         Point Casuarina, Bunbury   \n",
       "1           Victoria                    Flinders, Mornington Penisula   \n",
       "2            Florida                      Ponce Inlet, Volusia County   \n",
       "3        South Devon                                    Bantham Beach   \n",
       "4            Florida  Middle Sambo Reef off Boca Chica, Monroe County   \n",
       "\n",
       "        Activity            Name Sex   Age  \\\n",
       "0  Body boarding       Paul Goff    M   48   \n",
       "1        Surfing          female    F  NaN   \n",
       "2        Surfing     Bryan Brock    M   19   \n",
       "3       Surfing     Rich Thomson    M   30   \n",
       "4   Spearfishing  Parker Simpson    M  NaN   \n",
       "\n",
       "                                              Injury Fatal (Y/N)   Time  \\\n",
       "0                            No injury, board bitten           N  08h30   \n",
       "1                        No injury, knocke off board           N  15h45   \n",
       "2                            Laceration to left foot           N  10h00   \n",
       "3  Bruise to leg, cuts to hand sustained when he ...           N    NaN   \n",
       "4                                 Laceration to shin           N    NaN   \n",
       "\n",
       "                            Species   \n",
       "0                   White shark, 4 m  \n",
       "1                       7 gill shark  \n",
       "2                                NaN  \n",
       "3  3m shark, probably a smooth hound  \n",
       "4                           8' shark  "
      ]
     },
     "execution_count": 255,
     "metadata": {},
     "output_type": "execute_result"
    }
   ],
   "source": [
    "df.head()"
   ]
  },
  {
   "cell_type": "code",
   "execution_count": 256,
   "id": "d1097e35",
   "metadata": {},
   "outputs": [
    {
     "data": {
      "text/plain": [
       "(6096, 15)"
      ]
     },
     "execution_count": 256,
     "metadata": {},
     "output_type": "execute_result"
    }
   ],
   "source": [
    "df.shape"
   ]
  },
  {
   "cell_type": "code",
   "execution_count": 257,
   "id": "339d940f",
   "metadata": {},
   "outputs": [
    {
     "data": {
      "text/plain": [
       "Case Number       1\n",
       "Date              2\n",
       "Year              4\n",
       "Type              6\n",
       "Country          48\n",
       "Area            414\n",
       "Location        513\n",
       "Activity        537\n",
       "Name            208\n",
       "Sex             579\n",
       "Age            2722\n",
       "Injury           30\n",
       "Fatal (Y/N)      32\n",
       "Time           3248\n",
       "Species        2996\n",
       "dtype: int64"
      ]
     },
     "execution_count": 257,
     "metadata": {},
     "output_type": "execute_result"
    }
   ],
   "source": [
    "df.isnull().sum()"
   ]
  },
  {
   "cell_type": "code",
   "execution_count": 258,
   "id": "7aa316d5",
   "metadata": {},
   "outputs": [
    {
     "data": {
      "text/plain": [
       "Index(['Case Number', 'Date', 'Year', 'Type', 'Country', 'Area', 'Location',\n",
       "       'Activity', 'Name', 'Sex ', 'Age', 'Injury', 'Fatal (Y/N)', 'Time',\n",
       "       'Species '],\n",
       "      dtype='object')"
      ]
     },
     "execution_count": 258,
     "metadata": {},
     "output_type": "execute_result"
    }
   ],
   "source": [
    "df.columns"
   ]
  },
  {
   "cell_type": "code",
   "execution_count": 259,
   "id": "55f86766",
   "metadata": {},
   "outputs": [],
   "source": [
    "df['Case Number'].fillna('Unknown',axis=0,inplace=True)\n",
    "df['Date'].fillna('Missing',axis=0,inplace=True)\n",
    "df['Type'].fillna(df['Type'].value_counts().idxmax(),axis=0,inplace=True)\n",
    "df['Country'].fillna(df['Country'].value_counts().idxmax(),axis=0,inplace=True)\n",
    "df['Area'].fillna('Unknown',axis=0,inplace=True)\n",
    "df['Location'].fillna('Unknown',axis=0,inplace=True)\n",
    "df['Activity'].fillna(df['Activity'].value_counts().idxmax(),axis=0,inplace=True)\n",
    "df['Injury'].fillna('Unknown',axis=0,inplace=True)\n",
    "df['Fatal (Y/N)'].fillna(df['Fatal (Y/N)'].value_counts().idxmax(),axis=0,inplace=True)\n",
    "df['Time'].fillna('Unknown',axis=0,inplace=True)\n",
    "df['Species '].fillna('Unknown',axis=0,inplace=True)\n",
    "df.drop('Name',axis=1,inplace=True)"
   ]
  },
  {
   "cell_type": "code",
   "execution_count": 260,
   "id": "cf3bb3aa",
   "metadata": {},
   "outputs": [
    {
     "name": "stdout",
     "output_type": "stream",
     "text": [
      "<class 'pandas.core.frame.DataFrame'>\n",
      "Int64Index: 6096 entries, 0 to 25613\n",
      "Data columns (total 14 columns):\n",
      " #   Column       Non-Null Count  Dtype  \n",
      "---  ------       --------------  -----  \n",
      " 0   Case Number  6096 non-null   object \n",
      " 1   Date         6096 non-null   object \n",
      " 2   Year         6092 non-null   float64\n",
      " 3   Type         6096 non-null   object \n",
      " 4   Country      6096 non-null   object \n",
      " 5   Area         6096 non-null   object \n",
      " 6   Location     6096 non-null   object \n",
      " 7   Activity     6096 non-null   object \n",
      " 8   Sex          5517 non-null   object \n",
      " 9   Age          3374 non-null   object \n",
      " 10  Injury       6096 non-null   object \n",
      " 11  Fatal (Y/N)  6096 non-null   object \n",
      " 12  Time         6096 non-null   object \n",
      " 13  Species      6096 non-null   object \n",
      "dtypes: float64(1), object(13)\n",
      "memory usage: 714.4+ KB\n"
     ]
    }
   ],
   "source": [
    "df.info()"
   ]
  },
  {
   "cell_type": "code",
   "execution_count": 261,
   "id": "22c58e41",
   "metadata": {},
   "outputs": [],
   "source": [
    "#Cleaning Age column"
   ]
  },
  {
   "cell_type": "code",
   "execution_count": 262,
   "id": "c60acf0f",
   "metadata": {},
   "outputs": [],
   "source": [
    "df['Age'].fillna('0',inplace=True)"
   ]
  },
  {
   "cell_type": "code",
   "execution_count": 263,
   "id": "83f86829",
   "metadata": {},
   "outputs": [
    {
     "data": {
      "text/plain": [
       "array(['48', '0', '19', '30', '32', '20', '73', '41', '29', '33', '18',\n",
       "       '14', '28', '20s', '40', '17', '68', '35', '10', '21', '16', '51',\n",
       "       '39', '58', '26', '22', '37', 'Teen', '55', '57', '47', '61', '36',\n",
       "       '65', '42', '66', '25', '43', '60s', '50', '12', '9', '49', '15',\n",
       "       '72', '31', '11', '59', '34', '6', '27', '64', '60', '23', '52',\n",
       "       '13', '24', '69', '46', '45', '38', '71', '54', '44', '7', '62',\n",
       "       '63', '70', '18 months', '40s', '53', '30s', '50s', '8', 'teen',\n",
       "       '77', '74', '3', '56', '28 & 26', '5', '86', '18 or 20',\n",
       "       '12 or 13', '46 & 34', '28, 23 & 30', 'Teens', '36 & 26',\n",
       "       '8 or 10', '84', '\\xa0 ', ' ', '30 or 36', '6˝', '21 & ?', '75',\n",
       "       '33 or 37', 'mid-30s', '23 & 20', '7      &    31', '20?', \"60's\",\n",
       "       '32 & 30', '16 to 18', '87', '67', 'Elderly', 'mid-20s', 'Ca. 33',\n",
       "       '21 or 26', '>50', '18 to 22', 'adult', '9 & 12', '? & 19',\n",
       "       '9 months', '25 to 35', '23 & 26', '1', '(adult)', '33 & 37',\n",
       "       '25 or 28', '37, 67, 35, 27,  ? & 27', '21, 34,24 & 35', '30 & 32',\n",
       "       '50 & 30', '17 & 35', 'X', '\"middle-age\"', '13 or 18', '34 & 19',\n",
       "       '33 & 26', '2 to 3 months', 'MAKE LINE GREEN', '81', '\"young\"',\n",
       "       '7 or 8', '78', '17 & 16', 'F', 'Both 11', '9 or 10', 'young',\n",
       "       '36 & 23', '  ', 'A.M.', '?    &   14', '10 or 12', '31 or 33',\n",
       "       'M', '2˝', '13 or 14'], dtype=object)"
      ]
     },
     "execution_count": 263,
     "metadata": {},
     "output_type": "execute_result"
    }
   ],
   "source": [
    "df['Age'].unique()"
   ]
  },
  {
   "cell_type": "code",
   "execution_count": 264,
   "id": "c0aa8e5a",
   "metadata": {},
   "outputs": [],
   "source": [
    "df['Age']=df['Age'].apply(lambda x: x if(x.isdigit()) else '0')"
   ]
  },
  {
   "cell_type": "code",
   "execution_count": 265,
   "id": "c7eb8317",
   "metadata": {},
   "outputs": [
    {
     "data": {
      "text/plain": [
       "array(['48', '0', '19', '30', '32', '20', '73', '41', '29', '33', '18',\n",
       "       '14', '28', '40', '17', '68', '35', '10', '21', '16', '51', '39',\n",
       "       '58', '26', '22', '37', '55', '57', '47', '61', '36', '65', '42',\n",
       "       '66', '25', '43', '50', '12', '9', '49', '15', '72', '31', '11',\n",
       "       '59', '34', '6', '27', '64', '60', '23', '52', '13', '24', '69',\n",
       "       '46', '45', '38', '71', '54', '44', '7', '62', '63', '70', '53',\n",
       "       '8', '77', '74', '3', '56', '5', '86', '84', '75', '87', '67', '1',\n",
       "       '81', '78'], dtype=object)"
      ]
     },
     "execution_count": 265,
     "metadata": {},
     "output_type": "execute_result"
    }
   ],
   "source": [
    "df['Age'].unique()"
   ]
  },
  {
   "cell_type": "code",
   "execution_count": 266,
   "id": "4de5c596",
   "metadata": {},
   "outputs": [],
   "source": [
    "df['Age']=df['Age'].astype('float')"
   ]
  },
  {
   "cell_type": "code",
   "execution_count": 267,
   "id": "64b15ae3",
   "metadata": {},
   "outputs": [],
   "source": [
    "df['Age'].fillna(df['Age'].mean(),axis=0,inplace=True)\n"
   ]
  },
  {
   "cell_type": "code",
   "execution_count": 268,
   "id": "53209f46",
   "metadata": {},
   "outputs": [],
   "source": [
    "#Cleaning Sex column"
   ]
  },
  {
   "cell_type": "code",
   "execution_count": 269,
   "id": "8e9fd966",
   "metadata": {},
   "outputs": [
    {
     "data": {
      "text/plain": [
       "array(['M', 'F', nan, 'M ', 'lli', 'N', '.'], dtype=object)"
      ]
     },
     "execution_count": 269,
     "metadata": {},
     "output_type": "execute_result"
    }
   ],
   "source": [
    "df['Sex '].unique()"
   ]
  },
  {
   "cell_type": "code",
   "execution_count": 270,
   "id": "439b74d7",
   "metadata": {},
   "outputs": [],
   "source": [
    "import numpy as np"
   ]
  },
  {
   "cell_type": "code",
   "execution_count": 271,
   "id": "3d7b5acd",
   "metadata": {},
   "outputs": [],
   "source": [
    "df['Sex '].replace('M ','M',inplace=True)\n",
    "df['Sex '].replace('lli',np.nan,inplace=True)\n",
    "df['Sex '].replace('.',np.nan,inplace=True)\n",
    "df['Sex '].replace('N',np.nan,inplace=True)\n"
   ]
  },
  {
   "cell_type": "code",
   "execution_count": 272,
   "id": "c195c6a8",
   "metadata": {},
   "outputs": [
    {
     "data": {
      "text/plain": [
       "array(['M', 'F', nan], dtype=object)"
      ]
     },
     "execution_count": 272,
     "metadata": {},
     "output_type": "execute_result"
    }
   ],
   "source": [
    "df['Sex '].unique()"
   ]
  },
  {
   "cell_type": "code",
   "execution_count": 273,
   "id": "8ba6a5ef",
   "metadata": {},
   "outputs": [],
   "source": [
    "df['Sex '].fillna(df['Sex '].value_counts().idxmax(),axis=0,inplace=True)      "
   ]
  },
  {
   "cell_type": "code",
   "execution_count": 274,
   "id": "81e40c9d",
   "metadata": {},
   "outputs": [
    {
     "data": {
      "text/plain": [
       "array(['M', 'F'], dtype=object)"
      ]
     },
     "execution_count": 274,
     "metadata": {},
     "output_type": "execute_result"
    }
   ],
   "source": [
    "df['Sex '].unique()"
   ]
  },
  {
   "cell_type": "markdown",
   "id": "145254e8",
   "metadata": {},
   "source": [
    "Make a graph of number of shark attacks annually over time since 1900. What trends do you see?"
   ]
  },
  {
   "cell_type": "code",
   "execution_count": 275,
   "id": "8257401f",
   "metadata": {},
   "outputs": [],
   "source": [
    "df_year_attacks=df.groupby('Year')['Case Number'].count().reset_index(name='Number of attacks')"
   ]
  },
  {
   "cell_type": "code",
   "execution_count": 276,
   "id": "0172e16c",
   "metadata": {},
   "outputs": [],
   "source": [
    "import matplotlib.pyplot as plt"
   ]
  },
  {
   "cell_type": "code",
   "execution_count": 277,
   "id": "72273a1c",
   "metadata": {},
   "outputs": [],
   "source": [
    "df_year_attacks=df_year_attacks[df_year_attacks['Year']>=1900]"
   ]
  },
  {
   "cell_type": "code",
   "execution_count": 278,
   "id": "7b8d4838",
   "metadata": {},
   "outputs": [
    {
     "data": {
      "text/plain": [
       "Text(0.5, 1.0, 'Distribution of Shark attack over the years')"
      ]
     },
     "execution_count": 278,
     "metadata": {},
     "output_type": "execute_result"
    },
    {
     "data": {
      "image/png": "[encoded data removed]",
      "text/plain": [
       "<Figure size 432x288 with 1 Axes>"
      ]
     },
     "metadata": {
      "needs_background": "light"
     },
     "output_type": "display_data"
    }
   ],
   "source": [
    "plt.scatter(df_year_attacks['Year'],df_year_attacks['Number of attacks'])\n",
    "plt.xlabel('Year')\n",
    "plt.ylabel('Number of Shark Attacks')\n",
    "plt.title('Distribution of Shark attack over the years')"
   ]
  },
  {
   "cell_type": "markdown",
   "id": "e110f9d5",
   "metadata": {},
   "source": [
    "The shark attacks have increased from 1900 onwards and there is a steep increse in shark attacks in 1960 and the increase in shark attacks have been sharp over past two decades from 2000 to 2020"
   ]
  },
  {
   "cell_type": "markdown",
   "id": "1da585f6",
   "metadata": {},
   "source": [
    "Which countries report the most shark attacks? Within those countries, which areas and locations seem to be the most dangerous?\n"
   ]
  },
  {
   "cell_type": "code",
   "execution_count": 279,
   "id": "066faf39",
   "metadata": {},
   "outputs": [],
   "source": [
    "df_country_attack=df.groupby('Country')['Case Number'].count().sort_values(ascending=False).reset_index(name='Number of Attacks')"
   ]
  },
  {
   "cell_type": "markdown",
   "id": "563fea9f",
   "metadata": {},
   "source": [
    "Top 3 countries with most number of attacks"
   ]
  },
  {
   "cell_type": "code",
   "execution_count": 280,
   "id": "57c32040",
   "metadata": {},
   "outputs": [
    {
     "data": {
      "text/html": [
       "<div>\n",
       "<style scoped>\n",
       "    .dataframe tbody tr th:only-of-type {\n",
       "        vertical-align: middle;\n",
       "    }\n",
       "\n",
       "    .dataframe tbody tr th {\n",
       "        vertical-align: top;\n",
       "    }\n",
       "\n",
       "    .dataframe thead th {\n",
       "        text-align: right;\n",
       "    }\n",
       "</style>\n",
       "<table border=\"1\" class=\"dataframe\">\n",
       "  <thead>\n",
       "    <tr style=\"text-align: right;\">\n",
       "      <th></th>\n",
       "      <th>Country</th>\n",
       "      <th>Number of Attacks</th>\n",
       "    </tr>\n",
       "  </thead>\n",
       "  <tbody>\n",
       "    <tr>\n",
       "      <th>0</th>\n",
       "      <td>USA</td>\n",
       "      <td>2208</td>\n",
       "    </tr>\n",
       "    <tr>\n",
       "      <th>1</th>\n",
       "      <td>AUSTRALIA</td>\n",
       "      <td>1303</td>\n",
       "    </tr>\n",
       "    <tr>\n",
       "      <th>2</th>\n",
       "      <td>SOUTH AFRICA</td>\n",
       "      <td>571</td>\n",
       "    </tr>\n",
       "  </tbody>\n",
       "</table>\n",
       "</div>"
      ],
      "text/plain": [
       "        Country  Number of Attacks\n",
       "0           USA               2208\n",
       "1     AUSTRALIA               1303\n",
       "2  SOUTH AFRICA                571"
      ]
     },
     "execution_count": 280,
     "metadata": {},
     "output_type": "execute_result"
    }
   ],
   "source": [
    "df_country_attack.iloc[0:3,:]"
   ]
  },
  {
   "cell_type": "code",
   "execution_count": 281,
   "id": "ee426ff0",
   "metadata": {},
   "outputs": [],
   "source": [
    "df_3_countries=df[df['Country'].isin(df_country_attack['Country'][0:3])]"
   ]
  },
  {
   "cell_type": "code",
   "execution_count": 282,
   "id": "82214905",
   "metadata": {},
   "outputs": [
    {
     "data": {
      "text/html": [
       "<div>\n",
       "<style scoped>\n",
       "    .dataframe tbody tr th:only-of-type {\n",
       "        vertical-align: middle;\n",
       "    }\n",
       "\n",
       "    .dataframe tbody tr th {\n",
       "        vertical-align: top;\n",
       "    }\n",
       "\n",
       "    .dataframe thead th {\n",
       "        text-align: right;\n",
       "    }\n",
       "</style>\n",
       "<table border=\"1\" class=\"dataframe\">\n",
       "  <thead>\n",
       "    <tr style=\"text-align: right;\">\n",
       "      <th></th>\n",
       "      <th>Case Number</th>\n",
       "      <th>Date</th>\n",
       "      <th>Year</th>\n",
       "      <th>Type</th>\n",
       "      <th>Country</th>\n",
       "      <th>Area</th>\n",
       "      <th>Location</th>\n",
       "      <th>Activity</th>\n",
       "      <th>Sex</th>\n",
       "      <th>Age</th>\n",
       "      <th>Injury</th>\n",
       "      <th>Fatal (Y/N)</th>\n",
       "      <th>Time</th>\n",
       "      <th>Species</th>\n",
       "    </tr>\n",
       "  </thead>\n",
       "  <tbody>\n",
       "    <tr>\n",
       "      <th>0</th>\n",
       "      <td>2017.06.11</td>\n",
       "      <td>2017-06-11</td>\n",
       "      <td>2017.0</td>\n",
       "      <td>Unprovoked</td>\n",
       "      <td>AUSTRALIA</td>\n",
       "      <td>Western Australia</td>\n",
       "      <td>Point Casuarina, Bunbury</td>\n",
       "      <td>Body boarding</td>\n",
       "      <td>M</td>\n",
       "      <td>48.0</td>\n",
       "      <td>No injury, board bitten</td>\n",
       "      <td>N</td>\n",
       "      <td>08h30</td>\n",
       "      <td>White shark, 4 m</td>\n",
       "    </tr>\n",
       "    <tr>\n",
       "      <th>1</th>\n",
       "      <td>2017.06.10.b</td>\n",
       "      <td>2017-06-10</td>\n",
       "      <td>2017.0</td>\n",
       "      <td>Unprovoked</td>\n",
       "      <td>AUSTRALIA</td>\n",
       "      <td>Victoria</td>\n",
       "      <td>Flinders, Mornington Penisula</td>\n",
       "      <td>Surfing</td>\n",
       "      <td>F</td>\n",
       "      <td>0.0</td>\n",
       "      <td>No injury, knocke off board</td>\n",
       "      <td>N</td>\n",
       "      <td>15h45</td>\n",
       "      <td>7 gill shark</td>\n",
       "    </tr>\n",
       "    <tr>\n",
       "      <th>2</th>\n",
       "      <td>2017.06.10.a</td>\n",
       "      <td>2017-06-10</td>\n",
       "      <td>2017.0</td>\n",
       "      <td>Unprovoked</td>\n",
       "      <td>USA</td>\n",
       "      <td>Florida</td>\n",
       "      <td>Ponce Inlet, Volusia County</td>\n",
       "      <td>Surfing</td>\n",
       "      <td>M</td>\n",
       "      <td>19.0</td>\n",
       "      <td>Laceration to left foot</td>\n",
       "      <td>N</td>\n",
       "      <td>10h00</td>\n",
       "      <td>Unknown</td>\n",
       "    </tr>\n",
       "    <tr>\n",
       "      <th>4</th>\n",
       "      <td>2017.06.04</td>\n",
       "      <td>2017-06-04</td>\n",
       "      <td>2017.0</td>\n",
       "      <td>Unprovoked</td>\n",
       "      <td>USA</td>\n",
       "      <td>Florida</td>\n",
       "      <td>Middle Sambo Reef off Boca Chica, Monroe County</td>\n",
       "      <td>Spearfishing</td>\n",
       "      <td>M</td>\n",
       "      <td>0.0</td>\n",
       "      <td>Laceration to shin</td>\n",
       "      <td>N</td>\n",
       "      <td>Unknown</td>\n",
       "      <td>8' shark</td>\n",
       "    </tr>\n",
       "    <tr>\n",
       "      <th>6</th>\n",
       "      <td>2017.05.30</td>\n",
       "      <td>2017-05-30</td>\n",
       "      <td>2017.0</td>\n",
       "      <td>Provoked</td>\n",
       "      <td>USA</td>\n",
       "      <td>South Carolina</td>\n",
       "      <td>Awendaw, Charleston County</td>\n",
       "      <td>Touching a shark</td>\n",
       "      <td>F</td>\n",
       "      <td>20.0</td>\n",
       "      <td>Right hand bitten by hooked shark PROVOKED INC...</td>\n",
       "      <td>N</td>\n",
       "      <td>Unknown</td>\n",
       "      <td>3' shark</td>\n",
       "    </tr>\n",
       "  </tbody>\n",
       "</table>\n",
       "</div>"
      ],
      "text/plain": [
       "    Case Number        Date    Year        Type    Country               Area  \\\n",
       "0    2017.06.11  2017-06-11  2017.0  Unprovoked  AUSTRALIA  Western Australia   \n",
       "1  2017.06.10.b  2017-06-10  2017.0  Unprovoked  AUSTRALIA           Victoria   \n",
       "2  2017.06.10.a  2017-06-10  2017.0  Unprovoked        USA            Florida   \n",
       "4    2017.06.04  2017-06-04  2017.0  Unprovoked        USA            Florida   \n",
       "6    2017.05.30  2017-05-30  2017.0    Provoked        USA     South Carolina   \n",
       "\n",
       "                                          Location          Activity Sex   \\\n",
       "0                         Point Casuarina, Bunbury     Body boarding    M   \n",
       "1                    Flinders, Mornington Penisula           Surfing    F   \n",
       "2                      Ponce Inlet, Volusia County           Surfing    M   \n",
       "4  Middle Sambo Reef off Boca Chica, Monroe County      Spearfishing    M   \n",
       "6                       Awendaw, Charleston County  Touching a shark    F   \n",
       "\n",
       "    Age                                             Injury Fatal (Y/N)  \\\n",
       "0  48.0                            No injury, board bitten           N   \n",
       "1   0.0                        No injury, knocke off board           N   \n",
       "2  19.0                            Laceration to left foot           N   \n",
       "4   0.0                                 Laceration to shin           N   \n",
       "6  20.0  Right hand bitten by hooked shark PROVOKED INC...           N   \n",
       "\n",
       "      Time          Species   \n",
       "0    08h30  White shark, 4 m  \n",
       "1    15h45      7 gill shark  \n",
       "2    10h00           Unknown  \n",
       "4  Unknown          8' shark  \n",
       "6  Unknown          3' shark  "
      ]
     },
     "execution_count": 282,
     "metadata": {},
     "output_type": "execute_result"
    }
   ],
   "source": [
    "df_3_countries.head()\n"
   ]
  },
  {
   "cell_type": "code",
   "execution_count": 283,
   "id": "85f73784",
   "metadata": {},
   "outputs": [
    {
     "data": {
      "text/plain": [
       "array(['AUSTRALIA', 'USA', 'SOUTH AFRICA'], dtype=object)"
      ]
     },
     "execution_count": 283,
     "metadata": {},
     "output_type": "execute_result"
    }
   ],
   "source": [
    "df_3_countries['Country'].unique()"
   ]
  },
  {
   "cell_type": "code",
   "execution_count": 284,
   "id": "f4069901",
   "metadata": {},
   "outputs": [],
   "source": [
    "df_top_3_country_area_attacks=df_3_countries.groupby(['Country','Area','Location'])['Case Number'].count().sort_values(ascending=False).reset_index(name='Number of Attacks')"
   ]
  },
  {
   "cell_type": "code",
   "execution_count": 285,
   "id": "2f257dce",
   "metadata": {},
   "outputs": [
    {
     "data": {
      "text/html": [
       "<div>\n",
       "<style scoped>\n",
       "    .dataframe tbody tr th:only-of-type {\n",
       "        vertical-align: middle;\n",
       "    }\n",
       "\n",
       "    .dataframe tbody tr th {\n",
       "        vertical-align: top;\n",
       "    }\n",
       "\n",
       "    .dataframe thead th {\n",
       "        text-align: right;\n",
       "    }\n",
       "</style>\n",
       "<table border=\"1\" class=\"dataframe\">\n",
       "  <thead>\n",
       "    <tr style=\"text-align: right;\">\n",
       "      <th></th>\n",
       "      <th>Country</th>\n",
       "      <th>Area</th>\n",
       "      <th>Location</th>\n",
       "      <th>Number of Attacks</th>\n",
       "    </tr>\n",
       "  </thead>\n",
       "  <tbody>\n",
       "    <tr>\n",
       "      <th>0</th>\n",
       "      <td>USA</td>\n",
       "      <td>Florida</td>\n",
       "      <td>New Smyrna Beach, Volusia County</td>\n",
       "      <td>162</td>\n",
       "    </tr>\n",
       "    <tr>\n",
       "      <th>1</th>\n",
       "      <td>USA</td>\n",
       "      <td>Unknown</td>\n",
       "      <td>Unknown</td>\n",
       "      <td>31</td>\n",
       "    </tr>\n",
       "    <tr>\n",
       "      <th>2</th>\n",
       "      <td>USA</td>\n",
       "      <td>Florida</td>\n",
       "      <td>Daytona Beach, Volusia County</td>\n",
       "      <td>29</td>\n",
       "    </tr>\n",
       "    <tr>\n",
       "      <th>3</th>\n",
       "      <td>USA</td>\n",
       "      <td>Florida</td>\n",
       "      <td>Ponce Inlet, Volusia County</td>\n",
       "      <td>18</td>\n",
       "    </tr>\n",
       "    <tr>\n",
       "      <th>4</th>\n",
       "      <td>USA</td>\n",
       "      <td>Florida</td>\n",
       "      <td>Melbourne Beach, Brevard County</td>\n",
       "      <td>18</td>\n",
       "    </tr>\n",
       "  </tbody>\n",
       "</table>\n",
       "</div>"
      ],
      "text/plain": [
       "  Country     Area                          Location  Number of Attacks\n",
       "0     USA  Florida  New Smyrna Beach, Volusia County                162\n",
       "1     USA  Unknown                           Unknown                 31\n",
       "2     USA  Florida     Daytona Beach, Volusia County                 29\n",
       "3     USA  Florida       Ponce Inlet, Volusia County                 18\n",
       "4     USA  Florida   Melbourne Beach, Brevard County                 18"
      ]
     },
     "execution_count": 285,
     "metadata": {},
     "output_type": "execute_result"
    }
   ],
   "source": [
    "df_top_3_country_area_attacks[df_top_3_country_area_attacks['Country']=='USA'].iloc[0:5,:]"
   ]
  },
  {
   "cell_type": "markdown",
   "id": "11a48abc",
   "metadata": {},
   "source": [
    "Top 5 areas and Location within USA with most attacks"
   ]
  },
  {
   "cell_type": "code",
   "execution_count": 286,
   "id": "3e81cad0",
   "metadata": {},
   "outputs": [
    {
     "data": {
      "text/html": [
       "<div>\n",
       "<style scoped>\n",
       "    .dataframe tbody tr th:only-of-type {\n",
       "        vertical-align: middle;\n",
       "    }\n",
       "\n",
       "    .dataframe tbody tr th {\n",
       "        vertical-align: top;\n",
       "    }\n",
       "\n",
       "    .dataframe thead th {\n",
       "        text-align: right;\n",
       "    }\n",
       "</style>\n",
       "<table border=\"1\" class=\"dataframe\">\n",
       "  <thead>\n",
       "    <tr style=\"text-align: right;\">\n",
       "      <th></th>\n",
       "      <th>Country</th>\n",
       "      <th>Area</th>\n",
       "      <th>Location</th>\n",
       "      <th>Number of Attacks</th>\n",
       "    </tr>\n",
       "  </thead>\n",
       "  <tbody>\n",
       "    <tr>\n",
       "      <th>9</th>\n",
       "      <td>AUSTRALIA</td>\n",
       "      <td>Unknown</td>\n",
       "      <td>Unknown</td>\n",
       "      <td>12</td>\n",
       "    </tr>\n",
       "    <tr>\n",
       "      <th>12</th>\n",
       "      <td>AUSTRALIA</td>\n",
       "      <td>Torres Strait</td>\n",
       "      <td>Unknown</td>\n",
       "      <td>12</td>\n",
       "    </tr>\n",
       "    <tr>\n",
       "      <th>16</th>\n",
       "      <td>AUSTRALIA</td>\n",
       "      <td>New South Wales</td>\n",
       "      <td>Sydney Harbor</td>\n",
       "      <td>10</td>\n",
       "    </tr>\n",
       "    <tr>\n",
       "      <th>17</th>\n",
       "      <td>AUSTRALIA</td>\n",
       "      <td>New South Wales</td>\n",
       "      <td>Sydney</td>\n",
       "      <td>10</td>\n",
       "    </tr>\n",
       "    <tr>\n",
       "      <th>24</th>\n",
       "      <td>AUSTRALIA</td>\n",
       "      <td>Queensland</td>\n",
       "      <td>Brisbane River</td>\n",
       "      <td>9</td>\n",
       "    </tr>\n",
       "  </tbody>\n",
       "</table>\n",
       "</div>"
      ],
      "text/plain": [
       "      Country             Area        Location  Number of Attacks\n",
       "9   AUSTRALIA          Unknown         Unknown                 12\n",
       "12  AUSTRALIA    Torres Strait         Unknown                 12\n",
       "16  AUSTRALIA  New South Wales   Sydney Harbor                 10\n",
       "17  AUSTRALIA  New South Wales          Sydney                 10\n",
       "24  AUSTRALIA       Queensland  Brisbane River                  9"
      ]
     },
     "execution_count": 286,
     "metadata": {},
     "output_type": "execute_result"
    }
   ],
   "source": [
    "df_top_3_country_area_attacks[df_top_3_country_area_attacks['Country']=='AUSTRALIA'].iloc[0:5,:]"
   ]
  },
  {
   "cell_type": "markdown",
   "id": "7bb33ada",
   "metadata": {},
   "source": [
    "Top 5 areas and Location within AUSTRALIA with most attacks"
   ]
  },
  {
   "cell_type": "code",
   "execution_count": 287,
   "id": "0a2f23e1",
   "metadata": {},
   "outputs": [
    {
     "data": {
      "text/html": [
       "<div>\n",
       "<style scoped>\n",
       "    .dataframe tbody tr th:only-of-type {\n",
       "        vertical-align: middle;\n",
       "    }\n",
       "\n",
       "    .dataframe tbody tr th {\n",
       "        vertical-align: top;\n",
       "    }\n",
       "\n",
       "    .dataframe thead th {\n",
       "        text-align: right;\n",
       "    }\n",
       "</style>\n",
       "<table border=\"1\" class=\"dataframe\">\n",
       "  <thead>\n",
       "    <tr style=\"text-align: right;\">\n",
       "      <th></th>\n",
       "      <th>Country</th>\n",
       "      <th>Area</th>\n",
       "      <th>Location</th>\n",
       "      <th>Number of Attacks</th>\n",
       "    </tr>\n",
       "  </thead>\n",
       "  <tbody>\n",
       "    <tr>\n",
       "      <th>6</th>\n",
       "      <td>SOUTH AFRICA</td>\n",
       "      <td>KwaZulu-Natal</td>\n",
       "      <td>Durban</td>\n",
       "      <td>15</td>\n",
       "    </tr>\n",
       "    <tr>\n",
       "      <th>13</th>\n",
       "      <td>SOUTH AFRICA</td>\n",
       "      <td>Western Cape Province</td>\n",
       "      <td>Mossel Bay</td>\n",
       "      <td>11</td>\n",
       "    </tr>\n",
       "    <tr>\n",
       "      <th>19</th>\n",
       "      <td>SOUTH AFRICA</td>\n",
       "      <td>Eastern Cape Province</td>\n",
       "      <td>Nahoon</td>\n",
       "      <td>10</td>\n",
       "    </tr>\n",
       "    <tr>\n",
       "      <th>22</th>\n",
       "      <td>SOUTH AFRICA</td>\n",
       "      <td>KwaZulu-Natal</td>\n",
       "      <td>North Beach, Durban</td>\n",
       "      <td>9</td>\n",
       "    </tr>\n",
       "    <tr>\n",
       "      <th>26</th>\n",
       "      <td>SOUTH AFRICA</td>\n",
       "      <td>Western Cape Province</td>\n",
       "      <td>False Bay</td>\n",
       "      <td>8</td>\n",
       "    </tr>\n",
       "  </tbody>\n",
       "</table>\n",
       "</div>"
      ],
      "text/plain": [
       "         Country                   Area             Location  \\\n",
       "6   SOUTH AFRICA          KwaZulu-Natal               Durban   \n",
       "13  SOUTH AFRICA  Western Cape Province           Mossel Bay   \n",
       "19  SOUTH AFRICA  Eastern Cape Province               Nahoon   \n",
       "22  SOUTH AFRICA          KwaZulu-Natal  North Beach, Durban   \n",
       "26  SOUTH AFRICA  Western Cape Province            False Bay   \n",
       "\n",
       "    Number of Attacks  \n",
       "6                  15  \n",
       "13                 11  \n",
       "19                 10  \n",
       "22                  9  \n",
       "26                  8  "
      ]
     },
     "execution_count": 287,
     "metadata": {},
     "output_type": "execute_result"
    }
   ],
   "source": [
    "df_top_3_country_area_attacks[df_top_3_country_area_attacks['Country']=='SOUTH AFRICA'].iloc[0:5,:]"
   ]
  },
  {
   "cell_type": "markdown",
   "id": "9bfa7711",
   "metadata": {},
   "source": [
    "Top 5 areas and Location within SOUTH AFRICA with most attacks"
   ]
  },
  {
   "cell_type": "markdown",
   "id": "5301c94c",
   "metadata": {},
   "source": [
    "What body parts are most often injured? (hint: you'll need to perform text analysis on the Injury column)\n"
   ]
  },
  {
   "cell_type": "code",
   "execution_count": 288,
   "id": "3e0b5ad6",
   "metadata": {},
   "outputs": [],
   "source": [
    "text=' '.join(i for i in df['Injury'])"
   ]
  },
  {
   "cell_type": "code",
   "execution_count": 289,
   "id": "3dd6d787",
   "metadata": {},
   "outputs": [],
   "source": [
    "from wordcloud import STOPWORDS"
   ]
  },
  {
   "cell_type": "code",
   "execution_count": 290,
   "id": "ae55cb02",
   "metadata": {},
   "outputs": [],
   "source": [
    "body_parts=['hair','head','forehead','eyes','nose','ear','mouth','chin','neck','shoulder','elbow','arm','chest','armpit','forearm','back','hand','wrist','waist','buttocks','abdomen','hip','leg','thigh','calf','knee','foot','ankle']"
   ]
  },
  {
   "cell_type": "code",
   "execution_count": 291,
   "id": "ccd2bca4",
   "metadata": {},
   "outputs": [],
   "source": [
    "data={0:1}\n",
    "for i in body_parts:\n",
    "    occurences=text.count(i)\n",
    "    data[i]=occurences"
   ]
  },
  {
   "cell_type": "code",
   "execution_count": 292,
   "id": "378fec87",
   "metadata": {},
   "outputs": [],
   "source": [
    "data=pd.DataFrame(data.items(),columns={'Body Part','Number of attacks in total'})"
   ]
  },
  {
   "cell_type": "code",
   "execution_count": 293,
   "id": "6dd2d6e2",
   "metadata": {},
   "outputs": [],
   "source": [
    "data.drop(0,axis=0,inplace=True)"
   ]
  },
  {
   "cell_type": "code",
   "execution_count": 294,
   "id": "97fd0947",
   "metadata": {},
   "outputs": [],
   "source": [
    "data=data.sort_values(by='Number of attacks in total',ascending=False)"
   ]
  },
  {
   "cell_type": "code",
   "execution_count": 295,
   "id": "b7bdbf44",
   "metadata": {},
   "outputs": [
    {
     "data": {
      "text/html": [
       "<div>\n",
       "<style scoped>\n",
       "    .dataframe tbody tr th:only-of-type {\n",
       "        vertical-align: middle;\n",
       "    }\n",
       "\n",
       "    .dataframe tbody tr th {\n",
       "        vertical-align: top;\n",
       "    }\n",
       "\n",
       "    .dataframe thead th {\n",
       "        text-align: right;\n",
       "    }\n",
       "</style>\n",
       "<table border=\"1\" class=\"dataframe\">\n",
       "  <thead>\n",
       "    <tr style=\"text-align: right;\">\n",
       "      <th></th>\n",
       "      <th>Body Part</th>\n",
       "      <th>Number of attacks in total</th>\n",
       "    </tr>\n",
       "  </thead>\n",
       "  <tbody>\n",
       "    <tr>\n",
       "      <th>23</th>\n",
       "      <td>leg</td>\n",
       "      <td>734</td>\n",
       "    </tr>\n",
       "    <tr>\n",
       "      <th>27</th>\n",
       "      <td>foot</td>\n",
       "      <td>574</td>\n",
       "    </tr>\n",
       "    <tr>\n",
       "      <th>12</th>\n",
       "      <td>arm</td>\n",
       "      <td>493</td>\n",
       "    </tr>\n",
       "    <tr>\n",
       "      <th>17</th>\n",
       "      <td>hand</td>\n",
       "      <td>371</td>\n",
       "    </tr>\n",
       "    <tr>\n",
       "      <th>24</th>\n",
       "      <td>thigh</td>\n",
       "      <td>335</td>\n",
       "    </tr>\n",
       "  </tbody>\n",
       "</table>\n",
       "</div>"
      ],
      "text/plain": [
       "   Body Part  Number of attacks in total\n",
       "23       leg                         734\n",
       "27      foot                         574\n",
       "12       arm                         493\n",
       "17      hand                         371\n",
       "24     thigh                         335"
      ]
     },
     "execution_count": 295,
     "metadata": {},
     "output_type": "execute_result"
    }
   ],
   "source": [
    "data.iloc[0:5,:]"
   ]
  },
  {
   "cell_type": "markdown",
   "id": "94003408",
   "metadata": {},
   "source": [
    "Top five body parts with mostnumber of attacks related to them"
   ]
  },
  {
   "cell_type": "markdown",
   "id": "b216a008",
   "metadata": {},
   "source": [
    "Are shark attacks more common during certain parts of the day (again, the Time data isn't quite ready to go. You may need to transform it before analyzing)\n"
   ]
  },
  {
   "cell_type": "code",
   "execution_count": 296,
   "id": "6a8503ae",
   "metadata": {},
   "outputs": [
    {
     "data": {
      "text/plain": [
       "0          08h30\n",
       "1          15h45\n",
       "2          10h00\n",
       "3        Unknown\n",
       "4        Unknown\n",
       "          ...   \n",
       "6091     Unknown\n",
       "6092     Unknown\n",
       "6093     Unknown\n",
       "6101     Unknown\n",
       "25613    Unknown\n",
       "Name: Time, Length: 6096, dtype: object"
      ]
     },
     "execution_count": 296,
     "metadata": {},
     "output_type": "execute_result"
    }
   ],
   "source": [
    "df['Time']"
   ]
  },
  {
   "cell_type": "code",
   "execution_count": 297,
   "id": "7a9b4c2b",
   "metadata": {},
   "outputs": [],
   "source": [
    "data_time=df[['Case Number','Time']]"
   ]
  },
  {
   "cell_type": "code",
   "execution_count": 298,
   "id": "f95b7a8a",
   "metadata": {},
   "outputs": [
    {
     "data": {
      "text/plain": [
       "array(['08h30', '15h45', '10h00', 'Unknown', 'Shortly before 12h00',\n",
       "       'Morning', '17h00', '14h30', '17h34', '17h10', '11h00', '11h15',\n",
       "       '14h00', '16h00', '08h50', 'Afternoon', '09h00', '13h30', '13h45',\n",
       "       '17h45', '13h00', '15h00', '18h30', '09h30', '10h20', '12h00',\n",
       "       '07h30', '12h30', '18h00', '07h00', '02h00', '10h30', '09h50',\n",
       "       '11h30', '17h30', '9h00', '10h43', 'After noon', '15h15', '15h40',\n",
       "       'Late afternoon', '16h30', '19h05', '1300', '14h30 / 15h30',\n",
       "       '22h00', '16h20', '14h34', '15h25', '14h55', '06h00', '17h46',\n",
       "       'Morning ', '13h20', '15h49', '08h00', '10h45', '19h00',\n",
       "       'Midnight', '09h30 / 10h00', '10h15', '18h15', '04h00', '14h50',\n",
       "       '13h50', '19h20', '10h25', '16h50', '10h45-11h15', '16h45',\n",
       "       '15h52', '06h15', '14h40', '19h45', '15h30', '10h10', '08h45',\n",
       "       'Evening', '12h10', '18h05', '19h30', '11h41', '12h25', '17h51',\n",
       "       '16h12', '12h45', '10h50', '14h15', '09h45', '11h45', '06h45',\n",
       "       '05h00', '03h30', 'Night', 'Sometime between 06h00 & 08hoo',\n",
       "       '06h30', '17h20', '18h45', '20h00', '16h40', '16h18', '11h10',\n",
       "       'Early afternoon', '17h50', '07h00 - 08h00', '18h15-18h30',\n",
       "       '17h01', '09h57', '08h20', '17h58', '20h30', '15h19', '10h55',\n",
       "       '15h55', '23h00', '12h40', '13h55', '16h05', '14h10', '15h20',\n",
       "       '12h50', '14h45', '13h40', '13h24', '09h00 - 09h30', '830',\n",
       "       '09h40', '11h40', '08h10', '15h56', '14h20', 'Just before noon',\n",
       "       '07h56', '1600', '17h17', '16h35', '09h05', '07h15', '07h20',\n",
       "       '19h28', '12h38', '05h50', '15h50', '11h05', 'Early morning',\n",
       "       'Dawn', '05h45', '13h25', '12h20', '13h26', '09h11', '12h15',\n",
       "       '13h15', 'Midday', '18h20', '10h40', '15h35', 'AM', '13h51',\n",
       "       'A.M.', '08h05', '19h15', '10h35', '15h44', 'Dusk', '21h00',\n",
       "       'Lunchtime', '15j45', '09h35', '10h27', '10h16', '500', '07h45',\n",
       "       'Before 07h00', '09h20', '10h00 -- 11h00', '12h05', '14h21',\n",
       "       '18h50', '15h53', '\"Just before 11h00\"', '11h115', '08h15',\n",
       "       '13h42', '20h15', '12h39', '17h35', '07h05', 'Sunset', '  ',\n",
       "       '13h05', '11h50', '\"Evening\"', 'Just before sundown', '17h55',\n",
       "       '22h30', '17h15', '16h10', '11h30 ', '06h10', '16h15',\n",
       "       'Between 05h00 and 08h00', '07h08', '17h00 or 17h40', '03h00',\n",
       "       '>08h00', '--', '12h02', '12h55', '16h14', '17h11', '00h30',\n",
       "       '14h37', '10h07', '13h53', '11h55', '13h23', 'Just after 12h00',\n",
       "       '02h30', '08h40', '11h56', '14h35', ' ', 'Early Morning', '07h50',\n",
       "       'Shortly after midnight', '14h25', '13h345', '\\xa0 ', '06h47',\n",
       "       '09h00 -10h00', '20h45 (Sunset)', 'Late morning', 'P.M.', '18h40',\n",
       "       '13h14', '13h06', '11h20', 'Shortly before 13h00', '12h34',\n",
       "       '11h53', '8:04 PM', '12h46', '12h48', '17h42', '12h35',\n",
       "       'Possibly same incident as 2000.08.21', 'After Dusk', '11h57',\n",
       "       'Noon', '17h40', '11h25', '18h25', '10h28', '09h15', '14h16',\n",
       "       '09h55', '2 hours after Opperman', '15h05', '09h30 ',\n",
       "       'Mid afternoon', 'Mid morning', '11h48', '11h00 / 11h30', '07h19',\n",
       "       '13h37', '11h06', '\"Night\"', '18h30?', '11h58', '11h51', '18h12',\n",
       "       '07h10', '07h40', '12h33', '30 minutes after 1992.07.08.a',\n",
       "       '>06h45', '15h06', '12h54', 'Between 06h00 & 07h20', '16h55',\n",
       "       '05h40', '<07h30', '21h30', '17h00 Sunset', 'Nightfall', 'X',\n",
       "       '08h57', '18h30 (Sunset)', '06j00', '08h35', '10h22', '02h45',\n",
       "       'Prior to 10h37', 'Daybreak', '18h10', '>12h00', 'Mid-morning',\n",
       "       '08h55', '16h30 or 18h00', 'Just before dawn', ' 14h00', 'Daytime',\n",
       "       '06h50', '01h00', 'Dark', '10h00 / 11h00', '\"After lunch\"',\n",
       "       '23h30', '07h32', '15h00 or 15h45', '>17h00', '19h00 / 20h00',\n",
       "       '12h45 / 13h45', '14h00 - 15h00', 'night', '03h45 - 04h00',\n",
       "       '13h10', '09h30 / 15h30', '08h00 / 09h30', '19h35',\n",
       "       '12h00 to 14h00', '13h35', 'Late night', '01h32', '10h30 or 13h30',\n",
       "       '16h23', '15h00j', 'Midday.', '\"After dark\"', '10h00 or 14h00',\n",
       "       '19h10', '16h25', '2 hrs before sunset', '18h15 to 21h30', '1500',\n",
       "       '\"shortly before dusk\"', '>17h30', '>14h30',\n",
       "       'Between 11h00 & 12h00', 'After 04h00',\n",
       "       '11h01 -time of ship sinking', 'Ship aban-doned at 03h10', '19h55',\n",
       "       'After dusk',\n",
       "       'FATAL  (Wire netting installed at local beaches after this incident.)',\n",
       "       '01h30', 'After midnight', 'Late afternon', '05h30', '08h58',\n",
       "       '\"Early evening\"', 'Late Afternoon', '   ', 'Before daybreak',\n",
       "       'dusk', 'Before 10h30', '06h00 -- 07h00', '01h50', '17h00-18h00',\n",
       "       '19h00-20h00'], dtype=object)"
      ]
     },
     "execution_count": 298,
     "metadata": {},
     "output_type": "execute_result"
    }
   ],
   "source": [
    "data_time['Time'].unique()"
   ]
  },
  {
   "cell_type": "code",
   "execution_count": 299,
   "id": "0cb37b0a",
   "metadata": {},
   "outputs": [],
   "source": [
    "data_time['Time']=data_time['Time'].apply(lambda x: x.replace('h',':') if(len(x)==5) else 'Unknown')"
   ]
  },
  {
   "cell_type": "code",
   "execution_count": 300,
   "id": "54d01467",
   "metadata": {},
   "outputs": [
    {
     "data": {
      "text/plain": [
       "array(['08:30', '15:45', '10:00', 'Unknown', '17:00', '14:30', '17:34',\n",
       "       '17:10', '11:00', '11:15', '14:00', '16:00', '08:50', '09:00',\n",
       "       '13:30', '13:45', '17:45', '13:00', '15:00', '18:30', '09:30',\n",
       "       '10:20', '12:00', '07:30', '12:30', '18:00', '07:00', '02:00',\n",
       "       '10:30', '09:50', '11:30', '17:30', '10:43', '15:15', '15:40',\n",
       "       '16:30', '19:05', '22:00', '16:20', '14:34', '15:25', '14:55',\n",
       "       '06:00', '17:46', '13:20', '15:49', '08:00', '10:45', '19:00',\n",
       "       '10:15', '18:15', '04:00', '14:50', '13:50', '19:20', '10:25',\n",
       "       '16:50', '16:45', '15:52', '06:15', '14:40', '19:45', '15:30',\n",
       "       '10:10', '08:45', '12:10', '18:05', '19:30', '11:41', '12:25',\n",
       "       '17:51', '16:12', '12:45', '10:50', '14:15', '09:45', '11:45',\n",
       "       '06:45', '05:00', '03:30', 'Nig:t', '06:30', '17:20', '18:45',\n",
       "       '20:00', '16:40', '16:18', '11:10', '17:50', '17:01', '09:57',\n",
       "       '08:20', '17:58', '20:30', '15:19', '10:55', '15:55', '23:00',\n",
       "       '12:40', '13:55', '16:05', '14:10', '15:20', '12:50', '14:45',\n",
       "       '13:40', '13:24', '09:40', '11:40', '08:10', '15:56', '14:20',\n",
       "       '07:56', '17:17', '16:35', '09:05', '07:15', '07:20', '19:28',\n",
       "       '12:38', '05:50', '15:50', '11:05', '05:45', '13:25', '12:20',\n",
       "       '13:26', '09:11', '12:15', '13:15', '18:20', '10:40', '15:35',\n",
       "       '13:51', '08:05', '19:15', '10:35', '15:44', '21:00', '15j45',\n",
       "       '09:35', '10:27', '10:16', '07:45', '09:20', '12:05', '14:21',\n",
       "       '18:50', '15:53', '08:15', '13:42', '20:15', '12:39', '17:35',\n",
       "       '07:05', '13:05', '11:50', '17:55', '22:30', '17:15', '16:10',\n",
       "       '06:10', '16:15', '07:08', '03:00', '12:02', '12:55', '16:14',\n",
       "       '17:11', '00:30', '14:37', '10:07', '13:53', '11:55', '13:23',\n",
       "       '02:30', '08:40', '11:56', '14:35', '07:50', '14:25', '06:47',\n",
       "       '18:40', '13:14', '13:06', '11:20', '12:34', '11:53', '12:46',\n",
       "       '12:48', '17:42', '12:35', '11:57', '17:40', '11:25', '18:25',\n",
       "       '10:28', '09:15', '14:16', '09:55', '15:05', '11:48', '07:19',\n",
       "       '13:37', '11:06', '11:58', '11:51', '18:12', '07:10', '07:40',\n",
       "       '12:33', '15:06', '12:54', '16:55', '05:40', '21:30', '08:57',\n",
       "       '06j00', '08:35', '10:22', '02:45', '18:10', '08:55', '06:50',\n",
       "       '01:00', '23:30', '07:32', 'nig:t', '13:10', '19:35', '13:35',\n",
       "       '01:32', '16:23', '19:10', '16:25', '19:55', '01:30', '05:30',\n",
       "       '08:58', '01:50'], dtype=object)"
      ]
     },
     "execution_count": 300,
     "metadata": {},
     "output_type": "execute_result"
    }
   ],
   "source": [
    "data_time['Time'].unique()"
   ]
  },
  {
   "cell_type": "code",
   "execution_count": 301,
   "id": "59aaf348",
   "metadata": {},
   "outputs": [],
   "source": [
    "x=data_time[data_time['Time']=='Nig:t'].index\n",
    "data_time.drop(x,axis=0,inplace=True)"
   ]
  },
  {
   "cell_type": "code",
   "execution_count": 302,
   "id": "53fbc54c",
   "metadata": {},
   "outputs": [
    {
     "data": {
      "text/html": [
       "<div>\n",
       "<style scoped>\n",
       "    .dataframe tbody tr th:only-of-type {\n",
       "        vertical-align: middle;\n",
       "    }\n",
       "\n",
       "    .dataframe tbody tr th {\n",
       "        vertical-align: top;\n",
       "    }\n",
       "\n",
       "    .dataframe thead th {\n",
       "        text-align: right;\n",
       "    }\n",
       "</style>\n",
       "<table border=\"1\" class=\"dataframe\">\n",
       "  <thead>\n",
       "    <tr style=\"text-align: right;\">\n",
       "      <th></th>\n",
       "      <th>Case Number</th>\n",
       "      <th>Time</th>\n",
       "    </tr>\n",
       "  </thead>\n",
       "  <tbody>\n",
       "  </tbody>\n",
       "</table>\n",
       "</div>"
      ],
      "text/plain": [
       "Empty DataFrame\n",
       "Columns: [Case Number, Time]\n",
       "Index: []"
      ]
     },
     "execution_count": 302,
     "metadata": {},
     "output_type": "execute_result"
    }
   ],
   "source": [
    "data_time[data_time['Time']=='Nig:t']"
   ]
  },
  {
   "cell_type": "code",
   "execution_count": 303,
   "id": "98ec68a1",
   "metadata": {},
   "outputs": [],
   "source": [
    "x=data_time[data_time['Time']=='nig:t'].index\n",
    "data_time.drop(x,axis=0,inplace=True)"
   ]
  },
  {
   "cell_type": "code",
   "execution_count": 304,
   "id": "249c7824",
   "metadata": {},
   "outputs": [
    {
     "data": {
      "text/html": [
       "<div>\n",
       "<style scoped>\n",
       "    .dataframe tbody tr th:only-of-type {\n",
       "        vertical-align: middle;\n",
       "    }\n",
       "\n",
       "    .dataframe tbody tr th {\n",
       "        vertical-align: top;\n",
       "    }\n",
       "\n",
       "    .dataframe thead th {\n",
       "        text-align: right;\n",
       "    }\n",
       "</style>\n",
       "<table border=\"1\" class=\"dataframe\">\n",
       "  <thead>\n",
       "    <tr style=\"text-align: right;\">\n",
       "      <th></th>\n",
       "      <th>Case Number</th>\n",
       "      <th>Time</th>\n",
       "    </tr>\n",
       "  </thead>\n",
       "  <tbody>\n",
       "  </tbody>\n",
       "</table>\n",
       "</div>"
      ],
      "text/plain": [
       "Empty DataFrame\n",
       "Columns: [Case Number, Time]\n",
       "Index: []"
      ]
     },
     "execution_count": 304,
     "metadata": {},
     "output_type": "execute_result"
    }
   ],
   "source": [
    "data_time[data_time['Time']=='nig:t']"
   ]
  },
  {
   "cell_type": "code",
   "execution_count": 305,
   "id": "7441be65",
   "metadata": {},
   "outputs": [],
   "source": [
    "data_time=data_time[~(data_time['Time']=='Unknown')]"
   ]
  },
  {
   "cell_type": "code",
   "execution_count": 306,
   "id": "fa2eeb58",
   "metadata": {},
   "outputs": [],
   "source": [
    "x=data_time[data_time['Time']=='15j45'].index"
   ]
  },
  {
   "cell_type": "code",
   "execution_count": 307,
   "id": "facf1b4c",
   "metadata": {},
   "outputs": [],
   "source": [
    "data_time['Time'][x]='15:45'"
   ]
  },
  {
   "cell_type": "code",
   "execution_count": 308,
   "id": "16188633",
   "metadata": {},
   "outputs": [],
   "source": [
    "x=data_time[data_time['Time']=='06j00'].index"
   ]
  },
  {
   "cell_type": "code",
   "execution_count": 309,
   "id": "13cad4c9",
   "metadata": {},
   "outputs": [],
   "source": [
    "data_time['Time'][x]='06:00'"
   ]
  },
  {
   "cell_type": "code",
   "execution_count": 310,
   "id": "7dd11a4b",
   "metadata": {},
   "outputs": [],
   "source": [
    "data_time['attack_hour_of_day']=pd.to_datetime(data_time['Time']).dt.hour"
   ]
  },
  {
   "cell_type": "code",
   "execution_count": 311,
   "id": "e5e3e3c9",
   "metadata": {},
   "outputs": [
    {
     "data": {
      "text/html": [
       "<div>\n",
       "<style scoped>\n",
       "    .dataframe tbody tr th:only-of-type {\n",
       "        vertical-align: middle;\n",
       "    }\n",
       "\n",
       "    .dataframe tbody tr th {\n",
       "        vertical-align: top;\n",
       "    }\n",
       "\n",
       "    .dataframe thead th {\n",
       "        text-align: right;\n",
       "    }\n",
       "</style>\n",
       "<table border=\"1\" class=\"dataframe\">\n",
       "  <thead>\n",
       "    <tr style=\"text-align: right;\">\n",
       "      <th></th>\n",
       "      <th>attack_hour_of_day</th>\n",
       "      <th>Number of attacks</th>\n",
       "    </tr>\n",
       "  </thead>\n",
       "  <tbody>\n",
       "    <tr>\n",
       "      <th>0</th>\n",
       "      <td>11</td>\n",
       "      <td>249</td>\n",
       "    </tr>\n",
       "    <tr>\n",
       "      <th>1</th>\n",
       "      <td>16</td>\n",
       "      <td>234</td>\n",
       "    </tr>\n",
       "    <tr>\n",
       "      <th>2</th>\n",
       "      <td>14</td>\n",
       "      <td>229</td>\n",
       "    </tr>\n",
       "    <tr>\n",
       "      <th>3</th>\n",
       "      <td>15</td>\n",
       "      <td>224</td>\n",
       "    </tr>\n",
       "    <tr>\n",
       "      <th>4</th>\n",
       "      <td>12</td>\n",
       "      <td>196</td>\n",
       "    </tr>\n",
       "    <tr>\n",
       "      <th>5</th>\n",
       "      <td>13</td>\n",
       "      <td>194</td>\n",
       "    </tr>\n",
       "    <tr>\n",
       "      <th>6</th>\n",
       "      <td>17</td>\n",
       "      <td>189</td>\n",
       "    </tr>\n",
       "    <tr>\n",
       "      <th>7</th>\n",
       "      <td>10</td>\n",
       "      <td>165</td>\n",
       "    </tr>\n",
       "    <tr>\n",
       "      <th>8</th>\n",
       "      <td>18</td>\n",
       "      <td>117</td>\n",
       "    </tr>\n",
       "    <tr>\n",
       "      <th>9</th>\n",
       "      <td>9</td>\n",
       "      <td>111</td>\n",
       "    </tr>\n",
       "    <tr>\n",
       "      <th>10</th>\n",
       "      <td>8</td>\n",
       "      <td>86</td>\n",
       "    </tr>\n",
       "    <tr>\n",
       "      <th>11</th>\n",
       "      <td>7</td>\n",
       "      <td>76</td>\n",
       "    </tr>\n",
       "    <tr>\n",
       "      <th>12</th>\n",
       "      <td>19</td>\n",
       "      <td>49</td>\n",
       "    </tr>\n",
       "    <tr>\n",
       "      <th>13</th>\n",
       "      <td>6</td>\n",
       "      <td>33</td>\n",
       "    </tr>\n",
       "    <tr>\n",
       "      <th>14</th>\n",
       "      <td>20</td>\n",
       "      <td>29</td>\n",
       "    </tr>\n",
       "    <tr>\n",
       "      <th>15</th>\n",
       "      <td>5</td>\n",
       "      <td>10</td>\n",
       "    </tr>\n",
       "    <tr>\n",
       "      <th>16</th>\n",
       "      <td>3</td>\n",
       "      <td>8</td>\n",
       "    </tr>\n",
       "    <tr>\n",
       "      <th>17</th>\n",
       "      <td>2</td>\n",
       "      <td>7</td>\n",
       "    </tr>\n",
       "    <tr>\n",
       "      <th>18</th>\n",
       "      <td>23</td>\n",
       "      <td>6</td>\n",
       "    </tr>\n",
       "    <tr>\n",
       "      <th>19</th>\n",
       "      <td>1</td>\n",
       "      <td>6</td>\n",
       "    </tr>\n",
       "    <tr>\n",
       "      <th>20</th>\n",
       "      <td>4</td>\n",
       "      <td>5</td>\n",
       "    </tr>\n",
       "    <tr>\n",
       "      <th>21</th>\n",
       "      <td>22</td>\n",
       "      <td>5</td>\n",
       "    </tr>\n",
       "    <tr>\n",
       "      <th>22</th>\n",
       "      <td>21</td>\n",
       "      <td>4</td>\n",
       "    </tr>\n",
       "    <tr>\n",
       "      <th>23</th>\n",
       "      <td>0</td>\n",
       "      <td>1</td>\n",
       "    </tr>\n",
       "  </tbody>\n",
       "</table>\n",
       "</div>"
      ],
      "text/plain": [
       "    attack_hour_of_day  Number of attacks\n",
       "0                   11                249\n",
       "1                   16                234\n",
       "2                   14                229\n",
       "3                   15                224\n",
       "4                   12                196\n",
       "5                   13                194\n",
       "6                   17                189\n",
       "7                   10                165\n",
       "8                   18                117\n",
       "9                    9                111\n",
       "10                   8                 86\n",
       "11                   7                 76\n",
       "12                  19                 49\n",
       "13                   6                 33\n",
       "14                  20                 29\n",
       "15                   5                 10\n",
       "16                   3                  8\n",
       "17                   2                  7\n",
       "18                  23                  6\n",
       "19                   1                  6\n",
       "20                   4                  5\n",
       "21                  22                  5\n",
       "22                  21                  4\n",
       "23                   0                  1"
      ]
     },
     "execution_count": 311,
     "metadata": {},
     "output_type": "execute_result"
    }
   ],
   "source": [
    "data_time.groupby('attack_hour_of_day')['Case Number'].count().sort_values(ascending=False).reset_index(name='Number of attacks')"
   ]
  },
  {
   "cell_type": "markdown",
   "id": "128c1443",
   "metadata": {},
   "source": [
    "Most attacks happend from 10 in morning to 6 in evening"
   ]
  },
  {
   "cell_type": "markdown",
   "id": "ea0344fe",
   "metadata": {},
   "source": [
    "Which species of shark are attacking most often? (you guessed it... this data is messy too!)"
   ]
  },
  {
   "cell_type": "code",
   "execution_count": 312,
   "id": "a8b92f5c",
   "metadata": {},
   "outputs": [],
   "source": [
    "data_s=df[~(df['Species ']=='Unknown')]"
   ]
  },
  {
   "cell_type": "code",
   "execution_count": 313,
   "id": "10f1cad0",
   "metadata": {},
   "outputs": [],
   "source": [
    "data_s.rename(columns={'Species ':'Species'},inplace=True)"
   ]
  },
  {
   "cell_type": "code",
   "execution_count": 314,
   "id": "8553ab11",
   "metadata": {},
   "outputs": [],
   "source": [
    "from wordcloud import STOPWORDS"
   ]
  },
  {
   "cell_type": "code",
   "execution_count": 315,
   "id": "c216e8f3",
   "metadata": {},
   "outputs": [],
   "source": [
    "#code to find out the difrent types of species names\n",
    "datass=[]\n",
    "keywords = [\"shark\", \"sharks\"]\n",
    "for line in data_s['Species']:\n",
    "    words = line.lower().split()\n",
    "    for key in keywords:\n",
    "        if key in words[:]:\n",
    "            x=words[words.index(key)-1]\n",
    "            if x not in STOPWORDS and x.isalpha()==True:\n",
    "                datass.append(x)\n",
    "datass=set(datass)"
   ]
  },
  {
   "cell_type": "code",
   "execution_count": 316,
   "id": "c2174a8e",
   "metadata": {},
   "outputs": [
    {
     "data": {
      "text/plain": [
       "['uncofirmed',\n",
       " 'sand',\n",
       " 'small',\n",
       " 'zambezi',\n",
       " 'blacktip',\n",
       " 'juvenile',\n",
       " 'thresher',\n",
       " 'hammerhead',\n",
       " 'lemon',\n",
       " 'determined',\n",
       " 'unconfired',\n",
       " 'silvertip',\n",
       " 'bull',\n",
       " 'salmon',\n",
       " 'soupfin',\n",
       " 'basking',\n",
       " 'sandtiger',\n",
       " 'bite',\n",
       " 'whale',\n",
       " 'cutter',\n",
       " 'raggedtooth',\n",
       " 'mako',\n",
       " 'white',\n",
       " 'cow',\n",
       " 'kg',\n",
       " 'several',\n",
       " 'stingray',\n",
       " 'carpet',\n",
       " 'female',\n",
       " 'captured',\n",
       " 'dusky',\n",
       " 'zambesi',\n",
       " 'blue',\n",
       " 'nurse',\n",
       " 'whaler',\n",
       " 'tiger',\n",
       " 'questionable',\n",
       " 'sevengill',\n",
       " 'spinner',\n",
       " 'wobbegong',\n",
       " 'silky',\n",
       " 'colored',\n",
       " 'm',\n",
       " 'cofirmed',\n",
       " 'whitetip',\n",
       " 'sandbar',\n",
       " 'captive',\n",
       " 'leopard',\n",
       " 'cm',\n",
       " 'larger',\n",
       " 'carcharinid',\n",
       " 'metre',\n",
       " 'copper',\n",
       " 'two',\n",
       " 'gaffed',\n",
       " 'bonnethed',\n",
       " 'goblin',\n",
       " 'brown',\n",
       " 'grey',\n",
       " 'doubtful',\n",
       " 'barracua',\n",
       " 'reef',\n",
       " 'hooked',\n",
       " 'length',\n",
       " 'dog',\n",
       " 'unlikely',\n",
       " 'porbeagle',\n",
       " 'probable',\n",
       " 'confirmed',\n",
       " 'bluefish',\n",
       " 'gill',\n",
       " 'angel',\n",
       " 'dogfish',\n",
       " 'galapagos',\n",
       " 'unconfirmed',\n",
       " 'unidentified']"
      ]
     },
     "execution_count": 316,
     "metadata": {},
     "output_type": "execute_result"
    }
   ],
   "source": [
    "list(datass)"
   ]
  },
  {
   "cell_type": "code",
   "execution_count": 317,
   "id": "b1a3e4ce",
   "metadata": {},
   "outputs": [],
   "source": [
    "shark_stopwords=['uncofirmed','small','determined', 'unconfired','bite','cutter','kg', 'several','female','captured','questionable','colored', 'm', 'cofirmed','captive', 'cm', 'larger','metre','two','gaffed','doubtful','hooked', 'length','unlikely','probable', 'confirmed','unconfirmed', 'unidentified']"
   ]
  },
  {
   "cell_type": "code",
   "execution_count": 318,
   "id": "c3c60ed1",
   "metadata": {},
   "outputs": [],
   "source": [
    "data_s['Species']=data_s['Species'].str.replace('dog','dogfish')\n",
    "data_s['Species']=data_s['Species'].str.replace('reef','carribean reef')\n",
    "data_s['Species']=data_s['Species'].str.replace('dog','dogfish')\n",
    "data_s['Species']=data_s['Species'].str.replace('zambesi','zambezi')\n",
    "data_s['Species']=data_s['Species'].str.replace('sand','ragged-tooth')\n",
    "data_s['Species']=data_s['Species'].str.replace('raggedtooth','ragged-tooth')\n",
    "data_s['Species']=data_s['Species'].str.replace('whitetip','oceanic whitetip')\n",
    "data_s['Species']=data_s['Species'].str.replace('brown','sandbar')\n",
    "data_s['Species']=data_s['Species'].str.replace('gill','sevengill')\n"
   ]
  },
  {
   "cell_type": "code",
   "execution_count": 319,
   "id": "a9688bc9",
   "metadata": {},
   "outputs": [],
   "source": [
    "text1=' '.join(x.lower() for x in data_s['Species'])"
   ]
  },
  {
   "cell_type": "code",
   "execution_count": 320,
   "id": "bd2b3fc1",
   "metadata": {},
   "outputs": [],
   "source": [
    "#code to count different types of sharks\n",
    "data1={0:1}\n",
    "for i in datass:\n",
    "    if i not in shark_stopwords:\n",
    "        occurrences=text1.count(i)\n",
    "        data1[i]=occurrences\n",
    "    "
   ]
  },
  {
   "cell_type": "code",
   "execution_count": 321,
   "id": "51b546f4",
   "metadata": {},
   "outputs": [],
   "source": [
    "data1=pd.DataFrame(data1.items(),columns=['Species','Number of attacks'])"
   ]
  },
  {
   "cell_type": "code",
   "execution_count": 322,
   "id": "d1de7de9",
   "metadata": {},
   "outputs": [],
   "source": [
    "data1.drop(0,axis=0,inplace=True)"
   ]
  },
  {
   "cell_type": "code",
   "execution_count": 323,
   "id": "5a57300f",
   "metadata": {},
   "outputs": [
    {
     "data": {
      "text/html": [
       "<div>\n",
       "<style scoped>\n",
       "    .dataframe tbody tr th:only-of-type {\n",
       "        vertical-align: middle;\n",
       "    }\n",
       "\n",
       "    .dataframe tbody tr th {\n",
       "        vertical-align: top;\n",
       "    }\n",
       "\n",
       "    .dataframe thead th {\n",
       "        text-align: right;\n",
       "    }\n",
       "</style>\n",
       "<table border=\"1\" class=\"dataframe\">\n",
       "  <thead>\n",
       "    <tr style=\"text-align: right;\">\n",
       "      <th></th>\n",
       "      <th>Species</th>\n",
       "      <th>Number of attacks</th>\n",
       "    </tr>\n",
       "  </thead>\n",
       "  <tbody>\n",
       "    <tr>\n",
       "      <th>1</th>\n",
       "      <td>sand</td>\n",
       "      <td>25</td>\n",
       "    </tr>\n",
       "    <tr>\n",
       "      <th>2</th>\n",
       "      <td>zambezi</td>\n",
       "      <td>3</td>\n",
       "    </tr>\n",
       "    <tr>\n",
       "      <th>3</th>\n",
       "      <td>blacktip</td>\n",
       "      <td>102</td>\n",
       "    </tr>\n",
       "    <tr>\n",
       "      <th>4</th>\n",
       "      <td>juvenile</td>\n",
       "      <td>19</td>\n",
       "    </tr>\n",
       "    <tr>\n",
       "      <th>5</th>\n",
       "      <td>thresher</td>\n",
       "      <td>6</td>\n",
       "    </tr>\n",
       "  </tbody>\n",
       "</table>\n",
       "</div>"
      ],
      "text/plain": [
       "    Species  Number of attacks\n",
       "1      sand                 25\n",
       "2   zambezi                  3\n",
       "3  blacktip                102\n",
       "4  juvenile                 19\n",
       "5  thresher                  6"
      ]
     },
     "execution_count": 323,
     "metadata": {},
     "output_type": "execute_result"
    }
   ],
   "source": [
    "data1.head()"
   ]
  },
  {
   "cell_type": "code",
   "execution_count": 324,
   "id": "6e718c14",
   "metadata": {},
   "outputs": [
    {
     "data": {
      "text/plain": [
       "array(['sand', 'zambezi', 'blacktip', 'juvenile', 'thresher',\n",
       "       'hammerhead', 'lemon', 'silvertip', 'bull', 'salmon', 'soupfin',\n",
       "       'basking', 'sandtiger', 'whale', 'raggedtooth', 'mako', 'white',\n",
       "       'cow', 'stingray', 'carpet', 'dusky', 'zambesi', 'blue', 'nurse',\n",
       "       'whaler', 'tiger', 'sevengill', 'spinner', 'wobbegong', 'silky',\n",
       "       'whitetip', 'sandbar', 'leopard', 'carcharinid', 'copper',\n",
       "       'bonnethed', 'goblin', 'brown', 'grey', 'barracua', 'reef', 'dog',\n",
       "       'porbeagle', 'bluefish', 'gill', 'angel', 'dogfish', 'galapagos'],\n",
       "      dtype=object)"
      ]
     },
     "execution_count": 324,
     "metadata": {},
     "output_type": "execute_result"
    }
   ],
   "source": [
    "data1['Species'].unique()"
   ]
  },
  {
   "cell_type": "code",
   "execution_count": 325,
   "id": "c57aa344",
   "metadata": {},
   "outputs": [],
   "source": [
    "data1=data1.sort_values(by='Number of attacks',ascending=False)"
   ]
  },
  {
   "cell_type": "code",
   "execution_count": 326,
   "id": "ccd828ea",
   "metadata": {},
   "outputs": [],
   "source": [
    "data1['Species']=data1['Species'].str.title()"
   ]
  },
  {
   "cell_type": "code",
   "execution_count": 327,
   "id": "346f9d73",
   "metadata": {},
   "outputs": [
    {
     "data": {
      "text/html": [
       "<div>\n",
       "<style scoped>\n",
       "    .dataframe tbody tr th:only-of-type {\n",
       "        vertical-align: middle;\n",
       "    }\n",
       "\n",
       "    .dataframe tbody tr th {\n",
       "        vertical-align: top;\n",
       "    }\n",
       "\n",
       "    .dataframe thead th {\n",
       "        text-align: right;\n",
       "    }\n",
       "</style>\n",
       "<table border=\"1\" class=\"dataframe\">\n",
       "  <thead>\n",
       "    <tr style=\"text-align: right;\">\n",
       "      <th></th>\n",
       "      <th>Species</th>\n",
       "      <th>Number of attacks</th>\n",
       "    </tr>\n",
       "  </thead>\n",
       "  <tbody>\n",
       "    <tr>\n",
       "      <th>17</th>\n",
       "      <td>White</td>\n",
       "      <td>661</td>\n",
       "    </tr>\n",
       "    <tr>\n",
       "      <th>26</th>\n",
       "      <td>Tiger</td>\n",
       "      <td>291</td>\n",
       "    </tr>\n",
       "    <tr>\n",
       "      <th>9</th>\n",
       "      <td>Bull</td>\n",
       "      <td>182</td>\n",
       "    </tr>\n",
       "    <tr>\n",
       "      <th>3</th>\n",
       "      <td>Blacktip</td>\n",
       "      <td>102</td>\n",
       "    </tr>\n",
       "    <tr>\n",
       "      <th>24</th>\n",
       "      <td>Nurse</td>\n",
       "      <td>94</td>\n",
       "    </tr>\n",
       "  </tbody>\n",
       "</table>\n",
       "</div>"
      ],
      "text/plain": [
       "     Species  Number of attacks\n",
       "17     White                661\n",
       "26     Tiger                291\n",
       "9       Bull                182\n",
       "3   Blacktip                102\n",
       "24     Nurse                 94"
      ]
     },
     "execution_count": 327,
     "metadata": {},
     "output_type": "execute_result"
    }
   ],
   "source": [
    "data1.iloc[0:5,:]"
   ]
  },
  {
   "cell_type": "markdown",
   "id": "6941ba9d",
   "metadata": {},
   "source": [
    "Top 5 species that make the most attacks"
   ]
  },
  {
   "cell_type": "code",
   "execution_count": null,
   "id": "48c66d19",
   "metadata": {},
   "outputs": [],
   "source": []
  }
 ],
 "metadata": {
  "kernelspec": {
   "display_name": "Python 3 (ipykernel)",
   "language": "python",
   "name": "python3"
  },
  "language_info": {
   "codemirror_mode": {
    "name": "ipython",
    "version": 3
   },
   "file_extension": ".py",
   "mimetype": "text/x-python",
   "name": "python",
   "nbconvert_exporter": "python",
   "pygments_lexer": "ipython3",
   "version": "3.9.7"
  }
 },
 "nbformat": 4,
 "nbformat_minor": 5
}
