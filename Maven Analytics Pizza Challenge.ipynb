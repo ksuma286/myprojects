{
 "cells": [
  {
   "cell_type": "code",
   "execution_count": 1,
   "id": "b0bb7456",
   "metadata": {},
   "outputs": [],
   "source": [
    "import pandas as pd"
   ]
  },
  {
   "cell_type": "markdown",
   "id": "b4496037",
   "metadata": {},
   "source": [
    "# MAVEN ANALYTICS PIZZA CHALLENEGE"
   ]
  },
  {
   "cell_type": "code",
   "execution_count": 2,
   "id": "ab54d6d3",
   "metadata": {},
   "outputs": [
    {
     "data": {
      "text/plain": [
       "\"Here are some questions that we'd like to be able to answer:\\n\\nWhat days and times do we tend to be busiest?\\nHow many pizzas are we making during peak periods?\\nWhat are our best and worst selling pizzas?\\nWhat's our average order value?\\nHow well are we utilizing our seating capacity? (we have 15 tables and 60 seats)\""
      ]
     },
     "execution_count": 2,
     "metadata": {},
     "output_type": "execute_result"
    }
   ],
   "source": [
    "'''Here are some questions that we'd like to be able to answer:\n",
    "\n",
    "What days and times do we tend to be busiest?\n",
    "How many pizzas are we making during peak periods?\n",
    "What are our best and worst selling pizzas?\n",
    "What's our average order value?\n",
    "How well are we utilizing our seating capacity? (we have 15 tables and 60 seats)'''"
   ]
  },
  {
   "cell_type": "code",
   "execution_count": 3,
   "id": "9a477103",
   "metadata": {},
   "outputs": [],
   "source": [
    "df1=pd.read_csv('order_details.csv')"
   ]
  },
  {
   "cell_type": "code",
   "execution_count": 4,
   "id": "0e119034",
   "metadata": {},
   "outputs": [],
   "source": [
    "df2=pd.read_csv('orders.csv')"
   ]
  },
  {
   "cell_type": "code",
   "execution_count": 5,
   "id": "3cbc9ffe",
   "metadata": {},
   "outputs": [],
   "source": [
    "df4=pd.read_csv('pizzas.csv')"
   ]
  },
  {
   "cell_type": "code",
   "execution_count": 6,
   "id": "2cfc0edc",
   "metadata": {},
   "outputs": [],
   "source": [
    "df3=pd.read_csv('pizza_types.csv',encoding='latin1')#there were some special characters in pizza_types so we are using this encoding to avoid error"
   ]
  },
  {
   "cell_type": "code",
   "execution_count": 7,
   "id": "e98d7bd2",
   "metadata": {},
   "outputs": [
    {
     "data": {
      "text/html": [
       "<div>\n",
       "<style scoped>\n",
       "    .dataframe tbody tr th:only-of-type {\n",
       "        vertical-align: middle;\n",
       "    }\n",
       "\n",
       "    .dataframe tbody tr th {\n",
       "        vertical-align: top;\n",
       "    }\n",
       "\n",
       "    .dataframe thead th {\n",
       "        text-align: right;\n",
       "    }\n",
       "</style>\n",
       "<table border=\"1\" class=\"dataframe\">\n",
       "  <thead>\n",
       "    <tr style=\"text-align: right;\">\n",
       "      <th></th>\n",
       "      <th>order_details_id</th>\n",
       "      <th>order_id</th>\n",
       "      <th>pizza_id</th>\n",
       "      <th>quantity</th>\n",
       "    </tr>\n",
       "  </thead>\n",
       "  <tbody>\n",
       "    <tr>\n",
       "      <th>0</th>\n",
       "      <td>1</td>\n",
       "      <td>1</td>\n",
       "      <td>hawaiian_m</td>\n",
       "      <td>1</td>\n",
       "    </tr>\n",
       "    <tr>\n",
       "      <th>1</th>\n",
       "      <td>2</td>\n",
       "      <td>2</td>\n",
       "      <td>classic_dlx_m</td>\n",
       "      <td>1</td>\n",
       "    </tr>\n",
       "    <tr>\n",
       "      <th>2</th>\n",
       "      <td>3</td>\n",
       "      <td>2</td>\n",
       "      <td>five_cheese_l</td>\n",
       "      <td>1</td>\n",
       "    </tr>\n",
       "    <tr>\n",
       "      <th>3</th>\n",
       "      <td>4</td>\n",
       "      <td>2</td>\n",
       "      <td>ital_supr_l</td>\n",
       "      <td>1</td>\n",
       "    </tr>\n",
       "    <tr>\n",
       "      <th>4</th>\n",
       "      <td>5</td>\n",
       "      <td>2</td>\n",
       "      <td>mexicana_m</td>\n",
       "      <td>1</td>\n",
       "    </tr>\n",
       "  </tbody>\n",
       "</table>\n",
       "</div>"
      ],
      "text/plain": [
       "   order_details_id  order_id       pizza_id  quantity\n",
       "0                 1         1     hawaiian_m         1\n",
       "1                 2         2  classic_dlx_m         1\n",
       "2                 3         2  five_cheese_l         1\n",
       "3                 4         2    ital_supr_l         1\n",
       "4                 5         2     mexicana_m         1"
      ]
     },
     "execution_count": 7,
     "metadata": {},
     "output_type": "execute_result"
    }
   ],
   "source": [
    "df1.head()"
   ]
  },
  {
   "cell_type": "code",
   "execution_count": 8,
   "id": "dc205df2",
   "metadata": {},
   "outputs": [
    {
     "data": {
      "text/html": [
       "<div>\n",
       "<style scoped>\n",
       "    .dataframe tbody tr th:only-of-type {\n",
       "        vertical-align: middle;\n",
       "    }\n",
       "\n",
       "    .dataframe tbody tr th {\n",
       "        vertical-align: top;\n",
       "    }\n",
       "\n",
       "    .dataframe thead th {\n",
       "        text-align: right;\n",
       "    }\n",
       "</style>\n",
       "<table border=\"1\" class=\"dataframe\">\n",
       "  <thead>\n",
       "    <tr style=\"text-align: right;\">\n",
       "      <th></th>\n",
       "      <th>order_id</th>\n",
       "      <th>date</th>\n",
       "      <th>time</th>\n",
       "    </tr>\n",
       "  </thead>\n",
       "  <tbody>\n",
       "    <tr>\n",
       "      <th>0</th>\n",
       "      <td>1</td>\n",
       "      <td>2015-01-01</td>\n",
       "      <td>11:38:36</td>\n",
       "    </tr>\n",
       "    <tr>\n",
       "      <th>1</th>\n",
       "      <td>2</td>\n",
       "      <td>2015-01-01</td>\n",
       "      <td>11:57:40</td>\n",
       "    </tr>\n",
       "    <tr>\n",
       "      <th>2</th>\n",
       "      <td>3</td>\n",
       "      <td>2015-01-01</td>\n",
       "      <td>12:12:28</td>\n",
       "    </tr>\n",
       "    <tr>\n",
       "      <th>3</th>\n",
       "      <td>4</td>\n",
       "      <td>2015-01-01</td>\n",
       "      <td>12:16:31</td>\n",
       "    </tr>\n",
       "    <tr>\n",
       "      <th>4</th>\n",
       "      <td>5</td>\n",
       "      <td>2015-01-01</td>\n",
       "      <td>12:21:30</td>\n",
       "    </tr>\n",
       "  </tbody>\n",
       "</table>\n",
       "</div>"
      ],
      "text/plain": [
       "   order_id        date      time\n",
       "0         1  2015-01-01  11:38:36\n",
       "1         2  2015-01-01  11:57:40\n",
       "2         3  2015-01-01  12:12:28\n",
       "3         4  2015-01-01  12:16:31\n",
       "4         5  2015-01-01  12:21:30"
      ]
     },
     "execution_count": 8,
     "metadata": {},
     "output_type": "execute_result"
    }
   ],
   "source": [
    "df2.head()"
   ]
  },
  {
   "cell_type": "code",
   "execution_count": 9,
   "id": "a2e24c1b",
   "metadata": {},
   "outputs": [
    {
     "data": {
      "text/html": [
       "<div>\n",
       "<style scoped>\n",
       "    .dataframe tbody tr th:only-of-type {\n",
       "        vertical-align: middle;\n",
       "    }\n",
       "\n",
       "    .dataframe tbody tr th {\n",
       "        vertical-align: top;\n",
       "    }\n",
       "\n",
       "    .dataframe thead th {\n",
       "        text-align: right;\n",
       "    }\n",
       "</style>\n",
       "<table border=\"1\" class=\"dataframe\">\n",
       "  <thead>\n",
       "    <tr style=\"text-align: right;\">\n",
       "      <th></th>\n",
       "      <th>pizza_type_id</th>\n",
       "      <th>name</th>\n",
       "      <th>category</th>\n",
       "      <th>ingredients</th>\n",
       "    </tr>\n",
       "  </thead>\n",
       "  <tbody>\n",
       "    <tr>\n",
       "      <th>0</th>\n",
       "      <td>bbq_ckn</td>\n",
       "      <td>The Barbecue Chicken Pizza</td>\n",
       "      <td>Chicken</td>\n",
       "      <td>Barbecued Chicken, Red Peppers, Green Peppers,...</td>\n",
       "    </tr>\n",
       "    <tr>\n",
       "      <th>1</th>\n",
       "      <td>cali_ckn</td>\n",
       "      <td>The California Chicken Pizza</td>\n",
       "      <td>Chicken</td>\n",
       "      <td>Chicken, Artichoke, Spinach, Garlic, Jalapeno ...</td>\n",
       "    </tr>\n",
       "    <tr>\n",
       "      <th>2</th>\n",
       "      <td>ckn_alfredo</td>\n",
       "      <td>The Chicken Alfredo Pizza</td>\n",
       "      <td>Chicken</td>\n",
       "      <td>Chicken, Red Onions, Red Peppers, Mushrooms, A...</td>\n",
       "    </tr>\n",
       "    <tr>\n",
       "      <th>3</th>\n",
       "      <td>ckn_pesto</td>\n",
       "      <td>The Chicken Pesto Pizza</td>\n",
       "      <td>Chicken</td>\n",
       "      <td>Chicken, Tomatoes, Red Peppers, Spinach, Garli...</td>\n",
       "    </tr>\n",
       "    <tr>\n",
       "      <th>4</th>\n",
       "      <td>southw_ckn</td>\n",
       "      <td>The Southwest Chicken Pizza</td>\n",
       "      <td>Chicken</td>\n",
       "      <td>Chicken, Tomatoes, Red Peppers, Red Onions, Ja...</td>\n",
       "    </tr>\n",
       "  </tbody>\n",
       "</table>\n",
       "</div>"
      ],
      "text/plain": [
       "  pizza_type_id                          name category  \\\n",
       "0       bbq_ckn    The Barbecue Chicken Pizza  Chicken   \n",
       "1      cali_ckn  The California Chicken Pizza  Chicken   \n",
       "2   ckn_alfredo     The Chicken Alfredo Pizza  Chicken   \n",
       "3     ckn_pesto       The Chicken Pesto Pizza  Chicken   \n",
       "4    southw_ckn   The Southwest Chicken Pizza  Chicken   \n",
       "\n",
       "                                         ingredients  \n",
       "0  Barbecued Chicken, Red Peppers, Green Peppers,...  \n",
       "1  Chicken, Artichoke, Spinach, Garlic, Jalapeno ...  \n",
       "2  Chicken, Red Onions, Red Peppers, Mushrooms, A...  \n",
       "3  Chicken, Tomatoes, Red Peppers, Spinach, Garli...  \n",
       "4  Chicken, Tomatoes, Red Peppers, Red Onions, Ja...  "
      ]
     },
     "execution_count": 9,
     "metadata": {},
     "output_type": "execute_result"
    }
   ],
   "source": [
    "df3.head()"
   ]
  },
  {
   "cell_type": "code",
   "execution_count": 10,
   "id": "d9dc35ed",
   "metadata": {},
   "outputs": [
    {
     "data": {
      "text/html": [
       "<div>\n",
       "<style scoped>\n",
       "    .dataframe tbody tr th:only-of-type {\n",
       "        vertical-align: middle;\n",
       "    }\n",
       "\n",
       "    .dataframe tbody tr th {\n",
       "        vertical-align: top;\n",
       "    }\n",
       "\n",
       "    .dataframe thead th {\n",
       "        text-align: right;\n",
       "    }\n",
       "</style>\n",
       "<table border=\"1\" class=\"dataframe\">\n",
       "  <thead>\n",
       "    <tr style=\"text-align: right;\">\n",
       "      <th></th>\n",
       "      <th>pizza_id</th>\n",
       "      <th>pizza_type_id</th>\n",
       "      <th>size</th>\n",
       "      <th>price</th>\n",
       "    </tr>\n",
       "  </thead>\n",
       "  <tbody>\n",
       "    <tr>\n",
       "      <th>0</th>\n",
       "      <td>bbq_ckn_s</td>\n",
       "      <td>bbq_ckn</td>\n",
       "      <td>S</td>\n",
       "      <td>12.75</td>\n",
       "    </tr>\n",
       "    <tr>\n",
       "      <th>1</th>\n",
       "      <td>bbq_ckn_m</td>\n",
       "      <td>bbq_ckn</td>\n",
       "      <td>M</td>\n",
       "      <td>16.75</td>\n",
       "    </tr>\n",
       "    <tr>\n",
       "      <th>2</th>\n",
       "      <td>bbq_ckn_l</td>\n",
       "      <td>bbq_ckn</td>\n",
       "      <td>L</td>\n",
       "      <td>20.75</td>\n",
       "    </tr>\n",
       "    <tr>\n",
       "      <th>3</th>\n",
       "      <td>cali_ckn_s</td>\n",
       "      <td>cali_ckn</td>\n",
       "      <td>S</td>\n",
       "      <td>12.75</td>\n",
       "    </tr>\n",
       "    <tr>\n",
       "      <th>4</th>\n",
       "      <td>cali_ckn_m</td>\n",
       "      <td>cali_ckn</td>\n",
       "      <td>M</td>\n",
       "      <td>16.75</td>\n",
       "    </tr>\n",
       "  </tbody>\n",
       "</table>\n",
       "</div>"
      ],
      "text/plain": [
       "     pizza_id pizza_type_id size  price\n",
       "0   bbq_ckn_s       bbq_ckn    S  12.75\n",
       "1   bbq_ckn_m       bbq_ckn    M  16.75\n",
       "2   bbq_ckn_l       bbq_ckn    L  20.75\n",
       "3  cali_ckn_s      cali_ckn    S  12.75\n",
       "4  cali_ckn_m      cali_ckn    M  16.75"
      ]
     },
     "execution_count": 10,
     "metadata": {},
     "output_type": "execute_result"
    }
   ],
   "source": [
    "df4.head()"
   ]
  },
  {
   "cell_type": "code",
   "execution_count": 11,
   "id": "e9251aac",
   "metadata": {},
   "outputs": [],
   "source": [
    "df1.drop('order_details_id',axis=1,inplace=True)#removing unwanted column"
   ]
  },
  {
   "cell_type": "code",
   "execution_count": 12,
   "id": "2b9ad868",
   "metadata": {},
   "outputs": [
    {
     "data": {
      "text/html": [
       "<div>\n",
       "<style scoped>\n",
       "    .dataframe tbody tr th:only-of-type {\n",
       "        vertical-align: middle;\n",
       "    }\n",
       "\n",
       "    .dataframe tbody tr th {\n",
       "        vertical-align: top;\n",
       "    }\n",
       "\n",
       "    .dataframe thead th {\n",
       "        text-align: right;\n",
       "    }\n",
       "</style>\n",
       "<table border=\"1\" class=\"dataframe\">\n",
       "  <thead>\n",
       "    <tr style=\"text-align: right;\">\n",
       "      <th></th>\n",
       "      <th>order_id</th>\n",
       "      <th>pizza_id</th>\n",
       "      <th>quantity</th>\n",
       "    </tr>\n",
       "  </thead>\n",
       "  <tbody>\n",
       "    <tr>\n",
       "      <th>0</th>\n",
       "      <td>1</td>\n",
       "      <td>hawaiian_m</td>\n",
       "      <td>1</td>\n",
       "    </tr>\n",
       "    <tr>\n",
       "      <th>1</th>\n",
       "      <td>2</td>\n",
       "      <td>classic_dlx_m</td>\n",
       "      <td>1</td>\n",
       "    </tr>\n",
       "    <tr>\n",
       "      <th>2</th>\n",
       "      <td>2</td>\n",
       "      <td>five_cheese_l</td>\n",
       "      <td>1</td>\n",
       "    </tr>\n",
       "    <tr>\n",
       "      <th>3</th>\n",
       "      <td>2</td>\n",
       "      <td>ital_supr_l</td>\n",
       "      <td>1</td>\n",
       "    </tr>\n",
       "    <tr>\n",
       "      <th>4</th>\n",
       "      <td>2</td>\n",
       "      <td>mexicana_m</td>\n",
       "      <td>1</td>\n",
       "    </tr>\n",
       "  </tbody>\n",
       "</table>\n",
       "</div>"
      ],
      "text/plain": [
       "   order_id       pizza_id  quantity\n",
       "0         1     hawaiian_m         1\n",
       "1         2  classic_dlx_m         1\n",
       "2         2  five_cheese_l         1\n",
       "3         2    ital_supr_l         1\n",
       "4         2     mexicana_m         1"
      ]
     },
     "execution_count": 12,
     "metadata": {},
     "output_type": "execute_result"
    }
   ],
   "source": [
    "df1.head()"
   ]
  },
  {
   "cell_type": "code",
   "execution_count": 13,
   "id": "0deb844f",
   "metadata": {},
   "outputs": [
    {
     "name": "stdout",
     "output_type": "stream",
     "text": [
      "<class 'pandas.core.frame.DataFrame'>\n",
      "RangeIndex: 48620 entries, 0 to 48619\n",
      "Data columns (total 3 columns):\n",
      " #   Column    Non-Null Count  Dtype \n",
      "---  ------    --------------  ----- \n",
      " 0   order_id  48620 non-null  int64 \n",
      " 1   pizza_id  48620 non-null  object\n",
      " 2   quantity  48620 non-null  int64 \n",
      "dtypes: int64(2), object(1)\n",
      "memory usage: 1.1+ MB\n"
     ]
    }
   ],
   "source": [
    "df1.info()"
   ]
  },
  {
   "cell_type": "code",
   "execution_count": 14,
   "id": "2e6cf655",
   "metadata": {},
   "outputs": [
    {
     "name": "stdout",
     "output_type": "stream",
     "text": [
      "<class 'pandas.core.frame.DataFrame'>\n",
      "RangeIndex: 21350 entries, 0 to 21349\n",
      "Data columns (total 3 columns):\n",
      " #   Column    Non-Null Count  Dtype \n",
      "---  ------    --------------  ----- \n",
      " 0   order_id  21350 non-null  int64 \n",
      " 1   date      21350 non-null  object\n",
      " 2   time      21350 non-null  object\n",
      "dtypes: int64(1), object(2)\n",
      "memory usage: 500.5+ KB\n"
     ]
    }
   ],
   "source": [
    "df2.info()"
   ]
  },
  {
   "cell_type": "code",
   "execution_count": 15,
   "id": "93343a21",
   "metadata": {},
   "outputs": [
    {
     "name": "stdout",
     "output_type": "stream",
     "text": [
      "<class 'pandas.core.frame.DataFrame'>\n",
      "RangeIndex: 32 entries, 0 to 31\n",
      "Data columns (total 4 columns):\n",
      " #   Column         Non-Null Count  Dtype \n",
      "---  ------         --------------  ----- \n",
      " 0   pizza_type_id  32 non-null     object\n",
      " 1   name           32 non-null     object\n",
      " 2   category       32 non-null     object\n",
      " 3   ingredients    32 non-null     object\n",
      "dtypes: object(4)\n",
      "memory usage: 1.1+ KB\n"
     ]
    }
   ],
   "source": [
    "df3.info()"
   ]
  },
  {
   "cell_type": "code",
   "execution_count": 16,
   "id": "9f78213a",
   "metadata": {},
   "outputs": [
    {
     "name": "stdout",
     "output_type": "stream",
     "text": [
      "<class 'pandas.core.frame.DataFrame'>\n",
      "RangeIndex: 96 entries, 0 to 95\n",
      "Data columns (total 4 columns):\n",
      " #   Column         Non-Null Count  Dtype  \n",
      "---  ------         --------------  -----  \n",
      " 0   pizza_id       96 non-null     object \n",
      " 1   pizza_type_id  96 non-null     object \n",
      " 2   size           96 non-null     object \n",
      " 3   price          96 non-null     float64\n",
      "dtypes: float64(1), object(3)\n",
      "memory usage: 3.1+ KB\n"
     ]
    }
   ],
   "source": [
    "df4.info()"
   ]
  },
  {
   "cell_type": "code",
   "execution_count": 17,
   "id": "f6682bbc",
   "metadata": {},
   "outputs": [],
   "source": [
    "df1=pd.merge(df1,df2,on='order_id')"
   ]
  },
  {
   "cell_type": "code",
   "execution_count": 18,
   "id": "5bec9054",
   "metadata": {},
   "outputs": [
    {
     "data": {
      "text/html": [
       "<div>\n",
       "<style scoped>\n",
       "    .dataframe tbody tr th:only-of-type {\n",
       "        vertical-align: middle;\n",
       "    }\n",
       "\n",
       "    .dataframe tbody tr th {\n",
       "        vertical-align: top;\n",
       "    }\n",
       "\n",
       "    .dataframe thead th {\n",
       "        text-align: right;\n",
       "    }\n",
       "</style>\n",
       "<table border=\"1\" class=\"dataframe\">\n",
       "  <thead>\n",
       "    <tr style=\"text-align: right;\">\n",
       "      <th></th>\n",
       "      <th>order_id</th>\n",
       "      <th>pizza_id</th>\n",
       "      <th>quantity</th>\n",
       "      <th>date</th>\n",
       "      <th>time</th>\n",
       "    </tr>\n",
       "  </thead>\n",
       "  <tbody>\n",
       "    <tr>\n",
       "      <th>0</th>\n",
       "      <td>1</td>\n",
       "      <td>hawaiian_m</td>\n",
       "      <td>1</td>\n",
       "      <td>2015-01-01</td>\n",
       "      <td>11:38:36</td>\n",
       "    </tr>\n",
       "    <tr>\n",
       "      <th>1</th>\n",
       "      <td>2</td>\n",
       "      <td>classic_dlx_m</td>\n",
       "      <td>1</td>\n",
       "      <td>2015-01-01</td>\n",
       "      <td>11:57:40</td>\n",
       "    </tr>\n",
       "    <tr>\n",
       "      <th>2</th>\n",
       "      <td>2</td>\n",
       "      <td>five_cheese_l</td>\n",
       "      <td>1</td>\n",
       "      <td>2015-01-01</td>\n",
       "      <td>11:57:40</td>\n",
       "    </tr>\n",
       "    <tr>\n",
       "      <th>3</th>\n",
       "      <td>2</td>\n",
       "      <td>ital_supr_l</td>\n",
       "      <td>1</td>\n",
       "      <td>2015-01-01</td>\n",
       "      <td>11:57:40</td>\n",
       "    </tr>\n",
       "    <tr>\n",
       "      <th>4</th>\n",
       "      <td>2</td>\n",
       "      <td>mexicana_m</td>\n",
       "      <td>1</td>\n",
       "      <td>2015-01-01</td>\n",
       "      <td>11:57:40</td>\n",
       "    </tr>\n",
       "  </tbody>\n",
       "</table>\n",
       "</div>"
      ],
      "text/plain": [
       "   order_id       pizza_id  quantity        date      time\n",
       "0         1     hawaiian_m         1  2015-01-01  11:38:36\n",
       "1         2  classic_dlx_m         1  2015-01-01  11:57:40\n",
       "2         2  five_cheese_l         1  2015-01-01  11:57:40\n",
       "3         2    ital_supr_l         1  2015-01-01  11:57:40\n",
       "4         2     mexicana_m         1  2015-01-01  11:57:40"
      ]
     },
     "execution_count": 18,
     "metadata": {},
     "output_type": "execute_result"
    }
   ],
   "source": [
    "df1.head()"
   ]
  },
  {
   "cell_type": "code",
   "execution_count": 19,
   "id": "2ca41225",
   "metadata": {},
   "outputs": [
    {
     "data": {
      "text/plain": [
       "array(['hawaiian_m', 'classic_dlx_m', 'five_cheese_l', 'ital_supr_l',\n",
       "       'mexicana_m', 'thai_ckn_l', 'ital_supr_m', 'prsc_argla_l',\n",
       "       'bbq_ckn_s', 'the_greek_s', 'spinach_supr_s', 'classic_dlx_s',\n",
       "       'green_garden_s', 'ital_cpcllo_l', 'ital_supr_s', 'mexicana_s',\n",
       "       'spicy_ital_l', 'spin_pesto_l', 'veggie_veg_s', 'mexicana_l',\n",
       "       'southw_ckn_l', 'bbq_ckn_l', 'cali_ckn_l', 'cali_ckn_m',\n",
       "       'pepperoni_l', 'cali_ckn_s', 'ckn_pesto_l', 'big_meat_s',\n",
       "       'soppressata_l', 'four_cheese_l', 'napolitana_s', 'calabrese_m',\n",
       "       'four_cheese_m', 'ital_veggie_s', 'mediterraneo_m',\n",
       "       'peppr_salami_s', 'spinach_fet_l', 'napolitana_l', 'sicilian_l',\n",
       "       'ital_cpcllo_m', 'southw_ckn_s', 'bbq_ckn_m', 'pepperoni_m',\n",
       "       'prsc_argla_s', 'sicilian_m', 'veggie_veg_l', 'ckn_alfredo_s',\n",
       "       'pepperoni_s', 'green_garden_l', 'green_garden_m', 'pep_msh_pep_l',\n",
       "       'hawaiian_s', 'peppr_salami_m', 'ckn_alfredo_m', 'peppr_salami_l',\n",
       "       'spin_pesto_s', 'thai_ckn_m', 'classic_dlx_l', 'ckn_pesto_m',\n",
       "       'the_greek_xl', 'hawaiian_l', 'pep_msh_pep_s', 'spinach_supr_m',\n",
       "       'prsc_argla_m', 'mediterraneo_l', 'southw_ckn_m', 'pep_msh_pep_m',\n",
       "       'sicilian_s', 'spicy_ital_s', 'thai_ckn_s', 'spinach_supr_l',\n",
       "       'ital_veggie_l', 'veggie_veg_m', 'the_greek_m', 'ckn_pesto_s',\n",
       "       'spinach_fet_s', 'spicy_ital_m', 'ital_veggie_m', 'ital_cpcllo_s',\n",
       "       'mediterraneo_s', 'spinach_fet_m', 'napolitana_m', 'spin_pesto_m',\n",
       "       'brie_carre_s', 'ckn_alfredo_l', 'calabrese_s', 'the_greek_l',\n",
       "       'soppressata_m', 'soppressata_s', 'calabrese_l', 'the_greek_xxl'],\n",
       "      dtype=object)"
      ]
     },
     "execution_count": 19,
     "metadata": {},
     "output_type": "execute_result"
    }
   ],
   "source": [
    "df1['pizza_id'].unique()"
   ]
  },
  {
   "cell_type": "code",
   "execution_count": 20,
   "id": "c6f59d8c",
   "metadata": {},
   "outputs": [
    {
     "data": {
      "text/plain": [
       "array(['bbq_ckn_s', 'bbq_ckn_m', 'bbq_ckn_l', 'cali_ckn_s', 'cali_ckn_m',\n",
       "       'cali_ckn_l', 'ckn_alfredo_s', 'ckn_alfredo_m', 'ckn_alfredo_l',\n",
       "       'ckn_pesto_s', 'ckn_pesto_m', 'ckn_pesto_l', 'southw_ckn_s',\n",
       "       'southw_ckn_m', 'southw_ckn_l', 'thai_ckn_s', 'thai_ckn_m',\n",
       "       'thai_ckn_l', 'big_meat_s', 'big_meat_m', 'big_meat_l',\n",
       "       'classic_dlx_s', 'classic_dlx_m', 'classic_dlx_l', 'hawaiian_s',\n",
       "       'hawaiian_m', 'hawaiian_l', 'ital_cpcllo_s', 'ital_cpcllo_m',\n",
       "       'ital_cpcllo_l', 'napolitana_s', 'napolitana_m', 'napolitana_l',\n",
       "       'pep_msh_pep_s', 'pep_msh_pep_m', 'pep_msh_pep_l', 'pepperoni_s',\n",
       "       'pepperoni_m', 'pepperoni_l', 'the_greek_s', 'the_greek_m',\n",
       "       'the_greek_l', 'the_greek_xl', 'the_greek_xxl', 'brie_carre_s',\n",
       "       'calabrese_s', 'calabrese_m', 'calabrese_l', 'ital_supr_s',\n",
       "       'ital_supr_m', 'ital_supr_l', 'peppr_salami_s', 'peppr_salami_m',\n",
       "       'peppr_salami_l', 'prsc_argla_s', 'prsc_argla_m', 'prsc_argla_l',\n",
       "       'sicilian_s', 'sicilian_m', 'sicilian_l', 'soppressata_s',\n",
       "       'soppressata_m', 'soppressata_l', 'spicy_ital_s', 'spicy_ital_m',\n",
       "       'spicy_ital_l', 'spinach_supr_s', 'spinach_supr_m',\n",
       "       'spinach_supr_l', 'five_cheese_s', 'five_cheese_m',\n",
       "       'five_cheese_l', 'four_cheese_s', 'four_cheese_m', 'four_cheese_l',\n",
       "       'green_garden_s', 'green_garden_m', 'green_garden_l',\n",
       "       'ital_veggie_s', 'ital_veggie_m', 'ital_veggie_l',\n",
       "       'mediterraneo_s', 'mediterraneo_m', 'mediterraneo_l', 'mexicana_s',\n",
       "       'mexicana_m', 'mexicana_l', 'spin_pesto_s', 'spin_pesto_m',\n",
       "       'spin_pesto_l', 'spinach_fet_s', 'spinach_fet_m', 'spinach_fet_l',\n",
       "       'veggie_veg_s', 'veggie_veg_m', 'veggie_veg_l'], dtype=object)"
      ]
     },
     "execution_count": 20,
     "metadata": {},
     "output_type": "execute_result"
    }
   ],
   "source": [
    "df4['pizza_id'].unique()"
   ]
  },
  {
   "cell_type": "code",
   "execution_count": 21,
   "id": "5c9f3781",
   "metadata": {},
   "outputs": [],
   "source": [
    "df1=pd.merge(df1,df4,on='pizza_id')"
   ]
  },
  {
   "cell_type": "code",
   "execution_count": 22,
   "id": "33fc5202",
   "metadata": {},
   "outputs": [
    {
     "data": {
      "text/html": [
       "<div>\n",
       "<style scoped>\n",
       "    .dataframe tbody tr th:only-of-type {\n",
       "        vertical-align: middle;\n",
       "    }\n",
       "\n",
       "    .dataframe tbody tr th {\n",
       "        vertical-align: top;\n",
       "    }\n",
       "\n",
       "    .dataframe thead th {\n",
       "        text-align: right;\n",
       "    }\n",
       "</style>\n",
       "<table border=\"1\" class=\"dataframe\">\n",
       "  <thead>\n",
       "    <tr style=\"text-align: right;\">\n",
       "      <th></th>\n",
       "      <th>order_id</th>\n",
       "      <th>pizza_id</th>\n",
       "      <th>quantity</th>\n",
       "      <th>date</th>\n",
       "      <th>time</th>\n",
       "      <th>pizza_type_id</th>\n",
       "      <th>size</th>\n",
       "      <th>price</th>\n",
       "    </tr>\n",
       "  </thead>\n",
       "  <tbody>\n",
       "    <tr>\n",
       "      <th>0</th>\n",
       "      <td>1</td>\n",
       "      <td>hawaiian_m</td>\n",
       "      <td>1</td>\n",
       "      <td>2015-01-01</td>\n",
       "      <td>11:38:36</td>\n",
       "      <td>hawaiian</td>\n",
       "      <td>M</td>\n",
       "      <td>13.25</td>\n",
       "    </tr>\n",
       "    <tr>\n",
       "      <th>1</th>\n",
       "      <td>77</td>\n",
       "      <td>hawaiian_m</td>\n",
       "      <td>1</td>\n",
       "      <td>2015-01-02</td>\n",
       "      <td>12:22:46</td>\n",
       "      <td>hawaiian</td>\n",
       "      <td>M</td>\n",
       "      <td>13.25</td>\n",
       "    </tr>\n",
       "    <tr>\n",
       "      <th>2</th>\n",
       "      <td>146</td>\n",
       "      <td>hawaiian_m</td>\n",
       "      <td>1</td>\n",
       "      <td>2015-01-03</td>\n",
       "      <td>14:22:10</td>\n",
       "      <td>hawaiian</td>\n",
       "      <td>M</td>\n",
       "      <td>13.25</td>\n",
       "    </tr>\n",
       "    <tr>\n",
       "      <th>3</th>\n",
       "      <td>163</td>\n",
       "      <td>hawaiian_m</td>\n",
       "      <td>1</td>\n",
       "      <td>2015-01-03</td>\n",
       "      <td>16:54:54</td>\n",
       "      <td>hawaiian</td>\n",
       "      <td>M</td>\n",
       "      <td>13.25</td>\n",
       "    </tr>\n",
       "    <tr>\n",
       "      <th>4</th>\n",
       "      <td>247</td>\n",
       "      <td>hawaiian_m</td>\n",
       "      <td>1</td>\n",
       "      <td>2015-01-04</td>\n",
       "      <td>20:55:29</td>\n",
       "      <td>hawaiian</td>\n",
       "      <td>M</td>\n",
       "      <td>13.25</td>\n",
       "    </tr>\n",
       "  </tbody>\n",
       "</table>\n",
       "</div>"
      ],
      "text/plain": [
       "   order_id    pizza_id  quantity        date      time pizza_type_id size  \\\n",
       "0         1  hawaiian_m         1  2015-01-01  11:38:36      hawaiian    M   \n",
       "1        77  hawaiian_m         1  2015-01-02  12:22:46      hawaiian    M   \n",
       "2       146  hawaiian_m         1  2015-01-03  14:22:10      hawaiian    M   \n",
       "3       163  hawaiian_m         1  2015-01-03  16:54:54      hawaiian    M   \n",
       "4       247  hawaiian_m         1  2015-01-04  20:55:29      hawaiian    M   \n",
       "\n",
       "   price  \n",
       "0  13.25  \n",
       "1  13.25  \n",
       "2  13.25  \n",
       "3  13.25  \n",
       "4  13.25  "
      ]
     },
     "execution_count": 22,
     "metadata": {},
     "output_type": "execute_result"
    }
   ],
   "source": [
    "df1.head()"
   ]
  },
  {
   "cell_type": "code",
   "execution_count": 23,
   "id": "73d64333",
   "metadata": {},
   "outputs": [],
   "source": [
    "df1=pd.merge(df1,df3,on='pizza_type_id')"
   ]
  },
  {
   "cell_type": "code",
   "execution_count": 24,
   "id": "b58d00dd",
   "metadata": {},
   "outputs": [
    {
     "data": {
      "text/html": [
       "<div>\n",
       "<style scoped>\n",
       "    .dataframe tbody tr th:only-of-type {\n",
       "        vertical-align: middle;\n",
       "    }\n",
       "\n",
       "    .dataframe tbody tr th {\n",
       "        vertical-align: top;\n",
       "    }\n",
       "\n",
       "    .dataframe thead th {\n",
       "        text-align: right;\n",
       "    }\n",
       "</style>\n",
       "<table border=\"1\" class=\"dataframe\">\n",
       "  <thead>\n",
       "    <tr style=\"text-align: right;\">\n",
       "      <th></th>\n",
       "      <th>order_id</th>\n",
       "      <th>pizza_id</th>\n",
       "      <th>quantity</th>\n",
       "      <th>date</th>\n",
       "      <th>time</th>\n",
       "      <th>pizza_type_id</th>\n",
       "      <th>size</th>\n",
       "      <th>price</th>\n",
       "      <th>name</th>\n",
       "      <th>category</th>\n",
       "      <th>ingredients</th>\n",
       "    </tr>\n",
       "  </thead>\n",
       "  <tbody>\n",
       "    <tr>\n",
       "      <th>0</th>\n",
       "      <td>1</td>\n",
       "      <td>hawaiian_m</td>\n",
       "      <td>1</td>\n",
       "      <td>2015-01-01</td>\n",
       "      <td>11:38:36</td>\n",
       "      <td>hawaiian</td>\n",
       "      <td>M</td>\n",
       "      <td>13.25</td>\n",
       "      <td>The Hawaiian Pizza</td>\n",
       "      <td>Classic</td>\n",
       "      <td>Sliced Ham, Pineapple, Mozzarella Cheese</td>\n",
       "    </tr>\n",
       "    <tr>\n",
       "      <th>1</th>\n",
       "      <td>77</td>\n",
       "      <td>hawaiian_m</td>\n",
       "      <td>1</td>\n",
       "      <td>2015-01-02</td>\n",
       "      <td>12:22:46</td>\n",
       "      <td>hawaiian</td>\n",
       "      <td>M</td>\n",
       "      <td>13.25</td>\n",
       "      <td>The Hawaiian Pizza</td>\n",
       "      <td>Classic</td>\n",
       "      <td>Sliced Ham, Pineapple, Mozzarella Cheese</td>\n",
       "    </tr>\n",
       "    <tr>\n",
       "      <th>2</th>\n",
       "      <td>146</td>\n",
       "      <td>hawaiian_m</td>\n",
       "      <td>1</td>\n",
       "      <td>2015-01-03</td>\n",
       "      <td>14:22:10</td>\n",
       "      <td>hawaiian</td>\n",
       "      <td>M</td>\n",
       "      <td>13.25</td>\n",
       "      <td>The Hawaiian Pizza</td>\n",
       "      <td>Classic</td>\n",
       "      <td>Sliced Ham, Pineapple, Mozzarella Cheese</td>\n",
       "    </tr>\n",
       "    <tr>\n",
       "      <th>3</th>\n",
       "      <td>163</td>\n",
       "      <td>hawaiian_m</td>\n",
       "      <td>1</td>\n",
       "      <td>2015-01-03</td>\n",
       "      <td>16:54:54</td>\n",
       "      <td>hawaiian</td>\n",
       "      <td>M</td>\n",
       "      <td>13.25</td>\n",
       "      <td>The Hawaiian Pizza</td>\n",
       "      <td>Classic</td>\n",
       "      <td>Sliced Ham, Pineapple, Mozzarella Cheese</td>\n",
       "    </tr>\n",
       "    <tr>\n",
       "      <th>4</th>\n",
       "      <td>247</td>\n",
       "      <td>hawaiian_m</td>\n",
       "      <td>1</td>\n",
       "      <td>2015-01-04</td>\n",
       "      <td>20:55:29</td>\n",
       "      <td>hawaiian</td>\n",
       "      <td>M</td>\n",
       "      <td>13.25</td>\n",
       "      <td>The Hawaiian Pizza</td>\n",
       "      <td>Classic</td>\n",
       "      <td>Sliced Ham, Pineapple, Mozzarella Cheese</td>\n",
       "    </tr>\n",
       "  </tbody>\n",
       "</table>\n",
       "</div>"
      ],
      "text/plain": [
       "   order_id    pizza_id  quantity        date      time pizza_type_id size  \\\n",
       "0         1  hawaiian_m         1  2015-01-01  11:38:36      hawaiian    M   \n",
       "1        77  hawaiian_m         1  2015-01-02  12:22:46      hawaiian    M   \n",
       "2       146  hawaiian_m         1  2015-01-03  14:22:10      hawaiian    M   \n",
       "3       163  hawaiian_m         1  2015-01-03  16:54:54      hawaiian    M   \n",
       "4       247  hawaiian_m         1  2015-01-04  20:55:29      hawaiian    M   \n",
       "\n",
       "   price                name category  \\\n",
       "0  13.25  The Hawaiian Pizza  Classic   \n",
       "1  13.25  The Hawaiian Pizza  Classic   \n",
       "2  13.25  The Hawaiian Pizza  Classic   \n",
       "3  13.25  The Hawaiian Pizza  Classic   \n",
       "4  13.25  The Hawaiian Pizza  Classic   \n",
       "\n",
       "                                ingredients  \n",
       "0  Sliced Ham, Pineapple, Mozzarella Cheese  \n",
       "1  Sliced Ham, Pineapple, Mozzarella Cheese  \n",
       "2  Sliced Ham, Pineapple, Mozzarella Cheese  \n",
       "3  Sliced Ham, Pineapple, Mozzarella Cheese  \n",
       "4  Sliced Ham, Pineapple, Mozzarella Cheese  "
      ]
     },
     "execution_count": 24,
     "metadata": {},
     "output_type": "execute_result"
    }
   ],
   "source": [
    "df1.head()"
   ]
  },
  {
   "cell_type": "code",
   "execution_count": 25,
   "id": "e485f198",
   "metadata": {},
   "outputs": [
    {
     "data": {
      "text/plain": [
       "(48620, 11)"
      ]
     },
     "execution_count": 25,
     "metadata": {},
     "output_type": "execute_result"
    }
   ],
   "source": [
    "df1.shape"
   ]
  },
  {
   "cell_type": "code",
   "execution_count": 26,
   "id": "bdcffcd5",
   "metadata": {},
   "outputs": [],
   "source": [
    "df1.to_excel('Maven Analytics.xlsx',index=False)"
   ]
  },
  {
   "cell_type": "code",
   "execution_count": 27,
   "id": "fdcbd7ad",
   "metadata": {},
   "outputs": [],
   "source": [
    "df_best_worst_pizza=df1.groupby('name')['quantity'].sum()"
   ]
  },
  {
   "cell_type": "markdown",
   "id": "becb281d",
   "metadata": {},
   "source": [
    "What are our best and worst selling pizzas?"
   ]
  },
  {
   "cell_type": "code",
   "execution_count": 28,
   "id": "edfa4253",
   "metadata": {},
   "outputs": [
    {
     "data": {
      "text/plain": [
       "name\n",
       "The Brie Carre Pizza                           490\n",
       "The Mediterranean Pizza                        934\n",
       "The Calabrese Pizza                            937\n",
       "The Spinach Supreme Pizza                      950\n",
       "The Soppressata Pizza                          961\n",
       "The Spinach Pesto Pizza                        970\n",
       "The Chicken Pesto Pizza                        973\n",
       "The Italian Vegetables Pizza                   981\n",
       "The Chicken Alfredo Pizza                      987\n",
       "The Green Garden Pizza                         997\n",
       "The Pepperoni, Mushroom, and Peppers Pizza    1359\n",
       "The Five Cheese Pizza                         1409\n",
       "The Greek Pizza                               1420\n",
       "The Italian Capocollo Pizza                   1438\n",
       "The Pepper Salami Pizza                       1446\n",
       "The Spinach and Feta Pizza                    1446\n",
       "The Prosciutto and Arugula Pizza              1457\n",
       "The Napolitana Pizza                          1464\n",
       "The Mexicana Pizza                            1484\n",
       "The Vegetables + Vegetables Pizza             1526\n",
       "The Italian Supreme Pizza                     1884\n",
       "The Four Cheese Pizza                         1902\n",
       "The Big Meat Pizza                            1914\n",
       "The Southwest Chicken Pizza                   1917\n",
       "The Spicy Italian Pizza                       1924\n",
       "The Sicilian Pizza                            1938\n",
       "The California Chicken Pizza                  2370\n",
       "The Thai Chicken Pizza                        2371\n",
       "The Pepperoni Pizza                           2418\n",
       "The Hawaiian Pizza                            2422\n",
       "The Barbecue Chicken Pizza                    2432\n",
       "The Classic Deluxe Pizza                      2453\n",
       "Name: quantity, dtype: int64"
      ]
     },
     "execution_count": 28,
     "metadata": {},
     "output_type": "execute_result"
    }
   ],
   "source": [
    "df_best_worst_pizza.sort_values()"
   ]
  },
  {
   "cell_type": "markdown",
   "id": "9a3d084b",
   "metadata": {},
   "source": [
    "Worst performing pizza is The Brie Carre Pizza \n",
    "Best performing pizza is The Classic Deluxe Pizza   \n"
   ]
  },
  {
   "cell_type": "markdown",
   "id": "b15c4280",
   "metadata": {},
   "source": [
    "What's our average order value?"
   ]
  },
  {
   "cell_type": "code",
   "execution_count": 29,
   "id": "5998b295",
   "metadata": {},
   "outputs": [
    {
     "data": {
      "text/html": [
       "<div>\n",
       "<style scoped>\n",
       "    .dataframe tbody tr th:only-of-type {\n",
       "        vertical-align: middle;\n",
       "    }\n",
       "\n",
       "    .dataframe tbody tr th {\n",
       "        vertical-align: top;\n",
       "    }\n",
       "\n",
       "    .dataframe thead th {\n",
       "        text-align: right;\n",
       "    }\n",
       "</style>\n",
       "<table border=\"1\" class=\"dataframe\">\n",
       "  <thead>\n",
       "    <tr style=\"text-align: right;\">\n",
       "      <th></th>\n",
       "      <th>order_id</th>\n",
       "      <th>pizza_id</th>\n",
       "      <th>quantity</th>\n",
       "      <th>date</th>\n",
       "      <th>time</th>\n",
       "      <th>pizza_type_id</th>\n",
       "      <th>size</th>\n",
       "      <th>price</th>\n",
       "      <th>name</th>\n",
       "      <th>category</th>\n",
       "      <th>ingredients</th>\n",
       "    </tr>\n",
       "  </thead>\n",
       "  <tbody>\n",
       "    <tr>\n",
       "      <th>0</th>\n",
       "      <td>1</td>\n",
       "      <td>hawaiian_m</td>\n",
       "      <td>1</td>\n",
       "      <td>2015-01-01</td>\n",
       "      <td>11:38:36</td>\n",
       "      <td>hawaiian</td>\n",
       "      <td>M</td>\n",
       "      <td>13.25</td>\n",
       "      <td>The Hawaiian Pizza</td>\n",
       "      <td>Classic</td>\n",
       "      <td>Sliced Ham, Pineapple, Mozzarella Cheese</td>\n",
       "    </tr>\n",
       "    <tr>\n",
       "      <th>9450</th>\n",
       "      <td>2</td>\n",
       "      <td>thai_ckn_l</td>\n",
       "      <td>1</td>\n",
       "      <td>2015-01-01</td>\n",
       "      <td>11:57:40</td>\n",
       "      <td>thai_ckn</td>\n",
       "      <td>L</td>\n",
       "      <td>20.75</td>\n",
       "      <td>The Thai Chicken Pizza</td>\n",
       "      <td>Chicken</td>\n",
       "      <td>Chicken, Pineapple, Tomatoes, Red Peppers, Tha...</td>\n",
       "    </tr>\n",
       "    <tr>\n",
       "      <th>7994</th>\n",
       "      <td>2</td>\n",
       "      <td>mexicana_m</td>\n",
       "      <td>1</td>\n",
       "      <td>2015-01-01</td>\n",
       "      <td>11:57:40</td>\n",
       "      <td>mexicana</td>\n",
       "      <td>M</td>\n",
       "      <td>16.00</td>\n",
       "      <td>The Mexicana Pizza</td>\n",
       "      <td>Veggie</td>\n",
       "      <td>Tomatoes, Red Peppers, Jalapeno Peppers, Red O...</td>\n",
       "    </tr>\n",
       "    <tr>\n",
       "      <th>2370</th>\n",
       "      <td>2</td>\n",
       "      <td>classic_dlx_m</td>\n",
       "      <td>1</td>\n",
       "      <td>2015-01-01</td>\n",
       "      <td>11:57:40</td>\n",
       "      <td>classic_dlx</td>\n",
       "      <td>M</td>\n",
       "      <td>16.00</td>\n",
       "      <td>The Classic Deluxe Pizza</td>\n",
       "      <td>Classic</td>\n",
       "      <td>Pepperoni, Mushrooms, Red Onions, Red Peppers,...</td>\n",
       "    </tr>\n",
       "    <tr>\n",
       "      <th>6145</th>\n",
       "      <td>2</td>\n",
       "      <td>ital_supr_l</td>\n",
       "      <td>1</td>\n",
       "      <td>2015-01-01</td>\n",
       "      <td>11:57:40</td>\n",
       "      <td>ital_supr</td>\n",
       "      <td>L</td>\n",
       "      <td>20.75</td>\n",
       "      <td>The Italian Supreme Pizza</td>\n",
       "      <td>Supreme</td>\n",
       "      <td>Calabrese Salami, Capocollo, Tomatoes, Red Oni...</td>\n",
       "    </tr>\n",
       "    <tr>\n",
       "      <th>...</th>\n",
       "      <td>...</td>\n",
       "      <td>...</td>\n",
       "      <td>...</td>\n",
       "      <td>...</td>\n",
       "      <td>...</td>\n",
       "      <td>...</td>\n",
       "      <td>...</td>\n",
       "      <td>...</td>\n",
       "      <td>...</td>\n",
       "      <td>...</td>\n",
       "      <td>...</td>\n",
       "    </tr>\n",
       "    <tr>\n",
       "      <th>37268</th>\n",
       "      <td>21348</td>\n",
       "      <td>napolitana_s</td>\n",
       "      <td>1</td>\n",
       "      <td>2015-12-31</td>\n",
       "      <td>21:23:10</td>\n",
       "      <td>napolitana</td>\n",
       "      <td>S</td>\n",
       "      <td>12.00</td>\n",
       "      <td>The Napolitana Pizza</td>\n",
       "      <td>Classic</td>\n",
       "      <td>Tomatoes, Anchovies, Green Olives, Red Onions,...</td>\n",
       "    </tr>\n",
       "    <tr>\n",
       "      <th>46610</th>\n",
       "      <td>21348</td>\n",
       "      <td>ckn_alfredo_m</td>\n",
       "      <td>1</td>\n",
       "      <td>2015-12-31</td>\n",
       "      <td>21:23:10</td>\n",
       "      <td>ckn_alfredo</td>\n",
       "      <td>M</td>\n",
       "      <td>16.75</td>\n",
       "      <td>The Chicken Alfredo Pizza</td>\n",
       "      <td>Chicken</td>\n",
       "      <td>Chicken, Red Onions, Red Peppers, Mushrooms, A...</td>\n",
       "    </tr>\n",
       "    <tr>\n",
       "      <th>36223</th>\n",
       "      <td>21348</td>\n",
       "      <td>four_cheese_l</td>\n",
       "      <td>1</td>\n",
       "      <td>2015-12-31</td>\n",
       "      <td>21:23:10</td>\n",
       "      <td>four_cheese</td>\n",
       "      <td>L</td>\n",
       "      <td>17.95</td>\n",
       "      <td>The Four Cheese Pizza</td>\n",
       "      <td>Veggie</td>\n",
       "      <td>Ricotta Cheese, Gorgonzola Piccante Cheese, Mo...</td>\n",
       "    </tr>\n",
       "    <tr>\n",
       "      <th>9449</th>\n",
       "      <td>21349</td>\n",
       "      <td>mexicana_l</td>\n",
       "      <td>1</td>\n",
       "      <td>2015-12-31</td>\n",
       "      <td>22:09:54</td>\n",
       "      <td>mexicana</td>\n",
       "      <td>L</td>\n",
       "      <td>20.25</td>\n",
       "      <td>The Mexicana Pizza</td>\n",
       "      <td>Veggie</td>\n",
       "      <td>Tomatoes, Red Peppers, Jalapeno Peppers, Red O...</td>\n",
       "    </tr>\n",
       "    <tr>\n",
       "      <th>13671</th>\n",
       "      <td>21350</td>\n",
       "      <td>bbq_ckn_s</td>\n",
       "      <td>1</td>\n",
       "      <td>2015-12-31</td>\n",
       "      <td>23:02:05</td>\n",
       "      <td>bbq_ckn</td>\n",
       "      <td>S</td>\n",
       "      <td>12.75</td>\n",
       "      <td>The Barbecue Chicken Pizza</td>\n",
       "      <td>Chicken</td>\n",
       "      <td>Barbecued Chicken, Red Peppers, Green Peppers,...</td>\n",
       "    </tr>\n",
       "  </tbody>\n",
       "</table>\n",
       "<p>48620 rows × 11 columns</p>\n",
       "</div>"
      ],
      "text/plain": [
       "       order_id       pizza_id  quantity        date      time pizza_type_id  \\\n",
       "0             1     hawaiian_m         1  2015-01-01  11:38:36      hawaiian   \n",
       "9450          2     thai_ckn_l         1  2015-01-01  11:57:40      thai_ckn   \n",
       "7994          2     mexicana_m         1  2015-01-01  11:57:40      mexicana   \n",
       "2370          2  classic_dlx_m         1  2015-01-01  11:57:40   classic_dlx   \n",
       "6145          2    ital_supr_l         1  2015-01-01  11:57:40     ital_supr   \n",
       "...         ...            ...       ...         ...       ...           ...   \n",
       "37268     21348   napolitana_s         1  2015-12-31  21:23:10    napolitana   \n",
       "46610     21348  ckn_alfredo_m         1  2015-12-31  21:23:10   ckn_alfredo   \n",
       "36223     21348  four_cheese_l         1  2015-12-31  21:23:10   four_cheese   \n",
       "9449      21349     mexicana_l         1  2015-12-31  22:09:54      mexicana   \n",
       "13671     21350      bbq_ckn_s         1  2015-12-31  23:02:05       bbq_ckn   \n",
       "\n",
       "      size  price                        name category  \\\n",
       "0        M  13.25          The Hawaiian Pizza  Classic   \n",
       "9450     L  20.75      The Thai Chicken Pizza  Chicken   \n",
       "7994     M  16.00          The Mexicana Pizza   Veggie   \n",
       "2370     M  16.00    The Classic Deluxe Pizza  Classic   \n",
       "6145     L  20.75   The Italian Supreme Pizza  Supreme   \n",
       "...    ...    ...                         ...      ...   \n",
       "37268    S  12.00        The Napolitana Pizza  Classic   \n",
       "46610    M  16.75   The Chicken Alfredo Pizza  Chicken   \n",
       "36223    L  17.95       The Four Cheese Pizza   Veggie   \n",
       "9449     L  20.25          The Mexicana Pizza   Veggie   \n",
       "13671    S  12.75  The Barbecue Chicken Pizza  Chicken   \n",
       "\n",
       "                                             ingredients  \n",
       "0               Sliced Ham, Pineapple, Mozzarella Cheese  \n",
       "9450   Chicken, Pineapple, Tomatoes, Red Peppers, Tha...  \n",
       "7994   Tomatoes, Red Peppers, Jalapeno Peppers, Red O...  \n",
       "2370   Pepperoni, Mushrooms, Red Onions, Red Peppers,...  \n",
       "6145   Calabrese Salami, Capocollo, Tomatoes, Red Oni...  \n",
       "...                                                  ...  \n",
       "37268  Tomatoes, Anchovies, Green Olives, Red Onions,...  \n",
       "46610  Chicken, Red Onions, Red Peppers, Mushrooms, A...  \n",
       "36223  Ricotta Cheese, Gorgonzola Piccante Cheese, Mo...  \n",
       "9449   Tomatoes, Red Peppers, Jalapeno Peppers, Red O...  \n",
       "13671  Barbecued Chicken, Red Peppers, Green Peppers,...  \n",
       "\n",
       "[48620 rows x 11 columns]"
      ]
     },
     "execution_count": 29,
     "metadata": {},
     "output_type": "execute_result"
    }
   ],
   "source": [
    "df1.sort_values(by='order_id')"
   ]
  },
  {
   "cell_type": "code",
   "execution_count": 30,
   "id": "7d8e02ae",
   "metadata": {},
   "outputs": [],
   "source": [
    "df1['order_part_total']=df1['quantity']*df1['price']"
   ]
  },
  {
   "cell_type": "markdown",
   "id": "584d5051",
   "metadata": {},
   "source": [
    "#In df1 order_part_total is used to calculate the total amount spent on one kind of pizza of an order ,that is, we could order more than one kinf of pizza with the same order number.How much are we spending on each kind of pizza in our order is seperate,eg:we could have order number 2 in which have ordered thain_ckn and spent 20.75 and mexicana and spent 16.00,this 20.75 is price * quantity i.e=20.75.Later on we add 20.75+16.00 to say total spent on order is 36.75.This way we get the total amount spent for each order under 'order_part_total' in df_order_value_avaerage.From there wecan get average value per order."
   ]
  },
  {
   "cell_type": "code",
   "execution_count": 31,
   "id": "4741e0ba",
   "metadata": {
    "scrolled": true
   },
   "outputs": [
    {
     "data": {
      "text/html": [
       "<div>\n",
       "<style scoped>\n",
       "    .dataframe tbody tr th:only-of-type {\n",
       "        vertical-align: middle;\n",
       "    }\n",
       "\n",
       "    .dataframe tbody tr th {\n",
       "        vertical-align: top;\n",
       "    }\n",
       "\n",
       "    .dataframe thead th {\n",
       "        text-align: right;\n",
       "    }\n",
       "</style>\n",
       "<table border=\"1\" class=\"dataframe\">\n",
       "  <thead>\n",
       "    <tr style=\"text-align: right;\">\n",
       "      <th></th>\n",
       "      <th>order_id</th>\n",
       "      <th>pizza_id</th>\n",
       "      <th>quantity</th>\n",
       "      <th>date</th>\n",
       "      <th>time</th>\n",
       "      <th>pizza_type_id</th>\n",
       "      <th>size</th>\n",
       "      <th>price</th>\n",
       "      <th>name</th>\n",
       "      <th>category</th>\n",
       "      <th>ingredients</th>\n",
       "      <th>order_part_total</th>\n",
       "    </tr>\n",
       "  </thead>\n",
       "  <tbody>\n",
       "    <tr>\n",
       "      <th>0</th>\n",
       "      <td>1</td>\n",
       "      <td>hawaiian_m</td>\n",
       "      <td>1</td>\n",
       "      <td>2015-01-01</td>\n",
       "      <td>11:38:36</td>\n",
       "      <td>hawaiian</td>\n",
       "      <td>M</td>\n",
       "      <td>13.25</td>\n",
       "      <td>The Hawaiian Pizza</td>\n",
       "      <td>Classic</td>\n",
       "      <td>Sliced Ham, Pineapple, Mozzarella Cheese</td>\n",
       "      <td>13.25</td>\n",
       "    </tr>\n",
       "    <tr>\n",
       "      <th>1</th>\n",
       "      <td>77</td>\n",
       "      <td>hawaiian_m</td>\n",
       "      <td>1</td>\n",
       "      <td>2015-01-02</td>\n",
       "      <td>12:22:46</td>\n",
       "      <td>hawaiian</td>\n",
       "      <td>M</td>\n",
       "      <td>13.25</td>\n",
       "      <td>The Hawaiian Pizza</td>\n",
       "      <td>Classic</td>\n",
       "      <td>Sliced Ham, Pineapple, Mozzarella Cheese</td>\n",
       "      <td>13.25</td>\n",
       "    </tr>\n",
       "    <tr>\n",
       "      <th>2</th>\n",
       "      <td>146</td>\n",
       "      <td>hawaiian_m</td>\n",
       "      <td>1</td>\n",
       "      <td>2015-01-03</td>\n",
       "      <td>14:22:10</td>\n",
       "      <td>hawaiian</td>\n",
       "      <td>M</td>\n",
       "      <td>13.25</td>\n",
       "      <td>The Hawaiian Pizza</td>\n",
       "      <td>Classic</td>\n",
       "      <td>Sliced Ham, Pineapple, Mozzarella Cheese</td>\n",
       "      <td>13.25</td>\n",
       "    </tr>\n",
       "    <tr>\n",
       "      <th>3</th>\n",
       "      <td>163</td>\n",
       "      <td>hawaiian_m</td>\n",
       "      <td>1</td>\n",
       "      <td>2015-01-03</td>\n",
       "      <td>16:54:54</td>\n",
       "      <td>hawaiian</td>\n",
       "      <td>M</td>\n",
       "      <td>13.25</td>\n",
       "      <td>The Hawaiian Pizza</td>\n",
       "      <td>Classic</td>\n",
       "      <td>Sliced Ham, Pineapple, Mozzarella Cheese</td>\n",
       "      <td>13.25</td>\n",
       "    </tr>\n",
       "    <tr>\n",
       "      <th>4</th>\n",
       "      <td>247</td>\n",
       "      <td>hawaiian_m</td>\n",
       "      <td>1</td>\n",
       "      <td>2015-01-04</td>\n",
       "      <td>20:55:29</td>\n",
       "      <td>hawaiian</td>\n",
       "      <td>M</td>\n",
       "      <td>13.25</td>\n",
       "      <td>The Hawaiian Pizza</td>\n",
       "      <td>Classic</td>\n",
       "      <td>Sliced Ham, Pineapple, Mozzarella Cheese</td>\n",
       "      <td>13.25</td>\n",
       "    </tr>\n",
       "  </tbody>\n",
       "</table>\n",
       "</div>"
      ],
      "text/plain": [
       "   order_id    pizza_id  quantity        date      time pizza_type_id size  \\\n",
       "0         1  hawaiian_m         1  2015-01-01  11:38:36      hawaiian    M   \n",
       "1        77  hawaiian_m         1  2015-01-02  12:22:46      hawaiian    M   \n",
       "2       146  hawaiian_m         1  2015-01-03  14:22:10      hawaiian    M   \n",
       "3       163  hawaiian_m         1  2015-01-03  16:54:54      hawaiian    M   \n",
       "4       247  hawaiian_m         1  2015-01-04  20:55:29      hawaiian    M   \n",
       "\n",
       "   price                name category  \\\n",
       "0  13.25  The Hawaiian Pizza  Classic   \n",
       "1  13.25  The Hawaiian Pizza  Classic   \n",
       "2  13.25  The Hawaiian Pizza  Classic   \n",
       "3  13.25  The Hawaiian Pizza  Classic   \n",
       "4  13.25  The Hawaiian Pizza  Classic   \n",
       "\n",
       "                                ingredients  order_part_total  \n",
       "0  Sliced Ham, Pineapple, Mozzarella Cheese             13.25  \n",
       "1  Sliced Ham, Pineapple, Mozzarella Cheese             13.25  \n",
       "2  Sliced Ham, Pineapple, Mozzarella Cheese             13.25  \n",
       "3  Sliced Ham, Pineapple, Mozzarella Cheese             13.25  \n",
       "4  Sliced Ham, Pineapple, Mozzarella Cheese             13.25  "
      ]
     },
     "execution_count": 31,
     "metadata": {},
     "output_type": "execute_result"
    }
   ],
   "source": [
    "df1.head()"
   ]
  },
  {
   "cell_type": "code",
   "execution_count": 32,
   "id": "a209cca6",
   "metadata": {},
   "outputs": [],
   "source": [
    "df_order_value_average=df1.groupby('order_id')['order_part_total'].sum()"
   ]
  },
  {
   "cell_type": "code",
   "execution_count": 33,
   "id": "fca6a29e",
   "metadata": {},
   "outputs": [
    {
     "data": {
      "text/plain": [
       "order_id\n",
       "1        13.25\n",
       "2        92.00\n",
       "3        37.25\n",
       "4        16.50\n",
       "5        16.50\n",
       "         ...  \n",
       "21346    62.25\n",
       "21347    66.50\n",
       "21348    46.70\n",
       "21349    20.25\n",
       "21350    12.75\n",
       "Name: order_part_total, Length: 21350, dtype: float64"
      ]
     },
     "execution_count": 33,
     "metadata": {},
     "output_type": "execute_result"
    }
   ],
   "source": [
    "df_order_value_average"
   ]
  },
  {
   "cell_type": "code",
   "execution_count": 34,
   "id": "8ee0f36a",
   "metadata": {},
   "outputs": [],
   "source": [
    "df_order_value_average=pd.DataFrame(df_order_value_average)"
   ]
  },
  {
   "cell_type": "code",
   "execution_count": 35,
   "id": "a8945844",
   "metadata": {},
   "outputs": [
    {
     "data": {
      "text/plain": [
       "Index(['order_part_total'], dtype='object')"
      ]
     },
     "execution_count": 35,
     "metadata": {},
     "output_type": "execute_result"
    }
   ],
   "source": [
    "df_order_value_average.columns"
   ]
  },
  {
   "cell_type": "code",
   "execution_count": 36,
   "id": "8b5adae8",
   "metadata": {},
   "outputs": [
    {
     "data": {
      "text/plain": [
       "38.30726229508162"
      ]
     },
     "execution_count": 36,
     "metadata": {},
     "output_type": "execute_result"
    }
   ],
   "source": [
    "df_order_value_average['order_part_total'].mean()"
   ]
  },
  {
   "cell_type": "markdown",
   "id": "8b93ebd9",
   "metadata": {},
   "source": [
    "average order value is 38.30726229508162\n"
   ]
  },
  {
   "cell_type": "markdown",
   "id": "96fb3d15",
   "metadata": {},
   "source": [
    "categorising time into morning,afternoon,evening and night"
   ]
  },
  {
   "cell_type": "code",
   "execution_count": 37,
   "id": "4a50c85f",
   "metadata": {},
   "outputs": [],
   "source": [
    "df1['hour']=pd.to_datetime(df1['time']).dt.hour"
   ]
  },
  {
   "cell_type": "code",
   "execution_count": 38,
   "id": "5f5251f1",
   "metadata": {},
   "outputs": [
    {
     "data": {
      "text/html": [
       "<div>\n",
       "<style scoped>\n",
       "    .dataframe tbody tr th:only-of-type {\n",
       "        vertical-align: middle;\n",
       "    }\n",
       "\n",
       "    .dataframe tbody tr th {\n",
       "        vertical-align: top;\n",
       "    }\n",
       "\n",
       "    .dataframe thead th {\n",
       "        text-align: right;\n",
       "    }\n",
       "</style>\n",
       "<table border=\"1\" class=\"dataframe\">\n",
       "  <thead>\n",
       "    <tr style=\"text-align: right;\">\n",
       "      <th></th>\n",
       "      <th>order_id</th>\n",
       "      <th>pizza_id</th>\n",
       "      <th>quantity</th>\n",
       "      <th>date</th>\n",
       "      <th>time</th>\n",
       "      <th>pizza_type_id</th>\n",
       "      <th>size</th>\n",
       "      <th>price</th>\n",
       "      <th>name</th>\n",
       "      <th>category</th>\n",
       "      <th>ingredients</th>\n",
       "      <th>order_part_total</th>\n",
       "      <th>hour</th>\n",
       "    </tr>\n",
       "  </thead>\n",
       "  <tbody>\n",
       "    <tr>\n",
       "      <th>0</th>\n",
       "      <td>1</td>\n",
       "      <td>hawaiian_m</td>\n",
       "      <td>1</td>\n",
       "      <td>2015-01-01</td>\n",
       "      <td>11:38:36</td>\n",
       "      <td>hawaiian</td>\n",
       "      <td>M</td>\n",
       "      <td>13.25</td>\n",
       "      <td>The Hawaiian Pizza</td>\n",
       "      <td>Classic</td>\n",
       "      <td>Sliced Ham, Pineapple, Mozzarella Cheese</td>\n",
       "      <td>13.25</td>\n",
       "      <td>11</td>\n",
       "    </tr>\n",
       "    <tr>\n",
       "      <th>1</th>\n",
       "      <td>77</td>\n",
       "      <td>hawaiian_m</td>\n",
       "      <td>1</td>\n",
       "      <td>2015-01-02</td>\n",
       "      <td>12:22:46</td>\n",
       "      <td>hawaiian</td>\n",
       "      <td>M</td>\n",
       "      <td>13.25</td>\n",
       "      <td>The Hawaiian Pizza</td>\n",
       "      <td>Classic</td>\n",
       "      <td>Sliced Ham, Pineapple, Mozzarella Cheese</td>\n",
       "      <td>13.25</td>\n",
       "      <td>12</td>\n",
       "    </tr>\n",
       "    <tr>\n",
       "      <th>2</th>\n",
       "      <td>146</td>\n",
       "      <td>hawaiian_m</td>\n",
       "      <td>1</td>\n",
       "      <td>2015-01-03</td>\n",
       "      <td>14:22:10</td>\n",
       "      <td>hawaiian</td>\n",
       "      <td>M</td>\n",
       "      <td>13.25</td>\n",
       "      <td>The Hawaiian Pizza</td>\n",
       "      <td>Classic</td>\n",
       "      <td>Sliced Ham, Pineapple, Mozzarella Cheese</td>\n",
       "      <td>13.25</td>\n",
       "      <td>14</td>\n",
       "    </tr>\n",
       "    <tr>\n",
       "      <th>3</th>\n",
       "      <td>163</td>\n",
       "      <td>hawaiian_m</td>\n",
       "      <td>1</td>\n",
       "      <td>2015-01-03</td>\n",
       "      <td>16:54:54</td>\n",
       "      <td>hawaiian</td>\n",
       "      <td>M</td>\n",
       "      <td>13.25</td>\n",
       "      <td>The Hawaiian Pizza</td>\n",
       "      <td>Classic</td>\n",
       "      <td>Sliced Ham, Pineapple, Mozzarella Cheese</td>\n",
       "      <td>13.25</td>\n",
       "      <td>16</td>\n",
       "    </tr>\n",
       "    <tr>\n",
       "      <th>4</th>\n",
       "      <td>247</td>\n",
       "      <td>hawaiian_m</td>\n",
       "      <td>1</td>\n",
       "      <td>2015-01-04</td>\n",
       "      <td>20:55:29</td>\n",
       "      <td>hawaiian</td>\n",
       "      <td>M</td>\n",
       "      <td>13.25</td>\n",
       "      <td>The Hawaiian Pizza</td>\n",
       "      <td>Classic</td>\n",
       "      <td>Sliced Ham, Pineapple, Mozzarella Cheese</td>\n",
       "      <td>13.25</td>\n",
       "      <td>20</td>\n",
       "    </tr>\n",
       "  </tbody>\n",
       "</table>\n",
       "</div>"
      ],
      "text/plain": [
       "   order_id    pizza_id  quantity        date      time pizza_type_id size  \\\n",
       "0         1  hawaiian_m         1  2015-01-01  11:38:36      hawaiian    M   \n",
       "1        77  hawaiian_m         1  2015-01-02  12:22:46      hawaiian    M   \n",
       "2       146  hawaiian_m         1  2015-01-03  14:22:10      hawaiian    M   \n",
       "3       163  hawaiian_m         1  2015-01-03  16:54:54      hawaiian    M   \n",
       "4       247  hawaiian_m         1  2015-01-04  20:55:29      hawaiian    M   \n",
       "\n",
       "   price                name category  \\\n",
       "0  13.25  The Hawaiian Pizza  Classic   \n",
       "1  13.25  The Hawaiian Pizza  Classic   \n",
       "2  13.25  The Hawaiian Pizza  Classic   \n",
       "3  13.25  The Hawaiian Pizza  Classic   \n",
       "4  13.25  The Hawaiian Pizza  Classic   \n",
       "\n",
       "                                ingredients  order_part_total  hour  \n",
       "0  Sliced Ham, Pineapple, Mozzarella Cheese             13.25    11  \n",
       "1  Sliced Ham, Pineapple, Mozzarella Cheese             13.25    12  \n",
       "2  Sliced Ham, Pineapple, Mozzarella Cheese             13.25    14  \n",
       "3  Sliced Ham, Pineapple, Mozzarella Cheese             13.25    16  \n",
       "4  Sliced Ham, Pineapple, Mozzarella Cheese             13.25    20  "
      ]
     },
     "execution_count": 38,
     "metadata": {},
     "output_type": "execute_result"
    }
   ],
   "source": [
    "df1.head()"
   ]
  },
  {
   "cell_type": "code",
   "execution_count": 39,
   "id": "3435a0c3",
   "metadata": {},
   "outputs": [
    {
     "data": {
      "text/plain": [
       "array([11, 12, 14, 16, 20, 17, 13, 18, 19, 15, 21, 22, 23,  9, 10])"
      ]
     },
     "execution_count": 39,
     "metadata": {},
     "output_type": "execute_result"
    }
   ],
   "source": [
    "df1.hour.unique()"
   ]
  },
  {
   "cell_type": "code",
   "execution_count": 40,
   "id": "4e45fc7e",
   "metadata": {},
   "outputs": [],
   "source": [
    "def time_category(i):\n",
    "    \n",
    "        if i>=9 and i<12:\n",
    "            return 'morning'\n",
    "        elif i>=12 and i<17:\n",
    "            return 'afternoon'\n",
    "        elif i>=17 and i<=19:\n",
    "            return 'evening'\n",
    "        else:\n",
    "            return 'night'\n"
   ]
  },
  {
   "cell_type": "code",
   "execution_count": 41,
   "id": "f4a40958",
   "metadata": {},
   "outputs": [],
   "source": [
    "df1['time_of_day']=df1['hour'].apply(time_category)"
   ]
  },
  {
   "cell_type": "code",
   "execution_count": 42,
   "id": "1c49cd51",
   "metadata": {},
   "outputs": [
    {
     "data": {
      "text/plain": [
       "order_id              int64\n",
       "pizza_id             object\n",
       "quantity              int64\n",
       "date                 object\n",
       "time                 object\n",
       "pizza_type_id        object\n",
       "size                 object\n",
       "price               float64\n",
       "name                 object\n",
       "category             object\n",
       "ingredients          object\n",
       "order_part_total    float64\n",
       "hour                  int64\n",
       "time_of_day          object\n",
       "dtype: object"
      ]
     },
     "execution_count": 42,
     "metadata": {},
     "output_type": "execute_result"
    }
   ],
   "source": [
    "df1.dtypes"
   ]
  },
  {
   "cell_type": "code",
   "execution_count": 43,
   "id": "3dc31d26",
   "metadata": {},
   "outputs": [
    {
     "data": {
      "text/html": [
       "<div>\n",
       "<style scoped>\n",
       "    .dataframe tbody tr th:only-of-type {\n",
       "        vertical-align: middle;\n",
       "    }\n",
       "\n",
       "    .dataframe tbody tr th {\n",
       "        vertical-align: top;\n",
       "    }\n",
       "\n",
       "    .dataframe thead th {\n",
       "        text-align: right;\n",
       "    }\n",
       "</style>\n",
       "<table border=\"1\" class=\"dataframe\">\n",
       "  <thead>\n",
       "    <tr style=\"text-align: right;\">\n",
       "      <th></th>\n",
       "      <th>order_id</th>\n",
       "      <th>pizza_id</th>\n",
       "      <th>quantity</th>\n",
       "      <th>date</th>\n",
       "      <th>time</th>\n",
       "      <th>pizza_type_id</th>\n",
       "      <th>size</th>\n",
       "      <th>price</th>\n",
       "      <th>name</th>\n",
       "      <th>category</th>\n",
       "      <th>ingredients</th>\n",
       "      <th>order_part_total</th>\n",
       "      <th>hour</th>\n",
       "      <th>time_of_day</th>\n",
       "    </tr>\n",
       "  </thead>\n",
       "  <tbody>\n",
       "    <tr>\n",
       "      <th>0</th>\n",
       "      <td>1</td>\n",
       "      <td>hawaiian_m</td>\n",
       "      <td>1</td>\n",
       "      <td>2015-01-01</td>\n",
       "      <td>11:38:36</td>\n",
       "      <td>hawaiian</td>\n",
       "      <td>M</td>\n",
       "      <td>13.25</td>\n",
       "      <td>The Hawaiian Pizza</td>\n",
       "      <td>Classic</td>\n",
       "      <td>Sliced Ham, Pineapple, Mozzarella Cheese</td>\n",
       "      <td>13.25</td>\n",
       "      <td>11</td>\n",
       "      <td>morning</td>\n",
       "    </tr>\n",
       "    <tr>\n",
       "      <th>1</th>\n",
       "      <td>77</td>\n",
       "      <td>hawaiian_m</td>\n",
       "      <td>1</td>\n",
       "      <td>2015-01-02</td>\n",
       "      <td>12:22:46</td>\n",
       "      <td>hawaiian</td>\n",
       "      <td>M</td>\n",
       "      <td>13.25</td>\n",
       "      <td>The Hawaiian Pizza</td>\n",
       "      <td>Classic</td>\n",
       "      <td>Sliced Ham, Pineapple, Mozzarella Cheese</td>\n",
       "      <td>13.25</td>\n",
       "      <td>12</td>\n",
       "      <td>afternoon</td>\n",
       "    </tr>\n",
       "    <tr>\n",
       "      <th>2</th>\n",
       "      <td>146</td>\n",
       "      <td>hawaiian_m</td>\n",
       "      <td>1</td>\n",
       "      <td>2015-01-03</td>\n",
       "      <td>14:22:10</td>\n",
       "      <td>hawaiian</td>\n",
       "      <td>M</td>\n",
       "      <td>13.25</td>\n",
       "      <td>The Hawaiian Pizza</td>\n",
       "      <td>Classic</td>\n",
       "      <td>Sliced Ham, Pineapple, Mozzarella Cheese</td>\n",
       "      <td>13.25</td>\n",
       "      <td>14</td>\n",
       "      <td>afternoon</td>\n",
       "    </tr>\n",
       "    <tr>\n",
       "      <th>3</th>\n",
       "      <td>163</td>\n",
       "      <td>hawaiian_m</td>\n",
       "      <td>1</td>\n",
       "      <td>2015-01-03</td>\n",
       "      <td>16:54:54</td>\n",
       "      <td>hawaiian</td>\n",
       "      <td>M</td>\n",
       "      <td>13.25</td>\n",
       "      <td>The Hawaiian Pizza</td>\n",
       "      <td>Classic</td>\n",
       "      <td>Sliced Ham, Pineapple, Mozzarella Cheese</td>\n",
       "      <td>13.25</td>\n",
       "      <td>16</td>\n",
       "      <td>afternoon</td>\n",
       "    </tr>\n",
       "    <tr>\n",
       "      <th>4</th>\n",
       "      <td>247</td>\n",
       "      <td>hawaiian_m</td>\n",
       "      <td>1</td>\n",
       "      <td>2015-01-04</td>\n",
       "      <td>20:55:29</td>\n",
       "      <td>hawaiian</td>\n",
       "      <td>M</td>\n",
       "      <td>13.25</td>\n",
       "      <td>The Hawaiian Pizza</td>\n",
       "      <td>Classic</td>\n",
       "      <td>Sliced Ham, Pineapple, Mozzarella Cheese</td>\n",
       "      <td>13.25</td>\n",
       "      <td>20</td>\n",
       "      <td>night</td>\n",
       "    </tr>\n",
       "  </tbody>\n",
       "</table>\n",
       "</div>"
      ],
      "text/plain": [
       "   order_id    pizza_id  quantity        date      time pizza_type_id size  \\\n",
       "0         1  hawaiian_m         1  2015-01-01  11:38:36      hawaiian    M   \n",
       "1        77  hawaiian_m         1  2015-01-02  12:22:46      hawaiian    M   \n",
       "2       146  hawaiian_m         1  2015-01-03  14:22:10      hawaiian    M   \n",
       "3       163  hawaiian_m         1  2015-01-03  16:54:54      hawaiian    M   \n",
       "4       247  hawaiian_m         1  2015-01-04  20:55:29      hawaiian    M   \n",
       "\n",
       "   price                name category  \\\n",
       "0  13.25  The Hawaiian Pizza  Classic   \n",
       "1  13.25  The Hawaiian Pizza  Classic   \n",
       "2  13.25  The Hawaiian Pizza  Classic   \n",
       "3  13.25  The Hawaiian Pizza  Classic   \n",
       "4  13.25  The Hawaiian Pizza  Classic   \n",
       "\n",
       "                                ingredients  order_part_total  hour  \\\n",
       "0  Sliced Ham, Pineapple, Mozzarella Cheese             13.25    11   \n",
       "1  Sliced Ham, Pineapple, Mozzarella Cheese             13.25    12   \n",
       "2  Sliced Ham, Pineapple, Mozzarella Cheese             13.25    14   \n",
       "3  Sliced Ham, Pineapple, Mozzarella Cheese             13.25    16   \n",
       "4  Sliced Ham, Pineapple, Mozzarella Cheese             13.25    20   \n",
       "\n",
       "  time_of_day  \n",
       "0     morning  \n",
       "1   afternoon  \n",
       "2   afternoon  \n",
       "3   afternoon  \n",
       "4       night  "
      ]
     },
     "execution_count": 43,
     "metadata": {},
     "output_type": "execute_result"
    }
   ],
   "source": [
    "df1.head()"
   ]
  },
  {
   "cell_type": "code",
   "execution_count": 44,
   "id": "3bfc5096",
   "metadata": {},
   "outputs": [],
   "source": [
    "#extracting day from from date"
   ]
  },
  {
   "cell_type": "code",
   "execution_count": 45,
   "id": "80609203",
   "metadata": {},
   "outputs": [],
   "source": [
    "df1['date']=pd.to_datetime(df1['date'])#converting from object to date and time"
   ]
  },
  {
   "cell_type": "code",
   "execution_count": 46,
   "id": "adced914",
   "metadata": {},
   "outputs": [
    {
     "data": {
      "text/plain": [
       "order_id                     int64\n",
       "pizza_id                    object\n",
       "quantity                     int64\n",
       "date                datetime64[ns]\n",
       "time                        object\n",
       "pizza_type_id               object\n",
       "size                        object\n",
       "price                      float64\n",
       "name                        object\n",
       "category                    object\n",
       "ingredients                 object\n",
       "order_part_total           float64\n",
       "hour                         int64\n",
       "time_of_day                 object\n",
       "dtype: object"
      ]
     },
     "execution_count": 46,
     "metadata": {},
     "output_type": "execute_result"
    }
   ],
   "source": [
    "df1.dtypes"
   ]
  },
  {
   "cell_type": "code",
   "execution_count": 47,
   "id": "103dc92e",
   "metadata": {},
   "outputs": [],
   "source": [
    "df1['day']=df1['date'].dt.dayofweek"
   ]
  },
  {
   "cell_type": "code",
   "execution_count": 48,
   "id": "c0f4c8fb",
   "metadata": {},
   "outputs": [
    {
     "data": {
      "text/plain": [
       "0        3\n",
       "1        4\n",
       "2        5\n",
       "3        5\n",
       "4        6\n",
       "        ..\n",
       "48615    6\n",
       "48616    0\n",
       "48617    1\n",
       "48618    3\n",
       "48619    3\n",
       "Name: day, Length: 48620, dtype: int64"
      ]
     },
     "execution_count": 48,
     "metadata": {},
     "output_type": "execute_result"
    }
   ],
   "source": [
    "df1['day']"
   ]
  },
  {
   "cell_type": "code",
   "execution_count": 49,
   "id": "6011c259",
   "metadata": {},
   "outputs": [],
   "source": [
    "day_in_words={0:'Monday',1:'Tuesday',2:'Wednersday',3:'Thursday',4:'Friday',5:'Saturday',6:'Sunday'}"
   ]
  },
  {
   "cell_type": "code",
   "execution_count": 50,
   "id": "d4400806",
   "metadata": {},
   "outputs": [],
   "source": [
    "df1['day']=df1['day'].map(day_in_words)"
   ]
  },
  {
   "cell_type": "code",
   "execution_count": 51,
   "id": "8e32c845",
   "metadata": {},
   "outputs": [
    {
     "data": {
      "text/plain": [
       "0        Thursday\n",
       "1          Friday\n",
       "2        Saturday\n",
       "3        Saturday\n",
       "4          Sunday\n",
       "           ...   \n",
       "48615      Sunday\n",
       "48616      Monday\n",
       "48617     Tuesday\n",
       "48618    Thursday\n",
       "48619    Thursday\n",
       "Name: day, Length: 48620, dtype: object"
      ]
     },
     "execution_count": 51,
     "metadata": {},
     "output_type": "execute_result"
    }
   ],
   "source": [
    "df1['day']"
   ]
  },
  {
   "cell_type": "code",
   "execution_count": 52,
   "id": "32bc8b16",
   "metadata": {},
   "outputs": [
    {
     "name": "stdout",
     "output_type": "stream",
     "text": [
      "Object `busiest` not found.\n"
     ]
    }
   ],
   "source": [
    "What days and times do we tend to be busiest?"
   ]
  },
  {
   "cell_type": "code",
   "execution_count": null,
   "id": "7912a4fa",
   "metadata": {},
   "outputs": [],
   "source": [
    "What days and times do we tend to be busiest"
   ]
  },
  {
   "cell_type": "code",
   "execution_count": 53,
   "id": "05ed84ca",
   "metadata": {},
   "outputs": [],
   "source": [
    "#busiest days of the week"
   ]
  },
  {
   "cell_type": "code",
   "execution_count": 54,
   "id": "744cdbf7",
   "metadata": {},
   "outputs": [
    {
     "data": {
      "text/plain": [
       "day\n",
       "Sunday        2624\n",
       "Monday        2794\n",
       "Tuesday       2973\n",
       "Wednersday    3024\n",
       "Saturday      3158\n",
       "Thursday      3239\n",
       "Friday        3538\n",
       "Name: order_id, dtype: int64"
      ]
     },
     "execution_count": 54,
     "metadata": {},
     "output_type": "execute_result"
    }
   ],
   "source": [
    "df1.groupby('day')['order_id'].nunique().sort_values()"
   ]
  },
  {
   "cell_type": "markdown",
   "id": "d454b131",
   "metadata": {},
   "source": [
    "Saturday,Friday,Thursday seem to be far more busier than other days in terms of number of orders"
   ]
  },
  {
   "cell_type": "code",
   "execution_count": 55,
   "id": "1b7b82c6",
   "metadata": {},
   "outputs": [],
   "source": [
    "#busiest time of the day"
   ]
  },
  {
   "cell_type": "code",
   "execution_count": 56,
   "id": "682855e6",
   "metadata": {},
   "outputs": [
    {
     "data": {
      "text/plain": [
       "day         time_of_day\n",
       "Saturday    morning          86\n",
       "Sunday      morning          96\n",
       "Tuesday     morning         189\n",
       "Friday      morning         192\n",
       "Thursday    morning         217\n",
       "Monday      morning         227\n",
       "Wednersday  morning         233\n",
       "Monday      night           362\n",
       "Thursday    night           393\n",
       "Wednersday  night           404\n",
       "Sunday      night           416\n",
       "Tuesday     night           426\n",
       "Saturday    night           752\n",
       "Friday      night           778\n",
       "Monday      evening         855\n",
       "Tuesday     evening         884\n",
       "Wednersday  evening         916\n",
       "Sunday      evening         927\n",
       "Thursday    evening        1007\n",
       "Friday      evening        1071\n",
       "Saturday    evening        1084\n",
       "Sunday      afternoon      1185\n",
       "Saturday    afternoon      1236\n",
       "Monday      afternoon      1350\n",
       "Wednersday  afternoon      1471\n",
       "Tuesday     afternoon      1474\n",
       "Friday      afternoon      1497\n",
       "Thursday    afternoon      1622\n",
       "Name: order_id, dtype: int64"
      ]
     },
     "execution_count": 56,
     "metadata": {},
     "output_type": "execute_result"
    }
   ],
   "source": [
    "df1.groupby(['day','time_of_day'])['order_id'].nunique().sort_values()"
   ]
  },
  {
   "cell_type": "code",
   "execution_count": 57,
   "id": "fdede72f",
   "metadata": {},
   "outputs": [],
   "source": [
    "#afternoon seems to be the busiest time of the day from 12 to 5"
   ]
  },
  {
   "cell_type": "markdown",
   "id": "139db1ed",
   "metadata": {},
   "source": [
    "How many pizzas are we making during peak periods?"
   ]
  },
  {
   "cell_type": "code",
   "execution_count": 58,
   "id": "ebd35508",
   "metadata": {},
   "outputs": [],
   "source": [
    "df_peak_hours=df1[(df1['time_of_day']=='afternoon') | (df1['time_of_day']=='evening')]"
   ]
  },
  {
   "cell_type": "code",
   "execution_count": 59,
   "id": "423dd27f",
   "metadata": {},
   "outputs": [
    {
     "data": {
      "text/plain": [
       "day         time_of_day\n",
       "Tuesday     evening        1908\n",
       "Monday      evening        1915\n",
       "Sunday      evening        2023\n",
       "Wednersday  evening        2044\n",
       "Thursday    evening        2250\n",
       "Friday      evening        2443\n",
       "Saturday    evening        2451\n",
       "Sunday      afternoon      2922\n",
       "Saturday    afternoon      3128\n",
       "Monday      afternoon      3341\n",
       "Wednersday  afternoon      3548\n",
       "Tuesday     afternoon      3661\n",
       "Friday      afternoon      3685\n",
       "Thursday    afternoon      3972\n",
       "Name: quantity, dtype: int64"
      ]
     },
     "execution_count": 59,
     "metadata": {},
     "output_type": "execute_result"
    }
   ],
   "source": [
    "df_peak_hours.groupby(['day','time_of_day'])['quantity'].sum().sort_values()"
   ]
  },
  {
   "cell_type": "markdown",
   "id": "e00c0973",
   "metadata": {},
   "source": [
    "How well are we utilizing our seating capacity? (we have 15 tables and 60 seats)"
   ]
  },
  {
   "cell_type": "code",
   "execution_count": 65,
   "id": "dc59a220",
   "metadata": {},
   "outputs": [],
   "source": [
    "df_seat_utilization=df1.groupby(['day','time_of_day','hour'])['order_id'].nunique()"
   ]
  },
  {
   "cell_type": "code",
   "execution_count": 74,
   "id": "892140f2",
   "metadata": {},
   "outputs": [
    {
     "data": {
      "text/plain": [
       "day         time_of_day  hour\n",
       "Tuesday     morning      9         1\n",
       "Sunday      morning      10        1\n",
       "Saturday    morning      10        1\n",
       "Monday      night        23        1\n",
       "            morning      10        1\n",
       "Thursday    night        23        2\n",
       "Sunday      night        23        2\n",
       "Wednersday  morning      10        2\n",
       "Thursday    morning      10        3\n",
       "Friday      night        23       11\n",
       "Saturday    night        23       12\n",
       "Monday      night        22       53\n",
       "Thursday    night        22       60\n",
       "Sunday      night        22       70\n",
       "Wednersday  night        22       72\n",
       "Tuesday     night        22       81\n",
       "Saturday    morning      11       85\n",
       "Sunday      morning      11       95\n",
       "Thursday    night        21      114\n",
       "Tuesday     night        21      131\n",
       "Monday      night        21      134\n",
       "Wednersday  night        21      139\n",
       "Sunday      night        21      147\n",
       "Saturday    night        22      147\n",
       "Monday      night        20      174\n",
       "Friday      night        22      180\n",
       "Monday      afternoon    14      182\n",
       "Tuesday     morning      11      188\n",
       "Friday      afternoon    15      190\n",
       "Tuesday     afternoon    15      191\n",
       "Friday      morning      11      192\n",
       "Monday      afternoon    15      192\n",
       "Wednersday  night        20      193\n",
       "Tuesday     afternoon    14      196\n",
       "Sunday      night        20      197\n",
       "Wednersday  afternoon    14      201\n",
       "                         15      210\n",
       "Sunday      afternoon    12      210\n",
       "Thursday    morning      11      214\n",
       "Tuesday     night        20      214\n",
       "Sunday      afternoon    14      214\n",
       "Thursday    night        20      217\n",
       "Friday      afternoon    14      221\n",
       "Sunday      afternoon    15      222\n",
       "Saturday    afternoon    12      222\n",
       "                         14      225\n",
       "Monday      morning      11      226\n",
       "Thursday    afternoon    15      228\n",
       "Wednersday  morning      11      231\n",
       "Thursday    afternoon    14      233\n",
       "Monday      evening      19      235\n",
       "Saturday    afternoon    15      235\n",
       "Wednersday  evening      19      238\n",
       "Monday      afternoon    16      247\n",
       "Friday      afternoon    16      258\n",
       "Wednersday  afternoon    16      259\n",
       "Saturday    afternoon    13      260\n",
       "Sunday      afternoon    13      261\n",
       "Saturday    night        21      265\n",
       "Friday      night        21      268\n",
       "Name: order_id, dtype: int64"
      ]
     },
     "execution_count": 74,
     "metadata": {},
     "output_type": "execute_result"
    }
   ],
   "source": [
    "df_seat_utilization.sort_values().head(60)"
   ]
  },
  {
   "cell_type": "code",
   "execution_count": 75,
   "id": "2117c09c",
   "metadata": {},
   "outputs": [
    {
     "data": {
      "text/plain": [
       "day         time_of_day  hour\n",
       "Thursday    evening      19      270\n",
       "Tuesday     evening      19      274\n",
       "Sunday      afternoon    16      278\n",
       "            evening      19      281\n",
       "Thursday    afternoon    16      289\n",
       "Saturday    afternoon    16      294\n",
       "Tuesday     afternoon    16      295\n",
       "            evening      18      301\n",
       "Monday      evening      18      303\n",
       "Tuesday     evening      17      309\n",
       "Monday      evening      17      317\n",
       "Friday      night        20      319\n",
       "Sunday      evening      17      322\n",
       "                         18      324\n",
       "Saturday    evening      17      325\n",
       "            night        20      328\n",
       "Monday      afternoon    13      331\n",
       "Wednersday  evening      18      335\n",
       "Friday      evening      19      340\n",
       "Wednersday  evening      17      343\n",
       "Friday      evening      17      344\n",
       "Thursday    evening      18      361\n",
       "Saturday    evening      19      371\n",
       "Tuesday     afternoon    13      371\n",
       "Thursday    evening      17      376\n",
       "Wednersday  afternoon    13      381\n",
       "Friday      evening      18      387\n",
       "Saturday    evening      18      388\n",
       "Monday      afternoon    12      398\n",
       "Friday      afternoon    13      413\n",
       "                         12      415\n",
       "Wednersday  afternoon    12      420\n",
       "Tuesday     afternoon    12      421\n",
       "Thursday    afternoon    12      434\n",
       "                         13      438\n",
       "Name: order_id, dtype: int64"
      ]
     },
     "execution_count": 75,
     "metadata": {},
     "output_type": "execute_result"
    }
   ],
   "source": [
    "df_seat_utilization.sort_values().tail(35)"
   ]
  },
  {
   "cell_type": "code",
   "execution_count": null,
   "id": "585a6c85",
   "metadata": {},
   "outputs": [],
   "source": []
  }
 ],
 "metadata": {
  "kernelspec": {
   "display_name": "Python 3 (ipykernel)",
   "language": "python",
   "name": "python3"
  },
  "language_info": {
   "codemirror_mode": {
    "name": "ipython",
    "version": 3
   },
   "file_extension": ".py",
   "mimetype": "text/x-python",
   "name": "python",
   "nbconvert_exporter": "python",
   "pygments_lexer": "ipython3",
   "version": "3.9.7"
  }
 },
 "nbformat": 4,
 "nbformat_minor": 5
}
