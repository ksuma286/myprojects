{
 "cells": [
  {
   "cell_type": "markdown",
   "id": "72b733b5",
   "metadata": {},
   "source": [
    "Online Chess Games\n",
    "\n",
    "(Source: Lichess)\n",
    "\n",
    "(License: Public Domain)\n",
    "\n",
    "Data for 20,000+ chess games played on Lichess, including moves, victor, rating, opening details and more.\n",
    "\n",
    "Recommended Analysis\n",
    "What percentage of games were won by white? How many ended in a draw?\n",
    "\n",
    "Which opening move was most frequently used in games in which black won? What about when white won?\n",
    "\n",
    "What percentage of games are won by the player with the higher rating? Does this vary by piece color?\n",
    "\n",
    "Which user won the most amount of games? In what percentage of those games was the user the higher rated player?\n",
    "\n",
    "\n"
   ]
  },
  {
   "cell_type": "code",
   "execution_count": 1,
   "id": "7c72eae9",
   "metadata": {},
   "outputs": [],
   "source": [
    "import pandas as pd"
   ]
  },
  {
   "cell_type": "code",
   "execution_count": 2,
   "id": "76755093",
   "metadata": {},
   "outputs": [],
   "source": [
    "df=pd.read_csv('chess_games.csv')"
   ]
  },
  {
   "cell_type": "code",
   "execution_count": 3,
   "id": "4927cae4",
   "metadata": {},
   "outputs": [
    {
     "data": {
      "text/html": [
       "<div>\n",
       "<style scoped>\n",
       "    .dataframe tbody tr th:only-of-type {\n",
       "        vertical-align: middle;\n",
       "    }\n",
       "\n",
       "    .dataframe tbody tr th {\n",
       "        vertical-align: top;\n",
       "    }\n",
       "\n",
       "    .dataframe thead th {\n",
       "        text-align: right;\n",
       "    }\n",
       "</style>\n",
       "<table border=\"1\" class=\"dataframe\">\n",
       "  <thead>\n",
       "    <tr style=\"text-align: right;\">\n",
       "      <th></th>\n",
       "      <th>game_id</th>\n",
       "      <th>rated</th>\n",
       "      <th>turns</th>\n",
       "      <th>victory_status</th>\n",
       "      <th>winner</th>\n",
       "      <th>time_increment</th>\n",
       "      <th>white_id</th>\n",
       "      <th>white_rating</th>\n",
       "      <th>black_id</th>\n",
       "      <th>black_rating</th>\n",
       "      <th>moves</th>\n",
       "      <th>opening_code</th>\n",
       "      <th>opening_moves</th>\n",
       "      <th>opening_fullname</th>\n",
       "      <th>opening_shortname</th>\n",
       "      <th>opening_response</th>\n",
       "      <th>opening_variation</th>\n",
       "    </tr>\n",
       "  </thead>\n",
       "  <tbody>\n",
       "    <tr>\n",
       "      <th>0</th>\n",
       "      <td>1</td>\n",
       "      <td>False</td>\n",
       "      <td>13</td>\n",
       "      <td>Out of Time</td>\n",
       "      <td>White</td>\n",
       "      <td>15+2</td>\n",
       "      <td>bourgris</td>\n",
       "      <td>1500</td>\n",
       "      <td>a-00</td>\n",
       "      <td>1191</td>\n",
       "      <td>d4 d5 c4 c6 cxd5 e6 dxe6 fxe6 Nf3 Bb4+ Nc3 Ba5...</td>\n",
       "      <td>D10</td>\n",
       "      <td>5</td>\n",
       "      <td>Slav Defense: Exchange Variation</td>\n",
       "      <td>Slav Defense</td>\n",
       "      <td>NaN</td>\n",
       "      <td>Exchange Variation</td>\n",
       "    </tr>\n",
       "    <tr>\n",
       "      <th>1</th>\n",
       "      <td>2</td>\n",
       "      <td>True</td>\n",
       "      <td>16</td>\n",
       "      <td>Resign</td>\n",
       "      <td>Black</td>\n",
       "      <td>5+10</td>\n",
       "      <td>a-00</td>\n",
       "      <td>1322</td>\n",
       "      <td>skinnerua</td>\n",
       "      <td>1261</td>\n",
       "      <td>d4 Nc6 e4 e5 f4 f6 dxe5 fxe5 fxe5 Nxe5 Qd4 Nc6...</td>\n",
       "      <td>B00</td>\n",
       "      <td>4</td>\n",
       "      <td>Nimzowitsch Defense: Kennedy Variation</td>\n",
       "      <td>Nimzowitsch Defense</td>\n",
       "      <td>NaN</td>\n",
       "      <td>Kennedy Variation</td>\n",
       "    </tr>\n",
       "    <tr>\n",
       "      <th>2</th>\n",
       "      <td>3</td>\n",
       "      <td>True</td>\n",
       "      <td>61</td>\n",
       "      <td>Mate</td>\n",
       "      <td>White</td>\n",
       "      <td>5+10</td>\n",
       "      <td>ischia</td>\n",
       "      <td>1496</td>\n",
       "      <td>a-00</td>\n",
       "      <td>1500</td>\n",
       "      <td>e4 e5 d3 d6 Be3 c6 Be2 b5 Nd2 a5 a4 c5 axb5 Nc...</td>\n",
       "      <td>C20</td>\n",
       "      <td>3</td>\n",
       "      <td>King's Pawn Game: Leonardis Variation</td>\n",
       "      <td>King's Pawn Game</td>\n",
       "      <td>NaN</td>\n",
       "      <td>Leonardis Variation</td>\n",
       "    </tr>\n",
       "    <tr>\n",
       "      <th>3</th>\n",
       "      <td>4</td>\n",
       "      <td>True</td>\n",
       "      <td>61</td>\n",
       "      <td>Mate</td>\n",
       "      <td>White</td>\n",
       "      <td>20+0</td>\n",
       "      <td>daniamurashov</td>\n",
       "      <td>1439</td>\n",
       "      <td>adivanov2009</td>\n",
       "      <td>1454</td>\n",
       "      <td>d4 d5 Nf3 Bf5 Nc3 Nf6 Bf4 Ng4 e3 Nc6 Be2 Qd7 O...</td>\n",
       "      <td>D02</td>\n",
       "      <td>3</td>\n",
       "      <td>Queen's Pawn Game: Zukertort Variation</td>\n",
       "      <td>Queen's Pawn Game</td>\n",
       "      <td>NaN</td>\n",
       "      <td>Zukertort Variation</td>\n",
       "    </tr>\n",
       "    <tr>\n",
       "      <th>4</th>\n",
       "      <td>5</td>\n",
       "      <td>True</td>\n",
       "      <td>95</td>\n",
       "      <td>Mate</td>\n",
       "      <td>White</td>\n",
       "      <td>30+3</td>\n",
       "      <td>nik221107</td>\n",
       "      <td>1523</td>\n",
       "      <td>adivanov2009</td>\n",
       "      <td>1469</td>\n",
       "      <td>e4 e5 Nf3 d6 d4 Nc6 d5 Nb4 a3 Na6 Nc3 Be7 b4 N...</td>\n",
       "      <td>C41</td>\n",
       "      <td>5</td>\n",
       "      <td>Philidor Defense</td>\n",
       "      <td>Philidor Defense</td>\n",
       "      <td>NaN</td>\n",
       "      <td>NaN</td>\n",
       "    </tr>\n",
       "  </tbody>\n",
       "</table>\n",
       "</div>"
      ],
      "text/plain": [
       "   game_id  rated  turns victory_status winner time_increment       white_id  \\\n",
       "0        1  False     13    Out of Time  White           15+2       bourgris   \n",
       "1        2   True     16         Resign  Black           5+10           a-00   \n",
       "2        3   True     61           Mate  White           5+10         ischia   \n",
       "3        4   True     61           Mate  White           20+0  daniamurashov   \n",
       "4        5   True     95           Mate  White           30+3      nik221107   \n",
       "\n",
       "   white_rating      black_id  black_rating  \\\n",
       "0          1500          a-00          1191   \n",
       "1          1322     skinnerua          1261   \n",
       "2          1496          a-00          1500   \n",
       "3          1439  adivanov2009          1454   \n",
       "4          1523  adivanov2009          1469   \n",
       "\n",
       "                                               moves opening_code  \\\n",
       "0  d4 d5 c4 c6 cxd5 e6 dxe6 fxe6 Nf3 Bb4+ Nc3 Ba5...          D10   \n",
       "1  d4 Nc6 e4 e5 f4 f6 dxe5 fxe5 fxe5 Nxe5 Qd4 Nc6...          B00   \n",
       "2  e4 e5 d3 d6 Be3 c6 Be2 b5 Nd2 a5 a4 c5 axb5 Nc...          C20   \n",
       "3  d4 d5 Nf3 Bf5 Nc3 Nf6 Bf4 Ng4 e3 Nc6 Be2 Qd7 O...          D02   \n",
       "4  e4 e5 Nf3 d6 d4 Nc6 d5 Nb4 a3 Na6 Nc3 Be7 b4 N...          C41   \n",
       "\n",
       "   opening_moves                        opening_fullname    opening_shortname  \\\n",
       "0              5        Slav Defense: Exchange Variation         Slav Defense   \n",
       "1              4  Nimzowitsch Defense: Kennedy Variation  Nimzowitsch Defense   \n",
       "2              3   King's Pawn Game: Leonardis Variation     King's Pawn Game   \n",
       "3              3  Queen's Pawn Game: Zukertort Variation    Queen's Pawn Game   \n",
       "4              5                        Philidor Defense     Philidor Defense   \n",
       "\n",
       "  opening_response    opening_variation  \n",
       "0              NaN   Exchange Variation  \n",
       "1              NaN    Kennedy Variation  \n",
       "2              NaN  Leonardis Variation  \n",
       "3              NaN  Zukertort Variation  \n",
       "4              NaN                  NaN  "
      ]
     },
     "execution_count": 3,
     "metadata": {},
     "output_type": "execute_result"
    }
   ],
   "source": [
    "df.head()"
   ]
  },
  {
   "cell_type": "code",
   "execution_count": 4,
   "id": "376d2d13",
   "metadata": {},
   "outputs": [
    {
     "name": "stdout",
     "output_type": "stream",
     "text": [
      "<class 'pandas.core.frame.DataFrame'>\n",
      "RangeIndex: 20058 entries, 0 to 20057\n",
      "Data columns (total 17 columns):\n",
      " #   Column             Non-Null Count  Dtype \n",
      "---  ------             --------------  ----- \n",
      " 0   game_id            20058 non-null  int64 \n",
      " 1   rated              20058 non-null  bool  \n",
      " 2   turns              20058 non-null  int64 \n",
      " 3   victory_status     20058 non-null  object\n",
      " 4   winner             20058 non-null  object\n",
      " 5   time_increment     20058 non-null  object\n",
      " 6   white_id           20058 non-null  object\n",
      " 7   white_rating       20058 non-null  int64 \n",
      " 8   black_id           20058 non-null  object\n",
      " 9   black_rating       20058 non-null  int64 \n",
      " 10  moves              20058 non-null  object\n",
      " 11  opening_code       20058 non-null  object\n",
      " 12  opening_moves      20058 non-null  int64 \n",
      " 13  opening_fullname   20058 non-null  object\n",
      " 14  opening_shortname  20058 non-null  object\n",
      " 15  opening_response   1207 non-null   object\n",
      " 16  opening_variation  14398 non-null  object\n",
      "dtypes: bool(1), int64(5), object(11)\n",
      "memory usage: 2.5+ MB\n"
     ]
    }
   ],
   "source": [
    "df.info()"
   ]
  },
  {
   "cell_type": "code",
   "execution_count": 5,
   "id": "11025ede",
   "metadata": {},
   "outputs": [],
   "source": [
    "df['opening_response']=df['opening_response'].fillna('Missing Data')\n",
    "df['opening_variation']=df['opening_variation'].fillna('Missing Data')"
   ]
  },
  {
   "cell_type": "code",
   "execution_count": 6,
   "id": "d61e07b6",
   "metadata": {},
   "outputs": [
    {
     "data": {
      "text/plain": [
       "0"
      ]
     },
     "execution_count": 6,
     "metadata": {},
     "output_type": "execute_result"
    }
   ],
   "source": [
    "df.duplicated().sum()"
   ]
  },
  {
   "cell_type": "code",
   "execution_count": 8,
   "id": "2b2eaa1f",
   "metadata": {},
   "outputs": [
    {
     "data": {
      "text/plain": [
       "game_id              0\n",
       "rated                0\n",
       "turns                0\n",
       "victory_status       0\n",
       "winner               0\n",
       "time_increment       0\n",
       "white_id             0\n",
       "white_rating         0\n",
       "black_id             0\n",
       "black_rating         0\n",
       "moves                0\n",
       "opening_code         0\n",
       "opening_moves        0\n",
       "opening_fullname     0\n",
       "opening_shortname    0\n",
       "opening_response     0\n",
       "opening_variation    0\n",
       "dtype: int64"
      ]
     },
     "execution_count": 8,
     "metadata": {},
     "output_type": "execute_result"
    }
   ],
   "source": [
    "df.isnull().sum()"
   ]
  },
  {
   "cell_type": "markdown",
   "id": "b6ab4f14",
   "metadata": {},
   "source": [
    "What percentage of games were won by white? How many ended in a draw?"
   ]
  },
  {
   "cell_type": "code",
   "execution_count": 9,
   "id": "c58156cb",
   "metadata": {},
   "outputs": [
    {
     "data": {
      "text/plain": [
       "White    49.860405\n",
       "Black    45.403330\n",
       "Draw      4.736265\n",
       "Name: winner, dtype: float64"
      ]
     },
     "execution_count": 9,
     "metadata": {},
     "output_type": "execute_result"
    }
   ],
   "source": [
    "df['winner'].value_counts()/len(df)*100"
   ]
  },
  {
   "cell_type": "markdown",
   "id": "53915a11",
   "metadata": {},
   "source": [
    "Which opening move was most frequently used in games in which black won? What about when white won?\n"
   ]
  },
  {
   "cell_type": "code",
   "execution_count": 19,
   "id": "4f189153",
   "metadata": {},
   "outputs": [
    {
     "data": {
      "text/plain": [
       "'Sicilian Defense'"
      ]
     },
     "execution_count": 19,
     "metadata": {},
     "output_type": "execute_result"
    }
   ],
   "source": [
    "df[df.winner=='Black']['opening_shortname'].value_counts().idxmax()"
   ]
  },
  {
   "cell_type": "code",
   "execution_count": 15,
   "id": "09017ab9",
   "metadata": {},
   "outputs": [
    {
     "data": {
      "text/plain": [
       "'Sicilian Defense'"
      ]
     },
     "execution_count": 15,
     "metadata": {},
     "output_type": "execute_result"
    }
   ],
   "source": [
    "df[df.winner=='White']['opening_shortname'].value_counts().idxmax()"
   ]
  },
  {
   "cell_type": "markdown",
   "id": "c7e29301",
   "metadata": {},
   "source": [
    "What percentage of games are won by the player with the higher rating? Does this vary by piece color?\n"
   ]
  },
  {
   "cell_type": "code",
   "execution_count": 124,
   "id": "5257ed6b",
   "metadata": {},
   "outputs": [
    {
     "name": "stdout",
     "output_type": "stream",
     "text": [
      "13009    justicebot\n",
      "Name: white_id, dtype: object\n"
     ]
    }
   ],
   "source": [
    "max_white_rating_player=df[df.white_rating==df['white_rating'].max()].white_id\n",
    "print(max_white_rating_player)\n"
   ]
  },
  {
   "cell_type": "code",
   "execution_count": 127,
   "id": "64bca882",
   "metadata": {},
   "outputs": [
    {
     "name": "stdout",
     "output_type": "stream",
     "text": [
      "4473    justicebot\n",
      "Name: black_id, dtype: object\n"
     ]
    }
   ],
   "source": [
    "max_black_rating_player=df[df.black_rating==df['black_rating'].max()].black_id\n",
    "print(max_black_rating_player)\n"
   ]
  },
  {
   "cell_type": "code",
   "execution_count": 130,
   "id": "3621fc82",
   "metadata": {},
   "outputs": [
    {
     "name": "stdout",
     "output_type": "stream",
     "text": [
      "13009    justicebot\n",
      "Name: white_id, dtype: object\n",
      " \n",
      "now with values function\n",
      "justicebot\n"
     ]
    }
   ],
   "source": [
    "#understanding\n",
    "print(max_white_rating_player)\n",
    "print(' ')\n",
    "print('now with values function')\n",
    "print(max_white_rating_player.values[0])"
   ]
  },
  {
   "cell_type": "code",
   "execution_count": 133,
   "id": "d7e95a91",
   "metadata": {},
   "outputs": [],
   "source": [
    "x=df[(df.winner=='White') & (df.white_id==max_white_rating_player.values[0])]\n",
    "y=df[(df.winner=='Black') & (df.black_id==max_black_rating_player.values[0])]\n",
    "z=len(x)+len(y)"
   ]
  },
  {
   "cell_type": "code",
   "execution_count": 145,
   "id": "11f9f551",
   "metadata": {},
   "outputs": [
    {
     "name": "stdout",
     "output_type": "stream",
     "text": [
      "percentage of games one by justicebot the player with highest rating is:0.004985541928407618 %\n"
     ]
    }
   ],
   "source": [
    "print('percentage of games one by {} the player with highest rating is:{}'.format(max_white_rating_player.values[0],(z/len(df))*100),'%')"
   ]
  },
  {
   "cell_type": "markdown",
   "id": "3bb11876",
   "metadata": {},
   "source": [
    "Which user won the most amount of games? In what percentage of those games was the user the higher rated player?"
   ]
  },
  {
   "cell_type": "code",
   "execution_count": 85,
   "id": "39f26db3",
   "metadata": {},
   "outputs": [],
   "source": [
    "player=df[df['winner']=='White'].groupby('white_id')['game_id'].nunique().sort_values(ascending=False).idxmax()"
   ]
  },
  {
   "cell_type": "code",
   "execution_count": 102,
   "id": "3dc4f553",
   "metadata": {},
   "outputs": [
    {
     "name": "stdout",
     "output_type": "stream",
     "text": [
      "User with most games won: taranga\n"
     ]
    }
   ],
   "source": [
    "print('User with most games won:',player)"
   ]
  },
  {
   "cell_type": "code",
   "execution_count": 93,
   "id": "3428cc4a",
   "metadata": {},
   "outputs": [],
   "source": [
    "dummy=df[(df.white_id==player) | (df.black_id==player)]"
   ]
  },
  {
   "cell_type": "code",
   "execution_count": 96,
   "id": "55567cdc",
   "metadata": {},
   "outputs": [],
   "source": [
    "a=dummy[(dummy.winner=='White') & (dummy.white_id>dummy.black_id)]\n",
    "b=dummy[(dummy.winner=='Black') & (dummy.white_id<dummy.black_id)]\n",
    "c=len(a)+len(b)"
   ]
  },
  {
   "cell_type": "code",
   "execution_count": 118,
   "id": "686efdac",
   "metadata": {},
   "outputs": [
    {
     "name": "stdout",
     "output_type": "stream",
     "text": [
      "The percentage of games in which taranga is highest rated player:0.378901186558979 %\n"
     ]
    }
   ],
   "source": [
    "print('The percentage of games in which {} is highest rated player:{}'.format(player,c/len(df)*100),'%')"
   ]
  }
 ],
 "metadata": {
  "kernelspec": {
   "display_name": "Python 3 (ipykernel)",
   "language": "python",
   "name": "python3"
  },
  "language_info": {
   "codemirror_mode": {
    "name": "ipython",
    "version": 3
   },
   "file_extension": ".py",
   "mimetype": "text/x-python",
   "name": "python",
   "nbconvert_exporter": "python",
   "pygments_lexer": "ipython3",
   "version": "3.9.7"
  }
 },
 "nbformat": 4,
 "nbformat_minor": 5
}
