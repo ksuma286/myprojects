{
  "nbformat": 4,
  "nbformat_minor": 0,
  "metadata": {
    "colab": {
      "name": "Data Cleaning for forest fire dataset",
      "provenance": []
    },
    "kernelspec": {
      "name": "python3",
      "display_name": "Python 3"
    },
    "language_info": {
      "name": "python"
    }
  },
  "cells": [
    {
      "cell_type": "markdown",
      "source": [
        "#The dataset in this notebook has been taken with the help of a udemy course \n",
        "#\"Data Analysis Bootcamp™ 21 Real World Case Studies\""
      ],
      "metadata": {
        "id": "tgk3ddDwt4u9"
      }
    },
    {
      "cell_type": "code",
      "execution_count": null,
      "metadata": {
        "id": "7HMFos8FVIQU"
      },
      "outputs": [],
      "source": [
        "import pandas as pd"
      ]
    },
    {
      "cell_type": "code",
      "source": [
        "file_name = \"https://raw.githubusercontent.com/rajeevratan84/datascienceforbusiness/master/amazon_fires.csv\"\n"
      ],
      "metadata": {
        "id": "12dBBiRijeKj"
      },
      "execution_count": null,
      "outputs": []
    },
    {
      "cell_type": "code",
      "source": [
        "df=pd.read_csv(file_name,encoding = \"ISO-8859-1\")\n",
        "#encoding is being used as there are a few words in Portugese in dataset which will raise an error,to avoid it while reading the dataset we are using encoding."
      ],
      "metadata": {
        "id": "aOpsdkPxjlSe"
      },
      "execution_count": null,
      "outputs": []
    },
    {
      "cell_type": "code",
      "source": [
        "df.head()"
      ],
      "metadata": {
        "colab": {
          "base_uri": "https://localhost:8080/",
          "height": 204
        },
        "id": "W_JbscXcjqPI",
        "outputId": "2320221f-36d6-4edf-dd03-e0d072003d7e"
      },
      "execution_count": null,
      "outputs": [
        {
          "output_type": "execute_result",
          "data": {
            "text/html": [
              "<div>\n",
              "<style scoped>\n",
              "    .dataframe tbody tr th:only-of-type {\n",
              "        vertical-align: middle;\n",
              "    }\n",
              "\n",
              "    .dataframe tbody tr th {\n",
              "        vertical-align: top;\n",
              "    }\n",
              "\n",
              "    .dataframe thead th {\n",
              "        text-align: right;\n",
              "    }\n",
              "</style>\n",
              "<table border=\"1\" class=\"dataframe\">\n",
              "  <thead>\n",
              "    <tr style=\"text-align: right;\">\n",
              "      <th></th>\n",
              "      <th>ano</th>\n",
              "      <th>mes</th>\n",
              "      <th>estado</th>\n",
              "      <th>numero</th>\n",
              "      <th>encontro</th>\n",
              "    </tr>\n",
              "  </thead>\n",
              "  <tbody>\n",
              "    <tr>\n",
              "      <th>0</th>\n",
              "      <td>1998</td>\n",
              "      <td>Janeiro</td>\n",
              "      <td>Acre</td>\n",
              "      <td>0 Fires</td>\n",
              "      <td>1/1/1998</td>\n",
              "    </tr>\n",
              "    <tr>\n",
              "      <th>1</th>\n",
              "      <td>1999</td>\n",
              "      <td>Janeiro</td>\n",
              "      <td>Acre</td>\n",
              "      <td>0 Fires</td>\n",
              "      <td>1/1/1999</td>\n",
              "    </tr>\n",
              "    <tr>\n",
              "      <th>2</th>\n",
              "      <td>2000</td>\n",
              "      <td>Janeiro</td>\n",
              "      <td>Acre</td>\n",
              "      <td>0 Fires</td>\n",
              "      <td>1/1/2000</td>\n",
              "    </tr>\n",
              "    <tr>\n",
              "      <th>3</th>\n",
              "      <td>2001</td>\n",
              "      <td>Janeiro</td>\n",
              "      <td>Acre</td>\n",
              "      <td>0 Fires</td>\n",
              "      <td>1/1/2001</td>\n",
              "    </tr>\n",
              "    <tr>\n",
              "      <th>4</th>\n",
              "      <td>2002</td>\n",
              "      <td>Janeiro</td>\n",
              "      <td>Acre</td>\n",
              "      <td>0 Fires</td>\n",
              "      <td>1/1/2002</td>\n",
              "    </tr>\n",
              "  </tbody>\n",
              "</table>\n",
              "</div>"
            ],
            "text/plain": [
              "    ano      mes estado   numero  encontro\n",
              "0  1998  Janeiro   Acre  0 Fires  1/1/1998\n",
              "1  1999  Janeiro   Acre  0 Fires  1/1/1999\n",
              "2  2000  Janeiro   Acre  0 Fires  1/1/2000\n",
              "3  2001  Janeiro   Acre  0 Fires  1/1/2001\n",
              "4  2002  Janeiro   Acre  0 Fires  1/1/2002"
            ]
          },
          "metadata": {},
          "execution_count": 58
        }
      ]
    },
    {
      "cell_type": "code",
      "source": [
        "column_names={'ano':'year','mes':'month','estado':'state','numero': 'number_of_fires','encontro':'date'}"
      ],
      "metadata": {
        "id": "4xotI1cxknaR"
      },
      "execution_count": null,
      "outputs": []
    },
    {
      "cell_type": "code",
      "source": [
        "df.rename(columns=column_names,inplace=True)\n",
        "#inplace=True is used to save the changes to the dataframe\n",
        "#here we are using rename function to rename the columns from Portugese to English."
      ],
      "metadata": {
        "id": "5jzTnWpwlV-7"
      },
      "execution_count": null,
      "outputs": []
    },
    {
      "cell_type": "code",
      "source": [
        "df.head()"
      ],
      "metadata": {
        "colab": {
          "base_uri": "https://localhost:8080/",
          "height": 204
        },
        "id": "kwujLihold-T",
        "outputId": "a540702f-af33-4faa-bd01-b67547f2c6c3"
      },
      "execution_count": null,
      "outputs": [
        {
          "output_type": "execute_result",
          "data": {
            "text/html": [
              "<div>\n",
              "<style scoped>\n",
              "    .dataframe tbody tr th:only-of-type {\n",
              "        vertical-align: middle;\n",
              "    }\n",
              "\n",
              "    .dataframe tbody tr th {\n",
              "        vertical-align: top;\n",
              "    }\n",
              "\n",
              "    .dataframe thead th {\n",
              "        text-align: right;\n",
              "    }\n",
              "</style>\n",
              "<table border=\"1\" class=\"dataframe\">\n",
              "  <thead>\n",
              "    <tr style=\"text-align: right;\">\n",
              "      <th></th>\n",
              "      <th>year</th>\n",
              "      <th>month</th>\n",
              "      <th>state</th>\n",
              "      <th>number_of_fires</th>\n",
              "      <th>date</th>\n",
              "    </tr>\n",
              "  </thead>\n",
              "  <tbody>\n",
              "    <tr>\n",
              "      <th>0</th>\n",
              "      <td>1998</td>\n",
              "      <td>Janeiro</td>\n",
              "      <td>Acre</td>\n",
              "      <td>0 Fires</td>\n",
              "      <td>1/1/1998</td>\n",
              "    </tr>\n",
              "    <tr>\n",
              "      <th>1</th>\n",
              "      <td>1999</td>\n",
              "      <td>Janeiro</td>\n",
              "      <td>Acre</td>\n",
              "      <td>0 Fires</td>\n",
              "      <td>1/1/1999</td>\n",
              "    </tr>\n",
              "    <tr>\n",
              "      <th>2</th>\n",
              "      <td>2000</td>\n",
              "      <td>Janeiro</td>\n",
              "      <td>Acre</td>\n",
              "      <td>0 Fires</td>\n",
              "      <td>1/1/2000</td>\n",
              "    </tr>\n",
              "    <tr>\n",
              "      <th>3</th>\n",
              "      <td>2001</td>\n",
              "      <td>Janeiro</td>\n",
              "      <td>Acre</td>\n",
              "      <td>0 Fires</td>\n",
              "      <td>1/1/2001</td>\n",
              "    </tr>\n",
              "    <tr>\n",
              "      <th>4</th>\n",
              "      <td>2002</td>\n",
              "      <td>Janeiro</td>\n",
              "      <td>Acre</td>\n",
              "      <td>0 Fires</td>\n",
              "      <td>1/1/2002</td>\n",
              "    </tr>\n",
              "  </tbody>\n",
              "</table>\n",
              "</div>"
            ],
            "text/plain": [
              "   year    month state number_of_fires      date\n",
              "0  1998  Janeiro  Acre         0 Fires  1/1/1998\n",
              "1  1999  Janeiro  Acre         0 Fires  1/1/1999\n",
              "2  2000  Janeiro  Acre         0 Fires  1/1/2000\n",
              "3  2001  Janeiro  Acre         0 Fires  1/1/2001\n",
              "4  2002  Janeiro  Acre         0 Fires  1/1/2002"
            ]
          },
          "metadata": {},
          "execution_count": 61
        }
      ]
    },
    {
      "cell_type": "code",
      "source": [
        "df.tail()"
      ],
      "metadata": {
        "colab": {
          "base_uri": "https://localhost:8080/",
          "height": 204
        },
        "id": "-BibuVqXmEd3",
        "outputId": "472465e5-2ac3-4572-967d-c19e74e30f95"
      },
      "execution_count": null,
      "outputs": [
        {
          "output_type": "execute_result",
          "data": {
            "text/html": [
              "<div>\n",
              "<style scoped>\n",
              "    .dataframe tbody tr th:only-of-type {\n",
              "        vertical-align: middle;\n",
              "    }\n",
              "\n",
              "    .dataframe tbody tr th {\n",
              "        vertical-align: top;\n",
              "    }\n",
              "\n",
              "    .dataframe thead th {\n",
              "        text-align: right;\n",
              "    }\n",
              "</style>\n",
              "<table border=\"1\" class=\"dataframe\">\n",
              "  <thead>\n",
              "    <tr style=\"text-align: right;\">\n",
              "      <th></th>\n",
              "      <th>year</th>\n",
              "      <th>month</th>\n",
              "      <th>state</th>\n",
              "      <th>number_of_fires</th>\n",
              "      <th>date</th>\n",
              "    </tr>\n",
              "  </thead>\n",
              "  <tbody>\n",
              "    <tr>\n",
              "      <th>6449</th>\n",
              "      <td>2012</td>\n",
              "      <td>Dezembro</td>\n",
              "      <td>Tocantins</td>\n",
              "      <td>128</td>\n",
              "      <td>1/1/2012</td>\n",
              "    </tr>\n",
              "    <tr>\n",
              "      <th>6450</th>\n",
              "      <td>2013</td>\n",
              "      <td>Dezembro</td>\n",
              "      <td>Tocantins</td>\n",
              "      <td>85</td>\n",
              "      <td>1/1/2013</td>\n",
              "    </tr>\n",
              "    <tr>\n",
              "      <th>6451</th>\n",
              "      <td>2014</td>\n",
              "      <td>Dezembro</td>\n",
              "      <td>Tocantins</td>\n",
              "      <td>223</td>\n",
              "      <td>1/1/2014</td>\n",
              "    </tr>\n",
              "    <tr>\n",
              "      <th>6452</th>\n",
              "      <td>2015</td>\n",
              "      <td>Dezembro</td>\n",
              "      <td>Tocantins</td>\n",
              "      <td>373</td>\n",
              "      <td>1/1/2015</td>\n",
              "    </tr>\n",
              "    <tr>\n",
              "      <th>6453</th>\n",
              "      <td>2016</td>\n",
              "      <td>Dezembro</td>\n",
              "      <td>Tocantins</td>\n",
              "      <td>119</td>\n",
              "      <td>1/1/2016</td>\n",
              "    </tr>\n",
              "  </tbody>\n",
              "</table>\n",
              "</div>"
            ],
            "text/plain": [
              "      year     month      state number_of_fires      date\n",
              "6449  2012  Dezembro  Tocantins             128  1/1/2012\n",
              "6450  2013  Dezembro  Tocantins              85  1/1/2013\n",
              "6451  2014  Dezembro  Tocantins             223  1/1/2014\n",
              "6452  2015  Dezembro  Tocantins             373  1/1/2015\n",
              "6453  2016  Dezembro  Tocantins             119  1/1/2016"
            ]
          },
          "metadata": {},
          "execution_count": 62
        }
      ]
    },
    {
      "cell_type": "code",
      "source": [
        "df['number_of_fires'] \n",
        "#this column has mixed data we want it only to be numeric value without string so we are going to do that in next cell with str.strip() function."
      ],
      "metadata": {
        "colab": {
          "base_uri": "https://localhost:8080/"
        },
        "id": "cSlQ-fJGmJ9M",
        "outputId": "3fef7bd2-7ccb-4b10-cbef-0962461cb128"
      },
      "execution_count": null,
      "outputs": [
        {
          "output_type": "execute_result",
          "data": {
            "text/plain": [
              "0       0 Fires\n",
              "1       0 Fires\n",
              "2       0 Fires\n",
              "3       0 Fires\n",
              "4       0 Fires\n",
              "         ...   \n",
              "6449        128\n",
              "6450         85\n",
              "6451        223\n",
              "6452        373\n",
              "6453        119\n",
              "Name: number_of_fires, Length: 6454, dtype: object"
            ]
          },
          "metadata": {},
          "execution_count": 63
        }
      ]
    },
    {
      "cell_type": "code",
      "source": [
        "df['number_of_fires']=df['number_of_fires'].str.strip('Fires')"
      ],
      "metadata": {
        "id": "k0n1tjoxmV4v"
      },
      "execution_count": null,
      "outputs": []
    },
    {
      "cell_type": "code",
      "source": [
        "df.head()"
      ],
      "metadata": {
        "colab": {
          "base_uri": "https://localhost:8080/",
          "height": 204
        },
        "id": "fO_jxYY9oUlb",
        "outputId": "b4d004f2-135d-4c3f-ee78-70ff067bfae9"
      },
      "execution_count": null,
      "outputs": [
        {
          "output_type": "execute_result",
          "data": {
            "text/html": [
              "<div>\n",
              "<style scoped>\n",
              "    .dataframe tbody tr th:only-of-type {\n",
              "        vertical-align: middle;\n",
              "    }\n",
              "\n",
              "    .dataframe tbody tr th {\n",
              "        vertical-align: top;\n",
              "    }\n",
              "\n",
              "    .dataframe thead th {\n",
              "        text-align: right;\n",
              "    }\n",
              "</style>\n",
              "<table border=\"1\" class=\"dataframe\">\n",
              "  <thead>\n",
              "    <tr style=\"text-align: right;\">\n",
              "      <th></th>\n",
              "      <th>year</th>\n",
              "      <th>month</th>\n",
              "      <th>state</th>\n",
              "      <th>number_of_fires</th>\n",
              "      <th>date</th>\n",
              "    </tr>\n",
              "  </thead>\n",
              "  <tbody>\n",
              "    <tr>\n",
              "      <th>0</th>\n",
              "      <td>1998</td>\n",
              "      <td>Janeiro</td>\n",
              "      <td>Acre</td>\n",
              "      <td>0</td>\n",
              "      <td>1/1/1998</td>\n",
              "    </tr>\n",
              "    <tr>\n",
              "      <th>1</th>\n",
              "      <td>1999</td>\n",
              "      <td>Janeiro</td>\n",
              "      <td>Acre</td>\n",
              "      <td>0</td>\n",
              "      <td>1/1/1999</td>\n",
              "    </tr>\n",
              "    <tr>\n",
              "      <th>2</th>\n",
              "      <td>2000</td>\n",
              "      <td>Janeiro</td>\n",
              "      <td>Acre</td>\n",
              "      <td>0</td>\n",
              "      <td>1/1/2000</td>\n",
              "    </tr>\n",
              "    <tr>\n",
              "      <th>3</th>\n",
              "      <td>2001</td>\n",
              "      <td>Janeiro</td>\n",
              "      <td>Acre</td>\n",
              "      <td>0</td>\n",
              "      <td>1/1/2001</td>\n",
              "    </tr>\n",
              "    <tr>\n",
              "      <th>4</th>\n",
              "      <td>2002</td>\n",
              "      <td>Janeiro</td>\n",
              "      <td>Acre</td>\n",
              "      <td>0</td>\n",
              "      <td>1/1/2002</td>\n",
              "    </tr>\n",
              "  </tbody>\n",
              "</table>\n",
              "</div>"
            ],
            "text/plain": [
              "   year    month state number_of_fires      date\n",
              "0  1998  Janeiro  Acre              0   1/1/1998\n",
              "1  1999  Janeiro  Acre              0   1/1/1999\n",
              "2  2000  Janeiro  Acre              0   1/1/2000\n",
              "3  2001  Janeiro  Acre              0   1/1/2001\n",
              "4  2002  Janeiro  Acre              0   1/1/2002"
            ]
          },
          "metadata": {},
          "execution_count": 65
        }
      ]
    },
    {
      "cell_type": "code",
      "source": [
        "df.isnull().sum()\n",
        "#using the above piece of code to see if there are any null value in each column"
      ],
      "metadata": {
        "colab": {
          "base_uri": "https://localhost:8080/"
        },
        "id": "BpyJMtqvmsn_",
        "outputId": "f71d0a7c-1177-4782-96ef-c2eae817b1ab"
      },
      "execution_count": null,
      "outputs": [
        {
          "output_type": "execute_result",
          "data": {
            "text/plain": [
              "year                 0\n",
              "month                0\n",
              "state                0\n",
              "number_of_fires    132\n",
              "date                 0\n",
              "dtype: int64"
            ]
          },
          "metadata": {},
          "execution_count": 66
        }
      ]
    },
    {
      "cell_type": "code",
      "source": [
        "df=df.dropna()\n",
        "#removed all the rows with empty values under number of fires."
      ],
      "metadata": {
        "id": "uK9MbO9knLJs"
      },
      "execution_count": null,
      "outputs": []
    },
    {
      "cell_type": "code",
      "source": [
        "df.notnull().sum()\n",
        "#now there are no empty values."
      ],
      "metadata": {
        "colab": {
          "base_uri": "https://localhost:8080/"
        },
        "id": "uQzGAsPGnw_C",
        "outputId": "b3d59761-4063-48ba-ac61-92266f6a78fa"
      },
      "execution_count": null,
      "outputs": [
        {
          "output_type": "execute_result",
          "data": {
            "text/plain": [
              "year               6322\n",
              "month              6322\n",
              "state              6322\n",
              "number_of_fires    6322\n",
              "date               6322\n",
              "dtype: int64"
            ]
          },
          "metadata": {},
          "execution_count": 68
        }
      ]
    },
    {
      "cell_type": "code",
      "source": [
        "df['month'].unique()"
      ],
      "metadata": {
        "colab": {
          "base_uri": "https://localhost:8080/"
        },
        "id": "BL1ChNDJoDTe",
        "outputId": "79aa8d27-e1a5-402f-a522-673b8b9fdd83"
      },
      "execution_count": null,
      "outputs": [
        {
          "output_type": "execute_result",
          "data": {
            "text/plain": [
              "array(['Janeiro', 'Fevereiro', 'Março', 'Abril', 'Maio', 'Junho', 'Julho',\n",
              "       'Agosto', 'Setembro', 'Outubro', 'Novembro', 'Dezembro'],\n",
              "      dtype=object)"
            ]
          },
          "metadata": {},
          "execution_count": 69
        }
      ]
    },
    {
      "cell_type": "code",
      "source": [
        "month_names={'Janeiro':'January', 'Fevereiro':'Februrary', 'Março':'March', 'Abril':'April', 'Maio':'May', 'Junho':'June', 'Julho':'July',\n",
        "       'Agosto':'August', 'Setembro':'September', 'Outubro':'October', 'Novembro':'November', 'Dezembro':'December'}"
      ],
      "metadata": {
        "id": "3M2wEWFMpsib"
      },
      "execution_count": null,
      "outputs": []
    },
    {
      "cell_type": "code",
      "source": [
        "df['month']=df['month'].map(month_names)\n",
        "#changing names of monhs from Portugese to English using map function"
      ],
      "metadata": {
        "colab": {
          "base_uri": "https://localhost:8080/"
        },
        "id": "mae0leyaqgEJ",
        "outputId": "b6d3dfe9-0997-43da-ebbe-a3ed6f411146"
      },
      "execution_count": null,
      "outputs": [
        {
          "output_type": "stream",
          "name": "stderr",
          "text": [
            "/usr/local/lib/python3.7/dist-packages/ipykernel_launcher.py:1: SettingWithCopyWarning: \n",
            "A value is trying to be set on a copy of a slice from a DataFrame.\n",
            "Try using .loc[row_indexer,col_indexer] = value instead\n",
            "\n",
            "See the caveats in the documentation: https://pandas.pydata.org/pandas-docs/stable/user_guide/indexing.html#returning-a-view-versus-a-copy\n",
            "  \"\"\"Entry point for launching an IPython kernel.\n"
          ]
        }
      ]
    },
    {
      "cell_type": "code",
      "source": [
        "df.head()"
      ],
      "metadata": {
        "colab": {
          "base_uri": "https://localhost:8080/",
          "height": 204
        },
        "id": "QY0yrG16qyVd",
        "outputId": "29ac3232-45dd-45d4-b041-0818c462fa17"
      },
      "execution_count": null,
      "outputs": [
        {
          "output_type": "execute_result",
          "data": {
            "text/html": [
              "<div>\n",
              "<style scoped>\n",
              "    .dataframe tbody tr th:only-of-type {\n",
              "        vertical-align: middle;\n",
              "    }\n",
              "\n",
              "    .dataframe tbody tr th {\n",
              "        vertical-align: top;\n",
              "    }\n",
              "\n",
              "    .dataframe thead th {\n",
              "        text-align: right;\n",
              "    }\n",
              "</style>\n",
              "<table border=\"1\" class=\"dataframe\">\n",
              "  <thead>\n",
              "    <tr style=\"text-align: right;\">\n",
              "      <th></th>\n",
              "      <th>year</th>\n",
              "      <th>month</th>\n",
              "      <th>state</th>\n",
              "      <th>number_of_fires</th>\n",
              "      <th>date</th>\n",
              "    </tr>\n",
              "  </thead>\n",
              "  <tbody>\n",
              "    <tr>\n",
              "      <th>0</th>\n",
              "      <td>1998</td>\n",
              "      <td>January</td>\n",
              "      <td>Acre</td>\n",
              "      <td>0</td>\n",
              "      <td>1/1/1998</td>\n",
              "    </tr>\n",
              "    <tr>\n",
              "      <th>1</th>\n",
              "      <td>1999</td>\n",
              "      <td>January</td>\n",
              "      <td>Acre</td>\n",
              "      <td>0</td>\n",
              "      <td>1/1/1999</td>\n",
              "    </tr>\n",
              "    <tr>\n",
              "      <th>2</th>\n",
              "      <td>2000</td>\n",
              "      <td>January</td>\n",
              "      <td>Acre</td>\n",
              "      <td>0</td>\n",
              "      <td>1/1/2000</td>\n",
              "    </tr>\n",
              "    <tr>\n",
              "      <th>3</th>\n",
              "      <td>2001</td>\n",
              "      <td>January</td>\n",
              "      <td>Acre</td>\n",
              "      <td>0</td>\n",
              "      <td>1/1/2001</td>\n",
              "    </tr>\n",
              "    <tr>\n",
              "      <th>4</th>\n",
              "      <td>2002</td>\n",
              "      <td>January</td>\n",
              "      <td>Acre</td>\n",
              "      <td>0</td>\n",
              "      <td>1/1/2002</td>\n",
              "    </tr>\n",
              "  </tbody>\n",
              "</table>\n",
              "</div>"
            ],
            "text/plain": [
              "   year    month state number_of_fires      date\n",
              "0  1998  January  Acre              0   1/1/1998\n",
              "1  1999  January  Acre              0   1/1/1999\n",
              "2  2000  January  Acre              0   1/1/2000\n",
              "3  2001  January  Acre              0   1/1/2001\n",
              "4  2002  January  Acre              0   1/1/2002"
            ]
          },
          "metadata": {},
          "execution_count": 72
        }
      ]
    },
    {
      "cell_type": "code",
      "source": [
        "df.tail()"
      ],
      "metadata": {
        "colab": {
          "base_uri": "https://localhost:8080/",
          "height": 204
        },
        "id": "YpXWyZEvrDD4",
        "outputId": "18dbed23-a8be-44ed-c69c-4b89e82d962d"
      },
      "execution_count": null,
      "outputs": [
        {
          "output_type": "execute_result",
          "data": {
            "text/html": [
              "<div>\n",
              "<style scoped>\n",
              "    .dataframe tbody tr th:only-of-type {\n",
              "        vertical-align: middle;\n",
              "    }\n",
              "\n",
              "    .dataframe tbody tr th {\n",
              "        vertical-align: top;\n",
              "    }\n",
              "\n",
              "    .dataframe thead th {\n",
              "        text-align: right;\n",
              "    }\n",
              "</style>\n",
              "<table border=\"1\" class=\"dataframe\">\n",
              "  <thead>\n",
              "    <tr style=\"text-align: right;\">\n",
              "      <th></th>\n",
              "      <th>year</th>\n",
              "      <th>month</th>\n",
              "      <th>state</th>\n",
              "      <th>number_of_fires</th>\n",
              "      <th>date</th>\n",
              "    </tr>\n",
              "  </thead>\n",
              "  <tbody>\n",
              "    <tr>\n",
              "      <th>6449</th>\n",
              "      <td>2012</td>\n",
              "      <td>December</td>\n",
              "      <td>Tocantins</td>\n",
              "      <td>128</td>\n",
              "      <td>1/1/2012</td>\n",
              "    </tr>\n",
              "    <tr>\n",
              "      <th>6450</th>\n",
              "      <td>2013</td>\n",
              "      <td>December</td>\n",
              "      <td>Tocantins</td>\n",
              "      <td>85</td>\n",
              "      <td>1/1/2013</td>\n",
              "    </tr>\n",
              "    <tr>\n",
              "      <th>6451</th>\n",
              "      <td>2014</td>\n",
              "      <td>December</td>\n",
              "      <td>Tocantins</td>\n",
              "      <td>223</td>\n",
              "      <td>1/1/2014</td>\n",
              "    </tr>\n",
              "    <tr>\n",
              "      <th>6452</th>\n",
              "      <td>2015</td>\n",
              "      <td>December</td>\n",
              "      <td>Tocantins</td>\n",
              "      <td>373</td>\n",
              "      <td>1/1/2015</td>\n",
              "    </tr>\n",
              "    <tr>\n",
              "      <th>6453</th>\n",
              "      <td>2016</td>\n",
              "      <td>December</td>\n",
              "      <td>Tocantins</td>\n",
              "      <td>119</td>\n",
              "      <td>1/1/2016</td>\n",
              "    </tr>\n",
              "  </tbody>\n",
              "</table>\n",
              "</div>"
            ],
            "text/plain": [
              "      year     month      state number_of_fires      date\n",
              "6449  2012  December  Tocantins             128  1/1/2012\n",
              "6450  2013  December  Tocantins              85  1/1/2013\n",
              "6451  2014  December  Tocantins             223  1/1/2014\n",
              "6452  2015  December  Tocantins             373  1/1/2015\n",
              "6453  2016  December  Tocantins             119  1/1/2016"
            ]
          },
          "metadata": {},
          "execution_count": 73
        }
      ]
    },
    {
      "cell_type": "code",
      "source": [
        "df.info()\n",
        "#to check datatypes"
      ],
      "metadata": {
        "colab": {
          "base_uri": "https://localhost:8080/"
        },
        "id": "XCun3QQmrFSA",
        "outputId": "034dbd3d-7006-4346-e665-5f9d8b5d1732"
      },
      "execution_count": null,
      "outputs": [
        {
          "output_type": "stream",
          "name": "stdout",
          "text": [
            "<class 'pandas.core.frame.DataFrame'>\n",
            "Int64Index: 6322 entries, 0 to 6453\n",
            "Data columns (total 5 columns):\n",
            " #   Column           Non-Null Count  Dtype \n",
            "---  ------           --------------  ----- \n",
            " 0   year             6322 non-null   int64 \n",
            " 1   month            6322 non-null   object\n",
            " 2   state            6322 non-null   object\n",
            " 3   number_of_fires  6322 non-null   object\n",
            " 4   date             6322 non-null   object\n",
            "dtypes: int64(1), object(4)\n",
            "memory usage: 296.3+ KB\n"
          ]
        }
      ]
    },
    {
      "cell_type": "code",
      "source": [
        "df.dtypes"
      ],
      "metadata": {
        "colab": {
          "base_uri": "https://localhost:8080/"
        },
        "id": "5v6fl_L8rWlO",
        "outputId": "aa726ee0-cd54-42fa-e78b-6302d132abb9"
      },
      "execution_count": null,
      "outputs": [
        {
          "output_type": "execute_result",
          "data": {
            "text/plain": [
              "year                int64\n",
              "month              object\n",
              "state              object\n",
              "number_of_fires    object\n",
              "date               object\n",
              "dtype: object"
            ]
          },
          "metadata": {},
          "execution_count": 75
        }
      ]
    },
    {
      "cell_type": "code",
      "source": [
        "df['number_of_fires']=df['number_of_fires'].astype('float')\n",
        "#changed the datatype of number_of_fires from object or string type to numeric."
      ],
      "metadata": {
        "id": "4aLtQ2llrgS4"
      },
      "execution_count": null,
      "outputs": []
    },
    {
      "cell_type": "code",
      "source": [
        "df.head()"
      ],
      "metadata": {
        "colab": {
          "base_uri": "https://localhost:8080/",
          "height": 204
        },
        "id": "BNA070oRsDAq",
        "outputId": "04ed6774-8a69-400e-fb13-27543b8314bb"
      },
      "execution_count": null,
      "outputs": [
        {
          "output_type": "execute_result",
          "data": {
            "text/html": [
              "<div>\n",
              "<style scoped>\n",
              "    .dataframe tbody tr th:only-of-type {\n",
              "        vertical-align: middle;\n",
              "    }\n",
              "\n",
              "    .dataframe tbody tr th {\n",
              "        vertical-align: top;\n",
              "    }\n",
              "\n",
              "    .dataframe thead th {\n",
              "        text-align: right;\n",
              "    }\n",
              "</style>\n",
              "<table border=\"1\" class=\"dataframe\">\n",
              "  <thead>\n",
              "    <tr style=\"text-align: right;\">\n",
              "      <th></th>\n",
              "      <th>year</th>\n",
              "      <th>month</th>\n",
              "      <th>state</th>\n",
              "      <th>number_of_fires</th>\n",
              "      <th>date</th>\n",
              "    </tr>\n",
              "  </thead>\n",
              "  <tbody>\n",
              "    <tr>\n",
              "      <th>0</th>\n",
              "      <td>1998</td>\n",
              "      <td>January</td>\n",
              "      <td>Acre</td>\n",
              "      <td>0.0</td>\n",
              "      <td>1/1/1998</td>\n",
              "    </tr>\n",
              "    <tr>\n",
              "      <th>1</th>\n",
              "      <td>1999</td>\n",
              "      <td>January</td>\n",
              "      <td>Acre</td>\n",
              "      <td>0.0</td>\n",
              "      <td>1/1/1999</td>\n",
              "    </tr>\n",
              "    <tr>\n",
              "      <th>2</th>\n",
              "      <td>2000</td>\n",
              "      <td>January</td>\n",
              "      <td>Acre</td>\n",
              "      <td>0.0</td>\n",
              "      <td>1/1/2000</td>\n",
              "    </tr>\n",
              "    <tr>\n",
              "      <th>3</th>\n",
              "      <td>2001</td>\n",
              "      <td>January</td>\n",
              "      <td>Acre</td>\n",
              "      <td>0.0</td>\n",
              "      <td>1/1/2001</td>\n",
              "    </tr>\n",
              "    <tr>\n",
              "      <th>4</th>\n",
              "      <td>2002</td>\n",
              "      <td>January</td>\n",
              "      <td>Acre</td>\n",
              "      <td>0.0</td>\n",
              "      <td>1/1/2002</td>\n",
              "    </tr>\n",
              "  </tbody>\n",
              "</table>\n",
              "</div>"
            ],
            "text/plain": [
              "   year    month state  number_of_fires      date\n",
              "0  1998  January  Acre              0.0  1/1/1998\n",
              "1  1999  January  Acre              0.0  1/1/1999\n",
              "2  2000  January  Acre              0.0  1/1/2000\n",
              "3  2001  January  Acre              0.0  1/1/2001\n",
              "4  2002  January  Acre              0.0  1/1/2002"
            ]
          },
          "metadata": {},
          "execution_count": 77
        }
      ]
    },
    {
      "cell_type": "code",
      "source": [
        "df['state'].unique()"
      ],
      "metadata": {
        "colab": {
          "base_uri": "https://localhost:8080/"
        },
        "id": "MQ1qG7N4sZZ6",
        "outputId": "98113028-20ce-47f4-c6e4-89632271fe1f"
      },
      "execution_count": null,
      "outputs": [
        {
          "output_type": "execute_result",
          "data": {
            "text/plain": [
              "array(['Acre', 'alagoas', 'Amapa', 'Amazonas', 'Bahia', 'Ceara',\n",
              "       'Distrito Federal', 'Espirito Santo', 'Goias', 'Maranhao',\n",
              "       'Mato Grosso', 'Minas Gerais', 'pará', 'Paraiba', 'Pernambuco',\n",
              "       'Piau', 'Rio', 'rondonia', 'Roraima', 'Santa Catarina',\n",
              "       'Sao Paulo', 'Sergipe', 'Tocantins'], dtype=object)"
            ]
          },
          "metadata": {},
          "execution_count": 82
        }
      ]
    },
    {
      "cell_type": "code",
      "source": [
        "df['state']=df['state'].str.title()"
      ],
      "metadata": {
        "id": "CSl_Ra5Zsil-"
      },
      "execution_count": null,
      "outputs": []
    },
    {
      "cell_type": "code",
      "source": [
        "df['state'].unique()"
      ],
      "metadata": {
        "colab": {
          "base_uri": "https://localhost:8080/"
        },
        "id": "2juMdshUs7aP",
        "outputId": "92c40d8c-6554-488c-c0e3-8155e614ebdf"
      },
      "execution_count": null,
      "outputs": [
        {
          "output_type": "execute_result",
          "data": {
            "text/plain": [
              "array(['Acre', 'Alagoas', 'Amapa', 'Amazonas', 'Bahia', 'Ceara',\n",
              "       'Distrito Federal', 'Espirito Santo', 'Goias', 'Maranhao',\n",
              "       'Mato Grosso', 'Minas Gerais', 'Pará', 'Paraiba', 'Pernambuco',\n",
              "       'Piau', 'Rio', 'Rondonia', 'Roraima', 'Santa Catarina',\n",
              "       'Sao Paulo', 'Sergipe', 'Tocantins'], dtype=object)"
            ]
          },
          "metadata": {},
          "execution_count": 85
        }
      ]
    },
    {
      "cell_type": "code",
      "source": [
        "df['state'].str.isnumeric().sum()\n",
        "#to check if a column of string data type has any numeric values using str.isnumeric() function."
      ],
      "metadata": {
        "colab": {
          "base_uri": "https://localhost:8080/"
        },
        "id": "4UC8fF46tCvR",
        "outputId": "577ec6b2-2ae7-453c-cd34-d2fbe4ccd32c"
      },
      "execution_count": null,
      "outputs": [
        {
          "output_type": "execute_result",
          "data": {
            "text/plain": [
              "0"
            ]
          },
          "metadata": {},
          "execution_count": 89
        }
      ]
    },
    {
      "cell_type": "code",
      "source": [
        "df=df.reset_index()"
      ],
      "metadata": {
        "id": "fM7KTGzUtK1I"
      },
      "execution_count": null,
      "outputs": []
    },
    {
      "cell_type": "code",
      "source": [
        "df"
      ],
      "metadata": {
        "colab": {
          "base_uri": "https://localhost:8080/",
          "height": 419
        },
        "id": "u1k--mWRteoW",
        "outputId": "1c1d15fb-3748-44b5-f298-037828fbec08"
      },
      "execution_count": null,
      "outputs": [
        {
          "output_type": "execute_result",
          "data": {
            "text/html": [
              "<div>\n",
              "<style scoped>\n",
              "    .dataframe tbody tr th:only-of-type {\n",
              "        vertical-align: middle;\n",
              "    }\n",
              "\n",
              "    .dataframe tbody tr th {\n",
              "        vertical-align: top;\n",
              "    }\n",
              "\n",
              "    .dataframe thead th {\n",
              "        text-align: right;\n",
              "    }\n",
              "</style>\n",
              "<table border=\"1\" class=\"dataframe\">\n",
              "  <thead>\n",
              "    <tr style=\"text-align: right;\">\n",
              "      <th></th>\n",
              "      <th>index</th>\n",
              "      <th>year</th>\n",
              "      <th>month</th>\n",
              "      <th>state</th>\n",
              "      <th>number_of_fires</th>\n",
              "      <th>date</th>\n",
              "    </tr>\n",
              "  </thead>\n",
              "  <tbody>\n",
              "    <tr>\n",
              "      <th>0</th>\n",
              "      <td>0</td>\n",
              "      <td>1998</td>\n",
              "      <td>January</td>\n",
              "      <td>Acre</td>\n",
              "      <td>0.0</td>\n",
              "      <td>1/1/1998</td>\n",
              "    </tr>\n",
              "    <tr>\n",
              "      <th>1</th>\n",
              "      <td>1</td>\n",
              "      <td>1999</td>\n",
              "      <td>January</td>\n",
              "      <td>Acre</td>\n",
              "      <td>0.0</td>\n",
              "      <td>1/1/1999</td>\n",
              "    </tr>\n",
              "    <tr>\n",
              "      <th>2</th>\n",
              "      <td>2</td>\n",
              "      <td>2000</td>\n",
              "      <td>January</td>\n",
              "      <td>Acre</td>\n",
              "      <td>0.0</td>\n",
              "      <td>1/1/2000</td>\n",
              "    </tr>\n",
              "    <tr>\n",
              "      <th>3</th>\n",
              "      <td>3</td>\n",
              "      <td>2001</td>\n",
              "      <td>January</td>\n",
              "      <td>Acre</td>\n",
              "      <td>0.0</td>\n",
              "      <td>1/1/2001</td>\n",
              "    </tr>\n",
              "    <tr>\n",
              "      <th>4</th>\n",
              "      <td>4</td>\n",
              "      <td>2002</td>\n",
              "      <td>January</td>\n",
              "      <td>Acre</td>\n",
              "      <td>0.0</td>\n",
              "      <td>1/1/2002</td>\n",
              "    </tr>\n",
              "    <tr>\n",
              "      <th>...</th>\n",
              "      <td>...</td>\n",
              "      <td>...</td>\n",
              "      <td>...</td>\n",
              "      <td>...</td>\n",
              "      <td>...</td>\n",
              "      <td>...</td>\n",
              "    </tr>\n",
              "    <tr>\n",
              "      <th>6317</th>\n",
              "      <td>6449</td>\n",
              "      <td>2012</td>\n",
              "      <td>December</td>\n",
              "      <td>Tocantins</td>\n",
              "      <td>128.0</td>\n",
              "      <td>1/1/2012</td>\n",
              "    </tr>\n",
              "    <tr>\n",
              "      <th>6318</th>\n",
              "      <td>6450</td>\n",
              "      <td>2013</td>\n",
              "      <td>December</td>\n",
              "      <td>Tocantins</td>\n",
              "      <td>85.0</td>\n",
              "      <td>1/1/2013</td>\n",
              "    </tr>\n",
              "    <tr>\n",
              "      <th>6319</th>\n",
              "      <td>6451</td>\n",
              "      <td>2014</td>\n",
              "      <td>December</td>\n",
              "      <td>Tocantins</td>\n",
              "      <td>223.0</td>\n",
              "      <td>1/1/2014</td>\n",
              "    </tr>\n",
              "    <tr>\n",
              "      <th>6320</th>\n",
              "      <td>6452</td>\n",
              "      <td>2015</td>\n",
              "      <td>December</td>\n",
              "      <td>Tocantins</td>\n",
              "      <td>373.0</td>\n",
              "      <td>1/1/2015</td>\n",
              "    </tr>\n",
              "    <tr>\n",
              "      <th>6321</th>\n",
              "      <td>6453</td>\n",
              "      <td>2016</td>\n",
              "      <td>December</td>\n",
              "      <td>Tocantins</td>\n",
              "      <td>119.0</td>\n",
              "      <td>1/1/2016</td>\n",
              "    </tr>\n",
              "  </tbody>\n",
              "</table>\n",
              "<p>6322 rows × 6 columns</p>\n",
              "</div>"
            ],
            "text/plain": [
              "      index  year     month      state  number_of_fires      date\n",
              "0         0  1998   January       Acre              0.0  1/1/1998\n",
              "1         1  1999   January       Acre              0.0  1/1/1999\n",
              "2         2  2000   January       Acre              0.0  1/1/2000\n",
              "3         3  2001   January       Acre              0.0  1/1/2001\n",
              "4         4  2002   January       Acre              0.0  1/1/2002\n",
              "...     ...   ...       ...        ...              ...       ...\n",
              "6317   6449  2012  December  Tocantins            128.0  1/1/2012\n",
              "6318   6450  2013  December  Tocantins             85.0  1/1/2013\n",
              "6319   6451  2014  December  Tocantins            223.0  1/1/2014\n",
              "6320   6452  2015  December  Tocantins            373.0  1/1/2015\n",
              "6321   6453  2016  December  Tocantins            119.0  1/1/2016\n",
              "\n",
              "[6322 rows x 6 columns]"
            ]
          },
          "metadata": {},
          "execution_count": 91
        }
      ]
    },
    {
      "cell_type": "code",
      "source": [
        "#the dataset is now clean"
      ],
      "metadata": {
        "id": "i-kUEjQntgTF"
      },
      "execution_count": null,
      "outputs": []
    },
    {
      "cell_type": "code",
      "source": [
        ""
      ],
      "metadata": {
        "id": "GdLZ0wTmu2jx"
      },
      "execution_count": null,
      "outputs": []
    }
  ]
}